{
  "nbformat": 4,
  "nbformat_minor": 0,
  "metadata": {
    "colab": {
      "provenance": [],
      "authorship_tag": "ABX9TyO5J1tVBxAcbrIh/f9cqvMk",
      "include_colab_link": true
    },
    "kernelspec": {
      "name": "python3",
      "display_name": "Python 3"
    },
    "language_info": {
      "name": "python"
    }
  },
  "cells": [
    {
      "cell_type": "markdown",
      "metadata": {
        "id": "view-in-github",
        "colab_type": "text"
      },
      "source": [
        "<a href=\"https://colab.research.google.com/github/onsoon829/dataproject/blob/master/406_kakao_%EB%A9%94%EC%84%B8%EC%A7%80.ipynb\" target=\"_parent\"><img src=\"https://colab.research.google.com/assets/colab-badge.svg\" alt=\"Open In Colab\"/></a>"
      ]
    },
    {
      "cell_type": "markdown",
      "source": [
        "developers kakao.com 접속\n",
        "카카오 계정으로 로그인 가능\n",
        "\n",
        "Rest API키 찾는법\n",
        " - 오른쪽 상단 내 애플리케이션-myapp--요약정보-앱 키들이 있다.\n",
        " - 내 Rest API키: 27690ce8a65bbe853af61708f931aabf\n",
        "\n",
        "동의항목 정리\n",
        "\n",
        " 동의항목  들어가면\n",
        "  - 닉네임(필수동의, 교육목적 학습, localhost.com쓰기)\n",
        "  - 카카오계정(이메일)(뭐 활성화가 안되니 일단 보류)\n",
        "  - 카카오 메세지 전송(선택동의, 교육목적 학습, localhost.com쓰기) 눌러서 설정-\n",
        "\n",
        "\n",
        "https://kauth.kakao.com/oauth/authorize?response_type=code&client_id=<REST API>&redirect_uri=https://localhost.com(rest Api에 내 rest api키 삽입(괄호 빼고))- 그럼 뭔 전체동의 화면이 뜬다. 동의하고 실행하면 주소에 code 생성된다.\n",
        "\n",
        "https://chatbot.kakao.com/bot/656ff52a6acfc8089c746889/intent/new?scenarioId=65718b3b9e767819e06d0e55 챗봇 카카오 관리자 센터\n"
      ],
      "metadata": {
        "id": "xQhzPrqnmQxt"
      }
    },
    {
      "cell_type": "code",
      "execution_count": null,
      "metadata": {
        "colab": {
          "base_uri": "https://localhost:8080/"
        },
        "id": "hzzGcD2njTC7",
        "outputId": "e76f39cc-f836-4710-a89b-9ff573143b2a"
      },
      "outputs": [
        {
          "output_type": "stream",
          "name": "stdout",
          "text": [
            "Mounted at /content/drive\n",
            "/content/drive/MyDrive/ai_chat_python\n"
          ]
        }
      ],
      "source": [
        "from google.colab import drive\n",
        "drive.mount('/content/drive')\n",
        "\n",
        "%cd  '/content/drive/MyDrive/ai_chat_python'"
      ]
    },
    {
      "cell_type": "code",
      "source": [
        "import requests\n",
        "\n",
        "\n",
        "url = 'https://kauth.kakao.com/oauth/token'\n",
        "\n",
        "data = {\n",
        "    'grant_type': 'authorization_code',\n",
        "    'client_id': '27690ce8a65bbe853af61708f931aabf',\n",
        "    'redirect_url':'https://localhost.com',\n",
        "    'code' : 'ufaHcJycWJxGdbxt4fFQp0wpMzk_EU1HFI6kPYfaIH6QgMtYof-BLl5-okwKKiVTAAABjDy_o6uvm_uHqQwxKA'\n",
        "}\n",
        "\n",
        "response =requests.post(url, data=data)\n",
        "\n",
        "# 요청 실패했을 때\n",
        "if response.status_code !=200:\n",
        "  print('error!becaseu ', response.json())\n",
        "else:   #  성공했을 때\n",
        "  tokens = response.json()\n",
        "  print(tokens)"
      ],
      "metadata": {
        "colab": {
          "base_uri": "https://localhost:8080/"
        },
        "id": "JVcaZGgPpcDW",
        "outputId": "bc148581-c321-49c1-8c64-dcc81fb925ff"
      },
      "execution_count": null,
      "outputs": [
        {
          "output_type": "stream",
          "name": "stdout",
          "text": [
            "{'access_token': 'mCOUaQEMc98qQFydu8oPAXV0JSOTehsJLj4KPXLrAAABjDzA0WghI_W2iNNaeg', 'token_type': 'bearer', 'refresh_token': 'lyUiYO4pTan5C70P9Nfbnk-0-zR57mO62X0KPXLrAAABjDzA0WQhI_W2iNNaeg', 'expires_in': 21599, 'scope': 'talk_message profile_nickname', 'refresh_token_expires_in': 5183999}\n"
          ]
        }
      ]
    },
    {
      "cell_type": "markdown",
      "source": [
        "토큰 관리하기"
      ],
      "metadata": {
        "id": "JflKPkLXyA-i"
      }
    },
    {
      "cell_type": "code",
      "source": [
        "import json\n",
        "import requests\n",
        "import datetime\n",
        "import os\n",
        "\n",
        "# 카카오 토큰을 저장할 파일명\n",
        "KAKAO_TOKEN_FILENAME = \"res/kakao_message/kakao_token.json\"\n",
        "\n",
        "# 저장하는 함수\n",
        "def save_tokens(filename, tokens):\n",
        "    with open(filename, \"w\") as fp:\n",
        "        json.dump(tokens, fp)\n",
        "\n",
        "# 읽어오는 함수\n",
        "def load_tokens(filename):\n",
        "    with open(filename) as fp:\n",
        "        tokens = json.load(fp)\n",
        "\n",
        "    return tokens\n",
        "\n",
        "# refresh_token으로 access_token 갱신하는 함수\n",
        "def update_tokens(app_key, filename) :\n",
        "    tokens = load_tokens(filename)\n",
        "\n",
        "    url = \"https://kauth.kakao.com/oauth/token\"\n",
        "    data = {\n",
        "        \"grant_type\" : \"refresh_token\",\n",
        "        \"client_id\" : app_key,\n",
        "        \"refresh_token\" : tokens['refresh_token']\n",
        "    }\n",
        "    response = requests.post(url, data=data)\n",
        "\n",
        "    # 요청에 실패했다면,\n",
        "    if response.status_code != 200:\n",
        "        print(\"error! because \", response.json())\n",
        "        tokens = None\n",
        "    else: # 성공했다면,\n",
        "        print(response.json())\n",
        "        # 기존 파일 백업\n",
        "        now = datetime.datetime.now().strftime(\"%Y%m%d_%H%M%S\")\n",
        "        backup_filename = filename+\".\"+ now\n",
        "        os.rename(filename, backup_filename)\n",
        "        # 갱신된 토큰 저장\n",
        "        tokens['access_token'] = response.json()['access_token']\n",
        "        save_tokens(filename, tokens)\n",
        "\n",
        "    return tokens\n",
        "\n",
        "# 토큰 저장\n",
        "save_tokens(KAKAO_TOKEN_FILENAME, tokens)\n",
        "\n",
        "# 토큰 업데이트 -> 토큰 저장 필수!\n",
        "#KAKAO_APP_KEY = \"<REST_API 앱키를 입력하세요>\"\n",
        "#tokens = update_tokens(KAKAO_APP_KEY, KAKAO_TOKEN_FILENAME)\n",
        "#save_tokens(KAKAO_TOKEN_FILENAME, tokens)"
      ],
      "metadata": {
        "id": "oNNKxR1lyAcr"
      },
      "execution_count": null,
      "outputs": []
    },
    {
      "cell_type": "markdown",
      "source": [
        "## 구현하기"
      ],
      "metadata": {
        "id": "p0XU3wiR0I4p"
      }
    },
    {
      "cell_type": "markdown",
      "source": [
        "### 텍스트 메시지 템플릿을 사용하여 카카오톡 메시지 보내기\n",
        "\n",
        "https://developers.kakao.com/docs/latest/ko/message/rest-api#default-template-msg"
      ],
      "metadata": {
        "id": "r4bb36EV0odp"
      }
    },
    {
      "cell_type": "code",
      "source": [
        "import json\n",
        "import requests\n",
        "\n",
        "# 저장된 토큰 정보를 이용\n",
        "tokens = load_tokens(KAKAO_TOKEN_FILENAME)\n",
        "\n",
        "# 텍스트 메시지 url\n",
        "url = 'https://kapi.kakao.com/v2/api/talk/memo/default/send'\n",
        "\n",
        "#request parameter 설정\n",
        "headers = {\n",
        "    'Authorization'\t: 'Bearer '+tokens['access_token']\n",
        "}\n",
        "\n",
        "data = {\n",
        "    'template_object': json.dumps({\n",
        "        'object_type':'text',\n",
        "        'text': 'Hello, world!',\n",
        "        'link':{\n",
        "            'web_url': 'https://www.naver.com',\n",
        "            'mobile_web_url': 'https://m.naver.com'\n",
        "        }\n",
        "    })\n",
        "}\n",
        "\n",
        "# 나에게 카카오톡 메시지 보내기 요청(text)\n",
        "response = requests.post(url, headers = headers, data=data)\n",
        "print(response.status_code)\n",
        "\n",
        "if response.status_code !=200:\n",
        "  print('error! because:', response.json())\n",
        "else:\n",
        "  print('메세지를 성공적으로 보냈습니다.')"
      ],
      "metadata": {
        "colab": {
          "base_uri": "https://localhost:8080/"
        },
        "id": "ptGD_XWZ0HFj",
        "outputId": "cd744ec9-e7a8-4ef4-a4d2-6208de35ab6d"
      },
      "execution_count": null,
      "outputs": [
        {
          "output_type": "stream",
          "name": "stdout",
          "text": [
            "200\n",
            "메세지를 성공적으로 보냈습니다.\n"
          ]
        }
      ]
    },
    {
      "cell_type": "markdown",
      "source": [],
      "metadata": {
        "id": "fCAyOqvQ6MFJ"
      }
    },
    {
      "cell_type": "code",
      "source": [
        "import json\n",
        "import requests\n",
        "\n",
        "# 저장된 토큰 정보를 읽어온다.\n",
        "tokens = load_tokens(KAKAO_TOKEN_FILENAME)\n",
        "\n",
        "# 리스트 메세지 url\n",
        "url = 'https://kapi.kakao.com/v2/api/talk/memo/default/send'\n",
        "\n",
        "#request parameter 설정\n",
        "headers = {\n",
        "    'Authorization'\t: 'Bearer '+tokens['access_token']\n",
        "}\n",
        "\n",
        "\n",
        "template = {\n",
        "    \"object_type\" : \"list\",\n",
        "    \"header_title\" : \"초밥 사진\",\n",
        "    \"header_link\" : {\n",
        "        \"web_url\" : \"https://www.naver.com\",\n",
        "        \"mobile_web_url\" : \"https://www.naver.com\"\n",
        "    },\n",
        "    \"contents\" : [\n",
        "        {\n",
        "            \"title\" : \"1. 광어초밥\",\n",
        "            \"description\" : \"광어는 맛있다\",\n",
        "            \"image_url\" : \"https://search1.kakaocdn.net/argon/0x200_85_hr/8x5qcdbcQwi\",\n",
        "            \"image_width\" : 50, \"image_height\" : 50,\n",
        "            \"link\" : {\n",
        "                \"web_url\" : \"https://www.naver.com\",\n",
        "                \"mobile_web_url\" : \"https://www.naver.com\"\n",
        "            }\n",
        "        },\n",
        "        {\n",
        "            \"title\" : \"2. 참치초밥\",\n",
        "            \"description\" : \"참치는 맛있다\",\n",
        "            \"image_url\" : \"https://search2.kakaocdn.net/argon/0x200_85_hr/IjIToH1S7J1\",\n",
        "            \"image_width\" : 50, \"image_height\" : 50,\n",
        "            \"link\" : {\n",
        "                \"web_url\" : \"https://www.naver.com\",\n",
        "                \"mobile_web_url\" : \"https://www.naver.com\"\n",
        "            }\n",
        "        }\n",
        "\n",
        "    ],\n",
        "    \"buttons\" : [\n",
        "        {\n",
        "            \"title\" : \"웹으로 이동\",\n",
        "            \"link\" : {\n",
        "                \"web_url\" : \"https://www.naver.com\",\n",
        "                \"mobile_web_url\" : \"https://www.naver.com\"\n",
        "            }\n",
        "        }\n",
        "    ]\n",
        "\n",
        "}\n",
        "\n",
        "data = {\n",
        "    'template_object' : json.dumps(template)\n",
        "}\n",
        "\n",
        "# 나에게 카카오톡 메시지 보내기 요청(text)\n",
        "response = requests.post(url, headers = headers, data=data)\n",
        "print(response.status_code)\n",
        "\n",
        "if response.status_code !=200:\n",
        "  print('error! because:', response.json())\n",
        "else:\n",
        "  print('메세지를 성공적으로 보냈습니다.')"
      ],
      "metadata": {
        "colab": {
          "base_uri": "https://localhost:8080/"
        },
        "id": "lsyLVyKV6Nr4",
        "outputId": "2e53d5da-0b5c-4803-d7af-3600afe7ee43"
      },
      "execution_count": null,
      "outputs": [
        {
          "output_type": "stream",
          "name": "stdout",
          "text": [
            "200\n",
            "메세지를 성공적으로 보냈습니다.\n"
          ]
        }
      ]
    },
    {
      "cell_type": "code",
      "source": [
        "%%writefile kakao_utils.py\n",
        "\n",
        "import json\n",
        "import os\n",
        "import datetime\n",
        "import requests\n",
        "\n",
        "# 저장하는 함수\n",
        "def save_tokens(filename, tokens):\n",
        "    with open(filename, \"w\") as fp:\n",
        "        json.dump(tokens, fp)\n",
        "\n",
        "# 읽어오는 함수\n",
        "def load_tokens(filename):\n",
        "    with open(filename) as fp:\n",
        "        tokens = json.load(fp)\n",
        "\n",
        "    return tokens\n",
        "\n",
        "# refresh_token으로 access_token 갱신하는 함수\n",
        "def update_tokens(app_key, filename) :\n",
        "    tokens = load_tokens(filename)\n",
        "\n",
        "    url = \"https://kauth.kakao.com/oauth/token\"\n",
        "    data = {\n",
        "        \"grant_type\" : \"refresh_token\",\n",
        "        \"client_id\"  : app_key,\n",
        "        \"refresh_token\" : tokens['refresh_token']\n",
        "    }\n",
        "    response = requests.post(url, data=data)\n",
        "\n",
        "    # 요청에 실패했다면,\n",
        "    if response.status_code != 200:\n",
        "        print(\"error! because \",  response.json())\n",
        "        tokens = None\n",
        "    else: # 성공했다면,\n",
        "        print(response.json())\n",
        "        # 기존 파일 백업\n",
        "        now = datetime.datetime.now().strftime(\"%Y%m%d_%H%M%S\")\n",
        "        backup_filename = filename+\".\"+ now\n",
        "        os.rename(filename, backup_filename)\n",
        "        # 갱신된 토큰 저장\n",
        "        tokens['access_token'] = response.json()['access_token']\n",
        "        save_tokens(filename, tokens)\n",
        "\n",
        "    return tokens\n",
        "\n",
        "# 메시지 전송 함수\n",
        "def send_message(filename, template):\n",
        "    tokens = load_tokens(filename)\n",
        "\n",
        "    headers = {\n",
        "        \"Authorization\": \"Bearer \" + tokens['access_token']\n",
        "    }\n",
        "\n",
        "    # JSON 형식 -> 문자열 변환\n",
        "    payload = {\n",
        "        \"template_object\" : json.dumps(template)\n",
        "    }\n",
        "\n",
        "    # 카카오톡 보내기\n",
        "    url = \"https://kapi.kakao.com/v2/api/talk/memo/default/send\"\n",
        "    res = requests.post(url, data=payload, headers=headers)\n",
        "\n",
        "    return res\n"
      ],
      "metadata": {
        "colab": {
          "base_uri": "https://localhost:8080/"
        },
        "id": "LjLX5WxH6mc2",
        "outputId": "424f801a-7b18-4f90-c151-8f21dc0adea7"
      },
      "execution_count": null,
      "outputs": [
        {
          "output_type": "stream",
          "name": "stdout",
          "text": [
            "Writing kakao_utils.py\n"
          ]
        }
      ]
    },
    {
      "cell_type": "code",
      "source": [],
      "metadata": {
        "id": "xcPTmEp1uObo"
      },
      "execution_count": null,
      "outputs": []
    },
    {
      "cell_type": "code",
      "source": [
        "import json\n",
        "import requests\n",
        "import kakao_utils\n",
        "\n",
        "KAKAO_TOKEN_FILENAME = 'res/kakao_message/kakao_token.json'\n",
        "\n",
        "\n",
        "KAKAO_APP_KEY = '27690ce8a65bbe853af61708f931aabf' #  내 rest api 키\n",
        "\n",
        "#토큰 업데이트하기\n",
        "tokens =kakao_utils.update_tokens(KAKAO_APP_KEY, KAKAO_TOKEN_FILENAME)\n",
        "\n",
        "save_tokens(KAKAO_TOKEN_FILENAME, tokens)\n",
        "\n",
        "#텍스트 템플릿 형식 만들기\n",
        "template = {\n",
        "      'object_type':'text',\n",
        "      'text': 'hahahaha',\n",
        "      'link':{\n",
        "          'web_url': 'https://www.naver.com',\n",
        "          'mobile_web_url': 'https://m.naver.com'\n",
        "      }\n",
        "    }\n",
        "\n",
        "\n",
        "#카카오톡 메시지 보내기\n",
        "response = kakao_utils.send_message(KAKAO_TOKEN_FILENAME, template)\n",
        "print(response.status_code)\n",
        "\n",
        "if response.status_code !=200:\n",
        "  print('error! because:', response.json())\n",
        "else:\n",
        "  print('메세지를 성공적으로 보냈습니다.')"
      ],
      "metadata": {
        "colab": {
          "base_uri": "https://localhost:8080/"
        },
        "id": "n13MvFyHCJEA",
        "outputId": "4ee30f2a-289c-46f1-ad3a-85f75ecf8f02"
      },
      "execution_count": null,
      "outputs": [
        {
          "output_type": "stream",
          "name": "stdout",
          "text": [
            "{'access_token': '6Bv8dCUNiE2NRdZNhkzMaZ3E73GvpOzis-EKKw0fAAABjD0STVAhI_W2iNNaeg', 'token_type': 'bearer', 'expires_in': 21599}\n",
            "200\n",
            "메세지를 성공적으로 보냈습니다.\n"
          ]
        }
      ]
    }
  ]
}