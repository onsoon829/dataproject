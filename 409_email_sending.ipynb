{
  "nbformat": 4,
  "nbformat_minor": 0,
  "metadata": {
    "colab": {
      "provenance": [],
      "authorship_tag": "ABX9TyPk6Cu65bbUwdS3fPBr70JO",
      "include_colab_link": true
    },
    "kernelspec": {
      "name": "python3",
      "display_name": "Python 3"
    },
    "language_info": {
      "name": "python"
    }
  },
  "cells": [
    {
      "cell_type": "markdown",
      "metadata": {
        "id": "view-in-github",
        "colab_type": "text"
      },
      "source": [
        "<a href=\"https://colab.research.google.com/github/onsoon829/dataproject/blob/master/409_email_sending.ipynb\" target=\"_parent\"><img src=\"https://colab.research.google.com/assets/colab-badge.svg\" alt=\"Open In Colab\"/></a>"
      ]
    },
    {
      "cell_type": "markdown",
      "source": [
        "\n",
        "## 이메일 전송 프로젝트\n",
        "\n",
        "\n"
      ],
      "metadata": {
        "id": "0pcaOlka7F8u"
      }
    },
    {
      "cell_type": "code",
      "execution_count": null,
      "metadata": {
        "colab": {
          "base_uri": "https://localhost:8080/"
        },
        "id": "4m1bV2LA7E_L",
        "outputId": "7785ae62-8425-4809-ffb9-e40fb173bf19"
      },
      "outputs": [
        {
          "output_type": "stream",
          "name": "stdout",
          "text": [
            "Mounted at /content/drive\n",
            "/content/drive/MyDrive/ai_chat_python\n"
          ]
        }
      ],
      "source": [
        "from google.colab import drive\n",
        "drive.mount('/content/drive')\n",
        "\n",
        "%cd  '/content/drive/MyDrive/ai_chat_python'"
      ]
    },
    {
      "cell_type": "markdown",
      "source": [
        "http://kind.krx.co.kr/corpgeneral/corpList.do?method=download 주식장"
      ],
      "metadata": {
        "id": "Jiu76lWRVuhG"
      }
    },
    {
      "cell_type": "markdown",
      "source": [
        "참고 사이트\n",
        "\n",
        " - smtplib 라이브러리 문서: https://docs.python.org/ko/3/library/smtplib.html\n",
        " - email 라이브러리 문서: https://docs.python.org/ko/3/library/email.html"
      ],
      "metadata": {
        "id": "MvIkGk7_78E9"
      }
    },
    {
      "cell_type": "markdown",
      "source": [
        "오타 이슈, 누락 이슈 미치겠다."
      ],
      "metadata": {
        "id": "241B_v8v8H5Z"
      }
    },
    {
      "cell_type": "markdown",
      "source": [
        "## 이메일 전송 흐름"
      ],
      "metadata": {
        "id": "VFMkoajv8H6c"
      }
    },
    {
      "cell_type": "code",
      "source": [
        "import smtplib\n",
        "smtp_info = dict({'smtp_server':'smtp.naver.com',\n",
        "                  'smtp_user_id': 'onsoon829@naver.com',\n",
        "                  'smtp_user_pw': '33333',\n",
        "                  'smtp_port':587 })\n",
        "\n",
        "def send_email(smtp_info, msg):\n",
        "  with smtplib.SMTP(smtp_info['smtp_server'], smtp_info['smtp_port']) as server:\n",
        "    # TLS 보안 연결\n",
        "    server.starttls()\n",
        "\n",
        "    # 로그인\n",
        "    server.login(smtp_info['smtp_user_id'],smtp_info['smtp_user_pw'])\n",
        "\n",
        "    # 로그인 된 서버에 이메일 전송\n",
        "    # 메세지를 보낼때는 .as_string() 메소드를 사용해서 문자열로 바꿔준다.\n",
        "    response = server.sendmail(msg['from'],msg['to'], msg.as_string())\n",
        "\n",
        "    # 이메일을 정상적으로 보냈으면\n",
        "    if not response :\n",
        "      print('이메일을 성공적으로 보냈습니다')\n",
        "    else:\n",
        "      print(response)"
      ],
      "metadata": {
        "id": "FL1ZOlqY8KYD"
      },
      "execution_count": null,
      "outputs": []
    },
    {
      "cell_type": "markdown",
      "source": [
        "### 메일 내용 작성 및 파일 점부하기"
      ],
      "metadata": {
        "id": "bt9-w5IO_V3z"
      }
    },
    {
      "cell_type": "code",
      "source": [
        "import os\n",
        "# 이메일 메시지에 다양한 형식을 중첩하여 담기 위한 객체\n",
        "from email.mime.multipart import MIMEMultipart\n",
        "\n",
        "# 이메일 메시지를 이진 데이터로 바꿔주는 인코더\n",
        "from email import encoders\n",
        "\n",
        "# 텍스트 형식\n",
        "from email.mime.text import MIMEText\n",
        "# 이미지 형식\n",
        "from email.mime.image import MIMEImage\n",
        "# 오디오 형식\n",
        "from email.mime.audio import MIMEAudio\n",
        "\n",
        "# 위의 모든 객체들을 생성할 수 있는 기본 객체\n",
        "# MIMEBase(_maintype, _subtype)\n",
        "# MIMEBase(<메인 타입>, <서브 타입>)\n",
        "from email.mime.base import MIMEBase\n",
        "\n",
        "# 사용 방법 익혀놓자.\n",
        "msg_dict = {\n",
        "    'text' : {'maintype' : 'text', 'subtype' :'plain', 'filename' : 'res/email_sending/test.txt'}, # 텍스트 첨부파일\n",
        "    'image' : {'maintype' : 'image', 'subtype' :'jpg', 'filename' : 'res/email_sending/test.jpg' }, # 이미지 첨부파일\n",
        "    'audio' : {'maintype' : 'audio', 'subtype' :'mp3', 'filename' : 'res/email_sending/test.mp3' }, # 오디오 첨부파일\n",
        "    'video' : {'maintype' : 'video', 'subtype' :'mp4', 'filename' : 'res/email_sending/test.mp4' }, # 비디오 첨부파일\n",
        "    'application' : {'maintype' : 'application', 'subtype' : 'octect-stream', 'filename' : 'res/email_sending/test.pdf'} # 그 외 첨부파일\n",
        "}\n",
        "\n",
        "def make_multimsg(msg_dict):\n",
        "    multi = MIMEMultipart(_subtype='mixed')\n",
        "\n",
        "    for key, value in msg_dict.items():\n",
        "        # 각 타입에 적절한 MIMExxx() 함수를 호출하여 msg 객체를 생성한다.\n",
        "        if key == 'text':\n",
        "            with open(value['filename'], encoding='utf-8') as fp:\n",
        "                msg = MIMEText(fp.read(), _subtype=value['subtype'])\n",
        "        elif key == 'image':\n",
        "            with open(value['filename'], 'rb') as fp:\n",
        "                msg = MIMEImage(fp.read(), _subtype=value['subtype'])\n",
        "        elif key == 'audio':\n",
        "            with open(value['filename'], 'rb') as fp:\n",
        "                msg = MIMEAudio(fp.read(), _subtype=value['subtype'])\n",
        "        else:\n",
        "            with open(value['filename'], 'rb') as fp:\n",
        "                msg = MIMEBase(value['maintype'], _subtype=value['subtype'])\n",
        "                msg.set_payload(fp.read())\n",
        "                encoders.encode_base64(msg)\n",
        "        # 파일 이름을 첨부파일 제목으로 추가, 대소문자 구분\n",
        "        msg.add_header('Content-Disposition', 'attachment',\n",
        "                       filename=os.path.basename(value['filename']))\n",
        "        # 첨부파일 추가\n",
        "        multi.attach(msg)\n",
        "\n",
        "    return multi"
      ],
      "metadata": {
        "id": "1LmYrbcB_fC2"
      },
      "execution_count": null,
      "outputs": []
    },
    {
      "cell_type": "markdown",
      "source": [
        "## 이메일 전송 함수 만들기"
      ],
      "metadata": {
        "id": "fVTFdSRUGSYK"
      }
    },
    {
      "cell_type": "code",
      "source": [
        "import os\n",
        "import smtplib\n",
        "\n",
        "# 이메일 메시지에 다양한 형식을 중첩하여 담기 위한 객체\n",
        "from email.mime.multipart import MIMEMultipart\n",
        "\n",
        "# 이메일 메시지를 이진 데이터로 바꿔주는 인코더\n",
        "from email import encoders\n",
        "\n",
        "# 텍스트 형식\n",
        "from email.mime.text import MIMEText\n",
        "# 이미지 형식\n",
        "from email.mime.image import MIMEImage\n",
        "# 오디오 형식\n",
        "from email.mime.audio import MIMEAudio\n",
        "\n",
        "# 위의 모든 객체들을 생성할 수 있는 기본 객체\n",
        "# MIMEBase(_maintype, _subtype)\n",
        "# MIMEBase(<메인 타입>, <서브 타입>)\n",
        "from email.mime.base import MIMEBase\n",
        "\n",
        "def send_email(smtp_info, msg):\n",
        "  with smtplib.SMTP(smtp_info['smtp_server'], smtp_info['smtp_port']) as server:\n",
        "    # TLS 보안 연결\n",
        "    server.starttls()\n",
        "\n",
        "    # 로그인\n",
        "    server.login(smtp_info['smtp_user_id'],smtp_info['smtp_user_pw'])\n",
        "\n",
        "    # 로그인 된 서버에 이메일 전송\n",
        "    # 메세지를 보낼때는 .as_string() 메소드를 사용해서 문자열로 바꿔준다.\n",
        "    response = server.sendmail(msg['from'],msg['to'],msg.as_string())\n",
        "\n",
        "    # 이메일을 정상적으로 보냈으면\n",
        "    if not response :\n",
        "      print('이메일을 성공적으로 보냈습니다')\n",
        "    else:\n",
        "      print(response)\n",
        "\n",
        "def make_multimsg(msg_dict):\n",
        "    multi = MIMEMultipart(_subtype='mixed')\n",
        "\n",
        "    for key, value in msg_dict.items():\n",
        "        # 각 타입에 적절한 MIMExxx() 함수를 호출하여 msg 객체를 생성한다.\n",
        "        if key == 'text':\n",
        "            with open(value['filename'], encoding='utf-8') as fp:\n",
        "                msg = MIMEText(fp.read(), _subtype=value['subtype'])\n",
        "        elif key == 'image':\n",
        "            with open(value['filename'], 'rb') as fp:\n",
        "                msg = MIMEImage(fp.read(), _subtype=value['subtype'])\n",
        "        elif key == 'audio':\n",
        "            with open(value['filename'], 'rb') as fp:\n",
        "                msg = MIMEAudio(fp.read(), _subtype=value['subtype'])\n",
        "        else:\n",
        "            with open(value['filename'], 'rb') as fp:\n",
        "                msg = MIMEBase(value['maintype'], _subtype=value['subtype'])\n",
        "                msg.set_payload(fp.read())\n",
        "                encoders.encode_base64(msg)\n",
        "        # 파일 이름을 첨부파일 제목으로 추가, 대소문자 구분\n",
        "        msg.add_header('Content-Disposition', 'attachment',\n",
        "                       filename=os.path.basename(value['filename']))\n",
        "        # 첨부파일 추가\n",
        "        multi.attach(msg)\n",
        "\n",
        "    return multi"
      ],
      "metadata": {
        "id": "-dQo92enGk9o"
      },
      "execution_count": null,
      "outputs": []
    },
    {
      "cell_type": "markdown",
      "source": [
        "텍스트로만 구성된 이메일 보내기  "
      ],
      "metadata": {
        "id": "vGIfdTkXHGya"
      }
    },
    {
      "cell_type": "code",
      "source": [
        "smtp_info = dict({'smtp_server':'smtp.naver.com',\n",
        "                  'smtp_user_id': 'onsoon829@naver.com',\n",
        "                  'smtp_user_pw': ' ',\n",
        "                  'smtp_port':587 })\n",
        "\n",
        "# 메일 내용 작성\n",
        "title = '기본 메일 테스트를 보냅니다.'\n",
        "content = '메일 내용이냐?'\n",
        "sender = smtp_info['smtp_user_id'] # 송신자 메일계정\n",
        "receiver = 'onsoon431@daum.net' # 수신자 메일계정\n",
        "\n",
        "msg = MIMEText(_text = content, _charset='utf-8') # 메일내용\n",
        "msg['subject'] = title  # 제목\n",
        "msg['From'] = sender # 송신자\n",
        "msg['To']   = receiver # 수신자\n",
        "\n",
        "send_email(smtp_info, msg) # 보낼 때는 string값으로 보낸다."
      ],
      "metadata": {
        "colab": {
          "base_uri": "https://localhost:8080/"
        },
        "id": "FZXKbuwJHJME",
        "outputId": "d08f2d52-8fc6-48f8-9977-dfcddd66ae40"
      },
      "execution_count": null,
      "outputs": [
        {
          "output_type": "stream",
          "name": "stdout",
          "text": [
            "이메일을 성공적으로 보냈습니다\n"
          ]
        }
      ]
    },
    {
      "cell_type": "code",
      "source": [
        "smtp_info = dict({'smtp_server':'smtp.naver.com',\n",
        "                  'smtp_user_id': 'onsoon829@naver.com',\n",
        "                  'smtp_user_pw': ' ',\n",
        "                  'smtp_port':587 })\n",
        "\n",
        "\n",
        "msg_dict = {\n",
        "    'text' : {'maintype' : 'text', 'subtype' :'plain', 'filename' : 'res/email_sending/test.txt'}, # 텍스트 첨부파일\n",
        "    'image' : {'maintype' : 'image', 'subtype' :'jpg', 'filename' : 'res/email_sending/test.jpg' }, # 이미지 첨부파일\n",
        "    'audio' : {'maintype' : 'audio', 'subtype' :'mp3', 'filename' : 'res/email_sending/test.mp3' }, # 오디오 첨부파일\n",
        "    'video' : {'maintype' : 'video', 'subtype' :'mp4', 'filename' : 'res/email_sending/test.mp4' }, # 비디오 첨부파일\n",
        "    'application' : {'maintype' : 'application', 'subtype' : 'octect-stream', 'filename' : 'res/email_sending/test.pdf'} # 그 외 첨부파일\n",
        "}\n",
        "\n",
        "#####################\n",
        "# 메일 내용 작성\n",
        "#####################\n",
        "title = \"첨부파일이 있는 이메일입니다.\"\n",
        "content = \"메일 내용입니다.\"\n",
        "sender = smtp_info['smtp_user_id'] # 송신자(sender) 메일 계정\n",
        "#receiver = \"<수신자(receiver) 메일 주소>@naver.com\"\n",
        "receiver = \"onsoon829@naver.com\"\n",
        "\n",
        "# 메일 내용\n",
        "msg = MIMEText(_text = content, _charset = \"utf-8\")\n",
        "\n",
        "# 첨부파일 추가\n",
        "multi = make_multimsg(msg_dict)\n",
        "multi['Subject'] = title\n",
        "multi['From'] = sender\n",
        "multi['To'] = receiver\n",
        "multi.attach(msg)\n",
        "\n",
        "# 첨부파일이 추가된 이메일 전송\n",
        "send_email(smtp_info, multi )"
      ],
      "metadata": {
        "id": "pAi8DDHBTP0X"
      },
      "execution_count": null,
      "outputs": []
    }
  ]
}