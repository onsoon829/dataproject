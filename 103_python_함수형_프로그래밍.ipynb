{
  "nbformat": 4,
  "nbformat_minor": 0,
  "metadata": {
    "colab": {
      "provenance": [],
      "authorship_tag": "ABX9TyO5yynlKRWFL/snysGhJNyj",
      "include_colab_link": true
    },
    "kernelspec": {
      "name": "python3",
      "display_name": "Python 3"
    },
    "language_info": {
      "name": "python"
    }
  },
  "cells": [
    {
      "cell_type": "markdown",
      "metadata": {
        "id": "view-in-github",
        "colab_type": "text"
      },
      "source": [
        "<a href=\"https://colab.research.google.com/github/onsoon829/dataproject/blob/master/103_python_%ED%95%A8%EC%88%98%ED%98%95_%ED%94%84%EB%A1%9C%EA%B7%B8%EB%9E%98%EB%B0%8D.ipynb\" target=\"_parent\"><img src=\"https://colab.research.google.com/assets/colab-badge.svg\" alt=\"Open In Colab\"/></a>"
      ]
    },
    {
      "cell_type": "markdown",
      "source": [
        "##함수형 프로그래밍(funtional programming)\n",
        "###Funtion(함수)란?\n",
        "1. programming의 관점\n",
        " - 재사용을 위해서 encapsulation한 것.\n",
        "2. math관점\n",
        " - 정의역의 원소들을 고역의 원소로 사상시키는 것.\n",
        "\n",
        "###funtional programming?\n",
        " - math와 programming의 funtion개념의 차이를 최대한 줄여서 programming하는 기법이다. 관점의 갭을 줄인 것이 함수.\n"
      ],
      "metadata": {
        "id": "iToKwBj_wF4r"
      }
    },
    {
      "cell_type": "markdown",
      "source": [
        "함수형 프로그래밍은 함수를 수학적 함수로 그대로 정의한다.\n",
        "\n",
        "f(x)g(x)h(x)\n",
        "\n",
        "g(g(h(x)))\n",
        " - 조건 : 함수를 수학적 함수로 그대로 정의함(문장보다 식 선호)\n",
        " - loop(반복문),mutable(변경문 global, nonlocal)사용 안함."
      ],
      "metadata": {
        "id": "NRoDhbV0xili"
      }
    },
    {
      "cell_type": "code",
      "source": [
        "#input(정의역)이 없으므로 수학적 관점에서 나쁜 함수\n",
        "def f():\n",
        "  return 1\n"
      ],
      "metadata": {
        "id": "lWFGkK4QyMf5"
      },
      "execution_count": null,
      "outputs": []
    },
    {
      "cell_type": "code",
      "source": [
        "#output(공역)이 없으므로 수학적 관점에서 나쁜 함수\n",
        "def g(3):\n",
        "  print(3)"
      ],
      "metadata": {
        "id": "Pg924ydsyhdW"
      },
      "execution_count": null,
      "outputs": []
    },
    {
      "cell_type": "markdown",
      "source": [
        "funtional programming(함수형 프로그램)은 함수를 수학적 함수처럼 사용하는 것이다."
      ],
      "metadata": {
        "id": "rL7ZviAIytNy"
      }
    },
    {
      "cell_type": "code",
      "source": [
        "from operator import add, mul, sub"
      ],
      "metadata": {
        "id": "j0ikrGksy5nU"
      },
      "execution_count": null,
      "outputs": []
    },
    {
      "cell_type": "code",
      "source": [
        "#덧셈함수\n",
        "add(3,4)"
      ],
      "metadata": {
        "colab": {
          "base_uri": "https://localhost:8080/"
        },
        "id": "No2TKZgOzBhu",
        "outputId": "f760ddff-2f8d-44db-f487-82ffa28ad36f"
      },
      "execution_count": null,
      "outputs": [
        {
          "output_type": "execute_result",
          "data": {
            "text/plain": [
              "7"
            ]
          },
          "metadata": {},
          "execution_count": 43
        }
      ]
    },
    {
      "cell_type": "code",
      "source": [
        "#곱셈함수\n",
        "mul(3,4)"
      ],
      "metadata": {
        "colab": {
          "base_uri": "https://localhost:8080/"
        },
        "id": "gvbq96ARzHLr",
        "outputId": "0b897b8c-3b5b-4171-ee2d-674fbde94502"
      },
      "execution_count": null,
      "outputs": [
        {
          "output_type": "execute_result",
          "data": {
            "text/plain": [
              "12"
            ]
          },
          "metadata": {},
          "execution_count": 44
        }
      ]
    },
    {
      "cell_type": "code",
      "source": [
        "#뺄셈 함수\n",
        "sub(3,4)"
      ],
      "metadata": {
        "colab": {
          "base_uri": "https://localhost:8080/"
        },
        "id": "9rJ409o7zO7i",
        "outputId": "71eac171-e527-4fc4-f1dd-580a917848e6"
      },
      "execution_count": null,
      "outputs": [
        {
          "output_type": "execute_result",
          "data": {
            "text/plain": [
              "-1"
            ]
          },
          "metadata": {},
          "execution_count": 45
        }
      ]
    },
    {
      "cell_type": "markdown",
      "source": [
        "사칙연산을 연산자를 이용해서 할 수 있다.\n",
        "\n",
        "함수를 이용하면 명확하다는 장점이 있다."
      ],
      "metadata": {
        "id": "5INZYvxhzwpp"
      }
    },
    {
      "cell_type": "code",
      "source": [
        "3 + 4 * 2"
      ],
      "metadata": {
        "colab": {
          "base_uri": "https://localhost:8080/"
        },
        "id": "4xGN3XzoziZ_",
        "outputId": "99f2f98b-39eb-4525-d315-dd96f54bf728"
      },
      "execution_count": null,
      "outputs": [
        {
          "output_type": "execute_result",
          "data": {
            "text/plain": [
              "11"
            ]
          },
          "metadata": {},
          "execution_count": 8
        }
      ]
    },
    {
      "cell_type": "code",
      "source": [
        "#합성함수와 같은 구조\n",
        "#g(f(x))\n",
        "add(3,mul(4,2))"
      ],
      "metadata": {
        "colab": {
          "base_uri": "https://localhost:8080/",
          "height": 183
        },
        "id": "9dw-b0F2zpwy",
        "outputId": "6df99d6c-8d3f-4f3a-d612-4e91fcdf13a5"
      },
      "execution_count": null,
      "outputs": [
        {
          "output_type": "error",
          "ename": "NameError",
          "evalue": "ignored",
          "traceback": [
            "\u001b[0;31m---------------------------------------------------------------------------\u001b[0m",
            "\u001b[0;31mNameError\u001b[0m                                 Traceback (most recent call last)",
            "\u001b[0;32m<ipython-input-9-035d34368e9b>\u001b[0m in \u001b[0;36m<cell line: 1>\u001b[0;34m()\u001b[0m\n\u001b[0;32m----> 1\u001b[0;31m \u001b[0madd\u001b[0m\u001b[0;34m(\u001b[0m\u001b[0;36m3\u001b[0m\u001b[0;34m,\u001b[0m\u001b[0mmul\u001b[0m\u001b[0;34m(\u001b[0m\u001b[0;36m4\u001b[0m\u001b[0;34m,\u001b[0m\u001b[0;36m2\u001b[0m\u001b[0;34m)\u001b[0m\u001b[0;34m)\u001b[0m\u001b[0;34m\u001b[0m\u001b[0;34m\u001b[0m\u001b[0m\n\u001b[0m",
            "\u001b[0;31mNameError\u001b[0m: name 'add' is not defined"
          ]
        }
      ]
    },
    {
      "cell_type": "markdown",
      "source": [
        "##순수함수(pure funtion) & 부수효과(side effect)\n",
        " - 순수함수 : 동일한 입력 값에 항상 동일한 출력값을 나타냄\n",
        " - 부수효과 : 리턴값으로 결과를 만드는 것 외에 들어온 값"
      ],
      "metadata": {
        "id": "a7NKbGbw0igT"
      }
    },
    {
      "cell_type": "code",
      "source": [
        "#비순수함수\n",
        "#매개변수 값을 변경하므로 순수함수가 아니다.\n",
        "def func(a):\n",
        "  a.append(3)\n",
        "  a.append(4)\n",
        "  return a"
      ],
      "metadata": {
        "id": "32oHyUjz1EoC"
      },
      "execution_count": null,
      "outputs": []
    },
    {
      "cell_type": "code",
      "source": [
        "x = [1,2]\n",
        "func(x)"
      ],
      "metadata": {
        "colab": {
          "base_uri": "https://localhost:8080/"
        },
        "id": "uhftMQtJ1Vd9",
        "outputId": "71bb2e51-e8c6-4be0-bf20-900d4ff5dc5e"
      },
      "execution_count": null,
      "outputs": [
        {
          "output_type": "execute_result",
          "data": {
            "text/plain": [
              "[1, 2, 3, 4]"
            ]
          },
          "metadata": {},
          "execution_count": 21
        }
      ]
    },
    {
      "cell_type": "code",
      "source": [
        "#비순수함수\n",
        "#c의 값이 달라지면 결과값도 달라지므로 순수함수가 아니다.\n",
        "c=10\n",
        "def func(a,b):\n",
        "  return a+b+c"
      ],
      "metadata": {
        "id": "KiQyiDHY1fTi"
      },
      "execution_count": null,
      "outputs": []
    },
    {
      "cell_type": "code",
      "source": [
        "func(1, 2)"
      ],
      "metadata": {
        "colab": {
          "base_uri": "https://localhost:8080/"
        },
        "id": "QEgqMbLn16yi",
        "outputId": "5ceb8159-695b-4771-885c-2ad1b4fe7549"
      },
      "execution_count": null,
      "outputs": [
        {
          "output_type": "execute_result",
          "data": {
            "text/plain": [
              "13"
            ]
          },
          "metadata": {},
          "execution_count": 24
        }
      ]
    },
    {
      "cell_type": "code",
      "source": [
        "c=14\n",
        "func(1,2)"
      ],
      "metadata": {
        "colab": {
          "base_uri": "https://localhost:8080/"
        },
        "id": "7jy3bGpm2AhI",
        "outputId": "625e0c87-6931-4ecf-e1b5-3ebf53e5b183"
      },
      "execution_count": null,
      "outputs": [
        {
          "output_type": "execute_result",
          "data": {
            "text/plain": [
              "17"
            ]
          },
          "metadata": {},
          "execution_count": 25
        }
      ]
    },
    {
      "cell_type": "code",
      "source": [
        "#비순수함수\n",
        "#dict의 상태를 변경시키므로 순수 함수가 아니다. 그리고 리턴값도 없다\n",
        "obj = {'x':10}\n",
        "def func(obj, b):\n",
        "  obj['x'] += b"
      ],
      "metadata": {
        "id": "E6oTYu9R2EzK"
      },
      "execution_count": null,
      "outputs": []
    },
    {
      "cell_type": "code",
      "source": [
        "func(obj, 3)\n",
        "print(obj)"
      ],
      "metadata": {
        "colab": {
          "base_uri": "https://localhost:8080/"
        },
        "id": "2wLmhU172SQ1",
        "outputId": "900cacb3-f324-4256-ca4e-40d70e5b6ee6"
      },
      "execution_count": null,
      "outputs": [
        {
          "output_type": "stream",
          "name": "stdout",
          "text": [
            "{'x': 13}\n"
          ]
        }
      ]
    },
    {
      "cell_type": "code",
      "source": [
        "#순수함수\n",
        "#동일한 입력값에 항상 동일한 출력 값을 나타냄\n",
        "def func(a, b):\n",
        "  return a+b"
      ],
      "metadata": {
        "id": "QwmvCDFT2s-i"
      },
      "execution_count": null,
      "outputs": []
    },
    {
      "cell_type": "code",
      "source": [
        "func(2,3)"
      ],
      "metadata": {
        "colab": {
          "base_uri": "https://localhost:8080/"
        },
        "id": "nyd7ipdU25F7",
        "outputId": "9e520b65-5617-4760-cab4-a3f8f9eb4c87"
      },
      "execution_count": null,
      "outputs": [
        {
          "output_type": "execute_result",
          "data": {
            "text/plain": [
              "5"
            ]
          },
          "metadata": {},
          "execution_count": 30
        }
      ]
    },
    {
      "cell_type": "code",
      "source": [
        "def func(a):\n",
        "  b = a**2\n",
        "  c = a+b\n",
        "  return c"
      ],
      "metadata": {
        "id": "OeQuRtpZ3OMc"
      },
      "execution_count": null,
      "outputs": []
    },
    {
      "cell_type": "code",
      "source": [
        "func(3)"
      ],
      "metadata": {
        "id": "kffymeoC3Xcz"
      },
      "execution_count": null,
      "outputs": []
    },
    {
      "cell_type": "markdown",
      "source": [
        "##합성함수(funtion composition)은 둘 이상의 함수를 조합한 함수이다."
      ],
      "metadata": {
        "id": "MkIRnK5a6_By"
      }
    },
    {
      "cell_type": "code",
      "source": [
        "def add(a, b):\n",
        "  return a+b\n",
        "\n",
        "def square(x):\n",
        "  return x*x\n",
        "\n",
        "def fun(s):\n",
        "  return s+10"
      ],
      "metadata": {
        "id": "h-xV3S_47GEi"
      },
      "execution_count": null,
      "outputs": []
    },
    {
      "cell_type": "code",
      "source": [
        "func(square(add(3,5)))"
      ],
      "metadata": {
        "colab": {
          "base_uri": "https://localhost:8080/"
        },
        "id": "BQ9-8gl37ZjR",
        "outputId": "6c583945-a263-45ee-beac-83fb3a172b49"
      },
      "execution_count": null,
      "outputs": [
        {
          "output_type": "execute_result",
          "data": {
            "text/plain": [
              "4160"
            ]
          },
          "metadata": {},
          "execution_count": 51
        }
      ]
    },
    {
      "cell_type": "markdown",
      "source": [
        "### lambda(람다)\n",
        " - 식 형태로 되어 있다고 해서 람다 표현식(lambda expression)이라고 부른다.\n",
        " - 특히, 람다 표현식은 함수를 간편하게 작성할 수 있어 다른 함수의 인수로 넣을 때 주로 사용한다.\n",
        " - lambda는 이름이 없어 익명함수라 부르기도 한다."
      ],
      "metadata": {
        "id": "J_2yIfHS77j8"
      }
    },
    {
      "cell_type": "code",
      "source": [
        "def func(a,b):\n",
        "  return a+b"
      ],
      "metadata": {
        "id": "bY1PjuBv8lFO"
      },
      "execution_count": null,
      "outputs": []
    },
    {
      "cell_type": "code",
      "source": [
        "#lambda parameter_1, parameter_2 : expression\n",
        "anc = lambda a, b : a+b"
      ],
      "metadata": {
        "id": "iYlmCjlT8ruK"
      },
      "execution_count": null,
      "outputs": []
    },
    {
      "cell_type": "code",
      "source": [
        "print(dir(anc))"
      ],
      "metadata": {
        "colab": {
          "base_uri": "https://localhost:8080/"
        },
        "id": "PzCC0s_m9Bz6",
        "outputId": "acaca23c-444b-45d1-bb60-8abae04fd163"
      },
      "execution_count": null,
      "outputs": [
        {
          "output_type": "stream",
          "name": "stdout",
          "text": [
            "['__annotations__', '__builtins__', '__call__', '__class__', '__closure__', '__code__', '__defaults__', '__delattr__', '__dict__', '__dir__', '__doc__', '__eq__', '__format__', '__ge__', '__get__', '__getattribute__', '__globals__', '__gt__', '__hash__', '__init__', '__init_subclass__', '__kwdefaults__', '__le__', '__lt__', '__module__', '__name__', '__ne__', '__new__', '__qualname__', '__reduce__', '__reduce_ex__', '__repr__', '__setattr__', '__sizeof__', '__str__', '__subclasshook__']\n"
          ]
        }
      ]
    },
    {
      "cell_type": "code",
      "source": [
        "#lambda로 만든 함수는 __name__하면 이름이 안나온다.\n",
        "#그래서 익명함수라고도 한다.\n",
        "anc.__name__"
      ],
      "metadata": {
        "colab": {
          "base_uri": "https://localhost:8080/",
          "height": 35
        },
        "id": "6NZ6GnZ69Lki",
        "outputId": "389e2934-1494-4e30-cde2-4efebb0efa9f"
      },
      "execution_count": null,
      "outputs": [
        {
          "output_type": "execute_result",
          "data": {
            "text/plain": [
              "'<lambda>'"
            ],
            "application/vnd.google.colaboratory.intrinsic+json": {
              "type": "string"
            }
          },
          "metadata": {},
          "execution_count": 57
        }
      ]
    },
    {
      "cell_type": "markdown",
      "source": [
        "##1. 일반함수와 람다함수"
      ],
      "metadata": {
        "id": "yV0JfDn89020"
      }
    },
    {
      "cell_type": "code",
      "source": [
        "#일반함수\n",
        "def plus_ten(x):\n",
        "  return x+10"
      ],
      "metadata": {
        "id": "6BPFY4Gl94vr"
      },
      "execution_count": null,
      "outputs": []
    },
    {
      "cell_type": "code",
      "source": [
        "plus_ten(3)"
      ],
      "metadata": {
        "colab": {
          "base_uri": "https://localhost:8080/"
        },
        "id": "WjveW4C-9_2a",
        "outputId": "11febf8b-23a0-437c-f813-2edb31b4bbee"
      },
      "execution_count": null,
      "outputs": [
        {
          "output_type": "execute_result",
          "data": {
            "text/plain": [
              "13"
            ]
          },
          "metadata": {},
          "execution_count": 60
        }
      ]
    },
    {
      "cell_type": "code",
      "source": [
        "#lambda 표현식\n",
        "plus_ten2 = lambda x:x+10"
      ],
      "metadata": {
        "id": "varhcHfp-Diy"
      },
      "execution_count": null,
      "outputs": []
    },
    {
      "cell_type": "code",
      "source": [
        "plus_ten2(3)"
      ],
      "metadata": {
        "id": "zwJ0nAvX-Qca"
      },
      "execution_count": null,
      "outputs": []
    },
    {
      "cell_type": "markdown",
      "source": [
        "##2. 람다 표현식 자체를 호출하기.\n",
        "(lambda parameter : expression)(argument)"
      ],
      "metadata": {
        "id": "NfezArdT-acM"
      }
    },
    {
      "cell_type": "code",
      "source": [
        "(lambda x:x+10)(3)#앞 괄호 먼저 호출, 뒤 괄호로 출력?"
      ],
      "metadata": {
        "colab": {
          "base_uri": "https://localhost:8080/"
        },
        "id": "jBK_Aev7-njZ",
        "outputId": "d971d64f-e64a-426e-d03c-29aa88bfec35"
      },
      "execution_count": null,
      "outputs": [
        {
          "output_type": "execute_result",
          "data": {
            "text/plain": [
              "13"
            ]
          },
          "metadata": {},
          "execution_count": 63
        }
      ]
    },
    {
      "cell_type": "code",
      "source": [
        "(lambda x, y : x+y)(3,5)"
      ],
      "metadata": {
        "id": "MV9AqJ_A_Hnk"
      },
      "execution_count": null,
      "outputs": []
    },
    {
      "cell_type": "markdown",
      "source": [
        "##3. 람다 표현식 바깥에 있는 변수를 사용할 수 있다."
      ],
      "metadata": {
        "id": "QvAmZ1qp_WU8"
      }
    },
    {
      "cell_type": "code",
      "source": [
        "y = 10\n",
        "(lambda x : x+y)(3)"
      ],
      "metadata": {
        "colab": {
          "base_uri": "https://localhost:8080/"
        },
        "id": "Br4okheP_boR",
        "outputId": "d5851576-42a8-42ad-ac73-54ef888b68b4"
      },
      "execution_count": null,
      "outputs": [
        {
          "output_type": "execute_result",
          "data": {
            "text/plain": [
              "13"
            ]
          },
          "metadata": {},
          "execution_count": 64
        }
      ]
    },
    {
      "cell_type": "code",
      "source": [],
      "metadata": {
        "id": "dtjnchQ0_nK7"
      },
      "execution_count": null,
      "outputs": []
    },
    {
      "cell_type": "markdown",
      "source": [
        "##4. 람다 표현식으로 매개변수가 없는 함수 만들기\n",
        "매개변수들은 생략할 수 있지만 ':'(콜론) 뒤의 표현식은 생략할 수 없다."
      ],
      "metadata": {
        "id": "FxHSRRzX_zw8"
      }
    },
    {
      "cell_type": "code",
      "source": [
        "(lambda : 1)()"
      ],
      "metadata": {
        "colab": {
          "base_uri": "https://localhost:8080/"
        },
        "id": "aPQHeQhnAAyq",
        "outputId": "1ec205e6-d9f1-4ba3-97f5-f772f715ae34"
      },
      "execution_count": null,
      "outputs": [
        {
          "output_type": "execute_result",
          "data": {
            "text/plain": [
              "1"
            ]
          },
          "metadata": {},
          "execution_count": 65
        }
      ]
    },
    {
      "cell_type": "markdown",
      "source": [
        "##5. 람다 표현식을 인수로 사용하기\n",
        " - 람다 표현식을 map(), filter(), reduce()함수 등의 인수로 사용하면 간단하게\n",
        " 함수를 사용할 수 있다."
      ],
      "metadata": {
        "id": "NjxsoqS0AS0E"
      }
    },
    {
      "cell_type": "code",
      "source": [
        "def plus(x):\n",
        "  return x + 10"
      ],
      "metadata": {
        "id": "jRGe7jKgAvkx"
      },
      "execution_count": null,
      "outputs": []
    },
    {
      "cell_type": "code",
      "source": [
        "#map(func, iterable)\n",
        "list(map(plus, [1,2,3]))#고차함수?"
      ],
      "metadata": {
        "colab": {
          "base_uri": "https://localhost:8080/"
        },
        "id": "5Vvz1SkRBGIL",
        "outputId": "3250fc2c-0287-4c95-c707-6e2cbb38b221"
      },
      "execution_count": null,
      "outputs": [
        {
          "output_type": "execute_result",
          "data": {
            "text/plain": [
              "[11, 12, 13]"
            ]
          },
          "metadata": {},
          "execution_count": 69
        }
      ]
    },
    {
      "cell_type": "code",
      "source": [
        "#람다 표현식은 다른 함수의 인수(argument)로 넣으면 간단하다.\n",
        "list(map(lambda x : x+10, [1,2,3]))"
      ],
      "metadata": {
        "colab": {
          "base_uri": "https://localhost:8080/"
        },
        "id": "g7q-VQ1lCyj1",
        "outputId": "ffbbde9e-08f7-4516-adf7-6b9a9364b3a8"
      },
      "execution_count": null,
      "outputs": [
        {
          "output_type": "execute_result",
          "data": {
            "text/plain": [
              "[11, 12, 13]"
            ]
          },
          "metadata": {},
          "execution_count": 71
        }
      ]
    },
    {
      "cell_type": "code",
      "source": [
        "a = [1,2,3,4]\n",
        "b = [5,6,7,8]\n",
        "list(map(lambda x, y : x+y, a, b))"
      ],
      "metadata": {
        "colab": {
          "base_uri": "https://localhost:8080/"
        },
        "id": "93q1yJzvDVnC",
        "outputId": "41f7cbc2-96b5-4408-a181-14a421b4422a"
      },
      "execution_count": null,
      "outputs": [
        {
          "output_type": "execute_result",
          "data": {
            "text/plain": [
              "[6, 8, 10, 12]"
            ]
          },
          "metadata": {},
          "execution_count": 73
        }
      ]
    },
    {
      "cell_type": "markdown",
      "source": [
        "filter(function iterable) : filter은 iterable에서 function을 적용해서 True이면 제거하는 함수이다."
      ],
      "metadata": {
        "id": "kd5Rr1OFEdG7"
      }
    },
    {
      "cell_type": "code",
      "source": [
        "a = [1,2,3,4,5,6,7,8]\n",
        "list(filter(lambda x : x%2==0, a))"
      ],
      "metadata": {
        "id": "FOhhpy7jFEl5"
      },
      "execution_count": null,
      "outputs": []
    },
    {
      "cell_type": "markdown",
      "source": [
        "##reduce(function,iterable):reduce는 첫 인수 함수의 결과가 누적으로 적용된다."
      ],
      "metadata": {
        "id": "9i1wJTaCJL_F"
      }
    },
    {
      "cell_type": "code",
      "source": [
        "from functools import reduce"
      ],
      "metadata": {
        "id": "lT2Vhd90JTYZ"
      },
      "execution_count": null,
      "outputs": []
    },
    {
      "cell_type": "code",
      "source": [
        "reduce(lambda x, total : x + total, [1,2,3,4])"
      ],
      "metadata": {
        "colab": {
          "base_uri": "https://localhost:8080/"
        },
        "id": "uFv_3ufMD00h",
        "outputId": "3f053994-7a98-4380-be0a-8c6f8b0f4ce1"
      },
      "execution_count": null,
      "outputs": [
        {
          "output_type": "execute_result",
          "data": {
            "text/plain": [
              "10"
            ]
          },
          "metadata": {},
          "execution_count": 2
        }
      ]
    },
    {
      "cell_type": "code",
      "source": [
        "reduce(add. [1,2,3,4])"
      ],
      "metadata": {
        "colab": {
          "base_uri": "https://localhost:8080/",
          "height": 147
        },
        "id": "bd2PnY9cKu1x",
        "outputId": "1e377871-c810-479d-b1d4-bec42b35a4b2"
      },
      "execution_count": null,
      "outputs": [
        {
          "output_type": "error",
          "ename": "SyntaxError",
          "evalue": "ignored",
          "traceback": [
            "\u001b[0;36m  File \u001b[0;32m\"<ipython-input-3-ec71f56d0107>\"\u001b[0;36m, line \u001b[0;32m1\u001b[0m\n\u001b[0;31m    reduce(add.[1,2,3,4])\u001b[0m\n\u001b[0m               ^\u001b[0m\n\u001b[0;31mSyntaxError\u001b[0m\u001b[0;31m:\u001b[0m invalid syntax\n"
          ]
        }
      ]
    },
    {
      "cell_type": "code",
      "source": [
        "reduce(lambda x, total : x * total, [1,2,3,4])"
      ],
      "metadata": {
        "colab": {
          "base_uri": "https://localhost:8080/"
        },
        "id": "ZE2nLCi4Ky7y",
        "outputId": "504aa987-432e-489b-ff8b-8e0b93b6d92b"
      },
      "execution_count": null,
      "outputs": [
        {
          "output_type": "execute_result",
          "data": {
            "text/plain": [
              "24"
            ]
          },
          "metadata": {},
          "execution_count": 80
        }
      ]
    },
    {
      "cell_type": "code",
      "source": [
        "reduce(mul, [1,2,3,4])"
      ],
      "metadata": {
        "colab": {
          "base_uri": "https://localhost:8080/"
        },
        "id": "mkbIj4_GK7-J",
        "outputId": "13f6a282-d299-475b-9fc9-5ce839e03f4d"
      },
      "execution_count": null,
      "outputs": [
        {
          "output_type": "execute_result",
          "data": {
            "text/plain": [
              "24"
            ]
          },
          "metadata": {},
          "execution_count": 81
        }
      ]
    },
    {
      "cell_type": "markdown",
      "source": [
        "##고차함수(higher order function)\n",
        " - function을 변수나 자료구조의 값으로 사용할 수 있다.\n",
        " - function을 parameter에서 받을 수 있다.\n",
        " - function을 리턴할 수 있다.\n",
        " - map, filter, reduce는 함수형 프로그래밍에서 자주 사용되는 고차원 함수이다. 이중에서 reduce는 functools모듈을 import해야만 사용할 수 있도록 바뀌었다.\n",
        "\n",
        " ###일급객체(first lass object)\n",
        " - 변수에 할당 가능해야 함\n",
        " - 다른 함수의 전달인자로 전달 가능해아 함\n",
        " - 다른 함수의 결과로서 리턴 가능해야 함\n",
        "\n",
        "\n",
        " ***python은 일급객체이므로 고차함수를 사용할 수 있다. ***\n",
        "\n",
        " 콜백함수?"
      ],
      "metadata": {
        "id": "8sNLP7jNMCYU"
      }
    },
    {
      "cell_type": "code",
      "source": [
        "def ss():\n",
        "  return 3"
      ],
      "metadata": {
        "id": "kbyZiMafO874"
      },
      "execution_count": null,
      "outputs": []
    },
    {
      "cell_type": "code",
      "source": [
        "def display(a):\n",
        "  return a"
      ],
      "metadata": {
        "id": "NiYRsewVPMnE"
      },
      "execution_count": null,
      "outputs": []
    },
    {
      "cell_type": "code",
      "source": [
        "#ss( )넘겨주면 고차함수가 아니다.\n",
        "display(ss())"
      ],
      "metadata": {
        "colab": {
          "base_uri": "https://localhost:8080/"
        },
        "id": "xBQMr7w8PQ4Z",
        "outputId": "07ecb37a-fc9e-45e1-b3ad-7b5f443c675e"
      },
      "execution_count": null,
      "outputs": [
        {
          "output_type": "execute_result",
          "data": {
            "text/plain": [
              "3"
            ]
          },
          "metadata": {},
          "execution_count": 84
        }
      ]
    },
    {
      "cell_type": "code",
      "source": [
        "#display는 고차함수이다.\n",
        "k = display(ss)\n",
        "k()"
      ],
      "metadata": {
        "colab": {
          "base_uri": "https://localhost:8080/"
        },
        "id": "JcTJfa-kPZCJ",
        "outputId": "51a529e4-81a7-495a-c60a-1603af6ffc7d"
      },
      "execution_count": null,
      "outputs": [
        {
          "output_type": "execute_result",
          "data": {
            "text/plain": [
              "3"
            ]
          },
          "metadata": {},
          "execution_count": 86
        }
      ]
    },
    {
      "cell_type": "code",
      "source": [
        "display(ss)()"
      ],
      "metadata": {
        "colab": {
          "base_uri": "https://localhost:8080/"
        },
        "id": "chMTnUjAPbEx",
        "outputId": "cc0cd4cb-45d6-4196-9491-cd148f88517a"
      },
      "execution_count": null,
      "outputs": [
        {
          "output_type": "execute_result",
          "data": {
            "text/plain": [
              "3"
            ]
          },
          "metadata": {},
          "execution_count": 87
        }
      ]
    },
    {
      "cell_type": "markdown",
      "source": [
        "##callback(콜백)\n",
        " - 함수 parameter에서 다른 훔를 받으면 이 parameter의 함수를 콜백함수한다(?)콜백한다?"
      ],
      "metadata": {
        "id": "tiMo9J5SQqfD"
      }
    },
    {
      "cell_type": "code",
      "source": [
        "def plus(callback):\n",
        "  callback()"
      ],
      "metadata": {
        "id": "mB9zA2EBRGOZ"
      },
      "execution_count": null,
      "outputs": []
    },
    {
      "cell_type": "code",
      "source": [
        "def display():\n",
        "  print('display')"
      ],
      "metadata": {
        "id": "8lpzQhwaRM4I"
      },
      "execution_count": null,
      "outputs": []
    },
    {
      "cell_type": "code",
      "source": [
        "plus(display)"
      ],
      "metadata": {
        "colab": {
          "base_uri": "https://localhost:8080/"
        },
        "id": "oDGiwYheRXy4",
        "outputId": "00e34f6d-72d0-47aa-b328-00e324f441cf"
      },
      "execution_count": null,
      "outputs": [
        {
          "output_type": "stream",
          "name": "stdout",
          "text": [
            "display\n"
          ]
        }
      ]
    },
    {
      "cell_type": "markdown",
      "source": [
        "##closure(클로저)\n",
        " - 함수의 중첩 : 함수 안에 함수를 정의할 수 있다.\n",
        " - 함수를 중첩해서 사용하는 기법이다.\n",
        " - 함수를 정의할 때 outer함수는 inner함수를 return하고, inner함수에서는 outer함수의 자원을 사용한다.\n"
      ],
      "metadata": {
        "id": "YLnOzRcHR1xM"
      }
    },
    {
      "cell_type": "code",
      "source": [
        "def t(a):\n",
        "  def x():\n",
        "    return a + 1\n",
        "  return x"
      ],
      "metadata": {
        "id": "BZ0iGILRSODB"
      },
      "execution_count": null,
      "outputs": []
    },
    {
      "cell_type": "code",
      "source": [
        "p = t(3)\n",
        "p()"
      ],
      "metadata": {
        "colab": {
          "base_uri": "https://localhost:8080/"
        },
        "id": "TcRX4PlgSinz",
        "outputId": "56f725f1-f3c4-4f35-f04e-f8564a63ba6c"
      },
      "execution_count": null,
      "outputs": [
        {
          "output_type": "execute_result",
          "data": {
            "text/plain": [
              "4"
            ]
          },
          "metadata": {},
          "execution_count": 95
        }
      ]
    },
    {
      "cell_type": "code",
      "source": [
        "#클로저\n",
        "def outer(isShow):\n",
        "  isShow = False\n",
        "  def inner():\n",
        "    return not isShow\n",
        "  return inner"
      ],
      "metadata": {
        "id": "jrywLSKJSyXI"
      },
      "execution_count": null,
      "outputs": []
    },
    {
      "cell_type": "code",
      "source": [
        "k = outer(False)\n",
        "k()"
      ],
      "metadata": {
        "colab": {
          "base_uri": "https://localhost:8080/"
        },
        "id": "YAL9DABaXYBJ",
        "outputId": "16f44adc-2e9c-4c3e-a414-0ccb85595930"
      },
      "execution_count": null,
      "outputs": [
        {
          "output_type": "execute_result",
          "data": {
            "text/plain": [
              "True"
            ]
          },
          "metadata": {},
          "execution_count": 105
        }
      ]
    },
    {
      "cell_type": "code",
      "source": [
        "def outer(m):\n",
        "  def inner(n):\n",
        "    return m+n\n",
        "  return inner"
      ],
      "metadata": {
        "id": "5eaTojYEY97J"
      },
      "execution_count": null,
      "outputs": []
    },
    {
      "cell_type": "code",
      "source": [
        "outer(3)(4)"
      ],
      "metadata": {
        "colab": {
          "base_uri": "https://localhost:8080/"
        },
        "id": "-723XmM4ZI2B",
        "outputId": "8b5e3ec0-1b1d-448d-bbfc-990d505be9cc"
      },
      "execution_count": null,
      "outputs": [
        {
          "output_type": "execute_result",
          "data": {
            "text/plain": [
              "7"
            ]
          },
          "metadata": {},
          "execution_count": 108
        }
      ]
    },
    {
      "cell_type": "code",
      "source": [
        "#메모리제이션ㄹ개ㅡ"
      ],
      "metadata": {
        "id": "2ZpGIA0oZR_S"
      },
      "execution_count": null,
      "outputs": []
    },
    {
      "cell_type": "markdown",
      "source": [
        "filter redacter"
      ],
      "metadata": {
        "id": "FI57YbhdbpAc"
      }
    },
    {
      "cell_type": "markdown",
      "source": [
        "##"
      ],
      "metadata": {
        "id": "YHXhtTI1cYGP"
      }
    }
  ]
}