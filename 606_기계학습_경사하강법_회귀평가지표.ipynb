{
  "nbformat": 4,
  "nbformat_minor": 0,
  "metadata": {
    "colab": {
      "provenance": [],
      "history_visible": true,
      "authorship_tag": "ABX9TyMgaeOkCwH3FS9fbUGpWUpC",
      "include_colab_link": true
    },
    "kernelspec": {
      "name": "python3",
      "display_name": "Python 3"
    },
    "language_info": {
      "name": "python"
    }
  },
  "cells": [
    {
      "cell_type": "markdown",
      "metadata": {
        "id": "view-in-github",
        "colab_type": "text"
      },
      "source": [
        "<a href=\"https://colab.research.google.com/github/onsoon829/dataproject/blob/master/606_%EA%B8%B0%EA%B3%84%ED%95%99%EC%8A%B5_%EA%B2%BD%EC%82%AC%ED%95%98%EA%B0%95%EB%B2%95_%ED%9A%8C%EA%B7%80%ED%8F%89%EA%B0%80%EC%A7%80%ED%91%9C.ipynb\" target=\"_parent\"><img src=\"https://colab.research.google.com/assets/colab-badge.svg\" alt=\"Open In Colab\"/></a>"
      ]
    },
    {
      "cell_type": "code",
      "execution_count": 41,
      "metadata": {
        "id": "uEj3fQsNf_we"
      },
      "outputs": [],
      "source": [
        "import matplotlib.pyplot as plt\n",
        "import numpy as np\n",
        "import pandas as pd\n",
        "import seaborn as sns"
      ]
    },
    {
      "cell_type": "code",
      "source": [
        "#################\n",
        "## 난수 발생##########\n",
        "\n",
        "#0부터 1사이의 균일 분포\n",
        "data = np.random.rand(10)  # rand: 0이상 1미만의 임의의 난수 반환\n",
        "print(data)\n",
        "\n",
        "#가우시안 표준 정규분포(평균:0, 표준편차:1)\n",
        "data = np.random.randn(10)\n",
        "print(data)\n",
        "\n",
        "# 균일 분포의 정수 난수\n",
        "data = np.random.randint(10)\n",
        "print(data)"
      ],
      "metadata": {
        "colab": {
          "base_uri": "https://localhost:8080/"
        },
        "id": "FhzFsmzRgXL-",
        "outputId": "581b959d-eb27-4658-acf1-7445dc091240"
      },
      "execution_count": 30,
      "outputs": [
        {
          "output_type": "stream",
          "name": "stdout",
          "text": [
            "[0.44098085 0.80556572 0.44825094 0.85921557 0.21318928 0.64744683\n",
            " 0.38651149 0.56402334 0.00712003 0.57538168]\n",
            "[ 0.05153447 -1.40826742  0.03454019 -0.24027801  1.90627105 -0.98249589\n",
            "  0.87778768  1.21431183 -2.33851826 -0.79065233]\n",
            "5\n"
          ]
        }
      ]
    },
    {
      "cell_type": "code",
      "source": [
        "#######################\n",
        "## 데이터 순서 바꾸기###\n",
        "print('np.random.shuffle')\n",
        "# np.random.shuffle: 배열의 요소 변경\n",
        "data = np.arange(10)\n",
        "print(data)\n",
        "\n",
        "item =np.random.shuffle(data)\n",
        "print(item) # shuffle은 리턴값이 없으므로 none으로 리턴한다.\n",
        "print(data)\n",
        "\n",
        "print('np.random.permutation') # permutation: 치환\n",
        "data = np.arange(10)\n",
        "print(data)\n",
        "#np.random.permutation()은 배열의 요소를 그대로 유지한다.\n",
        "# 즉 data의 배열은 변경되지 않는다.\n",
        "item = np.random.permutation(data)\n",
        "print(item)"
      ],
      "metadata": {
        "colab": {
          "base_uri": "https://localhost:8080/"
        },
        "id": "2W5p8ZCyhmQn",
        "outputId": "efe107f9-7d66-4e84-aae0-969f08ca32c2"
      },
      "execution_count": 31,
      "outputs": [
        {
          "output_type": "stream",
          "name": "stdout",
          "text": [
            "np.random.shuffle\n",
            "[0 1 2 3 4 5 6 7 8 9]\n",
            "None\n",
            "[5 1 6 3 7 4 8 9 2 0]\n",
            "np.random.permutation\n",
            "[0 1 2 3 4 5 6 7 8 9]\n",
            "[3 7 6 5 8 1 9 2 4 0]\n"
          ]
        }
      ]
    },
    {
      "cell_type": "code",
      "source": [
        "########################\n",
        "# 데이터 샘플링\n",
        "#np.random.choice(a, size=None, replace=True, p=None)\n",
        "# a : 배열이면 배열 자체, 정수이면 arange(1)명령으로 배열 생성\n",
        "# size: 정수, 샘플 숫자\n",
        "# replace : boolean. True이면 복원추출, 비복원 추출\n",
        "# p : 배열, 각 데이터가 선택될 수 있는 확률\n",
        "\n",
        "# 0~4까지 배열 중, 5개 추출, 비복원 추출\n",
        "print(np.random.choice(5, 5, replace=False))\n",
        "\n",
        "data = np.arange(10)\n",
        "print(np.random.choice(data, 5))"
      ],
      "metadata": {
        "colab": {
          "base_uri": "https://localhost:8080/"
        },
        "id": "SwZQt4m3iZl9",
        "outputId": "015bec3b-1944-49dc-b4fe-31f9924a014c"
      },
      "execution_count": 32,
      "outputs": [
        {
          "output_type": "stream",
          "name": "stdout",
          "text": [
            "[4 1 0 3 2]\n",
            "[4 9 5 8 1]\n"
          ]
        }
      ]
    },
    {
      "cell_type": "markdown",
      "source": [
        "#### 추세선(Trend Line)\n",
        "- 추세선(Trend Line)은 데이터의 추세를 그래픽으로 표시하고 예측 문제를 분석하는데 사용된다.\n",
        "- 이러한 분석을 회귀분석(예측을 위해 사용하는 통계분석의 한가지)이라고 하며,\n",
        "회귀분석을 사용하여 실제 데이터가 존재하지 않는 범위의 값을 예측할 수 있다.\n",
        "- 추세선을 사용할 수 있는 차트 : 누적형이 아닌 2차원 영역형, 가로 막대형, 세로 막대형, 꺾은선형, 주식형,분산형, 거품형\n",
        "- 추세선을 사용할 수 없는 차트 : 3차원, 누적형, 방사형, 원형, 표면형, 도넛형"
      ],
      "metadata": {
        "id": "MSXsz-qkkpWt"
      }
    },
    {
      "cell_type": "code",
      "source": [
        "# y = 4X + 6 이 값을 구하기 위해서 이 고생 하는 것\n",
        "\n",
        "X = 2 * np.random.rand(100,1) # 100행 1열\n",
        "# print(X)\n",
        "\n",
        "y = 6 + 4 * X + np.random.randn(100,1)\n",
        "print(y.shape)\n",
        "#print(y)\n",
        "\n",
        "# 추세선이 일자로 나오는 건 좋지 못함\n",
        "plt.scatter(X, y)\n",
        "\n",
        "pd_X = pd.DataFrame(X, columns=['X'])\n",
        "pd_y = pd.DataFrame(y, columns=['y'])\n",
        "pd_df = pd.concat([pd_X, pd_y], axis=1)\n",
        "\n",
        "pd_df.head(2)\n",
        "\n",
        "#sns.regplot(x='X', y='y', data=pd_df, color= 'r', ci=None)\n",
        "sns.regplot(x='X', y='y', data=pd_df, line_kws={'color':'red'}, scatter_kws={'color':'blue'}, ci=None)"
      ],
      "metadata": {
        "colab": {
          "base_uri": "https://localhost:8080/",
          "height": 486
        },
        "id": "8evoJwMlk31z",
        "outputId": "d0ac833c-9dd8-48e3-82b6-8bddafde80f3"
      },
      "execution_count": 50,
      "outputs": [
        {
          "output_type": "stream",
          "name": "stdout",
          "text": [
            "(100, 1)\n"
          ]
        },
        {
          "output_type": "execute_result",
          "data": {
            "text/plain": [
              "<Axes: xlabel='X', ylabel='y'>"
            ]
          },
          "metadata": {},
          "execution_count": 50
        },
        {
          "output_type": "display_data",
          "data": {
            "text/plain": [
              "<Figure size 640x480 with 1 Axes>"
            ],
            "image/png": "[encoded data removed]"
          },
          "metadata": {}
        }
      ]
    },
    {
      "cell_type": "markdown",
      "source": [
        "경사 하강법(gradient_descent_steps)_MSE(평균제곱오차계산식)"
      ],
      "metadata": {
        "id": "G2KnbtL704__"
      }
    },
    {
      "cell_type": "code",
      "source": [
        "def get_weight_updates(w, b, X, y, learning_rate=0.01, l1=0.2, l2=0.7): # 하이퍼파라미터\n",
        "  N = len(y)\n",
        "\n",
        "  #W, b와 동일한 크기를 가진 0값으로 초기화\n",
        "  w_update = np.zeros_like(w)\n",
        "  b_update = np.zeros_like(b)\n",
        "\n",
        "  # y_pred = wX + b\n",
        "  y_pred = np.dot(X, w.T)\n",
        "\n",
        "  # 예측 배열 계산하고 예측과 실제 값의 차이 계산\n",
        "  # y_pred = wX + b\n",
        "  y_pred = np.dot(X, w.T) +b\n",
        "  diff = y - y_pred\n",
        "\n",
        "  # b_update를 dot행렬 연산으로 구하기 위해 모두 1값을 가진 행렬 생성\n",
        "  b_factors = np.ones((N, 1))\n",
        "\n",
        "  # w와 b를 업데이트할 w_update와 b를 계산\n",
        "  w_update = -1 * (2/N) + learning_rate * (np.dot(X.T, diff)) # (1,4) , (4, 1)\n",
        "  b_update = -1 * (2/N) + learning_rate * (np.dot(b_factors.T, diff))\n",
        "  return w_update, b_update"
      ],
      "metadata": {
        "id": "mt6d22uD06rm"
      },
      "execution_count": 58,
      "outputs": []
    },
    {
      "cell_type": "code",
      "source": [
        "# 입력 인자 epochs로 주어진 횟수만큼 반복적으로 w와 b를 업데이트함\n",
        "def gradient_descent_steps(X, y, epochs=2): # ?\n",
        "\n",
        "# w와 b를 모두 0으로 초기화\n",
        "  w = np.zeros((1,1))\n",
        "  b = np.zeros((1,1))\n",
        "  for ind in range(epochs):\n",
        "    w_update, b_update = get_weight_updates(w, b, X, y, learning_rate=0.1)\n",
        "    w = w - w_update\n",
        "    b = b - b_update\n",
        "    return w, b"
      ],
      "metadata": {
        "id": "MRGX6WmN84at"
      },
      "execution_count": 59,
      "outputs": []
    },
    {
      "cell_type": "code",
      "source": [
        "# 실제 y값과 예측된 y값을 인자로 받아서 MSE(평균제곱오차계산식) 구현\n",
        "# 이를 이용해 경사 하강법의 예측 오류도 계산\n",
        "\n",
        "def get_cost(y, y_pred):\n",
        "  N = len(y)\n",
        "  cost = np.sum(np.square(y-y_pred)) / N\n",
        "  return cost\n",
        "\n",
        "\n",
        "\n",
        "\n",
        "\n",
        "X = 2 * np.random.rand(100,1) # 100행 1열\n",
        "# print(X)\n",
        "\n",
        "y = 6 + 4*X + np.random.randn(100,1) # y = wX + b\n",
        "\n",
        "print(X.shape)\n",
        "print(y.shape)\n",
        "\n",
        "w, b = gradient_descent_steps(X, y, epochs=1000)\n",
        "print('w:{0:.3f}b:{1:.3f}'.format(w[0,0], b[0,0]))\n",
        "\n",
        "y_pred = w[0,0] * X + b\n",
        "print('Gredient Dascent Total Cost: {0:.4f}'.format(get_cost(y, y_pred)))"
      ],
      "metadata": {
        "colab": {
          "base_uri": "https://localhost:8080/"
        },
        "id": "MtMZMa-g-16W",
        "outputId": "da2e09f8-c9df-45af-bc04-f945cd00c89f"
      },
      "execution_count": 64,
      "outputs": [
        {
          "output_type": "stream",
          "name": "stdout",
          "text": [
            "(100, 1)\n",
            "(100, 1)\n",
            "w:1150.297b:1009.044\n",
            "Gredient Dascent Total Cost: 5109659.3144\n"
          ]
        }
      ]
    },
    {
      "cell_type": "code",
      "source": [
        "y = np.array([1,3,5,6])\n",
        "N = len(y)\n",
        "b_factors = np.ones((N, 1))\n",
        "b_factors"
      ],
      "metadata": {
        "colab": {
          "base_uri": "https://localhost:8080/"
        },
        "id": "5ThFqu_j4pap",
        "outputId": "af2bfe6e-b681-461f-fc46-f96356d62e50"
      },
      "execution_count": 40,
      "outputs": [
        {
          "output_type": "execute_result",
          "data": {
            "text/plain": [
              "array([[1.],\n",
              "       [1.],\n",
              "       [1.],\n",
              "       [1.]])"
            ]
          },
          "metadata": {},
          "execution_count": 40
        }
      ]
    },
    {
      "cell_type": "code",
      "source": [
        "plt.scatter(X,y)\n",
        "plt.scatter(X, y_pred)"
      ],
      "metadata": {
        "colab": {
          "base_uri": "https://localhost:8080/",
          "height": 448
        },
        "id": "Y-Oiobn6ZDem",
        "outputId": "d7c760d8-3e09-4b63-e502-d9b2f7c9fa73"
      },
      "execution_count": 66,
      "outputs": [
        {
          "output_type": "execute_result",
          "data": {
            "text/plain": [
              "<matplotlib.collections.PathCollection at 0x7cc189cb8430>"
            ]
          },
          "metadata": {},
          "execution_count": 66
        },
        {
          "output_type": "display_data",
          "data": {
            "text/plain": [
              "<Figure size 640x480 with 1 Axes>"
            ],
            "image/png": "[encoded data removed]"
          },
          "metadata": {}
        }
      ]
    },
    {
      "cell_type": "code",
      "source": [],
      "metadata": {
        "id": "fdAlg_M9ZDfe"
      },
      "execution_count": null,
      "outputs": []
    }
  ]
}