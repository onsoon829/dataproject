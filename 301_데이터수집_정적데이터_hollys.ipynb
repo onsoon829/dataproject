{
  "cells": [
    {
      "cell_type": "markdown",
      "metadata": {
        "id": "view-in-github",
        "colab_type": "text"
      },
      "source": [
        "<a href=\"https://colab.research.google.com/github/onsoon829/dataproject/blob/master/301_%EB%8D%B0%EC%9D%B4%ED%84%B0%EC%88%98%EC%A7%91_%EC%A0%95%EC%A0%81%EB%8D%B0%EC%9D%B4%ED%84%B0_hollys.ipynb\" target=\"_parent\"><img src=\"https://colab.research.google.com/assets/colab-badge.svg\" alt=\"Open In Colab\"/></a>"
      ]
    },
    {
      "cell_type": "code",
      "execution_count": null,
      "metadata": {
        "id": "Ws-RHVvV85t9"
      },
      "outputs": [],
      "source": [
        "import requests\n",
        "#import bs4\n",
        "from bs4 import BeautifulSoup"
      ]
    },
    {
      "cell_type": "code",
      "execution_count": null,
      "metadata": {
        "colab": {
          "base_uri": "https://localhost:8080/"
        },
        "id": "-KrH4XTz9Q5N",
        "outputId": "213741c4-b022-409f-d765-1ad7b9533995"
      },
      "outputs": [
        {
          "name": "stdout",
          "output_type": "stream",
          "text": [
            "<Response [200]>\n",
            "<class 'bs4.BeautifulSoup'>\n",
            "['ASCII_SPACES', 'DEFAULT_BUILDER_FEATURES', 'DEFAULT_INTERESTING_STRING_TYPES', 'NO_PARSER_SPECIFIED_WARNING', 'ROOT_TAG_NAME', '__bool__', '__call__', '__class__', '__contains__', '__copy__', '__delattr__', '__delitem__', '__dict__', '__dir__', '__doc__', '__eq__', '__format__', '__ge__', '__getattr__', '__getattribute__', '__getitem__', '__getstate__', '__gt__', '__hash__', '__init__', '__init_subclass__', '__iter__', '__le__', '__len__', '__lt__', '__module__', '__ne__', '__new__', '__reduce__', '__reduce_ex__', '__repr__', '__setattr__', '__setitem__', '__sizeof__', '__str__', '__subclasshook__', '__unicode__', '__weakref__', '_all_strings', '_decode_markup', '_feed', '_find_all', '_find_one', '_is_xml', '_lastRecursiveChild', '_last_descendant', '_linkage_fixer', '_markup_is_url', '_markup_resembles_filename', '_most_recent_element', '_namespaces', '_popToTag', '_should_pretty_print', 'append', 'attrs', 'builder', 'can_be_empty_element', 'cdata_list_attributes', 'childGenerator', 'children', 'clear', 'contains_replacement_characters', 'contents', 'currentTag', 'current_data', 'declared_html_encoding', 'decode', 'decode_contents', 'decompose', 'decomposed', 'default', 'descendants', 'element_classes', 'encode', 'encode_contents', 'endData', 'extend', 'extract', 'fetchNextSiblings', 'fetchParents', 'fetchPrevious', 'fetchPreviousSiblings', 'find', 'findAll', 'findAllNext', 'findAllPrevious', 'findChild', 'findChildren', 'findNext', 'findNextSibling', 'findNextSiblings', 'findParent', 'findParents', 'findPrevious', 'findPreviousSibling', 'findPreviousSiblings', 'find_all', 'find_all_next', 'find_all_previous', 'find_next', 'find_next_sibling', 'find_next_siblings', 'find_parent', 'find_parents', 'find_previous', 'find_previous_sibling', 'find_previous_siblings', 'format_string', 'formatter_for_name', 'get', 'getText', 'get_attribute_list', 'get_text', 'handle_data', 'handle_endtag', 'handle_starttag', 'has_attr', 'has_key', 'hidden', 'index', 'insert', 'insert_after', 'insert_before', 'interesting_string_types', 'isSelfClosing', 'is_empty_element', 'is_xml', 'known_xml', 'markup', 'name', 'namespace', 'new_string', 'new_tag', 'next', 'nextGenerator', 'nextSibling', 'nextSiblingGenerator', 'next_element', 'next_elements', 'next_sibling', 'next_siblings', 'object_was_parsed', 'open_tag_counter', 'original_encoding', 'parent', 'parentGenerator', 'parents', 'parse_only', 'parserClass', 'parser_class', 'popTag', 'prefix', 'preserve_whitespace_tag_stack', 'preserve_whitespace_tags', 'prettify', 'previous', 'previousGenerator', 'previousSibling', 'previousSiblingGenerator', 'previous_element', 'previous_elements', 'previous_sibling', 'previous_siblings', 'pushTag', 'recursiveChildGenerator', 'renderContents', 'replaceWith', 'replaceWithChildren', 'replace_with', 'replace_with_children', 'reset', 'select', 'select_one', 'setup', 'smooth', 'string', 'string_container', 'string_container_stack', 'strings', 'stripped_strings', 'tagStack', 'text', 'unwrap', 'wrap']\n",
            "<class 'bs4.element.Tag'>\n",
            "<class 'bs4.element.ResultSet'>\n"
          ]
        }
      ],
      "source": [
        "url = 'https://www.hollys.co.kr/store/korea/korStore2.do'\n",
        "\n",
        "res = requests.get(url)\n",
        "print(res)  #response[200]\n",
        "\n",
        "soup = BeautifulSoup(res.text, 'html.parser')\n",
        "#print(soup)\n",
        "print(type(soup)) #bs4.BeautifulSoup\n",
        "print(dir(soup))\n",
        "\n",
        "tag_body = soup.find('tbody')\n",
        "#print(tag_body)\n",
        "print(type(tag_body)) #bs4.element.Tag\n",
        "tag_tr = tag_body.find_all('tr')\n",
        "#print(tag_tr)\n",
        "print(type(tag_tr)) #bs4.element.ResultSet"
      ]
    },
    {
      "cell_type": "code",
      "execution_count": null,
      "metadata": {
        "id": "gJ3alDlr9691"
      },
      "outputs": [],
      "source": [
        "tag_table = soup.select_one('table.tb_store tbody')  #find() = select_one()\n",
        "#print(tag_table)\n",
        "#print(type(tag_table))  #bs4.element.Tag"
      ]
    },
    {
      "cell_type": "code",
      "execution_count": null,
      "metadata": {
        "id": "IjvixQEQAlTI"
      },
      "outputs": [],
      "source": [
        "tag_tr_list = tag_table.select('tr')   #find_all() = select()\n",
        "#print(tag_tr_list)"
      ]
    },
    {
      "cell_type": "code",
      "execution_count": null,
      "metadata": {
        "colab": {
          "base_uri": "https://localhost:8080/"
        },
        "id": "bpg-PzkSWW5Y",
        "outputId": "5a26434c-1be8-444f-cb63-3c456a9e8ef5"
      },
      "outputs": [
        {
          "data": {
            "text/plain": [
              "10"
            ]
          },
          "execution_count": 8,
          "metadata": {},
          "output_type": "execute_result"
        }
      ],
      "source": [
        "len(tag_tr_list)"
      ]
    },
    {
      "cell_type": "code",
      "execution_count": null,
      "metadata": {
        "colab": {
          "base_uri": "https://localhost:8080/"
        },
        "id": "uP8kb3MOW4gv",
        "outputId": "521393bc-64e8-4ec1-c9b0-9659ddbb7629"
      },
      "outputs": [
        {
          "name": "stdout",
          "output_type": "stream",
          "text": [
            "서울 중랑구\n",
            "경기 성남시 분당구\n",
            "서울 광진구\n",
            "경기 오산시\n",
            "서울 양천구\n",
            "경기 오산시\n",
            "서울 용산구\n",
            "서울 강서구\n",
            "부산 사상구\n",
            "강원 춘천시\n"
          ]
        }
      ],
      "source": [
        "for store in tag_tr_list:\n",
        "  td_list = store.find_all('td')\n",
        "  print(td_list[0].text)\n",
        "  #break# 한번만"
      ]
    },
    {
      "cell_type": "code",
      "execution_count": null,
      "metadata": {
        "colab": {
          "base_uri": "https://localhost:8080/"
        },
        "id": "flP6oUyiYYEI",
        "outputId": "c67bec83-e8fa-4198-b282-b5e40e19bdff"
      },
      "outputs": [
        {
          "name": "stdout",
          "output_type": "stream",
          "text": [
            "서울 중랑구 중랑역점 영업중 서울특별시 중랑구 망우로 210 (상봉동) . 02.6085.7858\n",
            "경기 성남시 분당구 분당서울대병원점 영업중 경기도 성남시 분당구 구미로173번길 82 (구미동, 분당서울대학교병원) 본관 1동 031-8039-6020\n",
            "서울 광진구 강변역점 영업중 서울 광진구 구의강변로 64, 구의아크로리버 1층 구의동 589-10 070-7802-0303\n",
            "경기 오산시 오산궐동점 오픈예정 경기도 오산시 궐리사길 34, 1층 031-374-7999\n",
            "서울 양천구 서서울공원점 영업중 서울특별시 양천구 남부순환로58길 37 신월동 205-36 070-4277-6756\n",
            "경기 오산시 오산역점 영업중 경기도 오산시 오산로 195 (오산동, 명신예식홀) . 031-8042-7719\n",
            "서울 용산구 용산아이파크몰점 영업중 서울특별시 용산구 한강대로23길 55 (한강로3가, 용산역) 4층 02-2012-0473\n",
            "서울 강서구 등촌역점 영업중 서울특별시 강서구 등촌로 229 (등촌동)  02-2655-2290\n",
            "부산 사상구 부산서부터미널점 영업중 부산광역시 사상구 사상로 201 (괘법동, 서부시외버스터미널) . 051-323-0305\n",
            "강원 춘천시 춘천강원대점 영업중 강원특별자치도 춘천시 서부대성로 229 (효자동) . 033-253-0425\n"
          ]
        }
      ],
      "source": [
        "for store in tag_tr_list:\n",
        "   td_list = store.select('td')\n",
        "   print(td_list[0].text, td_list[1].text, td_list[2].text, td_list[3].text, td_list[5].text) #4번째만 빼고 가져오기\n",
        "   #break"
      ]
    },
    {
      "cell_type": "code",
      "execution_count": null,
      "metadata": {
        "colab": {
          "base_uri": "https://localhost:8080/"
        },
        "id": "pC_g-N-Jac-_",
        "outputId": "eedfd91e-6aef-4c52-b058-9f1ad73aceb3"
      },
      "outputs": [
        {
          "name": "stdout",
          "output_type": "stream",
          "text": [
            "서울 중랑구 중랑역점 영업중 서울특별시 중랑구 망우로 210 (상봉동) . 02.6085.7858\n",
            "경기 성남시 분당구 분당서울대병원점 영업중 경기도 성남시 분당구 구미로173번길 82 (구미동, 분당서울대학교병원) 본관 1동 031-8039-6020\n",
            "서울 광진구 강변역점 영업중 서울 광진구 구의강변로 64, 구의아크로리버 1층 구의동 589-10 070-7802-0303\n",
            "경기 오산시 오산궐동점 오픈예정 경기도 오산시 궐리사길 34, 1층 031-374-7999\n",
            "서울 양천구 서서울공원점 영업중 서울특별시 양천구 남부순환로58길 37 신월동 205-36 070-4277-6756\n",
            "경기 오산시 오산역점 영업중 경기도 오산시 오산로 195 (오산동, 명신예식홀) . 031-8042-7719\n",
            "서울 용산구 용산아이파크몰점 영업중 서울특별시 용산구 한강대로23길 55 (한강로3가, 용산역) 4층 02-2012-0473\n",
            "서울 강서구 등촌역점 영업중 서울특별시 강서구 등촌로 229 (등촌동)  02-2655-2290\n",
            "부산 사상구 부산서부터미널점 영업중 부산광역시 사상구 사상로 201 (괘법동, 서부시외버스터미널) . 051-323-0305\n",
            "강원 춘천시 춘천강원대점 영업중 강원특별자치도 춘천시 서부대성로 229 (효자동) . 033-253-0425\n"
          ]
        }
      ],
      "source": [
        "result = []\n",
        "for store in tag_tr_list:\n",
        "   td_area = store.select_one('td.noline.center_t')\n",
        "   td_point = store.select_one('td:nth-child(2)')\n",
        "   td_open = store.select_one('td.center_t.tdp0')\n",
        "   td_addr = store.select_one('td:nth-child(4)')\n",
        "   td_tel = store.select_one('td:nth-child(6)')\n",
        "   result.append([td_area.text]+[td_point.text]+[td_open.text]+[td_addr.text]+[td_tel.text])\n",
        "   print(td_area.text, td_point.text, td_open.text, td_addr.text, td_tel.text)\n",
        "   ##contents > div.content > fieldset > fieldset > div.tableType01 > table > tbody > tr:nth-child(1) > td:nth-child(6)\n",
        "    #break"
      ]
    },
    {
      "cell_type": "markdown",
      "metadata": {
        "id": "bQwOn4Ofc6Rf"
      },
      "source": [
        "### 드라이브 연결"
      ]
    },
    {
      "cell_type": "code",
      "execution_count": null,
      "metadata": {
        "colab": {
          "base_uri": "https://localhost:8080/"
        },
        "id": "WO9Udzgsc8jg",
        "outputId": "eb95ae26-1cbc-4914-d41d-3687a19f1390"
      },
      "outputs": [
        {
          "name": "stdout",
          "output_type": "stream",
          "text": [
            "Drive already mounted at /content/drive; to attempt to forcibly remount, call drive.mount(\"/content/drive\", force_remount=True).\n"
          ]
        }
      ],
      "source": [
        "from google.colab import drive\n",
        "drive.mount('/content/drive')"
      ]
    },
    {
      "cell_type": "code",
      "execution_count": null,
      "metadata": {
        "colab": {
          "background_save": true,
          "base_uri": "https://localhost:8080/"
        },
        "id": "tDapqc89dN_d",
        "outputId": "76ca2a8d-7357-48cc-cdc8-10b2772585a2"
      },
      "outputs": [
        {
          "name": "stderr",
          "output_type": "stream",
          "text": [
            "ERROR:root:Internal Python error in the inspect module.\n",
            "Below is the traceback from this internal error.\n",
            "\n",
            "ERROR:root:Internal Python error in the inspect module.\n",
            "Below is the traceback from this internal error.\n",
            "\n",
            "ERROR:root:Internal Python error in the inspect module.\n",
            "Below is the traceback from this internal error.\n",
            "\n"
          ]
        },
        {
          "name": "stdout",
          "output_type": "stream",
          "text": [
            "Traceback (most recent call last):\n",
            "  File \"/usr/local/lib/python3.10/dist-packages/IPython/core/interactiveshell.py\", line 3553, in run_code\n",
            "    exec(code_obj, self.user_global_ns, self.user_ns)\n",
            "  File \"<ipython-input-88-70bdea2de1bf>\", line 1, in <cell line: 1>\n",
            "    get_ipython().run_line_magic('cd', '/content/drive/MyDrive/ai_chat_python')\n",
            "  File \"/usr/local/lib/python3.10/dist-packages/IPython/core/interactiveshell.py\", line 2418, in run_line_magic\n",
            "    result = fn(*args, **kwargs)\n",
            "  File \"<decorator-gen-85>\", line 2, in cd\n",
            "  File \"/usr/local/lib/python3.10/dist-packages/IPython/core/magic.py\", line 187, in <lambda>\n",
            "    call = lambda f, *a, **k: f(*a, **k)\n",
            "  File \"/usr/local/lib/python3.10/dist-packages/IPython/core/magics/osm.py\", line 342, in cd\n",
            "    oldcwd = os.getcwd()\n",
            "OSError: [Errno 107] Transport endpoint is not connected\n",
            "\n",
            "During handling of the above exception, another exception occurred:\n",
            "\n",
            "Traceback (most recent call last):\n",
            "  File \"/usr/local/lib/python3.10/dist-packages/IPython/core/interactiveshell.py\", line 2099, in showtraceback\n",
            "    stb = value._render_traceback_()\n",
            "AttributeError: 'OSError' object has no attribute '_render_traceback_'\n",
            "\n",
            "During handling of the above exception, another exception occurred:\n",
            "\n",
            "Traceback (most recent call last):\n",
            "  File \"/usr/local/lib/python3.10/dist-packages/IPython/core/ultratb.py\", line 1101, in get_records\n",
            "    return _fixed_getinnerframes(etb, number_of_lines_of_context, tb_offset)\n",
            "  File \"/usr/local/lib/python3.10/dist-packages/IPython/core/ultratb.py\", line 248, in wrapped\n",
            "    return f(*args, **kwargs)\n",
            "  File \"/usr/local/lib/python3.10/dist-packages/IPython/core/ultratb.py\", line 281, in _fixed_getinnerframes\n",
            "    records = fix_frame_records_filenames(inspect.getinnerframes(etb, context))\n",
            "  File \"/usr/lib/python3.10/inspect.py\", line 1662, in getinnerframes\n",
            "    frameinfo = (tb.tb_frame,) + getframeinfo(tb, context)\n",
            "  File \"/usr/lib/python3.10/inspect.py\", line 1620, in getframeinfo\n",
            "    filename = getsourcefile(frame) or getfile(frame)\n",
            "  File \"/usr/lib/python3.10/inspect.py\", line 829, in getsourcefile\n",
            "    module = getmodule(object, filename)\n",
            "  File \"/usr/lib/python3.10/inspect.py\", line 861, in getmodule\n",
            "    file = getabsfile(object, _filename)\n",
            "  File \"/usr/lib/python3.10/inspect.py\", line 845, in getabsfile\n",
            "    return os.path.normcase(os.path.abspath(_filename))\n",
            "  File \"/usr/lib/python3.10/posixpath.py\", line 384, in abspath\n",
            "    cwd = os.getcwd()\n",
            "OSError: [Errno 107] Transport endpoint is not connected\n",
            "Traceback (most recent call last):\n",
            "  File \"/usr/local/lib/python3.10/dist-packages/IPython/core/interactiveshell.py\", line 3553, in run_code\n",
            "    exec(code_obj, self.user_global_ns, self.user_ns)\n",
            "  File \"<ipython-input-88-70bdea2de1bf>\", line 1, in <cell line: 1>\n",
            "    get_ipython().run_line_magic('cd', '/content/drive/MyDrive/ai_chat_python')\n",
            "  File \"/usr/local/lib/python3.10/dist-packages/IPython/core/interactiveshell.py\", line 2418, in run_line_magic\n",
            "    result = fn(*args, **kwargs)\n",
            "  File \"<decorator-gen-85>\", line 2, in cd\n",
            "  File \"/usr/local/lib/python3.10/dist-packages/IPython/core/magic.py\", line 187, in <lambda>\n",
            "    call = lambda f, *a, **k: f(*a, **k)\n",
            "  File \"/usr/local/lib/python3.10/dist-packages/IPython/core/magics/osm.py\", line 342, in cd\n",
            "    oldcwd = os.getcwd()\n",
            "OSError: [Errno 107] Transport endpoint is not connected\n",
            "\n",
            "During handling of the above exception, another exception occurred:\n",
            "\n",
            "Traceback (most recent call last):\n",
            "  File \"/usr/local/lib/python3.10/dist-packages/IPython/core/interactiveshell.py\", line 2099, in showtraceback\n",
            "    stb = value._render_traceback_()\n",
            "AttributeError: 'OSError' object has no attribute '_render_traceback_'\n",
            "\n",
            "During handling of the above exception, another exception occurred:\n",
            "\n",
            "Traceback (most recent call last):\n",
            "  File \"/usr/local/lib/python3.10/dist-packages/IPython/core/interactiveshell.py\", line 3473, in run_ast_nodes\n",
            "    if (await self.run_code(code, result,  async_=asy)):\n",
            "  File \"/usr/local/lib/python3.10/dist-packages/IPython/core/interactiveshell.py\", line 3575, in run_code\n",
            "    self.showtraceback(running_compiled_code=True)\n",
            "  File \"/usr/local/lib/python3.10/dist-packages/IPython/core/interactiveshell.py\", line 2101, in showtraceback\n",
            "    stb = self.InteractiveTB.structured_traceback(etype,\n",
            "  File \"/usr/local/lib/python3.10/dist-packages/IPython/core/ultratb.py\", line 1367, in structured_traceback\n",
            "    return FormattedTB.structured_traceback(\n",
            "  File \"/usr/local/lib/python3.10/dist-packages/IPython/core/ultratb.py\", line 1267, in structured_traceback\n",
            "    return VerboseTB.structured_traceback(\n",
            "  File \"/usr/local/lib/python3.10/dist-packages/IPython/core/ultratb.py\", line 1124, in structured_traceback\n",
            "    formatted_exception = self.format_exception_as_a_whole(etype, evalue, etb, number_of_lines_of_context,\n",
            "  File \"/usr/local/lib/python3.10/dist-packages/IPython/core/ultratb.py\", line 1082, in format_exception_as_a_whole\n",
            "    last_unique, recursion_repeat = find_recursion(orig_etype, evalue, records)\n",
            "  File \"/usr/local/lib/python3.10/dist-packages/IPython/core/ultratb.py\", line 382, in find_recursion\n",
            "    return len(records), 0\n",
            "TypeError: object of type 'NoneType' has no len()\n",
            "\n",
            "During handling of the above exception, another exception occurred:\n",
            "\n",
            "Traceback (most recent call last):\n",
            "  File \"/usr/local/lib/python3.10/dist-packages/IPython/core/interactiveshell.py\", line 2099, in showtraceback\n",
            "    stb = value._render_traceback_()\n",
            "AttributeError: 'TypeError' object has no attribute '_render_traceback_'\n",
            "\n",
            "During handling of the above exception, another exception occurred:\n",
            "\n",
            "Traceback (most recent call last):\n",
            "  File \"/usr/local/lib/python3.10/dist-packages/IPython/core/ultratb.py\", line 1101, in get_records\n",
            "    return _fixed_getinnerframes(etb, number_of_lines_of_context, tb_offset)\n",
            "  File \"/usr/local/lib/python3.10/dist-packages/IPython/core/ultratb.py\", line 248, in wrapped\n",
            "    return f(*args, **kwargs)\n",
            "  File \"/usr/local/lib/python3.10/dist-packages/IPython/core/ultratb.py\", line 281, in _fixed_getinnerframes\n",
            "    records = fix_frame_records_filenames(inspect.getinnerframes(etb, context))\n",
            "  File \"/usr/lib/python3.10/inspect.py\", line 1662, in getinnerframes\n",
            "    frameinfo = (tb.tb_frame,) + getframeinfo(tb, context)\n",
            "  File \"/usr/lib/python3.10/inspect.py\", line 1620, in getframeinfo\n",
            "    filename = getsourcefile(frame) or getfile(frame)\n",
            "  File \"/usr/lib/python3.10/inspect.py\", line 829, in getsourcefile\n",
            "    module = getmodule(object, filename)\n",
            "  File \"/usr/lib/python3.10/inspect.py\", line 861, in getmodule\n",
            "    file = getabsfile(object, _filename)\n",
            "  File \"/usr/lib/python3.10/inspect.py\", line 845, in getabsfile\n",
            "    return os.path.normcase(os.path.abspath(_filename))\n",
            "  File \"/usr/lib/python3.10/posixpath.py\", line 384, in abspath\n",
            "    cwd = os.getcwd()\n",
            "OSError: [Errno 107] Transport endpoint is not connected\n",
            "Traceback (most recent call last):\n",
            "  File \"/usr/local/lib/python3.10/dist-packages/IPython/core/interactiveshell.py\", line 3553, in run_code\n",
            "    exec(code_obj, self.user_global_ns, self.user_ns)\n",
            "  File \"<ipython-input-88-70bdea2de1bf>\", line 1, in <cell line: 1>\n",
            "    get_ipython().run_line_magic('cd', '/content/drive/MyDrive/ai_chat_python')\n",
            "  File \"/usr/local/lib/python3.10/dist-packages/IPython/core/interactiveshell.py\", line 2418, in run_line_magic\n",
            "    result = fn(*args, **kwargs)\n",
            "  File \"<decorator-gen-85>\", line 2, in cd\n",
            "  File \"/usr/local/lib/python3.10/dist-packages/IPython/core/magic.py\", line 187, in <lambda>\n",
            "    call = lambda f, *a, **k: f(*a, **k)\n",
            "  File \"/usr/local/lib/python3.10/dist-packages/IPython/core/magics/osm.py\", line 342, in cd\n",
            "    oldcwd = os.getcwd()\n",
            "OSError: [Errno 107] Transport endpoint is not connected\n",
            "\n",
            "During handling of the above exception, another exception occurred:\n",
            "\n",
            "Traceback (most recent call last):\n",
            "  File \"/usr/local/lib/python3.10/dist-packages/IPython/core/interactiveshell.py\", line 2099, in showtraceback\n",
            "    stb = value._render_traceback_()\n",
            "AttributeError: 'OSError' object has no attribute '_render_traceback_'\n",
            "\n",
            "During handling of the above exception, another exception occurred:\n",
            "\n",
            "Traceback (most recent call last):\n",
            "  File \"/usr/local/lib/python3.10/dist-packages/IPython/core/interactiveshell.py\", line 3473, in run_ast_nodes\n",
            "    if (await self.run_code(code, result,  async_=asy)):\n",
            "  File \"/usr/local/lib/python3.10/dist-packages/IPython/core/interactiveshell.py\", line 3575, in run_code\n",
            "    self.showtraceback(running_compiled_code=True)\n",
            "  File \"/usr/local/lib/python3.10/dist-packages/IPython/core/interactiveshell.py\", line 2101, in showtraceback\n",
            "    stb = self.InteractiveTB.structured_traceback(etype,\n",
            "  File \"/usr/local/lib/python3.10/dist-packages/IPython/core/ultratb.py\", line 1367, in structured_traceback\n",
            "    return FormattedTB.structured_traceback(\n",
            "  File \"/usr/local/lib/python3.10/dist-packages/IPython/core/ultratb.py\", line 1267, in structured_traceback\n",
            "    return VerboseTB.structured_traceback(\n",
            "  File \"/usr/local/lib/python3.10/dist-packages/IPython/core/ultratb.py\", line 1124, in structured_traceback\n",
            "    formatted_exception = self.format_exception_as_a_whole(etype, evalue, etb, number_of_lines_of_context,\n",
            "  File \"/usr/local/lib/python3.10/dist-packages/IPython/core/ultratb.py\", line 1082, in format_exception_as_a_whole\n",
            "    last_unique, recursion_repeat = find_recursion(orig_etype, evalue, records)\n",
            "  File \"/usr/local/lib/python3.10/dist-packages/IPython/core/ultratb.py\", line 382, in find_recursion\n",
            "    return len(records), 0\n",
            "TypeError: object of type 'NoneType' has no len()\n",
            "\n",
            "During handling of the above exception, another exception occurred:\n",
            "\n",
            "Traceback (most recent call last):\n",
            "  File \"/usr/local/lib/python3.10/dist-packages/IPython/core/interactiveshell.py\", line 2099, in showtraceback\n",
            "    stb = value._render_traceback_()\n",
            "AttributeError: 'TypeError' object has no attribute '_render_traceback_'\n",
            "\n",
            "During handling of the above exception, another exception occurred:\n",
            "\n",
            "Traceback (most recent call last):\n",
            "  File \"/usr/local/lib/python3.10/dist-packages/IPython/core/interactiveshell.py\", line 3030, in _run_cell\n",
            "    return runner(coro)\n",
            "  File \"/usr/local/lib/python3.10/dist-packages/IPython/core/async_helpers.py\", line 78, in _pseudo_sync_runner\n",
            "    coro.send(None)\n",
            "  File \"/usr/local/lib/python3.10/dist-packages/IPython/core/interactiveshell.py\", line 3257, in run_cell_async\n",
            "    has_raised = await self.run_ast_nodes(code_ast.body, cell_name,\n",
            "  File \"/usr/local/lib/python3.10/dist-packages/IPython/core/interactiveshell.py\", line 3492, in run_ast_nodes\n",
            "    self.showtraceback()\n",
            "  File \"/usr/local/lib/python3.10/dist-packages/IPython/core/interactiveshell.py\", line 2101, in showtraceback\n",
            "    stb = self.InteractiveTB.structured_traceback(etype,\n",
            "  File \"/usr/local/lib/python3.10/dist-packages/IPython/core/ultratb.py\", line 1367, in structured_traceback\n",
            "    return FormattedTB.structured_traceback(\n",
            "  File \"/usr/local/lib/python3.10/dist-packages/IPython/core/ultratb.py\", line 1267, in structured_traceback\n",
            "    return VerboseTB.structured_traceback(\n",
            "  File \"/usr/local/lib/python3.10/dist-packages/IPython/core/ultratb.py\", line 1142, in structured_traceback\n",
            "    formatted_exceptions += self.format_exception_as_a_whole(etype, evalue, etb, lines_of_context,\n",
            "  File \"/usr/local/lib/python3.10/dist-packages/IPython/core/ultratb.py\", line 1082, in format_exception_as_a_whole\n",
            "    last_unique, recursion_repeat = find_recursion(orig_etype, evalue, records)\n",
            "  File \"/usr/local/lib/python3.10/dist-packages/IPython/core/ultratb.py\", line 382, in find_recursion\n",
            "    return len(records), 0\n",
            "TypeError: object of type 'NoneType' has no len()\n",
            "\n",
            "During handling of the above exception, another exception occurred:\n",
            "\n",
            "Traceback (most recent call last):\n",
            "  File \"/usr/local/lib/python3.10/dist-packages/IPython/core/interactiveshell.py\", line 2099, in showtraceback\n",
            "    stb = value._render_traceback_()\n",
            "AttributeError: 'TypeError' object has no attribute '_render_traceback_'\n",
            "\n",
            "During handling of the above exception, another exception occurred:\n",
            "\n",
            "Traceback (most recent call last):\n",
            "  File \"/usr/local/lib/python3.10/dist-packages/IPython/core/ultratb.py\", line 1101, in get_records\n",
            "    return _fixed_getinnerframes(etb, number_of_lines_of_context, tb_offset)\n",
            "  File \"/usr/local/lib/python3.10/dist-packages/IPython/core/ultratb.py\", line 248, in wrapped\n",
            "    return f(*args, **kwargs)\n",
            "  File \"/usr/local/lib/python3.10/dist-packages/IPython/core/ultratb.py\", line 281, in _fixed_getinnerframes\n",
            "    records = fix_frame_records_filenames(inspect.getinnerframes(etb, context))\n",
            "  File \"/usr/lib/python3.10/inspect.py\", line 1662, in getinnerframes\n",
            "    frameinfo = (tb.tb_frame,) + getframeinfo(tb, context)\n",
            "  File \"/usr/lib/python3.10/inspect.py\", line 1620, in getframeinfo\n",
            "    filename = getsourcefile(frame) or getfile(frame)\n",
            "  File \"/usr/lib/python3.10/inspect.py\", line 829, in getsourcefile\n",
            "    module = getmodule(object, filename)\n",
            "  File \"/usr/lib/python3.10/inspect.py\", line 861, in getmodule\n",
            "    file = getabsfile(object, _filename)\n",
            "  File \"/usr/lib/python3.10/inspect.py\", line 845, in getabsfile\n",
            "    return os.path.normcase(os.path.abspath(_filename))\n",
            "  File \"/usr/lib/python3.10/posixpath.py\", line 384, in abspath\n",
            "    cwd = os.getcwd()\n",
            "OSError: [Errno 107] Transport endpoint is not connected\n"
          ]
        }
      ],
      "source": [
        "%cd /content/drive/MyDrive/ai_chat_python"
      ]
    },
    {
      "cell_type": "code",
      "execution_count": null,
      "metadata": {
        "colab": {
          "base_uri": "https://localhost:8080/"
        },
        "id": "Bs4dEGVQdehe",
        "outputId": "c38fe326-f74f-4b81-a349-8b5185dce930"
      },
      "outputs": [
        {
          "name": "stdout",
          "output_type": "stream",
          "text": [
            "/content/drive/MyDrive/ai_chat_python\n"
          ]
        }
      ],
      "source": [
        "!pwd"
      ]
    },
    {
      "cell_type": "markdown",
      "metadata": {
        "id": "j-FZ-Ewfdiou"
      },
      "source": [
        "파일에 저장"
      ]
    },
    {
      "cell_type": "code",
      "execution_count": null,
      "metadata": {
        "id": "Sdw1KifSdhDn"
      },
      "outputs": [],
      "source": [
        "import csv\n",
        "\n",
        "fields = ['store_area', 'store_point', 'store_open', 'store_addr', 'store_tel']\n",
        "\n",
        "with open('./source/hollys.csv', 'w') as f:\n",
        "  write = csv.writer(f)\n",
        "  write.writerow(fields)\n",
        "  write.writerows(result) #writerow: 여러 개의 row 저장"
      ]
    },
    {
      "cell_type": "markdown",
      "metadata": {
        "id": "xDMdYyCxgRPk"
      },
      "source": [
        "파일 읽기"
      ]
    },
    {
      "cell_type": "code",
      "execution_count": null,
      "metadata": {
        "colab": {
          "base_uri": "https://localhost:8080/"
        },
        "id": "EGrkXqmigUfE",
        "outputId": "6e92d979-5a89-4912-86a1-7016f5fb39df"
      },
      "outputs": [
        {
          "name": "stdout",
          "output_type": "stream",
          "text": [
            "store_area,store_point,store_open,store_addr,store_tel\n",
            "서울 중랑구,중랑역점,영업중,서울특별시 중랑구 망우로 210 (상봉동) .,02.6085.7858\n",
            "경기 성남시 분당구,분당서울대병원점,영업중,경기도 성남시 분당구 구미로173번길 82 (구미동, 분당서울대학교병원) 본관 1동,031-8039-6020\n",
            "서울 광진구,강변역점,영업중,서울 광진구 구의강변로 64, 구의아크로리버 1층 구의동 589-10,070-7802-0303\n",
            "경기 오산시,오산궐동점,오픈예정,경기도 오산시 궐리사길 34, 1층,031-374-7999\n",
            "서울 양천구,서서울공원점,영업중,서울특별시 양천구 남부순환로58길 37 신월동 205-36,070-4277-6756\n",
            "경기 오산시,오산역점,영업중,경기도 오산시 오산로 195 (오산동, 명신예식홀) .,031-8042-7719\n",
            "서울 용산구,용산아이파크몰점,영업중,서울특별시 용산구 한강대로23길 55 (한강로3가, 용산역) 4층,02-2012-0473\n",
            "서울 강서구,등촌역점,영업중,서울특별시 강서구 등촌로 229 (등촌동) ,02-2655-2290\n",
            "부산 사상구,부산서부터미널점,영업중,부산광역시 사상구 사상로 201 (괘법동, 서부시외버스터미널) .,051-323-0305\n",
            "강원 춘천시,춘천강원대점,영업중,강원특별자치도 춘천시 서부대성로 229 (효자동) .,033-253-0425\n"
          ]
        }
      ],
      "source": [
        "import csv\n",
        "with open('./source/hollys.csv', 'r') as f:\n",
        "  reader = csv.reader(f)\n",
        "  for row in reader:\n",
        "    #print(row)\n",
        "    #print(type(row))\n",
        "   # for cell in row:\n",
        "    #  print(cell, end='.')\n",
        "   # print(end='\\n')  #= print()\n",
        "   print(','.join(row))"
      ]
    },
    {
      "cell_type": "code",
      "execution_count": null,
      "metadata": {
        "colab": {
          "base_uri": "https://localhost:8080/"
        },
        "id": "BafMkWbAlqEm",
        "outputId": "573fa4c4-dfae-4039-d327-a3c438579e51"
      },
      "outputs": [
        {
          "name": "stdout",
          "output_type": "stream",
          "text": [
            "2023-11-28 02:07:21.171788\n",
            "['__add__', '__class__', '__delattr__', '__dir__', '__doc__', '__eq__', '__format__', '__ge__', '__getattribute__', '__gt__', '__hash__', '__init__', '__init_subclass__', '__le__', '__lt__', '__ne__', '__new__', '__radd__', '__reduce__', '__reduce_ex__', '__repr__', '__rsub__', '__setattr__', '__sizeof__', '__str__', '__sub__', '__subclasshook__', 'astimezone', 'combine', 'ctime', 'date', 'day', 'dst', 'fold', 'fromisocalendar', 'fromisoformat', 'fromordinal', 'fromtimestamp', 'hour', 'isocalendar', 'isoformat', 'isoweekday', 'max', 'microsecond', 'min', 'minute', 'month', 'now', 'replace', 'resolution', 'second', 'strftime', 'strptime', 'time', 'timestamp', 'timetuple', 'timetz', 'today', 'toordinal', 'tzinfo', 'tzname', 'utcfromtimestamp', 'utcnow', 'utcoffset', 'utctimetuple', 'weekday', 'year']\n",
            "2023 11 28 2 7 21\n"
          ]
        }
      ],
      "source": [
        "import datetime\n",
        "\n",
        "now = datetime.datetime.today()\n",
        "print(now)\n",
        "print(dir(now))\n",
        "\n",
        "print(now.year, now.month, now.day, now.hour, now.minute, now.second)\n"
      ]
    },
    {
      "cell_type": "code",
      "execution_count": null,
      "metadata": {
        "colab": {
          "base_uri": "https://localhost:8080/"
        },
        "id": "DZP3XDctbCbF",
        "outputId": "09c07bd2-21c5-4c1d-92fe-5d93db1c5d85"
      },
      "outputs": [
        {
          "name": "stdout",
          "output_type": "stream",
          "text": [
            "[['a', 'b']]\n",
            "[['a', 'b']]\n",
            "[]\n",
            "[['d', 'e']]\n"
          ]
        }
      ],
      "source": [
        "a= [['a','b']]\n",
        "b = a.copy()\n",
        "print(b)\n",
        "del a[:]\n",
        "print(b)\n",
        "print(a)\n",
        "\n",
        "a.append(['d','e'])\n",
        "b = a.copy()\n",
        "print(b)"
      ]
    },
    {
      "cell_type": "markdown",
      "metadata": {
        "id": "3UiMFIZYmYIW"
      },
      "source": [
        "파일 작성하여 크롤링 하기"
      ]
    },
    {
      "cell_type": "code",
      "execution_count": null,
      "metadata": {
        "colab": {
          "background_save": true,
          "base_uri": "https://localhost:8080/"
        },
        "id": "RY21j0ElmajG",
        "outputId": "3c47e4bb-2337-42a5-aeda-2b5bdbaf25e3"
      },
      "outputs": [
        {
          "name": "stderr",
          "output_type": "stream",
          "text": [
            "ERROR:root:Internal Python error in the inspect module.\n",
            "Below is the traceback from this internal error.\n",
            "\n",
            "ERROR:root:Internal Python error in the inspect module.\n",
            "Below is the traceback from this internal error.\n",
            "\n",
            "ERROR:root:Internal Python error in the inspect module.\n",
            "Below is the traceback from this internal error.\n",
            "\n"
          ]
        },
        {
          "name": "stdout",
          "output_type": "stream",
          "text": [
            "Writing ./source/hollys_collector.py\n",
            "Traceback (most recent call last):\n",
            "  File \"/usr/local/lib/python3.10/dist-packages/IPython/core/interactiveshell.py\", line 3553, in run_code\n",
            "    exec(code_obj, self.user_global_ns, self.user_ns)\n",
            "  File \"<ipython-input-89-079d5b75ad40>\", line 1, in <cell line: 1>\n",
            "    get_ipython().run_cell_magic('writefile', './source/hollys_collector.py', \"\\nfrom bs4 import BeautifulSoup\\nimport requests\\nimport csv\\nimport datetime\\nresult = []\\nrowdata = []\\n\\ndef hollys_process():\\n  url = 'https://www.hollys.co.kr/store/korea/korStore2.do'\\n\\n  res = requests.get(url)\\n\\n  soup = BeautifulSoup(res.text, 'html.parser')\\n  tag_table = soup.select_one('table.tb_store tbody') \\n  tag_tr_list = tag_table.select('tr')  \\n\\n  for store in tag_tr_list:\\n    td_area = store.select_one('td.noline.center_t').text\\n    td_point = store.select_one('td:nth-child(2)').text\\n    td_open = store.select_one('td.center_t.tdp0').text\\n    td_addr = store.select_one('td:nth-child(4)').text\\n    td_tel = store.select_one('td:nth-child(6)').text\\n    result.append([td_area]+[td_point]+[td_open]+[td_addr]+[td_tel])\\n  \\n  global rowdata\\n  rowdata = result.copy()\\n\\n\\ndef hollys_save(filename):\\n  fields = ['store_area', 'store_point', 'store_open', 'store_addr', 'store_tel']\\n\\n\\n  with open('./source/' + filename, 'w') as f:\\n    write = csv.writer(f)\\n    write.writerow(fields)\\n    write.writerows(result)\\n\\n  print('hollys 데이터 저장 완료')\\n  del result[:]\\n\\ndef hollys_load(filename):\\n with open('./source/' + filename, 'r') as f:\\n  reader = csv.reader(f)\\n  \\n  for row in reader:\\n     print(','.join(row))\\n\\nif __name__ == '__main__':   \\n  hollys_process()\\n\\n  to_now = datetime.datetime.now()\\n  to_now = to_now.strftime('%Y-%m-%d %H:%M:%s')\\n  \\n  # filename = %s-hollys.csv' % (to_now)\\n  filename = '{}_hollys.csv'.format(to_now)\\n  hollys_save(filename)\\n  hollys_load(filename)\\n\")\n",
            "  File \"/usr/local/lib/python3.10/dist-packages/google/colab/_shell.py\", line 334, in run_cell_magic\n",
            "    return super().run_cell_magic(magic_name, line, cell)\n",
            "  File \"/usr/local/lib/python3.10/dist-packages/IPython/core/interactiveshell.py\", line 2473, in run_cell_magic\n",
            "    result = fn(*args, **kwargs)\n",
            "  File \"<decorator-gen-98>\", line 2, in writefile\n",
            "  File \"/usr/local/lib/python3.10/dist-packages/IPython/core/magic.py\", line 187, in <lambda>\n",
            "    call = lambda f, *a, **k: f(*a, **k)\n",
            "  File \"/usr/local/lib/python3.10/dist-packages/IPython/core/magics/osm.py\", line 856, in writefile\n",
            "    with io.open(filename, mode, encoding='utf-8') as f:\n",
            "OSError: [Errno 107] Transport endpoint is not connected: './source/hollys_collector.py'\n",
            "\n",
            "During handling of the above exception, another exception occurred:\n",
            "\n",
            "Traceback (most recent call last):\n",
            "  File \"/usr/local/lib/python3.10/dist-packages/IPython/core/interactiveshell.py\", line 2099, in showtraceback\n",
            "    stb = value._render_traceback_()\n",
            "AttributeError: 'OSError' object has no attribute '_render_traceback_'\n",
            "\n",
            "During handling of the above exception, another exception occurred:\n",
            "\n",
            "Traceback (most recent call last):\n",
            "  File \"/usr/local/lib/python3.10/dist-packages/IPython/core/ultratb.py\", line 1101, in get_records\n",
            "    return _fixed_getinnerframes(etb, number_of_lines_of_context, tb_offset)\n",
            "  File \"/usr/local/lib/python3.10/dist-packages/IPython/core/ultratb.py\", line 248, in wrapped\n",
            "    return f(*args, **kwargs)\n",
            "  File \"/usr/local/lib/python3.10/dist-packages/IPython/core/ultratb.py\", line 281, in _fixed_getinnerframes\n",
            "    records = fix_frame_records_filenames(inspect.getinnerframes(etb, context))\n",
            "  File \"/usr/lib/python3.10/inspect.py\", line 1662, in getinnerframes\n",
            "    frameinfo = (tb.tb_frame,) + getframeinfo(tb, context)\n",
            "  File \"/usr/lib/python3.10/inspect.py\", line 1620, in getframeinfo\n",
            "    filename = getsourcefile(frame) or getfile(frame)\n",
            "  File \"/usr/lib/python3.10/inspect.py\", line 829, in getsourcefile\n",
            "    module = getmodule(object, filename)\n",
            "  File \"/usr/lib/python3.10/inspect.py\", line 861, in getmodule\n",
            "    file = getabsfile(object, _filename)\n",
            "  File \"/usr/lib/python3.10/inspect.py\", line 845, in getabsfile\n",
            "    return os.path.normcase(os.path.abspath(_filename))\n",
            "  File \"/usr/lib/python3.10/posixpath.py\", line 384, in abspath\n",
            "    cwd = os.getcwd()\n",
            "OSError: [Errno 107] Transport endpoint is not connected\n",
            "Traceback (most recent call last):\n",
            "  File \"/usr/local/lib/python3.10/dist-packages/IPython/core/interactiveshell.py\", line 3553, in run_code\n",
            "    exec(code_obj, self.user_global_ns, self.user_ns)\n",
            "  File \"<ipython-input-89-079d5b75ad40>\", line 1, in <cell line: 1>\n",
            "    get_ipython().run_cell_magic('writefile', './source/hollys_collector.py', \"\\nfrom bs4 import BeautifulSoup\\nimport requests\\nimport csv\\nimport datetime\\nresult = []\\nrowdata = []\\n\\ndef hollys_process():\\n  url = 'https://www.hollys.co.kr/store/korea/korStore2.do'\\n\\n  res = requests.get(url)\\n\\n  soup = BeautifulSoup(res.text, 'html.parser')\\n  tag_table = soup.select_one('table.tb_store tbody') \\n  tag_tr_list = tag_table.select('tr')  \\n\\n  for store in tag_tr_list:\\n    td_area = store.select_one('td.noline.center_t').text\\n    td_point = store.select_one('td:nth-child(2)').text\\n    td_open = store.select_one('td.center_t.tdp0').text\\n    td_addr = store.select_one('td:nth-child(4)').text\\n    td_tel = store.select_one('td:nth-child(6)').text\\n    result.append([td_area]+[td_point]+[td_open]+[td_addr]+[td_tel])\\n  \\n  global rowdata\\n  rowdata = result.copy()\\n\\n\\ndef hollys_save(filename):\\n  fields = ['store_area', 'store_point', 'store_open', 'store_addr', 'store_tel']\\n\\n\\n  with open('./source/' + filename, 'w') as f:\\n    write = csv.writer(f)\\n    write.writerow(fields)\\n    write.writerows(result)\\n\\n  print('hollys 데이터 저장 완료')\\n  del result[:]\\n\\ndef hollys_load(filename):\\n with open('./source/' + filename, 'r') as f:\\n  reader = csv.reader(f)\\n  \\n  for row in reader:\\n     print(','.join(row))\\n\\nif __name__ == '__main__':   \\n  hollys_process()\\n\\n  to_now = datetime.datetime.now()\\n  to_now = to_now.strftime('%Y-%m-%d %H:%M:%s')\\n  \\n  # filename = %s-hollys.csv' % (to_now)\\n  filename = '{}_hollys.csv'.format(to_now)\\n  hollys_save(filename)\\n  hollys_load(filename)\\n\")\n",
            "  File \"/usr/local/lib/python3.10/dist-packages/google/colab/_shell.py\", line 334, in run_cell_magic\n",
            "    return super().run_cell_magic(magic_name, line, cell)\n",
            "  File \"/usr/local/lib/python3.10/dist-packages/IPython/core/interactiveshell.py\", line 2473, in run_cell_magic\n",
            "    result = fn(*args, **kwargs)\n",
            "  File \"<decorator-gen-98>\", line 2, in writefile\n",
            "  File \"/usr/local/lib/python3.10/dist-packages/IPython/core/magic.py\", line 187, in <lambda>\n",
            "    call = lambda f, *a, **k: f(*a, **k)\n",
            "  File \"/usr/local/lib/python3.10/dist-packages/IPython/core/magics/osm.py\", line 856, in writefile\n",
            "    with io.open(filename, mode, encoding='utf-8') as f:\n",
            "OSError: [Errno 107] Transport endpoint is not connected: './source/hollys_collector.py'\n",
            "\n",
            "During handling of the above exception, another exception occurred:\n",
            "\n",
            "Traceback (most recent call last):\n",
            "  File \"/usr/local/lib/python3.10/dist-packages/IPython/core/interactiveshell.py\", line 2099, in showtraceback\n",
            "    stb = value._render_traceback_()\n",
            "AttributeError: 'OSError' object has no attribute '_render_traceback_'\n",
            "\n",
            "During handling of the above exception, another exception occurred:\n",
            "\n",
            "Traceback (most recent call last):\n",
            "  File \"/usr/local/lib/python3.10/dist-packages/IPython/core/interactiveshell.py\", line 3473, in run_ast_nodes\n",
            "    if (await self.run_code(code, result,  async_=asy)):\n",
            "  File \"/usr/local/lib/python3.10/dist-packages/IPython/core/interactiveshell.py\", line 3575, in run_code\n",
            "    self.showtraceback(running_compiled_code=True)\n",
            "  File \"/usr/local/lib/python3.10/dist-packages/IPython/core/interactiveshell.py\", line 2101, in showtraceback\n",
            "    stb = self.InteractiveTB.structured_traceback(etype,\n",
            "  File \"/usr/local/lib/python3.10/dist-packages/IPython/core/ultratb.py\", line 1367, in structured_traceback\n",
            "    return FormattedTB.structured_traceback(\n",
            "  File \"/usr/local/lib/python3.10/dist-packages/IPython/core/ultratb.py\", line 1267, in structured_traceback\n",
            "    return VerboseTB.structured_traceback(\n",
            "  File \"/usr/local/lib/python3.10/dist-packages/IPython/core/ultratb.py\", line 1124, in structured_traceback\n",
            "    formatted_exception = self.format_exception_as_a_whole(etype, evalue, etb, number_of_lines_of_context,\n",
            "  File \"/usr/local/lib/python3.10/dist-packages/IPython/core/ultratb.py\", line 1082, in format_exception_as_a_whole\n",
            "    last_unique, recursion_repeat = find_recursion(orig_etype, evalue, records)\n",
            "  File \"/usr/local/lib/python3.10/dist-packages/IPython/core/ultratb.py\", line 382, in find_recursion\n",
            "    return len(records), 0\n",
            "TypeError: object of type 'NoneType' has no len()\n",
            "\n",
            "During handling of the above exception, another exception occurred:\n",
            "\n",
            "Traceback (most recent call last):\n",
            "  File \"/usr/local/lib/python3.10/dist-packages/IPython/core/interactiveshell.py\", line 2099, in showtraceback\n",
            "    stb = value._render_traceback_()\n",
            "AttributeError: 'TypeError' object has no attribute '_render_traceback_'\n",
            "\n",
            "During handling of the above exception, another exception occurred:\n",
            "\n",
            "Traceback (most recent call last):\n",
            "  File \"/usr/local/lib/python3.10/dist-packages/IPython/core/ultratb.py\", line 1101, in get_records\n",
            "    return _fixed_getinnerframes(etb, number_of_lines_of_context, tb_offset)\n",
            "  File \"/usr/local/lib/python3.10/dist-packages/IPython/core/ultratb.py\", line 248, in wrapped\n",
            "    return f(*args, **kwargs)\n",
            "  File \"/usr/local/lib/python3.10/dist-packages/IPython/core/ultratb.py\", line 281, in _fixed_getinnerframes\n",
            "    records = fix_frame_records_filenames(inspect.getinnerframes(etb, context))\n",
            "  File \"/usr/lib/python3.10/inspect.py\", line 1662, in getinnerframes\n",
            "    frameinfo = (tb.tb_frame,) + getframeinfo(tb, context)\n",
            "  File \"/usr/lib/python3.10/inspect.py\", line 1620, in getframeinfo\n",
            "    filename = getsourcefile(frame) or getfile(frame)\n",
            "  File \"/usr/lib/python3.10/inspect.py\", line 829, in getsourcefile\n",
            "    module = getmodule(object, filename)\n",
            "  File \"/usr/lib/python3.10/inspect.py\", line 861, in getmodule\n",
            "    file = getabsfile(object, _filename)\n",
            "  File \"/usr/lib/python3.10/inspect.py\", line 845, in getabsfile\n",
            "    return os.path.normcase(os.path.abspath(_filename))\n",
            "  File \"/usr/lib/python3.10/posixpath.py\", line 384, in abspath\n",
            "    cwd = os.getcwd()\n",
            "OSError: [Errno 107] Transport endpoint is not connected\n",
            "Traceback (most recent call last):\n",
            "  File \"/usr/local/lib/python3.10/dist-packages/IPython/core/interactiveshell.py\", line 3553, in run_code\n",
            "    exec(code_obj, self.user_global_ns, self.user_ns)\n",
            "  File \"<ipython-input-89-079d5b75ad40>\", line 1, in <cell line: 1>\n",
            "    get_ipython().run_cell_magic('writefile', './source/hollys_collector.py', \"\\nfrom bs4 import BeautifulSoup\\nimport requests\\nimport csv\\nimport datetime\\nresult = []\\nrowdata = []\\n\\ndef hollys_process():\\n  url = 'https://www.hollys.co.kr/store/korea/korStore2.do'\\n\\n  res = requests.get(url)\\n\\n  soup = BeautifulSoup(res.text, 'html.parser')\\n  tag_table = soup.select_one('table.tb_store tbody') \\n  tag_tr_list = tag_table.select('tr')  \\n\\n  for store in tag_tr_list:\\n    td_area = store.select_one('td.noline.center_t').text\\n    td_point = store.select_one('td:nth-child(2)').text\\n    td_open = store.select_one('td.center_t.tdp0').text\\n    td_addr = store.select_one('td:nth-child(4)').text\\n    td_tel = store.select_one('td:nth-child(6)').text\\n    result.append([td_area]+[td_point]+[td_open]+[td_addr]+[td_tel])\\n  \\n  global rowdata\\n  rowdata = result.copy()\\n\\n\\ndef hollys_save(filename):\\n  fields = ['store_area', 'store_point', 'store_open', 'store_addr', 'store_tel']\\n\\n\\n  with open('./source/' + filename, 'w') as f:\\n    write = csv.writer(f)\\n    write.writerow(fields)\\n    write.writerows(result)\\n\\n  print('hollys 데이터 저장 완료')\\n  del result[:]\\n\\ndef hollys_load(filename):\\n with open('./source/' + filename, 'r') as f:\\n  reader = csv.reader(f)\\n  \\n  for row in reader:\\n     print(','.join(row))\\n\\nif __name__ == '__main__':   \\n  hollys_process()\\n\\n  to_now = datetime.datetime.now()\\n  to_now = to_now.strftime('%Y-%m-%d %H:%M:%s')\\n  \\n  # filename = %s-hollys.csv' % (to_now)\\n  filename = '{}_hollys.csv'.format(to_now)\\n  hollys_save(filename)\\n  hollys_load(filename)\\n\")\n",
            "  File \"/usr/local/lib/python3.10/dist-packages/google/colab/_shell.py\", line 334, in run_cell_magic\n",
            "    return super().run_cell_magic(magic_name, line, cell)\n",
            "  File \"/usr/local/lib/python3.10/dist-packages/IPython/core/interactiveshell.py\", line 2473, in run_cell_magic\n",
            "    result = fn(*args, **kwargs)\n",
            "  File \"<decorator-gen-98>\", line 2, in writefile\n",
            "  File \"/usr/local/lib/python3.10/dist-packages/IPython/core/magic.py\", line 187, in <lambda>\n",
            "    call = lambda f, *a, **k: f(*a, **k)\n",
            "  File \"/usr/local/lib/python3.10/dist-packages/IPython/core/magics/osm.py\", line 856, in writefile\n",
            "    with io.open(filename, mode, encoding='utf-8') as f:\n",
            "OSError: [Errno 107] Transport endpoint is not connected: './source/hollys_collector.py'\n",
            "\n",
            "During handling of the above exception, another exception occurred:\n",
            "\n",
            "Traceback (most recent call last):\n",
            "  File \"/usr/local/lib/python3.10/dist-packages/IPython/core/interactiveshell.py\", line 2099, in showtraceback\n",
            "    stb = value._render_traceback_()\n",
            "AttributeError: 'OSError' object has no attribute '_render_traceback_'\n",
            "\n",
            "During handling of the above exception, another exception occurred:\n",
            "\n",
            "Traceback (most recent call last):\n",
            "  File \"/usr/local/lib/python3.10/dist-packages/IPython/core/interactiveshell.py\", line 3473, in run_ast_nodes\n",
            "    if (await self.run_code(code, result,  async_=asy)):\n",
            "  File \"/usr/local/lib/python3.10/dist-packages/IPython/core/interactiveshell.py\", line 3575, in run_code\n",
            "    self.showtraceback(running_compiled_code=True)\n",
            "  File \"/usr/local/lib/python3.10/dist-packages/IPython/core/interactiveshell.py\", line 2101, in showtraceback\n",
            "    stb = self.InteractiveTB.structured_traceback(etype,\n",
            "  File \"/usr/local/lib/python3.10/dist-packages/IPython/core/ultratb.py\", line 1367, in structured_traceback\n",
            "    return FormattedTB.structured_traceback(\n",
            "  File \"/usr/local/lib/python3.10/dist-packages/IPython/core/ultratb.py\", line 1267, in structured_traceback\n",
            "    return VerboseTB.structured_traceback(\n",
            "  File \"/usr/local/lib/python3.10/dist-packages/IPython/core/ultratb.py\", line 1124, in structured_traceback\n",
            "    formatted_exception = self.format_exception_as_a_whole(etype, evalue, etb, number_of_lines_of_context,\n",
            "  File \"/usr/local/lib/python3.10/dist-packages/IPython/core/ultratb.py\", line 1082, in format_exception_as_a_whole\n",
            "    last_unique, recursion_repeat = find_recursion(orig_etype, evalue, records)\n",
            "  File \"/usr/local/lib/python3.10/dist-packages/IPython/core/ultratb.py\", line 382, in find_recursion\n",
            "    return len(records), 0\n",
            "TypeError: object of type 'NoneType' has no len()\n",
            "\n",
            "During handling of the above exception, another exception occurred:\n",
            "\n",
            "Traceback (most recent call last):\n",
            "  File \"/usr/local/lib/python3.10/dist-packages/IPython/core/interactiveshell.py\", line 2099, in showtraceback\n",
            "    stb = value._render_traceback_()\n",
            "AttributeError: 'TypeError' object has no attribute '_render_traceback_'\n",
            "\n",
            "During handling of the above exception, another exception occurred:\n",
            "\n",
            "Traceback (most recent call last):\n",
            "  File \"/usr/local/lib/python3.10/dist-packages/IPython/core/interactiveshell.py\", line 3030, in _run_cell\n",
            "    return runner(coro)\n",
            "  File \"/usr/local/lib/python3.10/dist-packages/IPython/core/async_helpers.py\", line 78, in _pseudo_sync_runner\n",
            "    coro.send(None)\n",
            "  File \"/usr/local/lib/python3.10/dist-packages/IPython/core/interactiveshell.py\", line 3257, in run_cell_async\n",
            "    has_raised = await self.run_ast_nodes(code_ast.body, cell_name,\n",
            "  File \"/usr/local/lib/python3.10/dist-packages/IPython/core/interactiveshell.py\", line 3492, in run_ast_nodes\n",
            "    self.showtraceback()\n",
            "  File \"/usr/local/lib/python3.10/dist-packages/IPython/core/interactiveshell.py\", line 2101, in showtraceback\n",
            "    stb = self.InteractiveTB.structured_traceback(etype,\n",
            "  File \"/usr/local/lib/python3.10/dist-packages/IPython/core/ultratb.py\", line 1367, in structured_traceback\n",
            "    return FormattedTB.structured_traceback(\n",
            "  File \"/usr/local/lib/python3.10/dist-packages/IPython/core/ultratb.py\", line 1267, in structured_traceback\n",
            "    return VerboseTB.structured_traceback(\n",
            "  File \"/usr/local/lib/python3.10/dist-packages/IPython/core/ultratb.py\", line 1142, in structured_traceback\n",
            "    formatted_exceptions += self.format_exception_as_a_whole(etype, evalue, etb, lines_of_context,\n",
            "  File \"/usr/local/lib/python3.10/dist-packages/IPython/core/ultratb.py\", line 1082, in format_exception_as_a_whole\n",
            "    last_unique, recursion_repeat = find_recursion(orig_etype, evalue, records)\n",
            "  File \"/usr/local/lib/python3.10/dist-packages/IPython/core/ultratb.py\", line 382, in find_recursion\n",
            "    return len(records), 0\n",
            "TypeError: object of type 'NoneType' has no len()\n",
            "\n",
            "During handling of the above exception, another exception occurred:\n",
            "\n",
            "Traceback (most recent call last):\n",
            "  File \"/usr/local/lib/python3.10/dist-packages/IPython/core/interactiveshell.py\", line 2099, in showtraceback\n",
            "    stb = value._render_traceback_()\n",
            "AttributeError: 'TypeError' object has no attribute '_render_traceback_'\n",
            "\n",
            "During handling of the above exception, another exception occurred:\n",
            "\n",
            "Traceback (most recent call last):\n",
            "  File \"/usr/local/lib/python3.10/dist-packages/IPython/core/ultratb.py\", line 1101, in get_records\n",
            "    return _fixed_getinnerframes(etb, number_of_lines_of_context, tb_offset)\n",
            "  File \"/usr/local/lib/python3.10/dist-packages/IPython/core/ultratb.py\", line 248, in wrapped\n",
            "    return f(*args, **kwargs)\n",
            "  File \"/usr/local/lib/python3.10/dist-packages/IPython/core/ultratb.py\", line 281, in _fixed_getinnerframes\n",
            "    records = fix_frame_records_filenames(inspect.getinnerframes(etb, context))\n",
            "  File \"/usr/lib/python3.10/inspect.py\", line 1662, in getinnerframes\n",
            "    frameinfo = (tb.tb_frame,) + getframeinfo(tb, context)\n",
            "  File \"/usr/lib/python3.10/inspect.py\", line 1620, in getframeinfo\n",
            "    filename = getsourcefile(frame) or getfile(frame)\n",
            "  File \"/usr/lib/python3.10/inspect.py\", line 829, in getsourcefile\n",
            "    module = getmodule(object, filename)\n",
            "  File \"/usr/lib/python3.10/inspect.py\", line 861, in getmodule\n",
            "    file = getabsfile(object, _filename)\n",
            "  File \"/usr/lib/python3.10/inspect.py\", line 845, in getabsfile\n",
            "    return os.path.normcase(os.path.abspath(_filename))\n",
            "  File \"/usr/lib/python3.10/posixpath.py\", line 384, in abspath\n",
            "    cwd = os.getcwd()\n",
            "OSError: [Errno 107] Transport endpoint is not connected\n"
          ]
        }
      ],
      "source": [
        "%%writefile ./source/hollys_collector.py\n",
        "\n",
        "from bs4 import BeautifulSoup\n",
        "import requests\n",
        "import csv\n",
        "import datetime\n",
        "result = []\n",
        "rowdata = []\n",
        "\n",
        "def hollys_process():\n",
        "  url = 'https://www.hollys.co.kr/store/korea/korStore2.do'\n",
        "\n",
        "  res = requests.get(url)\n",
        "\n",
        "  soup = BeautifulSoup(res.text, 'html.parser')\n",
        "  tag_table = soup.select_one('table.tb_store tbody')\n",
        "  tag_tr_list = tag_table.select('tr')\n",
        "\n",
        "  for store in tag_tr_list:\n",
        "    td_area = store.select_one('td.noline.center_t').text\n",
        "    td_point = store.select_one('td:nth-child(2)').text\n",
        "    td_open = store.select_one('td.center_t.tdp0').text\n",
        "    td_addr = store.select_one('td:nth-child(4)').text\n",
        "    td_tel = store.select_one('td:nth-child(6)').text\n",
        "    result.append([td_area]+[td_point]+[td_open]+[td_addr]+[td_tel])\n",
        "\n",
        "  global rowdata\n",
        "  rowdata = result.copy()\n",
        "\n",
        "\n",
        "def hollys_save(filename):\n",
        "  fields = ['store_area', 'store_point', 'store_open', 'store_addr', 'store_tel']\n",
        "\n",
        "\n",
        "  with open('./source/' + filename, 'w') as f:\n",
        "    write = csv.writer(f)\n",
        "    write.writerow(fields)\n",
        "    write.writerows(result)\n",
        "\n",
        "  print('hollys 데이터 저장 완료')\n",
        "  del result[:]\n",
        "\n",
        "def hollys_load(filename):\n",
        " with open('./source/' + filename, 'r') as f:\n",
        "  reader = csv.reader(f)\n",
        "\n",
        "  for row in reader:\n",
        "     print(','.join(row))\n",
        "\n",
        "if __name__ == '__main__':\n",
        "  hollys_process()\n",
        "\n",
        "  to_now = datetime.datetime.now()\n",
        "  to_now = to_now.strftime('%Y-%m-%d %H:%M:%s')\n",
        "\n",
        "  # filename = %s-hollys.csv' % (to_now)\n",
        "  filename = '{}_hollys.csv'.format(to_now)\n",
        "  hollys_save(filename)\n",
        "  hollys_load(filename)"
      ]
    },
    {
      "cell_type": "code",
      "execution_count": null,
      "metadata": {
        "id": "oFGKILabqKBT"
      },
      "outputs": [],
      "source": [
        "to_now = datetime.datetime.now()\n",
        "to_now = to_now.strftime(%Y-%m-%d %H:%M:%s)\n",
        "to_now"
      ]
    },
    {
      "cell_type": "code",
      "execution_count": null,
      "metadata": {
        "id": "9cF1vtdNmAcq"
      },
      "outputs": [],
      "source": [
        "hollys_process()"
      ]
    },
    {
      "cell_type": "code",
      "execution_count": null,
      "metadata": {
        "id": "Dsjh59Ceo_NC"
      },
      "outputs": [],
      "source": [
        "hollys_save('hollys.csv')"
      ]
    },
    {
      "cell_type": "code",
      "execution_count": null,
      "metadata": {
        "colab": {
          "base_uri": "https://localhost:8080/"
        },
        "id": "mvwTwspDpNSS",
        "outputId": "7f02e46c-fee6-41e6-9641-e0371c22f615"
      },
      "outputs": [
        {
          "name": "stdout",
          "output_type": "stream",
          "text": [
            "store_area,store_point,store_open,store_addr,store_tel\n",
            "서울 중랑구,중랑역점,영업중,서울특별시 중랑구 망우로 210 (상봉동) .,02.6085.7858\n",
            "경기 성남시 분당구,분당서울대병원점,영업중,경기도 성남시 분당구 구미로173번길 82 (구미동, 분당서울대학교병원) 본관 1동,031-8039-6020\n",
            "서울 광진구,강변역점,영업중,서울 광진구 구의강변로 64, 구의아크로리버 1층 구의동 589-10,070-7802-0303\n",
            "경기 오산시,오산궐동점,오픈예정,경기도 오산시 궐리사길 34, 1층,031-374-7999\n",
            "서울 양천구,서서울공원점,영업중,서울특별시 양천구 남부순환로58길 37 신월동 205-36,070-4277-6756\n",
            "경기 오산시,오산역점,영업중,경기도 오산시 오산로 195 (오산동, 명신예식홀) .,031-8042-7719\n",
            "서울 용산구,용산아이파크몰점,영업중,서울특별시 용산구 한강대로23길 55 (한강로3가, 용산역) 4층,02-2012-0473\n",
            "서울 강서구,등촌역점,영업중,서울특별시 강서구 등촌로 229 (등촌동) ,02-2655-2290\n",
            "부산 사상구,부산서부터미널점,영업중,부산광역시 사상구 사상로 201 (괘법동, 서부시외버스터미널) .,051-323-0305\n",
            "강원 춘천시,춘천강원대점,영업중,강원특별자치도 춘천시 서부대성로 229 (효자동) .,033-253-0425\n",
            "서울 중랑구,중랑역점,영업중,서울특별시 중랑구 망우로 210 (상봉동) .,02.6085.7858\n",
            "경기 성남시 분당구,분당서울대병원점,영업중,경기도 성남시 분당구 구미로173번길 82 (구미동, 분당서울대학교병원) 본관 1동,031-8039-6020\n",
            "서울 광진구,강변역점,영업중,서울 광진구 구의강변로 64, 구의아크로리버 1층 구의동 589-10,070-7802-0303\n",
            "경기 오산시,오산궐동점,오픈예정,경기도 오산시 궐리사길 34, 1층,031-374-7999\n",
            "서울 양천구,서서울공원점,영업중,서울특별시 양천구 남부순환로58길 37 신월동 205-36,070-4277-6756\n",
            "경기 오산시,오산역점,영업중,경기도 오산시 오산로 195 (오산동, 명신예식홀) .,031-8042-7719\n",
            "서울 용산구,용산아이파크몰점,영업중,서울특별시 용산구 한강대로23길 55 (한강로3가, 용산역) 4층,02-2012-0473\n",
            "서울 강서구,등촌역점,영업중,서울특별시 강서구 등촌로 229 (등촌동) ,02-2655-2290\n",
            "부산 사상구,부산서부터미널점,영업중,부산광역시 사상구 사상로 201 (괘법동, 서부시외버스터미널) .,051-323-0305\n",
            "강원 춘천시,춘천강원대점,영업중,강원특별자치도 춘천시 서부대성로 229 (효자동) .,033-253-0425\n"
          ]
        }
      ],
      "source": [
        "hollys_load('hollys.csv')"
      ]
    },
    {
      "cell_type": "code",
      "execution_count": null,
      "metadata": {
        "colab": {
          "base_uri": "https://localhost:8080/"
        },
        "id": "Wxzz1718uLx5",
        "outputId": "f80a8a40-aa8c-4118-a637-c8a7828ce25c"
      },
      "outputs": [
        {
          "name": "stdout",
          "output_type": "stream",
          "text": [
            "/content/drive/MyDrive/ai_chat_python\n"
          ]
        }
      ],
      "source": [
        "!pwd"
      ]
    },
    {
      "cell_type": "code",
      "execution_count": null,
      "metadata": {
        "colab": {
          "base_uri": "https://localhost:8080/"
        },
        "id": "ACtrOOOvuOio",
        "outputId": "7cface87-5147-44be-f4bd-c19269f24e3c"
      },
      "outputs": [
        {
          "name": "stdout",
          "output_type": "stream",
          "text": [
            "hollys 데이터 저장 완료\n",
            "store_area,store_point,store_open,store_addr,store_tel\n",
            "서울 중랑구,중랑역점,영업중,서울특별시 중랑구 망우로 210 (상봉동) .,02.6085.7858\n",
            "경기 성남시 분당구,분당서울대병원점,영업중,경기도 성남시 분당구 구미로173번길 82 (구미동, 분당서울대학교병원) 본관 1동,031-8039-6020\n",
            "서울 광진구,강변역점,영업중,서울 광진구 구의강변로 64, 구의아크로리버 1층 구의동 589-10,070-7802-0303\n",
            "경기 오산시,오산궐동점,오픈예정,경기도 오산시 궐리사길 34, 1층,031-374-7999\n",
            "서울 양천구,서서울공원점,영업중,서울특별시 양천구 남부순환로58길 37 신월동 205-36,070-4277-6756\n",
            "경기 오산시,오산역점,영업중,경기도 오산시 오산로 195 (오산동, 명신예식홀) .,031-8042-7719\n",
            "서울 용산구,용산아이파크몰점,영업중,서울특별시 용산구 한강대로23길 55 (한강로3가, 용산역) 4층,02-2012-0473\n",
            "서울 강서구,등촌역점,영업중,서울특별시 강서구 등촌로 229 (등촌동) ,02-2655-2290\n",
            "부산 사상구,부산서부터미널점,영업중,부산광역시 사상구 사상로 201 (괘법동, 서부시외버스터미널) .,051-323-0305\n",
            "강원 춘천시,춘천강원대점,영업중,강원특별자치도 춘천시 서부대성로 229 (효자동) .,033-253-0425\n"
          ]
        }
      ],
      "source": [
        "!python ./source/hollys_collector.py"
      ]
    }
  ],
  "metadata": {
    "colab": {
      "provenance": [],
      "authorship_tag": "ABX9TyP3fdLxIBrJszbhZXjqwkne",
      "include_colab_link": true
    },
    "kernelspec": {
      "display_name": "Python 3",
      "name": "python3"
    },
    "language_info": {
      "name": "python"
    }
  },
  "nbformat": 4,
  "nbformat_minor": 0
}