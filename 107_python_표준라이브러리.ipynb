{
  "nbformat": 4,
  "nbformat_minor": 0,
  "metadata": {
    "colab": {
      "provenance": [],
      "authorship_tag": "ABX9TyPNO2jUg/33YPr5UuHODVDY",
      "include_colab_link": true
    },
    "kernelspec": {
      "name": "python3",
      "display_name": "Python 3"
    },
    "language_info": {
      "name": "python"
    }
  },
  "cells": [
    {
      "cell_type": "markdown",
      "metadata": {
        "id": "view-in-github",
        "colab_type": "text"
      },
      "source": [
        "<a href=\"https://colab.research.google.com/github/onsoon829/dataproject/blob/master/107_python_%ED%91%9C%EC%A4%80%EB%9D%BC%EC%9D%B4%EB%B8%8C%EB%9F%AC%EB%A6%AC.ipynb\" target=\"_parent\"><img src=\"https://colab.research.google.com/assets/colab-badge.svg\" alt=\"Open In Colab\"/></a>"
      ]
    },
    {
      "cell_type": "code",
      "execution_count": null,
      "metadata": {
        "colab": {
          "base_uri": "https://localhost:8080/"
        },
        "id": "TXsw0YH67wWS",
        "outputId": "905537d2-f4b4-4eff-dd98-57845a09ec8d"
      },
      "outputs": [
        {
          "output_type": "stream",
          "name": "stdout",
          "text": [
            "['MAXYEAR', 'MINYEAR', '__all__', '__builtins__', '__cached__', '__doc__', '__file__', '__loader__', '__name__', '__package__', '__spec__', 'date', 'datetime', 'datetime_CAPI', 'sys', 'time', 'timedelta', 'timezone', 'tzinfo']\n",
            "['__add__', '__class__', '__delattr__', '__dir__', '__doc__', '__eq__', '__format__', '__ge__', '__getattribute__', '__gt__', '__hash__', '__init__', '__init_subclass__', '__le__', '__lt__', '__ne__', '__new__', '__radd__', '__reduce__', '__reduce_ex__', '__repr__', '__rsub__', '__setattr__', '__sizeof__', '__str__', '__sub__', '__subclasshook__', 'ctime', 'day', 'fromisocalendar', 'fromisoformat', 'fromordinal', 'fromtimestamp', 'isocalendar', 'isoformat', 'isoweekday', 'max', 'min', 'month', 'replace', 'resolution', 'strftime', 'timetuple', 'today', 'toordinal', 'weekday', 'year']\n"
          ]
        }
      ],
      "source": [
        "import datetime\n",
        "\n",
        "print(dir(datetime))\n",
        "\n",
        "print(dir(datetime.date))"
      ]
    },
    {
      "cell_type": "code",
      "source": [
        "day1 = datetime.date(2023, 11, 19)\n",
        "day2 = datetime.date(2023, 11, 22)\n",
        "\n",
        "print(type(day1))\n",
        "\n",
        "diff = day2 - day1\n",
        "print(type(diff))\n",
        "print(dir(diff))\n",
        "\n",
        "print(diff.days) # 일 차이값을 리턴\n",
        "\n",
        "#0 월요일~ 6 일요일\n",
        "print(day1.weekday())\n",
        "\n",
        "#1 월요일~ 7 일요일\n",
        "print(day1.isoweekday())"
      ],
      "metadata": {
        "colab": {
          "base_uri": "https://localhost:8080/"
        },
        "id": "gjHy52u28SPq",
        "outputId": "7b07f19e-d718-49aa-bf8b-e9537779967e"
      },
      "execution_count": null,
      "outputs": [
        {
          "output_type": "stream",
          "name": "stdout",
          "text": [
            "<class 'datetime.date'>\n",
            "<class 'datetime.timedelta'>\n",
            "['__abs__', '__add__', '__bool__', '__class__', '__delattr__', '__dir__', '__divmod__', '__doc__', '__eq__', '__floordiv__', '__format__', '__ge__', '__getattribute__', '__gt__', '__hash__', '__init__', '__init_subclass__', '__le__', '__lt__', '__mod__', '__mul__', '__ne__', '__neg__', '__new__', '__pos__', '__radd__', '__rdivmod__', '__reduce__', '__reduce_ex__', '__repr__', '__rfloordiv__', '__rmod__', '__rmul__', '__rsub__', '__rtruediv__', '__setattr__', '__sizeof__', '__str__', '__sub__', '__subclasshook__', '__truediv__', 'days', 'max', 'microseconds', 'min', 'resolution', 'seconds', 'total_seconds']\n",
            "3\n",
            "6\n",
            "7\n"
          ]
        }
      ]
    },
    {
      "cell_type": "code",
      "source": [
        "import time\n",
        "\n",
        "print(time)\n",
        "print(dir(time))\n",
        "print(time.time())\n",
        "print(time.strftime('%x', time.localtime(time.time())))\n",
        "print(time.strftime('%c', time.localtime(time.time())))"
      ],
      "metadata": {
        "colab": {
          "base_uri": "https://localhost:8080/"
        },
        "id": "J9fBvevm9k6e",
        "outputId": "2d9cc9a9-568c-425a-bc7f-13504cd24001"
      },
      "execution_count": null,
      "outputs": [
        {
          "output_type": "stream",
          "name": "stdout",
          "text": [
            "<module 'time' (built-in)>\n",
            "['CLOCK_BOOTTIME', 'CLOCK_MONOTONIC', 'CLOCK_MONOTONIC_RAW', 'CLOCK_PROCESS_CPUTIME_ID', 'CLOCK_REALTIME', 'CLOCK_TAI', 'CLOCK_THREAD_CPUTIME_ID', '_STRUCT_TM_ITEMS', '__doc__', '__loader__', '__name__', '__package__', '__spec__', 'altzone', 'asctime', 'clock_getres', 'clock_gettime', 'clock_gettime_ns', 'clock_settime', 'clock_settime_ns', 'ctime', 'daylight', 'get_clock_info', 'gmtime', 'localtime', 'mktime', 'monotonic', 'monotonic_ns', 'perf_counter', 'perf_counter_ns', 'process_time', 'process_time_ns', 'pthread_getcpuclockid', 'sleep', 'strftime', 'strptime', 'struct_time', 'thread_time', 'thread_time_ns', 'time', 'time_ns', 'timezone', 'tzname', 'tzset']\n",
            "1700622256.373637\n",
            "11/22/23\n",
            "Wed Nov 22 03:04:16 2023\n"
          ]
        }
      ]
    },
    {
      "cell_type": "code",
      "source": [
        "import time\n",
        "for i in range(5):\n",
        "  print(i)\n",
        "  time.sleep(1) #1초 대기"
      ],
      "metadata": {
        "colab": {
          "base_uri": "https://localhost:8080/"
        },
        "id": "TcKT3LjL_Cbt",
        "outputId": "b09fdcb3-1a82-41ab-f7a8-b6a6992c8624"
      },
      "execution_count": null,
      "outputs": [
        {
          "output_type": "stream",
          "name": "stdout",
          "text": [
            "0\n",
            "1\n",
            "2\n",
            "3\n",
            "4\n"
          ]
        }
      ]
    },
    {
      "cell_type": "code",
      "source": [
        "import math\n",
        "\n",
        "print(dir(math))\n",
        "\n",
        "print(math.gcd(60, 100, 80)) #최대공약수(gcd, greatest common divisor)\n",
        "\n",
        "print(math.lcm(15, 25)) #최소공배수(Icm, least common multiple)"
      ],
      "metadata": {
        "colab": {
          "base_uri": "https://localhost:8080/"
        },
        "id": "i2byFL_f_lUi",
        "outputId": "7ccc3909-5a7c-4cd4-e63b-4fffc1559748"
      },
      "execution_count": null,
      "outputs": [
        {
          "output_type": "stream",
          "name": "stdout",
          "text": [
            "['__doc__', '__loader__', '__name__', '__package__', '__spec__', 'acos', 'acosh', 'asin', 'asinh', 'atan', 'atan2', 'atanh', 'ceil', 'comb', 'copysign', 'cos', 'cosh', 'degrees', 'dist', 'e', 'erf', 'erfc', 'exp', 'expm1', 'fabs', 'factorial', 'floor', 'fmod', 'frexp', 'fsum', 'gamma', 'gcd', 'hypot', 'inf', 'isclose', 'isfinite', 'isinf', 'isnan', 'isqrt', 'lcm', 'ldexp', 'lgamma', 'log', 'log10', 'log1p', 'log2', 'modf', 'nan', 'nextafter', 'perm', 'pi', 'pow', 'prod', 'radians', 'remainder', 'sin', 'sinh', 'sqrt', 'tan', 'tanh', 'tau', 'trunc', 'ulp']\n",
            "20\n",
            "75\n"
          ]
        }
      ]
    },
    {
      "cell_type": "code",
      "source": [
        "import random\n",
        "\n",
        "print(dir(random))\n",
        "\n",
        "print(random.random()) #0부터 1미만 [0, 1]\n",
        "print(random.randint(1, 10)) #1부터 10까지 [1, 10] including both end points 범위 안에 있는 숫자를 랜덤으로 출력\n",
        "\n",
        "data = [10, 20, 30, 40 ,50]\n",
        "print(random.choice(data)) #무작위로 하나만 선택\n",
        "print(random.sample(data, 3)) #무작위로 3개를 선택, 최대 선택할 수 있는 개수는 data리스트에 저장되어 있는 요소 개수만큼"
      ],
      "metadata": {
        "colab": {
          "base_uri": "https://localhost:8080/"
        },
        "id": "p0FI0v21AduN",
        "outputId": "9e59874e-0cbe-4711-af6f-8dc6e1b74ad3"
      },
      "execution_count": null,
      "outputs": [
        {
          "output_type": "stream",
          "name": "stdout",
          "text": [
            "['BPF', 'LOG4', 'NV_MAGICCONST', 'RECIP_BPF', 'Random', 'SG_MAGICCONST', 'SystemRandom', 'TWOPI', '_ONE', '_Sequence', '_Set', '__all__', '__builtins__', '__cached__', '__doc__', '__file__', '__loader__', '__name__', '__package__', '__spec__', '_accumulate', '_acos', '_bisect', '_ceil', '_cos', '_e', '_exp', '_floor', '_index', '_inst', '_isfinite', '_log', '_os', '_pi', '_random', '_repeat', '_sha512', '_sin', '_sqrt', '_test', '_test_generator', '_urandom', '_warn', 'betavariate', 'choice', 'choices', 'expovariate', 'gammavariate', 'gauss', 'getrandbits', 'getstate', 'lognormvariate', 'normalvariate', 'paretovariate', 'randbytes', 'randint', 'random', 'randrange', 'sample', 'seed', 'setstate', 'shuffle', 'triangular', 'uniform', 'vonmisesvariate', 'weibullvariate']\n",
            "0.36015017183802844\n",
            "4\n",
            "10\n",
            "[10, 50, 20]\n"
          ]
        }
      ]
    },
    {
      "cell_type": "code",
      "source": [
        "import random\n",
        "print(random.choice(data))"
      ],
      "metadata": {
        "colab": {
          "base_uri": "https://localhost:8080/"
        },
        "id": "TB2PyJ0grHEC",
        "outputId": "b26a9cc6-0093-4620-cb64-50b4c5a8d078"
      },
      "execution_count": null,
      "outputs": [
        {
          "output_type": "stream",
          "name": "stdout",
          "text": [
            "50\n"
          ]
        }
      ]
    },
    {
      "cell_type": "code",
      "source": [
        "import datetime\n",
        "day1 = datetime.date(2022, 4, 9)\n",
        "day2 = datetime.date(2023, 11, 22)\n",
        "\n",
        "diff = day2 - day1\n",
        "diff.days\n",
        "\n"
      ],
      "metadata": {
        "colab": {
          "base_uri": "https://localhost:8080/"
        },
        "id": "UFHjhfA1EmRr",
        "outputId": "ec7f9fb9-86a0-49b3-f204-db5eba5449a9"
      },
      "execution_count": null,
      "outputs": [
        {
          "output_type": "execute_result",
          "data": {
            "text/plain": [
              "592"
            ]
          },
          "metadata": {},
          "execution_count": 40
        }
      ]
    },
    {
      "cell_type": "code",
      "source": [
        "#time 출력 형식 공식문서\n",
        "#https://docs.python.org/3/library/time.html"
      ],
      "metadata": {
        "id": "zzl11tuPFplw"
      },
      "execution_count": null,
      "outputs": []
    },
    {
      "cell_type": "code",
      "source": [
        "import itertools\n",
        "\n",
        "print(dir(itertools))\n",
        "\n",
        "students = ['나', '너', '우리', '네놈', '롸']\n",
        "snacks = ['사탕', '초콜릿', '젤리']\n",
        "\n",
        "#zip과 zip_longest 공통점\n",
        "#객체들을 묶어준다.\n",
        "#zip과 zip_longest 차이점\n",
        "#1. zip은 짧은 객체만큼만 묶어준다.\n",
        "#2. zip_longest은 기 객체의 길이에 맞춰 묶어준다.\n",
        "#  이때, 기본은 짧은 객체에는 None으로 채워준다.\n",
        "#  fillvalue를 이용해서 짧은 객체에 채워줄 값을 지정해줄 수 있다.(비어있는 나머지 채워주는 느낌?)\n",
        "\n",
        "for i in zip(students, snacks):\n",
        "  print(i)\n",
        "\n",
        "result = itertools.zip_longest(students, snacks)\n",
        "print(result)\n",
        "print(list(result))\n",
        "\n",
        "result = itertools.zip_longest(students, snacks, fillvalue='새우깡')\n",
        "print(result)\n",
        "print(list(result))\n",
        "\n",
        "print(list(itertools.permutations([1,2,3], 2))) #순열\n",
        "\n",
        "print(list(itertools.combinations([1,2,3], 2))) #조합\n",
        "\n"
      ],
      "metadata": {
        "colab": {
          "base_uri": "https://localhost:8080/"
        },
        "id": "05i_kewYF0J3",
        "outputId": "9c3047c7-cdcc-4aa6-b215-2a9a04148db0"
      },
      "execution_count": null,
      "outputs": [
        {
          "output_type": "stream",
          "name": "stdout",
          "text": [
            "['__doc__', '__loader__', '__name__', '__package__', '__spec__', '_grouper', '_tee', '_tee_dataobject', 'accumulate', 'chain', 'combinations', 'combinations_with_replacement', 'compress', 'count', 'cycle', 'dropwhile', 'filterfalse', 'groupby', 'islice', 'pairwise', 'permutations', 'product', 'repeat', 'starmap', 'takewhile', 'tee', 'zip_longest']\n",
            "('나', '사탕')\n",
            "('너', '초콜릿')\n",
            "('우리', '젤리')\n",
            "<itertools.zip_longest object at 0x7d6d849c2480>\n",
            "[('나', '사탕'), ('너', '초콜릿'), ('우리', '젤리'), ('네놈', None), ('롸', None)]\n",
            "<itertools.zip_longest object at 0x7d6d57e02160>\n",
            "[('나', '사탕'), ('너', '초콜릿'), ('우리', '젤리'), ('네놈', '새우깡'), ('롸', '새우깡')]\n",
            "[(1, 2), (1, 3), (2, 1), (2, 3), (3, 1), (3, 2)]\n",
            "[(1, 2), (1, 3), (2, 3)]\n"
          ]
        }
      ]
    },
    {
      "cell_type": "code",
      "source": [
        "import itertools\n",
        "students = ['나', '너', '우리']\n",
        "snacks = ['사탕', '개', '게']\n",
        "\n",
        "for i in zip(students, snacks):\n",
        "  print(i)\n",
        "\n",
        "result = itertools.zip_longest(students, snacks)\n",
        "print(result)\n",
        "print(list(result))"
      ],
      "metadata": {
        "colab": {
          "base_uri": "https://localhost:8080/"
        },
        "id": "ZUPGaopHu7ka",
        "outputId": "a7359564-93b4-4bbd-8cc4-616fcaf0fb79"
      },
      "execution_count": null,
      "outputs": [
        {
          "output_type": "stream",
          "name": "stdout",
          "text": [
            "('나', '사탕')\n",
            "('너', '개')\n",
            "('우리', '게')\n",
            "<itertools.zip_longest object at 0x7cd43690df30>\n",
            "[('나', '사탕'), ('너', '개'), ('우리', '게')]\n"
          ]
        }
      ]
    },
    {
      "cell_type": "code",
      "source": [
        "import functools\n",
        "\n",
        "print(dir(functools))\n",
        "data = [1,2,3,4,5]\n",
        "print(functools.reduce(lambda x, y: x+y, data))"
      ],
      "metadata": {
        "colab": {
          "base_uri": "https://localhost:8080/"
        },
        "id": "nZPHOmd9JBb4",
        "outputId": "53b7db6f-9c8a-4fd5-8c85-ad6329b02916"
      },
      "execution_count": null,
      "outputs": [
        {
          "output_type": "stream",
          "name": "stdout",
          "text": [
            "['GenericAlias', 'RLock', 'WRAPPER_ASSIGNMENTS', 'WRAPPER_UPDATES', '_CacheInfo', '_HashedSeq', '_NOT_FOUND', '__all__', '__builtins__', '__cached__', '__doc__', '__file__', '__loader__', '__name__', '__package__', '__spec__', '_c3_merge', '_c3_mro', '_compose_mro', '_convert', '_find_impl', '_ge_from_gt', '_ge_from_le', '_ge_from_lt', '_gt_from_ge', '_gt_from_le', '_gt_from_lt', '_initial_missing', '_le_from_ge', '_le_from_gt', '_le_from_lt', '_lru_cache_wrapper', '_lt_from_ge', '_lt_from_gt', '_lt_from_le', '_make_key', '_unwrap_partial', 'cache', 'cached_property', 'cmp_to_key', 'get_cache_token', 'lru_cache', 'namedtuple', 'partial', 'partialmethod', 'recursive_repr', 'reduce', 'singledispatch', 'singledispatchmethod', 'total_ordering', 'update_wrapper', 'wraps']\n",
            "15\n"
          ]
        }
      ]
    },
    {
      "cell_type": "code",
      "source": [
        "from operator import itemgetter\n",
        "\n",
        "print(dir(itemgetter))\n",
        "\n",
        "students = [('jane', 22, 'A'), ('dave', 32, 'C'), ('sally', 17, 'B')]\n",
        "result = sorted(students) #2번재 자리에 key속성을 지정하지 않으면 앞에 값으로 정렬이 된다.\n",
        "print(result)\n",
        "\n",
        "result = sorted(students, key=itemgetter(0)) # 이름을 기준으로 오름차순 정렬\n",
        "print(result)\n",
        "\n",
        "result = sorted(students, key=itemgetter(1)) # 나이를 기준으로 오름차순 정렬\n",
        "print(result)\n",
        "\n",
        "result = sorted(students, key=itemgetter(2)) # 등급을 기준으로 오름차순 정렬\n",
        "print(result)\n",
        "\n",
        "#reverse=False : default value\n",
        "result = sorted(students, key=itemgetter(0), reverse=True) # 이름을 기준으로 내림차순 정렬\n",
        "print(result)\n",
        "\n",
        "result = sorted(students, key=itemgetter(1), reverse=True) # 나이를 기준으로 내림차순 정렬\n",
        "print(result)\n",
        "\n",
        "result = sorted(students, key=itemgetter(2), reverse=True) # 등급을 기준으로 내림차순 정렬\n",
        "print(result)\n"
      ],
      "metadata": {
        "colab": {
          "base_uri": "https://localhost:8080/"
        },
        "id": "bF80X537IGw6",
        "outputId": "2253cf18-a3ba-4f52-8cc1-3683e6bc0da7"
      },
      "execution_count": null,
      "outputs": [
        {
          "output_type": "stream",
          "name": "stdout",
          "text": [
            "['__call__', '__class__', '__delattr__', '__dir__', '__doc__', '__eq__', '__format__', '__ge__', '__getattribute__', '__gt__', '__hash__', '__init__', '__init_subclass__', '__le__', '__lt__', '__module__', '__ne__', '__new__', '__reduce__', '__reduce_ex__', '__repr__', '__setattr__', '__sizeof__', '__str__', '__subclasshook__']\n",
            "[('dave', 32, 'C'), ('jane', 22, 'A'), ('sally', 17, 'B')]\n",
            "[('dave', 32, 'C'), ('jane', 22, 'A'), ('sally', 17, 'B')]\n",
            "[('sally', 17, 'B'), ('jane', 22, 'A'), ('dave', 32, 'C')]\n",
            "[('jane', 22, 'A'), ('sally', 17, 'B'), ('dave', 32, 'C')]\n",
            "[('sally', 17, 'B'), ('jane', 22, 'A'), ('dave', 32, 'C')]\n",
            "[('dave', 32, 'C'), ('jane', 22, 'A'), ('sally', 17, 'B')]\n",
            "[('dave', 32, 'C'), ('sally', 17, 'B'), ('jane', 22, 'A')]\n"
          ]
        }
      ]
    },
    {
      "cell_type": "code",
      "source": [
        "#https://www.json.org/json-en.html"
      ],
      "metadata": {
        "id": "qW7ln17BMN3B"
      },
      "execution_count": null,
      "outputs": []
    },
    {
      "cell_type": "markdown",
      "source": [
        "## json\n",
        "- dumps와 loads\n",
        "  - dumps(data) : dict(list, tuple...) -> str\n",
        "  - loads(data) :  str -> dict(list, tuple...)\n",
        "- dump와 load\n",
        "  - dump(data, file) : dict(list, tuple...) -> file\n",
        "  - load(file) : file -> dict(list, tuple...)\n",
        "\n",
        "  정의: https://c11oud.tistory.com/entry/Python-load-dumps"
      ],
      "metadata": {
        "id": "03e91SrGjlgK"
      }
    },
    {
      "cell_type": "code",
      "source": [
        "import json\n",
        "\n",
        "print(dir(json))\n",
        "\n",
        "d = {'name': '권순형', 'birth':'0829', 'age':30} #dict\n",
        "json_data = json.dumps(d) #dict -> str\n",
        "print(type(json_data)) #str\n",
        "print(json_data)\n",
        "\n",
        "\n",
        "n = json.loads(json_data) # str->dict\n",
        "print(type(n)) #dict\n",
        "print(n)\n",
        "\n",
        "m = [10, 20 ,30 ,40 ,50] #list\n",
        "json_m = json.dumps(m) #list->str\n",
        "print(type(json_m)) #str\n",
        "print(json_m)\n",
        "\n",
        "p = json.loads(json_m) # str->list\n",
        "print(type(p)) #list\n",
        "print(p)"
      ],
      "metadata": {
        "colab": {
          "base_uri": "https://localhost:8080/"
        },
        "id": "-vEiFpCNNKYP",
        "outputId": "1d4e29cf-36dd-4963-f651-46e2b1f02c4b"
      },
      "execution_count": null,
      "outputs": [
        {
          "output_type": "stream",
          "name": "stdout",
          "text": [
            "['JSONDecodeError', 'JSONDecoder', 'JSONEncoder', '__all__', '__author__', '__builtins__', '__cached__', '__doc__', '__file__', '__loader__', '__name__', '__package__', '__path__', '__spec__', '__version__', '_default_decoder', '_default_encoder', 'codecs', 'decoder', 'detect_encoding', 'dump', 'dumps', 'encoder', 'load', 'loads', 'scanner']\n",
            "<class 'str'>\n",
            "{\"name\": \"\\uad8c\\uc21c\\ud615\", \"birth\": \"0829\", \"age\": 30}\n",
            "<class 'dict'>\n",
            "{'name': '권순형', 'birth': '0829', 'age': 30}\n",
            "<class 'str'>\n",
            "[10, 20, 30, 40, 50]\n",
            "<class 'list'>\n",
            "[10, 20, 30, 40, 50]\n"
          ]
        }
      ]
    },
    {
      "cell_type": "code",
      "source": [
        "from google.colab import drive\n",
        "drive.mount('/content/drive')"
      ],
      "metadata": {
        "colab": {
          "base_uri": "https://localhost:8080/"
        },
        "id": "NZucy5dyhfPR",
        "outputId": "d47e7981-3a8c-4b7d-8653-35f2e92b1436"
      },
      "execution_count": null,
      "outputs": [
        {
          "output_type": "stream",
          "name": "stdout",
          "text": [
            "Mounted at /content/drive\n"
          ]
        }
      ]
    },
    {
      "cell_type": "code",
      "source": [
        "%cd /content/drive/MyDrive/ai_chat_python"
      ],
      "metadata": {
        "colab": {
          "base_uri": "https://localhost:8080/"
        },
        "id": "ci6oWPgshnAi",
        "outputId": "381fb562-3b94-4ded-8181-201fdef0bd55"
      },
      "execution_count": null,
      "outputs": [
        {
          "output_type": "stream",
          "name": "stdout",
          "text": [
            "/content/drive/MyDrive/ai_chat_python\n"
          ]
        }
      ]
    },
    {
      "cell_type": "code",
      "source": [
        "import json\n",
        "\n",
        "d = {'name':'홍길동', 'birth':'0525', 'age':30} #dict\n",
        "m = [10, 20, 30, 40, 50]\n",
        "with open('./source/jsondata.json', 'w') as f:\n",
        "  json.dump(d, f)#dict -> file에 저장\n",
        "  #json.dump(m, f) #list를 file에 저장\n",
        "\n",
        "with open('./source/jsondata.json', 'r') as f:\n",
        "  k = json.load(f) #file -> dict로 읽어옴\n",
        "  print(k)\n",
        "  print(type(k))"
      ],
      "metadata": {
        "colab": {
          "base_uri": "https://localhost:8080/"
        },
        "id": "4_BECeCsh60o",
        "outputId": "756986e6-9524-473d-8db7-1a100ed86579"
      },
      "execution_count": null,
      "outputs": [
        {
          "output_type": "stream",
          "name": "stdout",
          "text": [
            "[10, 20, 30, 40, 50]\n",
            "<class 'list'>\n"
          ]
        }
      ]
    }
  ]
}