{
  "nbformat": 4,
  "nbformat_minor": 0,
  "metadata": {
    "colab": {
      "provenance": [],
      "authorship_tag": "ABX9TyMNnNPcVdLo0yVXyCTvscCE",
      "include_colab_link": true
    },
    "kernelspec": {
      "name": "python3",
      "display_name": "Python 3"
    },
    "language_info": {
      "name": "python"
    }
  },
  "cells": [
    {
      "cell_type": "markdown",
      "metadata": {
        "id": "view-in-github",
        "colab_type": "text"
      },
      "source": [
        "<a href=\"https://colab.research.google.com/github/onsoon829/dataproject/blob/master/200_numpy.ipynb\" target=\"_parent\"><img src=\"https://colab.research.google.com/assets/colab-badge.svg\" alt=\"Open In Colab\"/></a>"
      ]
    },
    {
      "cell_type": "markdown",
      "source": [
        "# Numpy\n",
        "- NumPy는 Numerical Python의 줄임말로, 파이썬에서 산술 계산을 위한 가장 필수 패키지중 하나이다.\n",
        "- 과학 계산을 위한 대부분의 패키지는 NumPy의 배열 객체를 데이터 교환을 위한 공통 언어처럼 사용한다.\n",
        "- 효율적인 다차원 배열인 ndarray(n dimensional array)는 빠른 배열 계산과 유연한 브로드캐스팅 기능을 제공한다.\n",
        "- 반복문을 작성할 필요 없이 전체 데이터 배열을 빠르게 계산할 수 있는 표준 수학 함수이다.\n",
        "- 배열 데이터를 디스크에 쓰거나 읽을 수 있는 도구와 메모리에 적재된 파일을 다루는 도구이다.\n",
        "- 선형대수, 난수 생성기등에 사용된다.\n",
        "- C, C++, 포트란으로 작성한 코드를 연결할 수 있는 C API가 제공된다.\n",
        "\n",
        "\n",
        "공식문서 https://numpy.org/doc/stable/  \n",
        "numpy 100 문제 https://github.com/rougier/numpy-100"
      ],
      "metadata": {
        "id": "0Q6xR6l0QAX2"
      }
    },
    {
      "cell_type": "markdown",
      "source": [],
      "metadata": {
        "id": "SGBWYL8ER5rG"
      }
    },
    {
      "cell_type": "markdown",
      "source": [
        "## 1. 데이터 생성"
      ],
      "metadata": {
        "id": "prE2e9I9R5sH"
      }
    },
    {
      "cell_type": "code",
      "source": [
        "# pip install numpy\n",
        "\n",
        "import numpy as np"
      ],
      "metadata": {
        "id": "0Q6q50oZRyw2"
      },
      "execution_count": null,
      "outputs": []
    },
    {
      "cell_type": "markdown",
      "source": [
        "np.zeros() -> 모두 0 처리"
      ],
      "metadata": {
        "id": "641WDsmbTvdP"
      }
    },
    {
      "cell_type": "code",
      "source": [
        "a = np.zeros(3) #1차원 배열 - 벡터\n",
        "a"
      ],
      "metadata": {
        "colab": {
          "base_uri": "https://localhost:8080/"
        },
        "id": "WHkf2eDQSOE5",
        "outputId": "2a1a6495-d823-4416-8bb2-2ba5e886f4d0"
      },
      "execution_count": null,
      "outputs": [
        {
          "output_type": "execute_result",
          "data": {
            "text/plain": [
              "array([0., 0., 0.])"
            ]
          },
          "metadata": {},
          "execution_count": 61
        }
      ]
    },
    {
      "cell_type": "code",
      "source": [
        "print(dir(a))"
      ],
      "metadata": {
        "colab": {
          "base_uri": "https://localhost:8080/"
        },
        "id": "OOCPD2SpSWcN",
        "outputId": "96199041-4814-4b8a-9d28-03ba6374bc30"
      },
      "execution_count": null,
      "outputs": [
        {
          "output_type": "stream",
          "name": "stdout",
          "text": [
            "['T', '__abs__', '__add__', '__and__', '__array__', '__array_finalize__', '__array_function__', '__array_interface__', '__array_prepare__', '__array_priority__', '__array_struct__', '__array_ufunc__', '__array_wrap__', '__bool__', '__class__', '__class_getitem__', '__complex__', '__contains__', '__copy__', '__deepcopy__', '__delattr__', '__delitem__', '__dir__', '__divmod__', '__dlpack__', '__dlpack_device__', '__doc__', '__eq__', '__float__', '__floordiv__', '__format__', '__ge__', '__getattribute__', '__getitem__', '__gt__', '__hash__', '__iadd__', '__iand__', '__ifloordiv__', '__ilshift__', '__imatmul__', '__imod__', '__imul__', '__index__', '__init__', '__init_subclass__', '__int__', '__invert__', '__ior__', '__ipow__', '__irshift__', '__isub__', '__iter__', '__itruediv__', '__ixor__', '__le__', '__len__', '__lshift__', '__lt__', '__matmul__', '__mod__', '__mul__', '__ne__', '__neg__', '__new__', '__or__', '__pos__', '__pow__', '__radd__', '__rand__', '__rdivmod__', '__reduce__', '__reduce_ex__', '__repr__', '__rfloordiv__', '__rlshift__', '__rmatmul__', '__rmod__', '__rmul__', '__ror__', '__rpow__', '__rrshift__', '__rshift__', '__rsub__', '__rtruediv__', '__rxor__', '__setattr__', '__setitem__', '__setstate__', '__sizeof__', '__str__', '__sub__', '__subclasshook__', '__truediv__', '__xor__', 'all', 'any', 'argmax', 'argmin', 'argpartition', 'argsort', 'astype', 'base', 'byteswap', 'choose', 'clip', 'compress', 'conj', 'conjugate', 'copy', 'ctypes', 'cumprod', 'cumsum', 'data', 'diagonal', 'dot', 'dtype', 'dump', 'dumps', 'fill', 'flags', 'flat', 'flatten', 'getfield', 'imag', 'item', 'itemset', 'itemsize', 'max', 'mean', 'min', 'nbytes', 'ndim', 'newbyteorder', 'nonzero', 'partition', 'prod', 'ptp', 'put', 'ravel', 'real', 'repeat', 'reshape', 'resize', 'round', 'searchsorted', 'setfield', 'setflags', 'shape', 'size', 'sort', 'squeeze', 'std', 'strides', 'sum', 'swapaxes', 'take', 'tobytes', 'tofile', 'tolist', 'tostring', 'trace', 'transpose', 'var', 'view']\n"
          ]
        }
      ]
    },
    {
      "cell_type": "code",
      "source": [
        "print(a.__repr__)"
      ],
      "metadata": {
        "colab": {
          "base_uri": "https://localhost:8080/"
        },
        "id": "6d2R-kx-TALW",
        "outputId": "916f0dbb-b264-4cca-fa20-34d4cd6a069c"
      },
      "execution_count": null,
      "outputs": [
        {
          "output_type": "stream",
          "name": "stdout",
          "text": [
            "<method-wrapper '__repr__' of numpy.ndarray object at 0x7e66bc8d4450>\n"
          ]
        }
      ]
    },
    {
      "cell_type": "code",
      "source": [
        "print(a.__str__)"
      ],
      "metadata": {
        "colab": {
          "base_uri": "https://localhost:8080/"
        },
        "id": "rbKCTfRuTGsd",
        "outputId": "dc52048f-81d7-49dc-d16d-642810f58607"
      },
      "execution_count": null,
      "outputs": [
        {
          "output_type": "stream",
          "name": "stdout",
          "text": [
            "<method-wrapper '__str__' of numpy.ndarray object at 0x7e66bc8d4450>\n"
          ]
        }
      ]
    },
    {
      "cell_type": "code",
      "source": [
        "print(type(a))"
      ],
      "metadata": {
        "colab": {
          "base_uri": "https://localhost:8080/"
        },
        "id": "PNE6jpUeTSp9",
        "outputId": "97aef3ff-bc09-4391-c1f1-7f5c3e149ac6"
      },
      "execution_count": null,
      "outputs": [
        {
          "output_type": "stream",
          "name": "stdout",
          "text": [
            "<class 'numpy.ndarray'>\n"
          ]
        }
      ]
    },
    {
      "cell_type": "markdown",
      "source": [
        "np.array()"
      ],
      "metadata": {
        "id": "ru5aBxoJT2c1"
      }
    },
    {
      "cell_type": "code",
      "source": [
        "#1차원 배열 = 벡터\n",
        "a = np.array([1, 2, 3])\n",
        "a"
      ],
      "metadata": {
        "colab": {
          "base_uri": "https://localhost:8080/"
        },
        "id": "mkF401UNT5kw",
        "outputId": "e8d98fe7-669f-4c81-fdae-6c84f25d942e"
      },
      "execution_count": null,
      "outputs": [
        {
          "output_type": "execute_result",
          "data": {
            "text/plain": [
              "array([1, 2, 3])"
            ]
          },
          "metadata": {},
          "execution_count": 14
        }
      ]
    },
    {
      "cell_type": "code",
      "source": [
        "print(a)\n",
        "print(dir(a))\n",
        "print(type(a))"
      ],
      "metadata": {
        "colab": {
          "base_uri": "https://localhost:8080/"
        },
        "id": "DV1BAlNJUEet",
        "outputId": "a475544e-73b8-45c8-fc44-5ab0493af416"
      },
      "execution_count": null,
      "outputs": [
        {
          "output_type": "stream",
          "name": "stdout",
          "text": [
            "[1 2 3]\n",
            "['T', '__abs__', '__add__', '__and__', '__array__', '__array_finalize__', '__array_function__', '__array_interface__', '__array_prepare__', '__array_priority__', '__array_struct__', '__array_ufunc__', '__array_wrap__', '__bool__', '__class__', '__class_getitem__', '__complex__', '__contains__', '__copy__', '__deepcopy__', '__delattr__', '__delitem__', '__dir__', '__divmod__', '__dlpack__', '__dlpack_device__', '__doc__', '__eq__', '__float__', '__floordiv__', '__format__', '__ge__', '__getattribute__', '__getitem__', '__gt__', '__hash__', '__iadd__', '__iand__', '__ifloordiv__', '__ilshift__', '__imatmul__', '__imod__', '__imul__', '__index__', '__init__', '__init_subclass__', '__int__', '__invert__', '__ior__', '__ipow__', '__irshift__', '__isub__', '__iter__', '__itruediv__', '__ixor__', '__le__', '__len__', '__lshift__', '__lt__', '__matmul__', '__mod__', '__mul__', '__ne__', '__neg__', '__new__', '__or__', '__pos__', '__pow__', '__radd__', '__rand__', '__rdivmod__', '__reduce__', '__reduce_ex__', '__repr__', '__rfloordiv__', '__rlshift__', '__rmatmul__', '__rmod__', '__rmul__', '__ror__', '__rpow__', '__rrshift__', '__rshift__', '__rsub__', '__rtruediv__', '__rxor__', '__setattr__', '__setitem__', '__setstate__', '__sizeof__', '__str__', '__sub__', '__subclasshook__', '__truediv__', '__xor__', 'all', 'any', 'argmax', 'argmin', 'argpartition', 'argsort', 'astype', 'base', 'byteswap', 'choose', 'clip', 'compress', 'conj', 'conjugate', 'copy', 'ctypes', 'cumprod', 'cumsum', 'data', 'diagonal', 'dot', 'dtype', 'dump', 'dumps', 'fill', 'flags', 'flat', 'flatten', 'getfield', 'imag', 'item', 'itemset', 'itemsize', 'max', 'mean', 'min', 'nbytes', 'ndim', 'newbyteorder', 'nonzero', 'partition', 'prod', 'ptp', 'put', 'ravel', 'real', 'repeat', 'reshape', 'resize', 'round', 'searchsorted', 'setfield', 'setflags', 'shape', 'size', 'sort', 'squeeze', 'std', 'strides', 'sum', 'swapaxes', 'take', 'tobytes', 'tofile', 'tolist', 'tostring', 'trace', 'transpose', 'var', 'view']\n",
            "<class 'numpy.ndarray'>\n"
          ]
        }
      ]
    },
    {
      "cell_type": "code",
      "source": [
        "#2차원 배열 = 행렬\n",
        "b = np.array([[1, 2],[3, 4]]) #2행 2열\n",
        "b"
      ],
      "metadata": {
        "colab": {
          "base_uri": "https://localhost:8080/"
        },
        "id": "9BrXOOkIUXJ4",
        "outputId": "15b8ff22-6300-47f2-99b3-e9646332e434"
      },
      "execution_count": null,
      "outputs": [
        {
          "output_type": "execute_result",
          "data": {
            "text/plain": [
              "array([[1, 2],\n",
              "       [3, 4]])"
            ]
          },
          "metadata": {},
          "execution_count": 20
        }
      ]
    },
    {
      "cell_type": "code",
      "source": [
        "print(b)\n",
        "print(dir(b))\n",
        "print(type(b))\n",
        "print(b.shape) #현재 배열의 모양을 알고 싶다 -> shape"
      ],
      "metadata": {
        "colab": {
          "base_uri": "https://localhost:8080/"
        },
        "id": "QBSb9YOyU4fz",
        "outputId": "a592d18a-b6cb-4d39-d788-7d7660319cc0"
      },
      "execution_count": null,
      "outputs": [
        {
          "output_type": "stream",
          "name": "stdout",
          "text": [
            "[[1 2]\n",
            " [3 4]]\n",
            "['T', '__abs__', '__add__', '__and__', '__array__', '__array_finalize__', '__array_function__', '__array_interface__', '__array_prepare__', '__array_priority__', '__array_struct__', '__array_ufunc__', '__array_wrap__', '__bool__', '__class__', '__class_getitem__', '__complex__', '__contains__', '__copy__', '__deepcopy__', '__delattr__', '__delitem__', '__dir__', '__divmod__', '__dlpack__', '__dlpack_device__', '__doc__', '__eq__', '__float__', '__floordiv__', '__format__', '__ge__', '__getattribute__', '__getitem__', '__gt__', '__hash__', '__iadd__', '__iand__', '__ifloordiv__', '__ilshift__', '__imatmul__', '__imod__', '__imul__', '__index__', '__init__', '__init_subclass__', '__int__', '__invert__', '__ior__', '__ipow__', '__irshift__', '__isub__', '__iter__', '__itruediv__', '__ixor__', '__le__', '__len__', '__lshift__', '__lt__', '__matmul__', '__mod__', '__mul__', '__ne__', '__neg__', '__new__', '__or__', '__pos__', '__pow__', '__radd__', '__rand__', '__rdivmod__', '__reduce__', '__reduce_ex__', '__repr__', '__rfloordiv__', '__rlshift__', '__rmatmul__', '__rmod__', '__rmul__', '__ror__', '__rpow__', '__rrshift__', '__rshift__', '__rsub__', '__rtruediv__', '__rxor__', '__setattr__', '__setitem__', '__setstate__', '__sizeof__', '__str__', '__sub__', '__subclasshook__', '__truediv__', '__xor__', 'all', 'any', 'argmax', 'argmin', 'argpartition', 'argsort', 'astype', 'base', 'byteswap', 'choose', 'clip', 'compress', 'conj', 'conjugate', 'copy', 'ctypes', 'cumprod', 'cumsum', 'data', 'diagonal', 'dot', 'dtype', 'dump', 'dumps', 'fill', 'flags', 'flat', 'flatten', 'getfield', 'imag', 'item', 'itemset', 'itemsize', 'max', 'mean', 'min', 'nbytes', 'ndim', 'newbyteorder', 'nonzero', 'partition', 'prod', 'ptp', 'put', 'ravel', 'real', 'repeat', 'reshape', 'resize', 'round', 'searchsorted', 'setfield', 'setflags', 'shape', 'size', 'sort', 'squeeze', 'std', 'strides', 'sum', 'swapaxes', 'take', 'tobytes', 'tofile', 'tolist', 'tostring', 'trace', 'transpose', 'var', 'view']\n",
            "<class 'numpy.ndarray'>\n",
            "(2, 2)\n"
          ]
        }
      ]
    },
    {
      "cell_type": "code",
      "source": [
        "# 3차원 배열 이상 = 텐서(tensor)\n",
        "c = np.array([[[[1,2],[3,4]],[5,7],[7,8]]]) # 2층(면, 공간), 2행, 2열"
      ],
      "metadata": {
        "colab": {
          "base_uri": "https://localhost:8080/"
        },
        "id": "0T-tDTXTVeSU",
        "outputId": "49f2fd28-04f2-4fdb-c74f-a503bf45de98"
      },
      "execution_count": null,
      "outputs": [
        {
          "output_type": "stream",
          "name": "stderr",
          "text": [
            "<ipython-input-25-fbc10a9528d6>:2: VisibleDeprecationWarning: Creating an ndarray from ragged nested sequences (which is a list-or-tuple of lists-or-tuples-or ndarrays with different lengths or shapes) is deprecated. If you meant to do this, you must specify 'dtype=object' when creating the ndarray.\n",
            "  c = np.array([[[[1,2],[3,4]],[5,7],[7,8]]]) # 2층(면, 공간), 2행, 2열\n"
          ]
        }
      ]
    },
    {
      "cell_type": "code",
      "source": [
        "print(c)\n",
        "print(dir(c))\n",
        "print(type(c))\n",
        "print(c.shape)"
      ],
      "metadata": {
        "colab": {
          "base_uri": "https://localhost:8080/"
        },
        "id": "mASJAMQYWJ0_",
        "outputId": "63958916-a7c2-45c1-9860-533c65260cee"
      },
      "execution_count": null,
      "outputs": [
        {
          "output_type": "stream",
          "name": "stdout",
          "text": [
            "[[[list([1, 2]) list([3, 4])]\n",
            "  [5 7]\n",
            "  [7 8]]]\n",
            "['T', '__abs__', '__add__', '__and__', '__array__', '__array_finalize__', '__array_function__', '__array_interface__', '__array_prepare__', '__array_priority__', '__array_struct__', '__array_ufunc__', '__array_wrap__', '__bool__', '__class__', '__class_getitem__', '__complex__', '__contains__', '__copy__', '__deepcopy__', '__delattr__', '__delitem__', '__dir__', '__divmod__', '__dlpack__', '__dlpack_device__', '__doc__', '__eq__', '__float__', '__floordiv__', '__format__', '__ge__', '__getattribute__', '__getitem__', '__gt__', '__hash__', '__iadd__', '__iand__', '__ifloordiv__', '__ilshift__', '__imatmul__', '__imod__', '__imul__', '__index__', '__init__', '__init_subclass__', '__int__', '__invert__', '__ior__', '__ipow__', '__irshift__', '__isub__', '__iter__', '__itruediv__', '__ixor__', '__le__', '__len__', '__lshift__', '__lt__', '__matmul__', '__mod__', '__mul__', '__ne__', '__neg__', '__new__', '__or__', '__pos__', '__pow__', '__radd__', '__rand__', '__rdivmod__', '__reduce__', '__reduce_ex__', '__repr__', '__rfloordiv__', '__rlshift__', '__rmatmul__', '__rmod__', '__rmul__', '__ror__', '__rpow__', '__rrshift__', '__rshift__', '__rsub__', '__rtruediv__', '__rxor__', '__setattr__', '__setitem__', '__setstate__', '__sizeof__', '__str__', '__sub__', '__subclasshook__', '__truediv__', '__xor__', 'all', 'any', 'argmax', 'argmin', 'argpartition', 'argsort', 'astype', 'base', 'byteswap', 'choose', 'clip', 'compress', 'conj', 'conjugate', 'copy', 'ctypes', 'cumprod', 'cumsum', 'data', 'diagonal', 'dot', 'dtype', 'dump', 'dumps', 'fill', 'flags', 'flat', 'flatten', 'getfield', 'imag', 'item', 'itemset', 'itemsize', 'max', 'mean', 'min', 'nbytes', 'ndim', 'newbyteorder', 'nonzero', 'partition', 'prod', 'ptp', 'put', 'ravel', 'real', 'repeat', 'reshape', 'resize', 'round', 'searchsorted', 'setfield', 'setflags', 'shape', 'size', 'sort', 'squeeze', 'std', 'strides', 'sum', 'swapaxes', 'take', 'tobytes', 'tofile', 'tolist', 'tostring', 'trace', 'transpose', 'var', 'view']\n",
            "<class 'numpy.ndarray'>\n",
            "(1, 3, 2)\n"
          ]
        }
      ]
    },
    {
      "cell_type": "code",
      "source": [
        "a = np.array([1,2,3])\n",
        "print(a)\n",
        "print(a[0])"
      ],
      "metadata": {
        "colab": {
          "base_uri": "https://localhost:8080/"
        },
        "id": "ymm_AWDdWgET",
        "outputId": "dd43d8ba-9509-4142-bf2c-0a8923f726fd"
      },
      "execution_count": null,
      "outputs": [
        {
          "output_type": "stream",
          "name": "stdout",
          "text": [
            "[1 2 3]\n",
            "1\n"
          ]
        }
      ]
    },
    {
      "cell_type": "code",
      "source": [
        "#문자 데이터가 하나라도 있으면 전체가 문자로 바뀐다.\n",
        "#numpy는 homogenous -> 같은 데이터 타입만 저장할 수 있다.\n",
        "a = np.array([1,'2',3])\n",
        "print(a)\n",
        "print(a[0])"
      ],
      "metadata": {
        "colab": {
          "base_uri": "https://localhost:8080/"
        },
        "id": "kLSB-nXtWt_s",
        "outputId": "624a8649-70d5-4c2b-a4bb-f698426ad8cf"
      },
      "execution_count": null,
      "outputs": [
        {
          "output_type": "stream",
          "name": "stdout",
          "text": [
            "['1' '2' '3']\n",
            "1\n"
          ]
        }
      ]
    },
    {
      "cell_type": "code",
      "source": [
        "a = np.array(['a',1,True])\n",
        "print(a)\n",
        "print(a[0])"
      ],
      "metadata": {
        "colab": {
          "base_uri": "https://localhost:8080/"
        },
        "id": "5F0smWK9XaHs",
        "outputId": "66a0efb5-37da-42b7-ddee-189aa33851d0"
      },
      "execution_count": null,
      "outputs": [
        {
          "output_type": "stream",
          "name": "stdout",
          "text": [
            "['a' '1' 'True']\n",
            "a\n"
          ]
        }
      ]
    },
    {
      "cell_type": "code",
      "source": [
        "a = np.array([0,False,1,True]) # False->0 True-> 1\n",
        "print(a)\n",
        "print(a[0])"
      ],
      "metadata": {
        "colab": {
          "base_uri": "https://localhost:8080/"
        },
        "id": "FSwqyZ24XpqV",
        "outputId": "60f3fd54-27d9-4525-aa3d-ab54428ba45e"
      },
      "execution_count": null,
      "outputs": [
        {
          "output_type": "stream",
          "name": "stdout",
          "text": [
            "[0 0 1 1]\n",
            "0\n"
          ]
        }
      ]
    },
    {
      "cell_type": "markdown",
      "source": [
        "np.zeros\n",
        " - tuple로 인자를 넣으면 그대로 모양을 만든다.\n",
        " - (2,3) : 2행 3열의 행렬을 만든다.\n",
        " - zeros는 기본값으로 0.으로 값을 모두 채운다.\n",
        "   - np.zeros((2,3))\n",
        "   - np.zeros([2,3])"
      ],
      "metadata": {
        "id": "cwxTkV8TYDnN"
      }
    },
    {
      "cell_type": "code",
      "source": [
        "a = np.zeros(3)\n",
        "print(a)\n",
        "print(a.shape)"
      ],
      "metadata": {
        "colab": {
          "base_uri": "https://localhost:8080/"
        },
        "id": "YbY5tpovYhUO",
        "outputId": "a593a0d5-349b-4d80-ce44-ea84d369de6e"
      },
      "execution_count": null,
      "outputs": [
        {
          "output_type": "stream",
          "name": "stdout",
          "text": [
            "[0. 0. 0.]\n",
            "(3,)\n"
          ]
        }
      ]
    },
    {
      "cell_type": "code",
      "source": [
        "a = np.zeros((2,3))\n",
        "print(a)\n",
        "print(a.shape)"
      ],
      "metadata": {
        "colab": {
          "base_uri": "https://localhost:8080/"
        },
        "id": "q-aoK02uYvg0",
        "outputId": "83231d5e-a6d0-4852-8438-4111d84a1a7a"
      },
      "execution_count": null,
      "outputs": [
        {
          "output_type": "stream",
          "name": "stdout",
          "text": [
            "[[0. 0. 0.]\n",
            " [0. 0. 0.]]\n",
            "(2, 3)\n"
          ]
        }
      ]
    },
    {
      "cell_type": "code",
      "source": [
        "a = np.zeros([2,3])\n",
        "print(a)\n",
        "print(a.shape)"
      ],
      "metadata": {
        "colab": {
          "base_uri": "https://localhost:8080/"
        },
        "id": "GC-lI1F1ZKyL",
        "outputId": "fc8974c4-e607-43f6-c28c-20ff699c99cf"
      },
      "execution_count": null,
      "outputs": [
        {
          "output_type": "stream",
          "name": "stdout",
          "text": [
            "[[0. 0. 0.]\n",
            " [0. 0. 0.]]\n",
            "(2, 3)\n"
          ]
        }
      ]
    },
    {
      "cell_type": "markdown",
      "source": [
        "###np.eye\n",
        " - eye는 단위행렬\n",
        " - 숫자만 사용할 수 있다."
      ],
      "metadata": {
        "id": "CcBgcPfKZ7Xq"
      }
    },
    {
      "cell_type": "code",
      "source": [
        "a= np.eye(3) #3행 3열?\n",
        "a"
      ],
      "metadata": {
        "colab": {
          "base_uri": "https://localhost:8080/"
        },
        "id": "PJO299YFq0kh",
        "outputId": "0c8cf584-19a4-405a-9707-ea760b6c2a4d"
      },
      "execution_count": null,
      "outputs": [
        {
          "output_type": "execute_result",
          "data": {
            "text/plain": [
              "array([[1., 0., 0.],\n",
              "       [0., 1., 0.],\n",
              "       [0., 0., 1.]])"
            ]
          },
          "metadata": {},
          "execution_count": 273
        }
      ]
    },
    {
      "cell_type": "code",
      "source": [
        "#eye는 행과 열의 크기를 지정할 수 있다.\n",
        "#3행 2열 행렬 생성\n",
        "a = np.eye(3,2) #3행 2열\n",
        "a"
      ],
      "metadata": {
        "colab": {
          "base_uri": "https://localhost:8080/"
        },
        "id": "Bx1BrOxSq64W",
        "outputId": "5a014ec4-b544-4319-952d-e19214fb0055"
      },
      "execution_count": null,
      "outputs": [
        {
          "output_type": "execute_result",
          "data": {
            "text/plain": [
              "array([[1., 0.],\n",
              "       [0., 1.],\n",
              "       [0., 0.]])"
            ]
          },
          "metadata": {},
          "execution_count": 64
        }
      ]
    },
    {
      "cell_type": "code",
      "source": [
        "#1을 시작뒤는 위치를 지정할 수 있다.(k=1)\n",
        "a = np.eye(3, 4, k=1) #3행 4열\n",
        "a"
      ],
      "metadata": {
        "colab": {
          "base_uri": "https://localhost:8080/"
        },
        "id": "88iZHmz2r75h",
        "outputId": "6821d707-e17f-4f70-d589-effbba296a8f"
      },
      "execution_count": null,
      "outputs": [
        {
          "output_type": "execute_result",
          "data": {
            "text/plain": [
              "array([[0., 1., 0., 0.],\n",
              "       [0., 0., 1., 0.],\n",
              "       [0., 0., 0., 1.]])"
            ]
          },
          "metadata": {},
          "execution_count": 279
        }
      ]
    },
    {
      "cell_type": "markdown",
      "source": [
        "### identity\n",
        " - 수학에서 단위행렬은 영어로 identity matrix\n",
        " - 크기 한 개만 지정해서 생성할 수 있다."
      ],
      "metadata": {
        "id": "jdYhdr7qshY-"
      }
    },
    {
      "cell_type": "code",
      "source": [
        "a = np.identity(4)# 숫자에 따라 (그 숫자)행 (그 숫자)열로 출력값을 나타낸다.\n",
        "a"
      ],
      "metadata": {
        "colab": {
          "base_uri": "https://localhost:8080/"
        },
        "id": "QveYEuoQsvlZ",
        "outputId": "17b2065a-e370-4692-c464-ed1ef4a31648"
      },
      "execution_count": null,
      "outputs": [
        {
          "output_type": "execute_result",
          "data": {
            "text/plain": [
              "array([[1., 0., 0., 0.],\n",
              "       [0., 1., 0., 0.],\n",
              "       [0., 0., 1., 0.],\n",
              "       [0., 0., 0., 1.]])"
            ]
          },
          "metadata": {},
          "execution_count": 276
        }
      ]
    },
    {
      "cell_type": "markdown",
      "source": [
        "###np full\n",
        " - 지정한 크기의 배열을 생성하고 채울 값을 지정한다."
      ],
      "metadata": {
        "id": "hYcjUrBGtECn"
      }
    },
    {
      "cell_type": "code",
      "source": [
        "#2행 2열의 행렬을 생성하고 1로 초기화 해준다\n",
        "a = np.full((2,2), 1) #np.full(shape, fill_value)\n",
        "a"
      ],
      "metadata": {
        "colab": {
          "base_uri": "https://localhost:8080/"
        },
        "id": "9oBmncdltOkJ",
        "outputId": "939aa6e3-f679-4e6a-966f-98d7d8241761"
      },
      "execution_count": null,
      "outputs": [
        {
          "output_type": "execute_result",
          "data": {
            "text/plain": [
              "array([[1, 1],\n",
              "       [1, 1]])"
            ]
          },
          "metadata": {},
          "execution_count": 69
        }
      ]
    },
    {
      "cell_type": "code",
      "source": [
        "#2행 2열의 행렬을 생성하고 각 행마다 1, 2로 초기화 해준다\n",
        "a = np.full((2, 2), [1, 2])\n",
        "a"
      ],
      "metadata": {
        "colab": {
          "base_uri": "https://localhost:8080/"
        },
        "id": "bqORWVHPtaF1",
        "outputId": "453ede3a-84cc-44ab-ef57-ec3e579e1c46"
      },
      "execution_count": null,
      "outputs": [
        {
          "output_type": "execute_result",
          "data": {
            "text/plain": [
              "array([[1, 2],\n",
              "       [1, 2]])"
            ]
          },
          "metadata": {},
          "execution_count": 72
        }
      ]
    },
    {
      "cell_type": "code",
      "source": [
        "#2행 2열의 행렬을 생성하고 각 셀마다 1,2,3, 4로 초기화 해준다.\n",
        "a = np.full((2, 2), [[1, 2],[3, 4]])\n",
        "a"
      ],
      "metadata": {
        "colab": {
          "base_uri": "https://localhost:8080/"
        },
        "id": "aQn543XgtrC0",
        "outputId": "31293d8e-615a-4a6b-9727-a8e376487591"
      },
      "execution_count": null,
      "outputs": [
        {
          "output_type": "execute_result",
          "data": {
            "text/plain": [
              "array([[1, 2],\n",
              "       [3, 4]])"
            ]
          },
          "metadata": {},
          "execution_count": 69
        }
      ]
    },
    {
      "cell_type": "markdown",
      "source": [
        "### np,empty\n",
        " - 배열을 생성하고 초기화를 지정하지 않는다.\n",
        " - 메모리에 있는 이나 이전에 사용했던 값들로 채워진다."
      ],
      "metadata": {
        "id": "bJMum2I7uMfP"
      }
    },
    {
      "cell_type": "code",
      "source": [
        "a= np.empty(3)\n",
        "a"
      ],
      "metadata": {
        "colab": {
          "base_uri": "https://localhost:8080/"
        },
        "id": "pnBPC2OeuWiw",
        "outputId": "e4bf6b1c-d1d8-43e6-d913-3952439f0a66"
      },
      "execution_count": null,
      "outputs": [
        {
          "output_type": "execute_result",
          "data": {
            "text/plain": [
              "array([0. , 0.5, 1. ])"
            ]
          },
          "metadata": {},
          "execution_count": 3
        }
      ]
    },
    {
      "cell_type": "code",
      "source": [
        "#2행 2열이 생성됨\n",
        "a = np.empty((2,3))\n",
        "a"
      ],
      "metadata": {
        "colab": {
          "base_uri": "https://localhost:8080/"
        },
        "id": "sbQ-mVWovOpU",
        "outputId": "6d5cdc2a-4287-40a3-8693-19991fd95e31"
      },
      "execution_count": null,
      "outputs": [
        {
          "output_type": "execute_result",
          "data": {
            "text/plain": [
              "array([[4.78724835e-310, 0.00000000e+000, 3.87347466e-321],\n",
              "       [1.58101007e-322, 1.16904646e-313, 0.00000000e+000]])"
            ]
          },
          "metadata": {},
          "execution_count": 5
        }
      ]
    },
    {
      "cell_type": "markdown",
      "source": [
        "### np.ones\n",
        " - 배열의 모든 값을 1로 채운다."
      ],
      "metadata": {
        "id": "NlK8aV6Mu8cX"
      }
    },
    {
      "cell_type": "code",
      "source": [
        "a = np.ones(3)\n",
        "a"
      ],
      "metadata": {
        "colab": {
          "base_uri": "https://localhost:8080/"
        },
        "id": "V7WjzmspvzbU",
        "outputId": "9d6a776f-bf4e-4447-f954-769b9a1d09f7"
      },
      "execution_count": null,
      "outputs": [
        {
          "output_type": "execute_result",
          "data": {
            "text/plain": [
              "array([1., 1., 1.])"
            ]
          },
          "metadata": {},
          "execution_count": 6
        }
      ]
    },
    {
      "cell_type": "code",
      "source": [
        "a = np.ones((2,3))\n",
        "a"
      ],
      "metadata": {
        "colab": {
          "base_uri": "https://localhost:8080/"
        },
        "id": "QVvw-drav2s1",
        "outputId": "b9b60793-4803-4fd1-dbe2-64d6124e4857"
      },
      "execution_count": null,
      "outputs": [
        {
          "output_type": "execute_result",
          "data": {
            "text/plain": [
              "array([[1., 1., 1.],\n",
              "       [1., 1., 1.]])"
            ]
          },
          "metadata": {},
          "execution_count": 74
        }
      ]
    },
    {
      "cell_type": "markdown",
      "source": [
        "###_like\n",
        " - _like가 붙으면 shape이 같게 만들어진다.\n",
        " - 연산하기 위해서 shape을 맞춰야 하는 경우가 있다."
      ],
      "metadata": {
        "id": "dH5IPoK0wN1O"
      }
    },
    {
      "cell_type": "code",
      "source": [
        "#2행 3열의 배열 형성\n",
        "a = np.array([[1,2,3], [4,5,6]])\n",
        "a"
      ],
      "metadata": {
        "colab": {
          "base_uri": "https://localhost:8080/"
        },
        "id": "c1ePV4hxwmEn",
        "outputId": "0f15ea2f-6918-43f1-caa7-35ef403a6e08"
      },
      "execution_count": null,
      "outputs": [
        {
          "output_type": "execute_result",
          "data": {
            "text/plain": [
              "array([[1, 2, 3],\n",
              "       [4, 5, 6]])"
            ]
          },
          "metadata": {},
          "execution_count": 10
        }
      ]
    },
    {
      "cell_type": "code",
      "source": [
        "b = np.empty_like(a)\n",
        "b"
      ],
      "metadata": {
        "colab": {
          "base_uri": "https://localhost:8080/"
        },
        "id": "XpcHuHodw_jf",
        "outputId": "6ea0f798-af29-4e9e-f345-60bb47fa508f"
      },
      "execution_count": null,
      "outputs": [
        {
          "output_type": "execute_result",
          "data": {
            "text/plain": [
              "array([[1., 1., 1.],\n",
              "       [1., 1., 1.]])"
            ]
          },
          "metadata": {},
          "execution_count": 9
        }
      ]
    },
    {
      "cell_type": "code",
      "source": [
        "b = np.ones_like((a))\n",
        "b"
      ],
      "metadata": {
        "colab": {
          "base_uri": "https://localhost:8080/"
        },
        "id": "FPWFlS6uxPom",
        "outputId": "c6c0e1fe-85f4-44da-ed8c-ed1d6b8693be"
      },
      "execution_count": null,
      "outputs": [
        {
          "output_type": "execute_result",
          "data": {
            "text/plain": [
              "array([[1, 1, 1],\n",
              "       [1, 1, 1]])"
            ]
          },
          "metadata": {},
          "execution_count": 11
        }
      ]
    },
    {
      "cell_type": "code",
      "source": [
        "c = a + b\n",
        "c\n"
      ],
      "metadata": {
        "colab": {
          "base_uri": "https://localhost:8080/"
        },
        "id": "0OhWKPSdxrT2",
        "outputId": "d5e66e2f-316e-483b-bb34-e4c7e2608953"
      },
      "execution_count": null,
      "outputs": [
        {
          "output_type": "execute_result",
          "data": {
            "text/plain": [
              "array([[2, 3, 4],\n",
              "       [5, 6, 7]])"
            ]
          },
          "metadata": {},
          "execution_count": 12
        }
      ]
    },
    {
      "cell_type": "markdown",
      "source": [
        "##linspace\n",
        " - 동등한 간격으로 값을 생성한다.\n",
        " - 0부터49까지 50개가 생성된다면 세 번째 num인자 값이 생략되어 있으므로 start와 end 계산해서 default 50이 생성된다.\n",
        " -"
      ],
      "metadata": {
        "id": "j6f4aXdHx_ju"
      }
    },
    {
      "cell_type": "code",
      "source": [
        "a = np.linspace(0,5)\n",
        "a"
      ],
      "metadata": {
        "colab": {
          "base_uri": "https://localhost:8080/"
        },
        "id": "2oy0O9Qxy-E_",
        "outputId": "acbc2517-da12-49b2-b13f-31359d0612a0"
      },
      "execution_count": null,
      "outputs": [
        {
          "output_type": "execute_result",
          "data": {
            "text/plain": [
              "array([0.        , 0.10204082, 0.20408163, 0.30612245, 0.40816327,\n",
              "       0.51020408, 0.6122449 , 0.71428571, 0.81632653, 0.91836735,\n",
              "       1.02040816, 1.12244898, 1.2244898 , 1.32653061, 1.42857143,\n",
              "       1.53061224, 1.63265306, 1.73469388, 1.83673469, 1.93877551,\n",
              "       2.04081633, 2.14285714, 2.24489796, 2.34693878, 2.44897959,\n",
              "       2.55102041, 2.65306122, 2.75510204, 2.85714286, 2.95918367,\n",
              "       3.06122449, 3.16326531, 3.26530612, 3.36734694, 3.46938776,\n",
              "       3.57142857, 3.67346939, 3.7755102 , 3.87755102, 3.97959184,\n",
              "       4.08163265, 4.18367347, 4.28571429, 4.3877551 , 4.48979592,\n",
              "       4.59183673, 4.69387755, 4.79591837, 4.89795918, 5.        ])"
            ]
          },
          "metadata": {},
          "execution_count": 82
        }
      ]
    },
    {
      "cell_type": "code",
      "source": [
        "# endpoint=False 설정하면 5가 표함이 안된다.\n",
        "a = np.linspace(0, 5, endpoint=False)\n",
        "a"
      ],
      "metadata": {
        "colab": {
          "base_uri": "https://localhost:8080/"
        },
        "id": "oI_fsTo7zXEb",
        "outputId": "9d17a087-d692-40b4-da0e-79e2a25ee3c5"
      },
      "execution_count": null,
      "outputs": [
        {
          "output_type": "execute_result",
          "data": {
            "text/plain": [
              "array([0. , 0.1, 0.2, 0.3, 0.4, 0.5, 0.6, 0.7, 0.8, 0.9, 1. , 1.1, 1.2,\n",
              "       1.3, 1.4, 1.5, 1.6, 1.7, 1.8, 1.9, 2. , 2.1, 2.2, 2.3, 2.4, 2.5,\n",
              "       2.6, 2.7, 2.8, 2.9, 3. , 3.1, 3.2, 3.3, 3.4, 3.5, 3.6, 3.7, 3.8,\n",
              "       3.9, 4. , 4.1, 4.2, 4.3, 4.4, 4.5, 4.6, 4.7, 4.8, 4.9])"
            ]
          },
          "metadata": {},
          "execution_count": 17
        }
      ]
    },
    {
      "cell_type": "markdown",
      "source": [
        "###logspace\n",
        " - linspace와  비슷하다.\n",
        " -  log scale을 사용하는 차이가 있다.\n",
        " - 1부터 50까지 사이의 10개의 요소를 생성한다."
      ],
      "metadata": {
        "id": "2_r6biAcz5Je"
      }
    },
    {
      "cell_type": "code",
      "source": [
        "np.logspace(1, 50, 10)"
      ],
      "metadata": {
        "colab": {
          "base_uri": "https://localhost:8080/"
        },
        "id": "_AZ2v6gt0cP2",
        "outputId": "5a2e925e-a58d-426d-be79-ee01790c910f"
      },
      "execution_count": null,
      "outputs": [
        {
          "output_type": "execute_result",
          "data": {
            "text/plain": [
              "array([1.00000000e+01, 2.78255940e+06, 7.74263683e+11, 2.15443469e+17,\n",
              "       5.99484250e+22, 1.66810054e+28, 4.64158883e+33, 1.29154967e+39,\n",
              "       3.59381366e+44, 1.00000000e+50])"
            ]
          },
          "metadata": {},
          "execution_count": 84
        }
      ]
    },
    {
      "cell_type": "markdown",
      "source": [
        "dtype"
      ],
      "metadata": {
        "id": "Svg6Eu394t9d"
      }
    },
    {
      "cell_type": "code",
      "source": [
        "a = np.array([1,2,3])\n",
        "a"
      ],
      "metadata": {
        "colab": {
          "base_uri": "https://localhost:8080/"
        },
        "id": "n5bPPImj47DV",
        "outputId": "4e4758a0-e817-4922-cfa9-2d398ef3f49d"
      },
      "execution_count": null,
      "outputs": [
        {
          "output_type": "execute_result",
          "data": {
            "text/plain": [
              "array([1, 2, 3])"
            ]
          },
          "metadata": {},
          "execution_count": 20
        }
      ]
    },
    {
      "cell_type": "code",
      "source": [
        "print(type(a))\n",
        "print(a.dtype) # int64 : 정수 64비트 => 8byte"
      ],
      "metadata": {
        "colab": {
          "base_uri": "https://localhost:8080/"
        },
        "id": "URRw1RGn5Bbs",
        "outputId": "cb509899-20fc-4548-c912-8ca895960fb7"
      },
      "execution_count": null,
      "outputs": [
        {
          "output_type": "stream",
          "name": "stdout",
          "text": [
            "<class 'numpy.ndarray'>\n",
            "int64\n"
          ]
        }
      ]
    },
    {
      "cell_type": "code",
      "source": [
        "b = np.array([1,2,3], dtype=np.int8)\n",
        "b"
      ],
      "metadata": {
        "colab": {
          "base_uri": "https://localhost:8080/"
        },
        "id": "mTOInSrU5Szk",
        "outputId": "ba7aac64-26d4-4678-89ee-1415a003a2d6"
      },
      "execution_count": null,
      "outputs": [
        {
          "output_type": "execute_result",
          "data": {
            "text/plain": [
              "array([1, 2, 3], dtype=int8)"
            ]
          },
          "metadata": {},
          "execution_count": 23
        }
      ]
    },
    {
      "cell_type": "code",
      "source": [
        "#np.int8은 -128~127 사이의 값을 저장할 수 있다.\n",
        "b = np.array([-128,-127,5,100,127], dtype=np.int8)\n",
        "b"
      ],
      "metadata": {
        "colab": {
          "base_uri": "https://localhost:8080/"
        },
        "id": "lCcl9NT_8SFp",
        "outputId": "fbcaf3cc-a9ae-4f56-ed42-7ef0c4284f60"
      },
      "execution_count": null,
      "outputs": [
        {
          "output_type": "execute_result",
          "data": {
            "text/plain": [
              "array([-128, -127,    5,  100,  127], dtype=int8)"
            ]
          },
          "metadata": {},
          "execution_count": 26
        }
      ]
    },
    {
      "cell_type": "code",
      "source": [
        "#np.int8은 -128~127 사이의 값을 저장할 수 있다.\n",
        "# 128이 -128로 저장된다.(쓰레기 값)\n",
        "b = np.array([-128,-127,5,100,128], dtype=np.int8)\n",
        "b"
      ],
      "metadata": {
        "colab": {
          "base_uri": "https://localhost:8080/"
        },
        "id": "rcu0GQo_8mKh",
        "outputId": "ef7eb1cd-d328-4635-8b34-657cf76a40c0"
      },
      "execution_count": null,
      "outputs": [
        {
          "output_type": "execute_result",
          "data": {
            "text/plain": [
              "array([-128, -127,    5,  100, -128], dtype=int8)"
            ]
          },
          "metadata": {},
          "execution_count": 28
        }
      ]
    },
    {
      "cell_type": "code",
      "source": [
        "#python의 int을 지정한다.\n",
        "c = np.array([127,2, 3, -128],dtype=int) #int는 python의 데이터 타입이다.\n",
        "c"
      ],
      "metadata": {
        "colab": {
          "base_uri": "https://localhost:8080/"
        },
        "id": "-L1yDRVe9JJp",
        "outputId": "5900816a-9c72-4a36-c789-1bc5ba0710ec"
      },
      "execution_count": null,
      "outputs": [
        {
          "output_type": "execute_result",
          "data": {
            "text/plain": [
              "array([ 127,    2,    3, -128])"
            ]
          },
          "metadata": {},
          "execution_count": 31
        }
      ]
    },
    {
      "cell_type": "code",
      "source": [
        "print(c.dtype) #python의 int ==numpy의 int64"
      ],
      "metadata": {
        "colab": {
          "base_uri": "https://localhost:8080/"
        },
        "id": "BPvPc9Uh9cep",
        "outputId": "f40f3077-9515-4007-a3d8-75f198ebac70"
      },
      "execution_count": null,
      "outputs": [
        {
          "output_type": "stream",
          "name": "stdout",
          "text": [
            "int64\n"
          ]
        }
      ]
    },
    {
      "cell_type": "markdown",
      "source": [
        "##python의 도움말\n",
        "함수 뒤에 ? 붙이거나"
      ],
      "metadata": {
        "id": "tSsQzTj1-C5M"
      }
    },
    {
      "cell_type": "code",
      "source": [
        "sum?"
      ],
      "metadata": {
        "id": "GR_QwmvC-EMD"
      },
      "execution_count": null,
      "outputs": []
    },
    {
      "cell_type": "markdown",
      "source": [
        "##numpy 도움말\n",
        " - np.lookfor(함수)"
      ],
      "metadata": {
        "id": "8qi2PYC2-bGr"
      }
    },
    {
      "cell_type": "code",
      "source": [
        "np.lookfor('sum')"
      ],
      "metadata": {
        "colab": {
          "base_uri": "https://localhost:8080/"
        },
        "id": "LHmK2eY--dVa",
        "outputId": "f033c46f-4731-4024-906c-336a79038ba8"
      },
      "execution_count": null,
      "outputs": [
        {
          "output_type": "stream",
          "name": "stdout",
          "text": [
            "Search results for 'sum'\n",
            "------------------------\n",
            "numpy.sum\n",
            "    Sum of array elements over a given axis.\n",
            "numpy.cumsum\n",
            "    Return the cumulative sum of the elements along a given axis.\n",
            "numpy.einsum\n",
            "    einsum(subscripts, *operands, out=None, dtype=None, order='K',\n",
            "numpy.nansum\n",
            "    Return the sum of array elements over a given axis treating Not a\n",
            "numpy.nancumsum\n",
            "    Return the cumulative sum of array elements over a given axis treating Not a\n",
            "numpy.einsum_path\n",
            "    Evaluates the lowest cost contraction order for an einsum expression by\n",
            "numpy.trace\n",
            "    Return the sum along diagonals of the array.\n",
            "numpy.ma.sum\n",
            "    Return the sum of the array elements over the given axis.\n",
            "numpy.bool8.sum\n",
            "    Scalar method identical to the corresponding array attribute.\n",
            "numpy.polyadd\n",
            "    Find the sum of two polynomials.\n",
            "numpy.ma.cumsum\n",
            "    Return the cumulative sum of the array elements over the given axis.\n",
            "numpy.logaddexp\n",
            "    Logarithm of the sum of exponentiations of the inputs.\n",
            "numpy.bool8.cumsum\n",
            "    Scalar method identical to the corresponding array attribute.\n",
            "numpy.logaddexp2\n",
            "    Logarithm of the sum of exponentiations of the inputs in base-2.\n",
            "numpy.matrix.sum\n",
            "    Returns the sum of the matrix elements, along the given axis.\n",
            "numpy.chararray.sum\n",
            "    Return the sum of the array elements over the given axis.\n",
            "numpy.mask_indices\n",
            "    Return the indices to access (n, n) arrays, given a masking function.\n",
            "numpy.chararray.cumsum\n",
            "    Return the cumulative sum of the elements along the given axis.\n",
            "numpy.chararray.trace\n",
            "    Return the sum along diagonals of the array.\n",
            "numpy.bytes0.expandtabs\n",
            "    Return a copy where all tab characters are expanded using spaces.\n",
            "numpy.str0.expandtabs\n",
            "    Return a copy where all tab characters are expanded using spaces.\n",
            "numpy.format_float_positional\n",
            "    Format a floating-point scalar as a decimal string in positional notation.\n",
            "numpy.format_float_scientific\n",
            "    Format a floating-point scalar as a decimal string in scientific notation.\n",
            "numpy.linalg.tensorsolve\n",
            "    Solve the tensor equation ``a x = b`` for x.\n",
            "numpy.ma.MaskedArray.sum\n",
            "    Return the sum of the array elements over the given axis.\n",
            "numpy.ma.MaskedArray.cumsum\n",
            "    Return the cumulative sum of the array elements over the given axis.\n",
            "numpy.core._umath_tests.cumsum\n",
            "    Cumulative sum of the input (n)->(n)\n",
            "numpy.ma.MaskedArray.trace\n",
            "    Return the sum along diagonals of the array.\n",
            "numpy.core._multiarray_umath.c_einsum\n",
            "    c_einsum(subscripts, *operands, out=None, dtype=None, order='K',\n",
            "numpy.polynomial.Hermite._add\n",
            "    Add one Hermite series to another.\n",
            "numpy.polynomial.HermiteE._add\n",
            "    Add one Hermite series to another.\n",
            "numpy.polynomial.Laguerre._add\n",
            "    Add one Laguerre series to another.\n",
            "numpy.polynomial.Legendre._add\n",
            "    Add one Legendre series to another.\n",
            "numpy.polynomial.Chebyshev._add\n",
            "    Add one Chebyshev series to another.\n",
            "numpy.AxisError.__class__.__sizeof__\n",
            "    Return memory consumption of the type object.\n",
            "numpy.polynomial.Polynomial._add\n",
            "    Add one polynomial to another.\n",
            "numpy.add\n",
            "    Add arguments element-wise.\n",
            "numpy.cov\n",
            "    Estimate a covariance matrix, given data and weights.\n",
            "numpy.dot\n",
            "    Dot product of two arrays. Specifically,\n",
            "numpy.std\n",
            "    Compute the standard deviation along the specified axis.\n",
            "numpy.var\n",
            "    Compute the variance along the specified axis.\n",
            "numpy.diag\n",
            "    Extract a diagonal or construct a diagonal array.\n",
            "numpy.diff\n",
            "    Calculate the n-th discrete difference along the given axis.\n",
            "numpy.in1d\n",
            "    Test whether each element of a 1-D array is also present in a second array.\n",
            "numpy.isin\n",
            "    Calculates ``element in test_elements``, broadcasting over `element` only.\n",
            "numpy.kron\n",
            "    Kronecker product of two arrays.\n",
            "numpy.mean\n",
            "    Compute the arithmetic mean along the specified axis.\n",
            "numpy.poly\n",
            "    Find the coefficients of a polynomial with the given sequence of roots.\n",
            "numpy.cross\n",
            "    Return the cross product of two (arrays of) vectors.\n",
            "numpy.inner\n",
            "    Inner product of two arrays.\n",
            "numpy.outer\n",
            "    Compute the outer product of two vectors.\n",
            "numpy.roots\n",
            "    Return the roots of a polynomial with coefficients given in p.\n",
            "numpy.trapz\n",
            "    Integrate along the given axis using the composite trapezoidal rule.\n",
            "numpy.choose\n",
            "    Construct an array from an index array and a list of arrays to choose from.\n",
            "numpy.matmul\n",
            "    Matrix product of two arrays.\n",
            "numpy.nanstd\n",
            "    Compute the standard deviation along the specified axis, while\n",
            "numpy.nanvar\n",
            "    Compute the variance along the specified axis, while ignoring NaNs.\n",
            "numpy.nditer\n",
            "    Efficient multi-dimensional iterator object to iterate over arrays.\n",
            "numpy.poly1d\n",
            "    A one-dimensional polynomial class.\n",
            "numpy.average\n",
            "    Compute the weighted average along the specified axis.\n",
            "numpy.isclose\n",
            "    Returns a boolean array where two arrays are element-wise equal within a\n",
            "numpy.nanmean\n",
            "    Compute the arithmetic mean along the specified axis, ignoring NaNs.\n",
            "numpy.nanprod\n",
            "    Return the product of array elements over a given axis treating Not a\n",
            "numpy.polyder\n",
            "    Return the derivative of the specified order of a polynomial.\n",
            "numpy.polydiv\n",
            "    Returns the quotient and remainder of polynomial division.\n",
            "numpy.polyfit\n",
            "    Least squares polynomial fit.\n",
            "numpy.polyint\n",
            "    Return an antiderivative (indefinite integral) of a polynomial.\n",
            "numpy.polymul\n",
            "    Find the product of two polynomials.\n",
            "numpy.polysub\n",
            "    Difference (subtraction) of two polynomials.\n",
            "numpy.polyval\n",
            "    Evaluate a polynomial at specific values.\n",
            "numpy.bincount\n",
            "    Count number of occurrences of each value in array of non-negative ints.\n",
            "numpy.blackman\n",
            "    Return the Blackman window.\n",
            "numpy.convolve\n",
            "    Returns the discrete, linear convolution of two one-dimensional sequences.\n",
            "numpy.diagflat\n",
            "    Create a two-dimensional array with the flattened input as a diagonal.\n",
            "numpy.diagonal\n",
            "    Return specified diagonals.\n",
            "numpy.gradient\n",
            "    Return the gradient of an N-dimensional array.\n",
            "numpy.quantile\n",
            "    Compute the q-th quantile of the data along the specified axis.\n",
            "numpy.setxor1d\n",
            "    Find the set exclusive-or of two arrays.\n",
            "numpy.AxisError\n",
            "    Axis supplied was invalid.\n",
            "numpy.correlate\n",
            "    Cross-correlation of two 1-dimensional sequences.\n",
            "numpy.histogram\n",
            "    Compute the histogram of a dataset.\n",
            "numpy.isrealobj\n",
            "    Return True if x is a not complex type or an array of complex numbers.\n",
            "numpy.piecewise\n",
            "    Evaluate a piecewise-defined function.\n",
            "numpy.setdiff1d\n",
            "    Find the set difference of two arrays.\n",
            "numpy.tensordot\n",
            "    Compute tensor dot product along specified axes.\n",
            "numpy.vectorize\n",
            "    vectorize(pyfunc, otypes=None, doc=None, excluded=None, cache=False,\n",
            "numpy.percentile\n",
            "    Compute the q-th percentile of the data along the specified axis.\n",
            "numpy.histogram2d\n",
            "    Compute the bi-dimensional histogram of two data samples.\n",
            "numpy.histogramdd\n",
            "    Compute the multidimensional histogram of some data.\n",
            "numpy.intersect1d\n",
            "    Find the intersection of two arrays.\n",
            "numpy.nanquantile\n",
            "    Compute the qth quantile of the data along the specified axis,\n",
            "numpy.array2string\n",
            "    Return a string representation of an array.\n",
            "numpy.ma.add\n",
            "    Add arguments element-wise.\n",
            "numpy.ma.var\n",
            "    Compute the variance along the specified axis.\n",
            "numpy.searchsorted\n",
            "    Find indices where elements should be inserted to maintain order.\n",
            "numpy.fft.hfft\n",
            "    Compute the FFT of a signal that has Hermitian symmetry, i.e., a real\n",
            "numpy.fft.ifft\n",
            "    Compute the one-dimensional inverse discrete Fourier Transform.\n",
            "numpy.ma.diff\n",
            "    Calculate the n-th discrete difference along the given axis.\n",
            "numpy.nanpercentile\n",
            "    Compute the qth percentile of the data along the specified axis,\n",
            "numpy.fft.irfft\n",
            "    Computes the inverse of `rfft`.\n",
            "numpy.ma.inner\n",
            "    Inner product of two arrays.\n",
            "numpy.ma.outer\n",
            "    Compute the outer product of two vectors.\n",
            "numpy.ma.trace\n",
            "    a.trace(offset=0, axis1=0, axis2=1, dtype=None, out=None)\n",
            "numpy.apply_over_axes\n",
            "    Apply a function repeatedly over multiple axes.\n",
            "numpy.lib.tests.test_utils.old_func4\n",
            "    Summary.\n",
            "numpy.lib.tests.test_utils.old_func5\n",
            "    Summary.\n",
            "numpy.fft.irfftn\n",
            "    Computes the inverse of `rfftn`.\n",
            "numpy.linalg.svd\n",
            "    Singular Value Decomposition.\n",
            "numpy.ma.average\n",
            "    Return the weighted average of array over the given axis.\n",
            "numpy.ma.polyfit\n",
            "    Least squares polynomial fit.\n",
            "numpy.set_printoptions\n",
            "    Set printing options.\n",
            "numpy.array_api._array_object.Array.__array__\n",
            "    Warning: this method is NOT part of the array API spec. Implementers\n",
            "numpy.linalg.cond\n",
            "    Compute the condition number of a matrix.\n",
            "numpy.linalg.norm\n",
            "    Matrix or vector norm.\n",
            "numpy.linalg.pinv\n",
            "    Compute the (Moore-Penrose) pseudo-inverse of a matrix.\n",
            "numpy.ma.convolve\n",
            "    Returns the discrete, linear convolution of two one-dimensional sequences.\n",
            "numpy.ma.diagflat\n",
            "    Create a two-dimensional array with the flattened input as a diagonal.\n",
            "numpy.linalg.lstsq\n",
            "    Return the least-squares solution to a linear matrix equation.\n",
            "numpy.random.PCG64\n",
            "    BitGenerator for the PCG-64 pseudo-random number generator.\n",
            "numpy.random.SFC64\n",
            "    BitGenerator for Chris Doty-Humphrey's Small Fast Chaotic PRNG.\n",
            "numpy.rec.fromfile\n",
            "    Create an array from binary file data\n",
            "numpy.histogram_bin_edges\n",
            "    Function to calculate only the edges of the bins used by the `histogram`\n",
            "numpy.ufunc.reduce\n",
            "    Reduces `array`'s dimension by one, by applying ufunc along one axis.\n",
            "numpy.random.Philox\n",
            "    Container for the Philox (4x64) pseudo-random number generator.\n",
            "numpy.random.MT19937\n",
            "    Container for the Mersenne Twister pseudo-random number generator.\n",
            "numpy.ufunc.reduceat\n",
            "    Performs a (local) reduce with specified slices over a single axis.\n",
            "numpy.linalg.multi_dot\n",
            "    Compute the dot product of two or more arrays in a single function call,\n",
            "numpy.linalg.tensorinv\n",
            "    Compute the 'inverse' of an N-dimensional array.\n",
            "numpy.random.PCG64DXSM\n",
            "    BitGenerator for the PCG-64 DXSM pseudo-random number generator.\n",
            "numpy.ufunc.accumulate\n",
            "    Accumulate the result of applying the operator to all elements.\n",
            "numpy.linalg.matrix_rank\n",
            "    Return matrix rank of array using SVD method\n",
            "numpy.ma.apply_over_axes\n",
            "    Apply a function repeatedly over multiple axes.\n",
            "numpy.distutils.command.sdist.sdist.write_manifest\n",
            "    Write the file list in 'self.filelist' (presumably as filled in\n",
            "numpy.ma.MaskedArray.var\n",
            "    Compute the variance along the specified axis.\n",
            "numpy.random.Generator.f\n",
            "    Draw samples from an F distribution.\n",
            "numpy.distutils.armccompiler.ArmCCompiler.find_library_file\n",
            "    Second-guess the linker with not much hard\n",
            "numpy.random.RandomState.f\n",
            "    Draw samples from an F distribution.\n",
            "numpy.random.MT19937.jumped\n",
            "    Returns a new bit generator with the state jumped\n",
            "numpy.polynomial.Hermite.fit\n",
            "    Least squares fit to data.\n",
            "numpy.polynomial.Hermite._fit\n",
            "    Least squares fit of Hermite series to data.\n",
            "numpy.core._multiarray_umath.dot\n",
            "    Dot product of two arrays. Specifically,\n",
            "numpy.polynomial.HermiteE.fit\n",
            "    Least squares fit to data.\n",
            "numpy.polynomial.Laguerre.fit\n",
            "    Least squares fit to data.\n",
            "numpy.polynomial.Legendre.fit\n",
            "    Least squares fit to data.\n",
            "numpy.random.Generator.choice\n",
            "    Generates a random sample from a given array\n",
            "numpy.polynomial.Chebyshev.fit\n",
            "    Least squares fit to data.\n",
            "numpy.polynomial.HermiteE._fit\n",
            "    Least squares fit of Hermite series to data.\n",
            "numpy.polynomial.Laguerre._fit\n",
            "    Least squares fit of Laguerre series to data.\n",
            "numpy.polynomial.Legendre._fit\n",
            "    Least squares fit of Legendre series to data.\n",
            "numpy.polynomial.Chebyshev._fit\n",
            "    Least squares fit of Chebyshev series to data.\n",
            "numpy.polynomial.Hermite._roots\n",
            "    Compute the roots of a Hermite series.\n",
            "numpy.core._multiarray_umath.inner\n",
            "    Inner product of two arrays.\n",
            "numpy.polynomial.Polynomial.fit\n",
            "    Least squares fit to data.\n",
            "numpy.random.Generator.binomial\n",
            "    Draw samples from a binomial distribution.\n",
            "numpy.random.Generator.logistic\n",
            "    Draw samples from a logistic distribution.\n",
            "numpy.random.Generator.rayleigh\n",
            "    Draw samples from a Rayleigh distribution.\n",
            "numpy.random.RandomState.choice\n",
            "    Generates a random sample from a given 1-D array\n",
            "numpy.polynomial.HermiteE._roots\n",
            "    Compute the roots of a HermiteE series.\n",
            "numpy.polynomial.Laguerre._roots\n",
            "    Compute the roots of a Laguerre series.\n",
            "numpy.polynomial.Legendre._roots\n",
            "    Compute the roots of a Legendre series.\n",
            "numpy.polynomial.Polynomial._fit\n",
            "    Least-squares fit of a polynomial to data.\n",
            "numpy.random.Generator.chisquare\n",
            "    Draw samples from a chi-square distribution.\n",
            "numpy.random.Generator.dirichlet\n",
            "    Draw samples from the Dirichlet distribution.\n",
            "numpy.random.Generator.geometric\n",
            "    Draw samples from the geometric distribution.\n",
            "numpy.random.Generator.lognormal\n",
            "    Draw samples from a log-normal distribution.\n",
            "numpy.polynomial.Chebyshev._roots\n",
            "    Compute the roots of a Chebyshev series.\n",
            "numpy.random.Generator.standard_t\n",
            "    Draw samples from a standard Student's t distribution with `df` degrees\n",
            "numpy.random.RandomState.binomial\n",
            "    Draw samples from a binomial distribution.\n",
            "numpy.random.RandomState.logistic\n",
            "    Draw samples from a logistic distribution.\n",
            "numpy.random.RandomState.rayleigh\n",
            "    Draw samples from a Rayleigh distribution.\n",
            "numpy.core._multiarray_umath.bincount\n",
            "    Count number of occurrences of each value in array of non-negative ints.\n",
            "numpy.polynomial.Polynomial._roots\n",
            "    Compute the roots of a polynomial.\n",
            "numpy.polynomial.hermite.hermval2d\n",
            "    Evaluate a 2-D Hermite series at points (x, y).\n",
            "numpy.polynomial.hermite.hermval3d\n",
            "    Evaluate a 3-D Hermite series at points (x, y, z).\n",
            "numpy.polynomial.laguerre.lagval2d\n",
            "    Evaluate a 2-D Laguerre series at points (x, y).\n",
            "numpy.polynomial.laguerre.lagval3d\n",
            "    Evaluate a 3-D Laguerre series at points (x, y, z).\n",
            "numpy.polynomial.legendre.legval2d\n",
            "    Evaluate a 2-D Legendre series at points (x, y).\n",
            "numpy.polynomial.legendre.legval3d\n",
            "    Evaluate a 3-D Legendre series at points (x, y, z).\n",
            "numpy.random.Generator.multinomial\n",
            "    Draw samples from a multinomial distribution.\n",
            "numpy.random.RandomState.chisquare\n",
            "    Draw samples from a chi-square distribution.\n",
            "numpy.random.RandomState.dirichlet\n",
            "    Draw samples from the Dirichlet distribution.\n",
            "numpy.random.RandomState.geometric\n",
            "    Draw samples from the geometric distribution.\n",
            "numpy.random.RandomState.lognormal\n",
            "    Draw samples from a log-normal distribution.\n",
            "numpy.random.RandomState.set_state\n",
            "    set_state(state)\n",
            "numpy.polynomial.hermite.hermgrid2d\n",
            "    Evaluate a 2-D Hermite series on the Cartesian product of x and y.\n",
            "numpy.polynomial.hermite.hermgrid3d\n",
            "    Evaluate a 3-D Hermite series on the Cartesian product of x, y, and z.\n",
            "numpy.polynomial.laguerre.laggrid2d\n",
            "    Evaluate a 2-D Laguerre series on the Cartesian product of x and y.\n",
            "numpy.polynomial.laguerre.laggrid3d\n",
            "    Evaluate a 3-D Laguerre series on the Cartesian product of x, y, and z.\n",
            "numpy.polynomial.legendre.leggrid2d\n",
            "    Evaluate a 2-D Legendre series on the Cartesian product of x and y.\n",
            "numpy.polynomial.legendre.leggrid3d\n",
            "    Evaluate a 3-D Legendre series on the Cartesian product of x, y, and z.\n",
            "numpy.random.Generator.noncentral_f\n",
            "    Draw samples from the noncentral F distribution.\n",
            "numpy.random.RandomState.standard_t\n",
            "    Draw samples from a standard Student's t distribution with `df` degrees\n",
            "numpy.polynomial.chebyshev.chebval2d\n",
            "    Evaluate a 2-D Chebyshev series at points (x, y).\n",
            "numpy.polynomial.chebyshev.chebval3d\n",
            "    Evaluate a 3-D Chebyshev series at points (x, y, z).\n",
            "numpy.random.RandomState.multinomial\n",
            "    Draw samples from a multinomial distribution.\n",
            "numpy.polynomial.chebyshev.chebgrid2d\n",
            "    Evaluate a 2-D Chebyshev series on the Cartesian product of x and y.\n",
            "numpy.polynomial.chebyshev.chebgrid3d\n",
            "    Evaluate a 3-D Chebyshev series on the Cartesian product of x, y, and z.\n",
            "numpy.polynomial.hermite_e.hermeval2d\n",
            "    Evaluate a 2-D HermiteE series at points (x, y).\n",
            "numpy.polynomial.hermite_e.hermeval3d\n",
            "    Evaluate a 3-D Hermite_e series at points (x, y, z).\n",
            "numpy.polynomial.polynomial.polyval2d\n",
            "    Evaluate a 2-D polynomial at points (x, y).\n",
            "numpy.polynomial.polynomial.polyval3d\n",
            "    Evaluate a 3-D polynomial at points (x, y, z).\n",
            "numpy.distutils.command.build_clib.build_clib.check_library_list\n",
            "    Ensure that the list of libraries is valid.\n",
            "numpy.random.Generator.hypergeometric\n",
            "    Draw samples from a Hypergeometric distribution.\n",
            "numpy.random.RandomState.noncentral_f\n",
            "    Draw samples from the noncentral F distribution.\n",
            "numpy.polynomial.hermite_e.hermegrid2d\n",
            "    Evaluate a 2-D HermiteE series on the Cartesian product of x and y.\n",
            "numpy.polynomial.hermite_e.hermegrid3d\n",
            "    Evaluate a 3-D HermiteE series on the Cartesian product of x, y, and z.\n",
            "numpy.polynomial.polynomial.polygrid2d\n",
            "    Evaluate a 2-D polynomial on the Cartesian product of x and y.\n",
            "numpy.polynomial.polynomial.polygrid3d\n",
            "    Evaluate a 3-D polynomial on the Cartesian product of x, y and z.\n",
            "numpy.distutils.command.build_ext.build_ext.check_extensions_list\n",
            "    Ensure that the list of extensions (presumably provided as a\n",
            "numpy.random.Generator.standard_cauchy\n",
            "    Draw samples from a standard Cauchy distribution with mode = 0.\n",
            "numpy.distutils.command.develop.develop.create_index.__getitem__\n",
            "    Return a newest-to-oldest list of distributions for `project_name`\n",
            "numpy.random.RandomState.hypergeometric\n",
            "    Draw samples from a Hypergeometric distribution.\n",
            "numpy.lib.recfunctions.apply_along_fields\n",
            "    Apply function 'func' as a reduction across fields of a structured array.\n",
            "numpy.random.Generator.negative_binomial\n",
            "    Draw samples from a negative binomial distribution.\n",
            "numpy.random.RandomState.random_integers\n",
            "    Random integers of type `np.int_` between `low` and `high`, inclusive.\n",
            "numpy.random.RandomState.standard_cauchy\n",
            "    Draw samples from a standard Cauchy distribution with mode = 0.\n",
            "numpy.random.RandomState.negative_binomial\n",
            "    Draw samples from a negative binomial distribution.\n",
            "numpy.random.Generator.noncentral_chisquare\n",
            "    Draw samples from a noncentral chi-square distribution.\n",
            "numpy.core.tests.test_simd.Test_SIMD_FP64_128_SSE42_f64.test_conversions\n",
            "    Round to nearest even integer, assume CPU control register is set to rounding.\n",
            "numpy.core.tests.test_simd.Test_SIMD_FP32_128_SSE42_f32.test_conversions\n",
            "    Round to nearest even integer, assume CPU control register is set to rounding.\n",
            "numpy.random.RandomState.noncentral_chisquare\n",
            "    Draw samples from a noncentral chi-square distribution.\n",
            "numpy.core.tests.test_simd.Test_SIMD_ALL_128_SSE42_f32.test_arithmetic_reduce_sum\n",
            "    Test reduce sum intrinsics:\n",
            "numpy.core.tests.test_simd.Test_SIMD_ALL_128_SSE42_f32.test_arithmetic_reduce_sumup\n",
            "    Test extend reduce sum intrinsics:\n",
            "numpy.random.Generator.multivariate_hypergeometric\n",
            "    multivariate_hypergeometric(colors, nsample, size=None,\n",
            "numpy.polynomial._polybase.ABCPolyBase.fit\n",
            "    Least squares fit to data.\n",
            "numpy.distutils.misc_util.Configuration.set_options\n",
            "    Configure Configuration instance.\n",
            "numpy.distutils.misc_util.Configuration.add_subpackage\n",
            "    Add a sub-package to the current Configuration instance.\n",
            "numpy.distutils.misc_util.Configuration.get_subpackage\n",
            "    Return list of subpackage configurations.\n",
            "numpy.distutils.ccompiler_opt.CCompilerOpt.feature_ahead\n",
            "    Return list of features in 'names' after remove any\n",
            "numpy.distutils.ccompiler_opt.CCompilerOpt.feature_untied\n",
            "    same as 'feature_ahead()' but if both features implied each other\n",
            "numpy.distutils.misc_util.Configuration.add_npy_pkg_config\n",
            "    Generate and install a npy-pkg config file from a template.\n",
            "numpy.linalg.tests.test_deprecations.test_qr_mode_full_future_warning\n",
            "    Check mode='full' FutureWarning.\n",
            "numpy.distutils.tests.test_ccompiler_opt_conf.TestConfFeatures.subTest\n",
            "    Return a context manager that will return the enclosed block"
          ]
        }
      ]
    },
    {
      "cell_type": "code",
      "source": [
        "a = np.array([[1,2,3],[4,5,6]])\n",
        "#array의 shape을 알려준다.\n",
        "a.shape"
      ],
      "metadata": {
        "colab": {
          "base_uri": "https://localhost:8080/"
        },
        "id": "Cl-c82OO_Czp",
        "outputId": "213ed5ee-e124-40fb-c7a8-c0f3b8ad2899"
      },
      "execution_count": null,
      "outputs": [
        {
          "output_type": "execute_result",
          "data": {
            "text/plain": [
              "(2, 3)"
            ]
          },
          "metadata": {},
          "execution_count": 38
        }
      ]
    },
    {
      "cell_type": "code",
      "source": [
        "# array이 몇 차원인지 안려준다.\n",
        "a.ndim"
      ],
      "metadata": {
        "colab": {
          "base_uri": "https://localhost:8080/"
        },
        "id": "hnYypaVy_FMY",
        "outputId": "346b7d8d-44ad-4998-c4a9-883f7fbc2b37"
      },
      "execution_count": null,
      "outputs": [
        {
          "output_type": "execute_result",
          "data": {
            "text/plain": [
              "2"
            ]
          },
          "metadata": {},
          "execution_count": 39
        }
      ]
    },
    {
      "cell_type": "code",
      "source": [
        "#array의 타입을 알려준다\n",
        "a.dtype"
      ],
      "metadata": {
        "colab": {
          "base_uri": "https://localhost:8080/"
        },
        "id": "Ipr7Pzy7_aaI",
        "outputId": "13c64be9-fc01-4716-ca41-99bc8959e526"
      },
      "execution_count": null,
      "outputs": [
        {
          "output_type": "execute_result",
          "data": {
            "text/plain": [
              "dtype('int64')"
            ]
          },
          "metadata": {},
          "execution_count": 40
        }
      ]
    },
    {
      "cell_type": "code",
      "source": [
        "\n",
        "#요소의 개수를 알려준다.\n",
        "#shape로도 알 수 있다.\n",
        "a.size"
      ],
      "metadata": {
        "colab": {
          "base_uri": "https://localhost:8080/"
        },
        "id": "m_T8fIsE_gHI",
        "outputId": "30fe0541-7441-417f-ca2f-2f9e487fc1f7"
      },
      "execution_count": null,
      "outputs": [
        {
          "output_type": "execute_result",
          "data": {
            "text/plain": [
              "6"
            ]
          },
          "metadata": {},
          "execution_count": 41
        }
      ]
    },
    {
      "cell_type": "code",
      "source": [
        "#요소당 byte수를 알려준다,\n",
        "a.itemsize   #8bit = 1byte, 64bit = 8byte"
      ],
      "metadata": {
        "colab": {
          "base_uri": "https://localhost:8080/"
        },
        "id": "3wjjSBYM_q1p",
        "outputId": "5cc6f760-429e-46d4-802c-e902e6c2d90d"
      },
      "execution_count": null,
      "outputs": [
        {
          "output_type": "execute_result",
          "data": {
            "text/plain": [
              "8"
            ]
          },
          "metadata": {},
          "execution_count": 42
        }
      ]
    },
    {
      "cell_type": "markdown",
      "source": [
        "##numpy와 python의 속도 차"
      ],
      "metadata": {
        "id": "Ux5ucYgIBXO1"
      }
    },
    {
      "cell_type": "code",
      "source": [
        "np.arange(10) #([start], [end], [step])"
      ],
      "metadata": {
        "colab": {
          "base_uri": "https://localhost:8080/"
        },
        "id": "By6MVkgUBc-y",
        "outputId": "12ec00b4-017c-4f55-80c3-aa72955ac31f"
      },
      "execution_count": null,
      "outputs": [
        {
          "output_type": "execute_result",
          "data": {
            "text/plain": [
              "array([0, 1, 2, 3, 4, 5, 6, 7, 8, 9])"
            ]
          },
          "metadata": {},
          "execution_count": 43
        }
      ]
    },
    {
      "cell_type": "code",
      "source": [
        "#numpy을 이용한 계산\n",
        "%time np.sum(np.arange(100000000))"
      ],
      "metadata": {
        "colab": {
          "base_uri": "https://localhost:8080/"
        },
        "id": "YJgF0JJWBrR_",
        "outputId": "4dc4439e-ae56-48a8-9650-253271724d2f"
      },
      "execution_count": null,
      "outputs": [
        {
          "output_type": "stream",
          "name": "stdout",
          "text": [
            "CPU times: user 204 ms, sys: 338 ms, total: 543 ms\n",
            "Wall time: 604 ms\n"
          ]
        },
        {
          "output_type": "execute_result",
          "data": {
            "text/plain": [
              "4999999950000000"
            ]
          },
          "metadata": {},
          "execution_count": 45
        }
      ]
    },
    {
      "cell_type": "code",
      "source": [
        "#python을 이용한 계산\n",
        "%time sum(range(100000000))"
      ],
      "metadata": {
        "colab": {
          "base_uri": "https://localhost:8080/"
        },
        "id": "Q5J1MxzbB_Q4",
        "outputId": "3689bb9f-919d-4062-9300-6b9e3f63880d"
      },
      "execution_count": null,
      "outputs": [
        {
          "output_type": "stream",
          "name": "stdout",
          "text": [
            "CPU times: user 3.86 s, sys: 3.66 ms, total: 3.87 s\n",
            "Wall time: 5.51 s\n"
          ]
        },
        {
          "output_type": "execute_result",
          "data": {
            "text/plain": [
              "4999999950000000"
            ]
          },
          "metadata": {},
          "execution_count": 47
        }
      ]
    },
    {
      "cell_type": "markdown",
      "source": [
        "같은 np.sum( )을 사용하더라도 값을 생성하는 방법에 따라 속도가 달라진다."
      ],
      "metadata": {
        "id": "3KsA2RX_Cz1C"
      }
    },
    {
      "cell_type": "code",
      "source": [
        "%time np.sum(range(1000000000))"
      ],
      "metadata": {
        "id": "cwCe8piaCYlI"
      },
      "execution_count": null,
      "outputs": []
    },
    {
      "cell_type": "markdown",
      "source": [
        "## copy\n",
        "\n",
        "*대입문 6가지\n",
        "\n",
        "a = 1\n",
        "\n",
        "a = b = 1\n",
        "\n",
        "a. *b = 1, 2, 3\n",
        "\n",
        "a += 1\n",
        "\n",
        "global, nolocal"
      ],
      "metadata": {
        "id": "zpZ79dQEDF7D"
      }
    },
    {
      "cell_type": "markdown",
      "source": [
        "python에서 copy"
      ],
      "metadata": {
        "id": "1Lv6rOiEGeuJ"
      }
    },
    {
      "cell_type": "code",
      "source": [
        "a = [1,2,3]"
      ],
      "metadata": {
        "id": "1-AhyK9GGqzK"
      },
      "execution_count": null,
      "outputs": []
    },
    {
      "cell_type": "code",
      "source": [
        "b = a"
      ],
      "metadata": {
        "id": "SN5ZQvgxGuNH"
      },
      "execution_count": null,
      "outputs": []
    },
    {
      "cell_type": "code",
      "source": [
        "b"
      ],
      "metadata": {
        "colab": {
          "base_uri": "https://localhost:8080/"
        },
        "id": "5H8bs-HDGxtm",
        "outputId": "6b840296-9455-4591-d2a5-abbda0bd1a57"
      },
      "execution_count": null,
      "outputs": [
        {
          "output_type": "execute_result",
          "data": {
            "text/plain": [
              "[1, 2, 3]"
            ]
          },
          "metadata": {},
          "execution_count": 4
        }
      ]
    },
    {
      "cell_type": "code",
      "source": [
        "a is b #메모리 주소(=메모리) 비교"
      ],
      "metadata": {
        "colab": {
          "base_uri": "https://localhost:8080/"
        },
        "id": "q8zLTOCoGzue",
        "outputId": "c182d1c5-9a4f-4469-d6e6-cf8cce538651"
      },
      "execution_count": null,
      "outputs": [
        {
          "output_type": "execute_result",
          "data": {
            "text/plain": [
              "True"
            ]
          },
          "metadata": {},
          "execution_count": 5
        }
      ]
    },
    {
      "cell_type": "code",
      "source": [
        "#a와 b가 메모리 주소(=메모리)를 공유\n",
        "#b값을 변경하면 a도 같이 변경이 된다.\n",
        "b[0] = 7"
      ],
      "metadata": {
        "id": "ku0m3lObG3Gf"
      },
      "execution_count": null,
      "outputs": []
    },
    {
      "cell_type": "code",
      "source": [
        "print(b)\n",
        "print(a)"
      ],
      "metadata": {
        "colab": {
          "base_uri": "https://localhost:8080/"
        },
        "id": "48mJF86-HBK9",
        "outputId": "103746f2-7283-4fa3-fed2-e5d3acd7100c"
      },
      "execution_count": null,
      "outputs": [
        {
          "output_type": "stream",
          "name": "stdout",
          "text": [
            "[7, 2, 3]\n",
            "[7, 2, 3]\n"
          ]
        }
      ]
    },
    {
      "cell_type": "code",
      "source": [
        "a = [1,2,3]"
      ],
      "metadata": {
        "id": "ahavJnVNHEGJ"
      },
      "execution_count": null,
      "outputs": []
    },
    {
      "cell_type": "code",
      "source": [
        "#copy()는 똑같은 값만 가지고 메모리(=메모리 주소)는 공유하지 않는다. 즉 deep copy가 된다.\n",
        "b = a.copy() #copy메소드 호출"
      ],
      "metadata": {
        "id": "IN1ExH0CHIcF"
      },
      "execution_count": null,
      "outputs": []
    },
    {
      "cell_type": "code",
      "source": [
        "a is b #is: 메모리 비교"
      ],
      "metadata": {
        "colab": {
          "base_uri": "https://localhost:8080/"
        },
        "id": "w6fRDV6cHPLm",
        "outputId": "ea107bee-9db8-43fd-d1e3-59d5f44e6eb0"
      },
      "execution_count": null,
      "outputs": [
        {
          "output_type": "execute_result",
          "data": {
            "text/plain": [
              "False"
            ]
          },
          "metadata": {},
          "execution_count": 10
        }
      ]
    },
    {
      "cell_type": "code",
      "source": [
        "id(a)"
      ],
      "metadata": {
        "colab": {
          "base_uri": "https://localhost:8080/"
        },
        "id": "iYVJT_gHHmY-",
        "outputId": "806033ae-7a87-4bb5-9d58-b9475f6dbf66"
      },
      "execution_count": null,
      "outputs": [
        {
          "output_type": "execute_result",
          "data": {
            "text/plain": [
              "134713534523328"
            ]
          },
          "metadata": {},
          "execution_count": 11
        }
      ]
    },
    {
      "cell_type": "code",
      "source": [
        "id(b)"
      ],
      "metadata": {
        "colab": {
          "base_uri": "https://localhost:8080/"
        },
        "id": "dgEQ0GIwHou2",
        "outputId": "3217f63c-5198-49f3-acb2-aa601fdce935"
      },
      "execution_count": null,
      "outputs": [
        {
          "output_type": "execute_result",
          "data": {
            "text/plain": [
              "134713533318976"
            ]
          },
          "metadata": {},
          "execution_count": 12
        }
      ]
    },
    {
      "cell_type": "code",
      "source": [
        "a == b #값 비교"
      ],
      "metadata": {
        "colab": {
          "base_uri": "https://localhost:8080/"
        },
        "id": "BLjaGHz8HqOe",
        "outputId": "a8c907cf-d2a0-4f1b-8214-23a9ac518798"
      },
      "execution_count": null,
      "outputs": [
        {
          "output_type": "execute_result",
          "data": {
            "text/plain": [
              "True"
            ]
          },
          "metadata": {},
          "execution_count": 13
        }
      ]
    },
    {
      "cell_type": "code",
      "source": [
        "b[0] = 8\n",
        "#a는 안바뀐다\n",
        "print(a)\n",
        "print(b)"
      ],
      "metadata": {
        "colab": {
          "base_uri": "https://localhost:8080/"
        },
        "id": "qZRX02UkHtlv",
        "outputId": "498b1f39-6f3c-4afb-c7d6-a4aa115d864d"
      },
      "execution_count": null,
      "outputs": [
        {
          "output_type": "stream",
          "name": "stdout",
          "text": [
            "[1, 2, 3]\n",
            "[8, 2, 3]\n"
          ]
        }
      ]
    },
    {
      "cell_type": "code",
      "source": [
        "print(a is b)\n",
        "print(a == b)"
      ],
      "metadata": {
        "colab": {
          "base_uri": "https://localhost:8080/"
        },
        "id": "ewdj9Yv4H5hm",
        "outputId": "ed5b04d5-ee35-420f-8527-b9b048d67aee"
      },
      "execution_count": null,
      "outputs": [
        {
          "output_type": "stream",
          "name": "stdout",
          "text": [
            "False\n",
            "False\n"
          ]
        }
      ]
    },
    {
      "cell_type": "markdown",
      "source": [
        "list가 2차원일때 copy"
      ],
      "metadata": {
        "id": "NQIqIuHjIJhh"
      }
    },
    {
      "cell_type": "code",
      "source": [
        "a = [[1,2,3]]  #1차원"
      ],
      "metadata": {
        "id": "goIk5Dn-IN2d"
      },
      "execution_count": null,
      "outputs": []
    },
    {
      "cell_type": "code",
      "source": [
        "type(a)"
      ],
      "metadata": {
        "colab": {
          "base_uri": "https://localhost:8080/"
        },
        "id": "kqSJe_qBIQ-e",
        "outputId": "26dcb550-f55b-4e9c-d9f8-399fcce13ef2"
      },
      "execution_count": null,
      "outputs": [
        {
          "output_type": "execute_result",
          "data": {
            "text/plain": [
              "list"
            ]
          },
          "metadata": {},
          "execution_count": 24
        }
      ]
    },
    {
      "cell_type": "code",
      "source": [
        "#shallow copy (얕은 카피)\n",
        "b = a.copy()"
      ],
      "metadata": {
        "id": "zWz1FO5FISqN"
      },
      "execution_count": null,
      "outputs": []
    },
    {
      "cell_type": "code",
      "source": [
        "print(a is b)  #메모리(=메모리 주소)\n",
        "print(a == b)  #값 비교\n"
      ],
      "metadata": {
        "colab": {
          "base_uri": "https://localhost:8080/"
        },
        "id": "5iJvwo5GIZB-",
        "outputId": "5b932d15-858b-46b2-91dd-8e5f904f461f"
      },
      "execution_count": null,
      "outputs": [
        {
          "output_type": "stream",
          "name": "stdout",
          "text": [
            "False\n",
            "True\n"
          ]
        }
      ]
    },
    {
      "cell_type": "code",
      "source": [
        "print(a[0])\n",
        "print(b[0])"
      ],
      "metadata": {
        "colab": {
          "base_uri": "https://localhost:8080/"
        },
        "id": "BDVtgCimJ1ZN",
        "outputId": "f8205879-5805-4b01-e36f-28f94cedaa47"
      },
      "execution_count": null,
      "outputs": [
        {
          "output_type": "stream",
          "name": "stdout",
          "text": [
            "[1, 2, 3]\n",
            "[1, 2, 3]\n"
          ]
        }
      ]
    },
    {
      "cell_type": "code",
      "source": [
        "b[0][0]= 10"
      ],
      "metadata": {
        "id": "IZ-VtV2MKA6N"
      },
      "execution_count": null,
      "outputs": []
    },
    {
      "cell_type": "code",
      "source": [
        "print(a[0] is b[0])\n",
        "print(a[0] == b[0])"
      ],
      "metadata": {
        "colab": {
          "base_uri": "https://localhost:8080/"
        },
        "id": "WJnTyvKEKGgN",
        "outputId": "9a5b13db-a59e-4850-b158-933d0885cb6d"
      },
      "execution_count": null,
      "outputs": [
        {
          "output_type": "stream",
          "name": "stdout",
          "text": [
            "True\n",
            "True\n"
          ]
        }
      ]
    },
    {
      "cell_type": "code",
      "source": [
        "import copy"
      ],
      "metadata": {
        "id": "df0ZNP5YI_G9"
      },
      "execution_count": null,
      "outputs": []
    },
    {
      "cell_type": "code",
      "source": [
        "a = [1,2,3]\n",
        "b = copy.deepcopy(a)  #list가 2차원일 때 deep copy를 하기 위해서 copy모듈에 있는 deepcopy메소드를 사용한다."
      ],
      "metadata": {
        "id": "RmGw9HCZJDY-"
      },
      "execution_count": null,
      "outputs": []
    },
    {
      "cell_type": "code",
      "source": [
        "print(a is b)  #메모리 주소(=메모리)\n",
        "print(a == b)  #값 비교"
      ],
      "metadata": {
        "id": "W3YbEPXDJXON",
        "colab": {
          "base_uri": "https://localhost:8080/"
        },
        "outputId": "33875e76-17dc-4b81-ab42-7f25ed2fbf15"
      },
      "execution_count": null,
      "outputs": [
        {
          "output_type": "stream",
          "name": "stdout",
          "text": [
            "True\n",
            "True\n"
          ]
        }
      ]
    },
    {
      "cell_type": "code",
      "source": [
        "b[0][0]= 10"
      ],
      "metadata": {
        "id": "sKXfKyVPL_2R"
      },
      "execution_count": null,
      "outputs": []
    },
    {
      "cell_type": "code",
      "source": [
        "print(a[0])\n",
        "print(b[0])"
      ],
      "metadata": {
        "colab": {
          "base_uri": "https://localhost:8080/"
        },
        "id": "cB8gIMe6MMIP",
        "outputId": "6750c413-913b-4acb-e537-52f5f8cc4d18"
      },
      "execution_count": null,
      "outputs": [
        {
          "output_type": "stream",
          "name": "stdout",
          "text": [
            "[10, 2, 3]\n",
            "[10, 2, 3]\n"
          ]
        }
      ]
    },
    {
      "cell_type": "code",
      "source": [
        "print(a[0] is b[0])\n",
        "print(a[0] == b[0])"
      ],
      "metadata": {
        "colab": {
          "base_uri": "https://localhost:8080/"
        },
        "id": "IDIcDBUUMR_F",
        "outputId": "9f7c0878-098a-44d9-8037-2ddc8ebac036"
      },
      "execution_count": null,
      "outputs": [
        {
          "output_type": "stream",
          "name": "stdout",
          "text": [
            "True\n",
            "True\n"
          ]
        }
      ]
    },
    {
      "cell_type": "markdown",
      "source": [
        "[:]는 전체라는 뜻이다.\n",
        "\n",
        "슬라이싱 방식으로 1차 리스트일때는 재할당하면 deepcopy가 된다.\n",
        "\n",
        "슬라이싱 방식으로 2차 리스트 이상인 경우는 shallow copy가 발생된다."
      ],
      "metadata": {
        "id": "KvG9yoWRNDap"
      }
    },
    {
      "cell_type": "code",
      "source": [
        "a = [1,2,3]\n",
        "b = a[:]\n",
        "\n",
        "print(a is b)\n",
        "print(a == b)\n",
        "\n",
        "a = [1,2,3]\n",
        "b = a[:]\n",
        "print(a is b)\n",
        "print(a == b)\n",
        "\n",
        "print(a[0] is b[0])\n",
        "print(a[0] == b[0])"
      ],
      "metadata": {
        "colab": {
          "base_uri": "https://localhost:8080/"
        },
        "id": "RLWU-kIvNew9",
        "outputId": "8d252add-05fe-4bd1-dfe4-ab3c483786c7"
      },
      "execution_count": null,
      "outputs": [
        {
          "output_type": "stream",
          "name": "stdout",
          "text": [
            "False\n",
            "True\n",
            "False\n",
            "True\n",
            "True\n",
            "True\n"
          ]
        }
      ]
    },
    {
      "cell_type": "code",
      "source": [
        "a = [256,2,3]\n",
        "b = a[:]\n",
        "\n",
        "print(a == b)\n",
        "print(a is b)\n",
        "\n",
        "print(a[0] == b[0])\n",
        "print(a[0] is b[0])"
      ],
      "metadata": {
        "colab": {
          "base_uri": "https://localhost:8080/"
        },
        "id": "kGBsePVuXhJq",
        "outputId": "3087a8cc-e2b1-4be3-bf31-d9e53793e2f0"
      },
      "execution_count": null,
      "outputs": [
        {
          "output_type": "stream",
          "name": "stdout",
          "text": [
            "True\n",
            "False\n",
            "True\n",
            "True\n"
          ]
        }
      ]
    },
    {
      "cell_type": "code",
      "source": [
        "#intering\n",
        "#파이썬은 느리기 때문에 중간에 cache 저장하는 기법이 있다\n",
        "#-5에서 256은 파이썬에서 같은 메모리를 사용한다. (interning기법)\n",
        "#문자열에서 a-zA-Z0-9는 내부적으로 interning기법을 사용한다.\n",
        "m = 256\n",
        "n = 256\n",
        "print(m is n)\n",
        "\n",
        "m = 257\n",
        "n = 257\n",
        "print(m is n)"
      ],
      "metadata": {
        "colab": {
          "base_uri": "https://localhost:8080/"
        },
        "id": "TNQHVpIeX5yZ",
        "outputId": "dc5c2940-d981-472d-da62-90c5f25f6140"
      },
      "execution_count": null,
      "outputs": [
        {
          "output_type": "stream",
          "name": "stdout",
          "text": [
            "True\n",
            "False\n"
          ]
        }
      ]
    },
    {
      "cell_type": "code",
      "source": [
        "k = 'python'\n",
        "p = 'python'\n",
        "print(k is p)"
      ],
      "metadata": {
        "colab": {
          "base_uri": "https://localhost:8080/"
        },
        "id": "bgsg7rZWZkjh",
        "outputId": "582c468f-5a57-44c7-8977-338ba2b04cbc"
      },
      "execution_count": null,
      "outputs": [
        {
          "output_type": "stream",
          "name": "stdout",
          "text": [
            "True\n"
          ]
        }
      ]
    },
    {
      "cell_type": "code",
      "source": [
        "#1차원: 값 비교\n",
        "#2차원: 메모리(=메모리 주소), 값 비교"
      ],
      "metadata": {
        "id": "Hun7c5gtdPVT"
      },
      "execution_count": null,
      "outputs": []
    },
    {
      "cell_type": "markdown",
      "source": [
        "##정리"
      ],
      "metadata": {
        "id": "qB0WGrUJ2XXJ"
      }
    },
    {
      "cell_type": "code",
      "source": [
        "a = [[1, 2, 3]], [[4, 5, 6]] #python에서 제공하는 데이터 타입인 list\n",
        "b = a\n",
        "\n",
        "print(a is b)\n",
        "print(a == b)\n",
        "\n",
        "a[0][0] = 10\n",
        "print(a is b)\n",
        "print(a == b)\n",
        "\n",
        "c = a.copy()\n",
        "print(a is c)\n",
        "print(a == c)\n",
        "\n",
        "a[0][0] = 20\n",
        "print(a is c)\n",
        "print(a == c)\n",
        "\n",
        "print(a[0])"
      ],
      "metadata": {
        "colab": {
          "base_uri": "https://localhost:8080/",
          "height": 331
        },
        "id": "7bpJSGdPwCGK",
        "outputId": "f8ffb9c9-e7d0-4b9b-cf86-7c13277a7255"
      },
      "execution_count": null,
      "outputs": [
        {
          "output_type": "stream",
          "name": "stdout",
          "text": [
            "True\n",
            "True\n",
            "True\n",
            "True\n"
          ]
        },
        {
          "output_type": "error",
          "ename": "AttributeError",
          "evalue": "ignored",
          "traceback": [
            "\u001b[0;31m---------------------------------------------------------------------------\u001b[0m",
            "\u001b[0;31mAttributeError\u001b[0m                            Traceback (most recent call last)",
            "\u001b[0;32m<ipython-input-4-b41a5cd2e708>\u001b[0m in \u001b[0;36m<cell line: 11>\u001b[0;34m()\u001b[0m\n\u001b[1;32m      9\u001b[0m \u001b[0mprint\u001b[0m\u001b[0;34m(\u001b[0m\u001b[0ma\u001b[0m \u001b[0;34m==\u001b[0m \u001b[0mb\u001b[0m\u001b[0;34m)\u001b[0m\u001b[0;34m\u001b[0m\u001b[0;34m\u001b[0m\u001b[0m\n\u001b[1;32m     10\u001b[0m \u001b[0;34m\u001b[0m\u001b[0m\n\u001b[0;32m---> 11\u001b[0;31m \u001b[0mc\u001b[0m \u001b[0;34m=\u001b[0m \u001b[0ma\u001b[0m\u001b[0;34m.\u001b[0m\u001b[0mcopy\u001b[0m\u001b[0;34m(\u001b[0m\u001b[0;34m)\u001b[0m\u001b[0;34m\u001b[0m\u001b[0;34m\u001b[0m\u001b[0m\n\u001b[0m\u001b[1;32m     12\u001b[0m \u001b[0mprint\u001b[0m\u001b[0;34m(\u001b[0m\u001b[0ma\u001b[0m \u001b[0;32mis\u001b[0m \u001b[0mc\u001b[0m\u001b[0;34m)\u001b[0m\u001b[0;34m\u001b[0m\u001b[0;34m\u001b[0m\u001b[0m\n\u001b[1;32m     13\u001b[0m \u001b[0mprint\u001b[0m\u001b[0;34m(\u001b[0m\u001b[0ma\u001b[0m \u001b[0;34m==\u001b[0m \u001b[0mc\u001b[0m\u001b[0;34m)\u001b[0m\u001b[0;34m\u001b[0m\u001b[0;34m\u001b[0m\u001b[0m\n",
            "\u001b[0;31mAttributeError\u001b[0m: 'tuple' object has no attribute 'copy'"
          ]
        }
      ]
    },
    {
      "cell_type": "code",
      "source": [
        "d[0][0] = 30\n",
        "print(d is a)\n",
        "print()"
      ],
      "metadata": {
        "id": "L49IyAZ148Lg"
      },
      "execution_count": null,
      "outputs": []
    },
    {
      "cell_type": "code",
      "source": [
        "#c = copy()     =     c = [:] 두 식이 같다"
      ],
      "metadata": {
        "id": "Z-87iDfn-02P"
      },
      "execution_count": null,
      "outputs": []
    },
    {
      "cell_type": "markdown",
      "source": [
        "##numpy에서 copy"
      ],
      "metadata": {
        "id": "SH0efCQ8-2IF"
      }
    },
    {
      "cell_type": "code",
      "source": [
        "import numpy as np"
      ],
      "metadata": {
        "id": "fXjjm6qH-50v"
      },
      "execution_count": null,
      "outputs": []
    },
    {
      "cell_type": "code",
      "source": [
        "a = b = np.array([1,2,3])"
      ],
      "metadata": {
        "id": "jj5m8V0n-8ur"
      },
      "execution_count": null,
      "outputs": []
    },
    {
      "cell_type": "code",
      "source": [
        "print(a is b)\n",
        "print(a == b) #"
      ],
      "metadata": {
        "colab": {
          "base_uri": "https://localhost:8080/"
        },
        "id": "fpGGO9TO_AQL",
        "outputId": "feb6e8ba-6ee0-42dc-a348-880dca3be178"
      },
      "execution_count": null,
      "outputs": [
        {
          "output_type": "stream",
          "name": "stdout",
          "text": [
            "True\n",
            "[ True  True  True]\n"
          ]
        }
      ]
    },
    {
      "cell_type": "code",
      "source": [
        "a[0] #indexing"
      ],
      "metadata": {
        "colab": {
          "base_uri": "https://localhost:8080/"
        },
        "id": "9QNZbZWb_O7i",
        "outputId": "7cb7fc77-647d-49fe-f5a7-7032dc487482"
      },
      "execution_count": null,
      "outputs": [
        {
          "output_type": "execute_result",
          "data": {
            "text/plain": [
              "1"
            ]
          },
          "metadata": {},
          "execution_count": 14
        }
      ]
    },
    {
      "cell_type": "code",
      "source": [
        "a[:] #slicing"
      ],
      "metadata": {
        "colab": {
          "base_uri": "https://localhost:8080/"
        },
        "id": "2iPkNUss_Uxq",
        "outputId": "bac2b7fd-d3eb-4806-a712-98c2c8d36206"
      },
      "execution_count": null,
      "outputs": [
        {
          "output_type": "execute_result",
          "data": {
            "text/plain": [
              "array([1, 2, 3])"
            ]
          },
          "metadata": {},
          "execution_count": 15
        }
      ]
    },
    {
      "cell_type": "code",
      "source": [
        "a[0] = 100\n",
        "print(a[0])\n",
        "print(b[0])"
      ],
      "metadata": {
        "colab": {
          "base_uri": "https://localhost:8080/"
        },
        "id": "Xd59s2MH_dXs",
        "outputId": "b9bbca77-3021-4bca-c2b3-1fe846af04c2"
      },
      "execution_count": null,
      "outputs": [
        {
          "output_type": "stream",
          "name": "stdout",
          "text": [
            "100\n",
            "100\n"
          ]
        }
      ]
    },
    {
      "cell_type": "markdown",
      "source": [
        "array는 homogeneous, sequence, mutable 이다.\n",
        "list는 heterogeneous, sequence, mutable이다\n",
        "\n",
        "\n"
      ],
      "metadata": {
        "id": "gMJLPuU7BgMd"
      }
    },
    {
      "cell_type": "code",
      "source": [
        "a = np.array([1,2,3])#numpy는 기본적으로 deepcopy가 발생\n",
        "b = a.copy()\n",
        "\n",
        "print(a is b)\n",
        "print(a == b)"
      ],
      "metadata": {
        "colab": {
          "base_uri": "https://localhost:8080/"
        },
        "id": "hlZre06KAWHI",
        "outputId": "1cf43910-60d7-473c-db73-077ba4171d21"
      },
      "execution_count": null,
      "outputs": [
        {
          "output_type": "stream",
          "name": "stdout",
          "text": [
            "False\n",
            "[ True  True  True]\n"
          ]
        }
      ]
    },
    {
      "cell_type": "code",
      "source": [
        "print(a[0] is b[0])"
      ],
      "metadata": {
        "colab": {
          "base_uri": "https://localhost:8080/"
        },
        "id": "UsQqZ8aw_pOb",
        "outputId": "68eb4b87-c4f3-40e2-9432-395bba2306db"
      },
      "execution_count": null,
      "outputs": [
        {
          "output_type": "stream",
          "name": "stdout",
          "text": [
            "False\n"
          ]
        }
      ]
    },
    {
      "cell_type": "markdown",
      "source": [
        "### as 계열\n",
        "다른 데이터 타입을 가져와 바꿔서 사용할 때는 as라는 이름이 보통 붙는다."
      ],
      "metadata": {
        "id": "-5qsKy7nCV12"
      }
    },
    {
      "cell_type": "code",
      "source": [
        "a = [1.4, 2.5, 3.5]\n",
        "b = np.array(a)\n",
        "\n",
        "print(type(a))\n",
        "print(type(b))\n",
        "print(type(a[0]))\n",
        "print(type(b[0]))"
      ],
      "metadata": {
        "colab": {
          "base_uri": "https://localhost:8080/"
        },
        "id": "-rvrp7JlCltg",
        "outputId": "bab5c5d2-7867-48d1-9eef-7d1854c4b24e"
      },
      "execution_count": null,
      "outputs": [
        {
          "output_type": "stream",
          "name": "stdout",
          "text": [
            "<class 'list'>\n",
            "<class 'numpy.ndarray'>\n",
            "<class 'float'>\n",
            "<class 'numpy.float64'>\n"
          ]
        }
      ]
    },
    {
      "cell_type": "code",
      "source": [
        "a = [1.4, 2.5, 3.5]\n",
        "b = np.asarray(a)\n",
        "\n",
        "print(type(a))\n",
        "print(type(b))\n",
        "print(type(a[0]))\n",
        "print(type(b[0]))"
      ],
      "metadata": {
        "colab": {
          "base_uri": "https://localhost:8080/"
        },
        "id": "80f1uquSDjVS",
        "outputId": "41721b0b-4c1d-4ddb-b3fd-b18d5614c369"
      },
      "execution_count": null,
      "outputs": [
        {
          "output_type": "stream",
          "name": "stdout",
          "text": [
            "<class 'list'>\n",
            "<class 'numpy.ndarray'>\n",
            "<class 'float'>\n",
            "<class 'numpy.float64'>\n"
          ]
        }
      ]
    },
    {
      "cell_type": "code",
      "source": [
        "a = [1, 2, 3]\n",
        "b = np.asfarray(a)\n",
        "\n",
        "print(type(a))\n",
        "print(type(b))\n",
        "print(type(a[0]))\n",
        "print(type(b[0]))"
      ],
      "metadata": {
        "colab": {
          "base_uri": "https://localhost:8080/"
        },
        "id": "jWmbFSfDDouB",
        "outputId": "0860895a-ee23-406f-eb85-80d1f901a1aa"
      },
      "execution_count": null,
      "outputs": [
        {
          "output_type": "stream",
          "name": "stdout",
          "text": [
            "<class 'list'>\n",
            "<class 'numpy.ndarray'>\n",
            "<class 'int'>\n",
            "<class 'numpy.float64'>\n"
          ]
        }
      ]
    },
    {
      "cell_type": "markdown",
      "source": [
        "###값 가져오기"
      ],
      "metadata": {
        "id": "yeoIHx6bETnc"
      }
    },
    {
      "cell_type": "markdown",
      "source": [
        "####(1) 인덱싱, 슬라이싱 방법 가능"
      ],
      "metadata": {
        "id": "4Dfgs-CFO4_s"
      }
    },
    {
      "cell_type": "code",
      "source": [
        "a = [[1,2,3], [4,5,6]] #python의list\n",
        "b = np.array([[1,2,3],[4,5,6]]) #numpy의 array"
      ],
      "metadata": {
        "id": "EaE2RjS8ESQK"
      },
      "execution_count": null,
      "outputs": []
    },
    {
      "cell_type": "code",
      "source": [
        "print(a[0])\n",
        "print(b[0])"
      ],
      "metadata": {
        "colab": {
          "base_uri": "https://localhost:8080/"
        },
        "id": "owRv1tfpElod",
        "outputId": "6d40ab43-4a03-4f16-95aa-d5f1f9aa21db"
      },
      "execution_count": null,
      "outputs": [
        {
          "output_type": "stream",
          "name": "stdout",
          "text": [
            "[1, 2, 3]\n",
            "[1 2 3]\n"
          ]
        }
      ]
    },
    {
      "cell_type": "code",
      "source": [
        "print(type(a[0]))\n",
        "print(type(b[0]))"
      ],
      "metadata": {
        "colab": {
          "base_uri": "https://localhost:8080/"
        },
        "id": "NGcHCxa_FiNS",
        "outputId": "01c1d329-c11d-48b9-9828-d0d31a139d9d"
      },
      "execution_count": null,
      "outputs": [
        {
          "output_type": "stream",
          "name": "stdout",
          "text": [
            "<class 'list'>\n",
            "<class 'numpy.ndarray'>\n"
          ]
        }
      ]
    },
    {
      "cell_type": "code",
      "source": [
        "#print(a[0,1]) # TypeError: list indices must be integers or slices, not tuple\n",
        "print(a[0][1])\n",
        "print(b[0,1]) # array"
      ],
      "metadata": {
        "colab": {
          "base_uri": "https://localhost:8080/"
        },
        "id": "_v3zkg_7FzLR",
        "outputId": "60e70e9d-0612-4754-e283-09154087d04c"
      },
      "execution_count": null,
      "outputs": [
        {
          "output_type": "stream",
          "name": "stdout",
          "text": [
            "2\n",
            "2\n"
          ]
        }
      ]
    },
    {
      "cell_type": "code",
      "source": [
        "#list에서의 copy 방식과 numpy배열에서의 copy 방식이 다르다."
      ],
      "metadata": {
        "id": "NipmciwAGjNh"
      },
      "execution_count": null,
      "outputs": []
    },
    {
      "cell_type": "code",
      "source": [
        "print(a[slice(0,1)])# 0행부터 1행 미만의 데이터를 가져온다, 2차원이 유지된다.\n",
        "print(a[0]) # 1차원으로 가져온다.\n",
        "\n",
        "print(type(a[slice(0,1)]))\n",
        "print(type(a[0]))"
      ],
      "metadata": {
        "colab": {
          "base_uri": "https://localhost:8080/"
        },
        "id": "pM7_NOFgGqZx",
        "outputId": "7934b6a4-9b96-4ddc-e03e-df0b4b448d01"
      },
      "execution_count": null,
      "outputs": [
        {
          "output_type": "stream",
          "name": "stdout",
          "text": [
            "[[1, 2, 3]]\n",
            "[1, 2, 3]\n",
            "<class 'list'>\n",
            "<class 'list'>\n"
          ]
        }
      ]
    },
    {
      "cell_type": "markdown",
      "source": [
        "numpy는 기본적으로 인덱싱/슬라이싱할 때 comma를 사용할 수 있다."
      ],
      "metadata": {
        "id": "cIqN2xiEIDIN"
      }
    },
    {
      "cell_type": "code",
      "source": [
        "print(type(b))\n",
        "print(b[0,1]) #b[행,열]    indexing\n",
        "print(b[0][1]) #b[행],[열] indexing\n",
        "print(b[0, -1]) #          indexing\n",
        "print(b[0:1, 0:2])#        slicing  [[1 2]]\n",
        "print(b[0:2, 0:2])#        slicing [[1 2][4 5]]"
      ],
      "metadata": {
        "colab": {
          "base_uri": "https://localhost:8080/"
        },
        "id": "74z_O84IIKaw",
        "outputId": "0ec926a1-ecaf-4414-cf53-4ec987dc58c1"
      },
      "execution_count": null,
      "outputs": [
        {
          "output_type": "stream",
          "name": "stdout",
          "text": [
            "<class 'numpy.ndarray'>\n",
            "2\n",
            "2\n",
            "3\n",
            "[[1 2]]\n",
            "[[1 2]\n",
            " [4 5]]\n"
          ]
        }
      ]
    },
    {
      "cell_type": "code",
      "source": [
        "#python\n",
        "print(type(a))\n",
        "print(a[0][1])  #a[행][열]  indexing\n",
        "print(a[0:1]) # [[1, 2, 3]] slicing 후후후\n",
        "print(a[0:1][0:1])\n",
        "print(a[1:2])\n",
        "print(a[0:2, 0:2])"
      ],
      "metadata": {
        "colab": {
          "base_uri": "https://localhost:8080/",
          "height": 313
        },
        "id": "RE9qE5m5MfT_",
        "outputId": "4f83b7d5-4551-400f-93b2-d713c85d726d"
      },
      "execution_count": null,
      "outputs": [
        {
          "output_type": "stream",
          "name": "stdout",
          "text": [
            "<class 'list'>\n",
            "2\n",
            "[[1, 2, 3]]\n",
            "[[1, 2, 3]]\n",
            "[[4, 5, 6]]\n"
          ]
        },
        {
          "output_type": "error",
          "ename": "TypeError",
          "evalue": "ignored",
          "traceback": [
            "\u001b[0;31m---------------------------------------------------------------------------\u001b[0m",
            "\u001b[0;31mTypeError\u001b[0m                                 Traceback (most recent call last)",
            "\u001b[0;32m<ipython-input-53-5ae6ba33b3dd>\u001b[0m in \u001b[0;36m<cell line: 7>\u001b[0;34m()\u001b[0m\n\u001b[1;32m      5\u001b[0m \u001b[0mprint\u001b[0m\u001b[0;34m(\u001b[0m\u001b[0ma\u001b[0m\u001b[0;34m[\u001b[0m\u001b[0;36m0\u001b[0m\u001b[0;34m:\u001b[0m\u001b[0;36m1\u001b[0m\u001b[0;34m]\u001b[0m\u001b[0;34m[\u001b[0m\u001b[0;36m0\u001b[0m\u001b[0;34m:\u001b[0m\u001b[0;36m1\u001b[0m\u001b[0;34m]\u001b[0m\u001b[0;34m)\u001b[0m\u001b[0;34m\u001b[0m\u001b[0;34m\u001b[0m\u001b[0m\n\u001b[1;32m      6\u001b[0m \u001b[0mprint\u001b[0m\u001b[0;34m(\u001b[0m\u001b[0ma\u001b[0m\u001b[0;34m[\u001b[0m\u001b[0;36m1\u001b[0m\u001b[0;34m:\u001b[0m\u001b[0;36m2\u001b[0m\u001b[0;34m]\u001b[0m\u001b[0;34m)\u001b[0m\u001b[0;34m\u001b[0m\u001b[0;34m\u001b[0m\u001b[0m\n\u001b[0;32m----> 7\u001b[0;31m \u001b[0mprint\u001b[0m\u001b[0;34m(\u001b[0m\u001b[0ma\u001b[0m\u001b[0;34m[\u001b[0m\u001b[0;36m0\u001b[0m\u001b[0;34m:\u001b[0m\u001b[0;36m2\u001b[0m\u001b[0;34m,\u001b[0m \u001b[0;36m0\u001b[0m\u001b[0;34m:\u001b[0m\u001b[0;36m2\u001b[0m\u001b[0;34m]\u001b[0m\u001b[0;34m)\u001b[0m\u001b[0;34m\u001b[0m\u001b[0;34m\u001b[0m\u001b[0m\n\u001b[0m",
            "\u001b[0;31mTypeError\u001b[0m: list indices must be integers or slices, not tuple"
          ]
        }
      ]
    },
    {
      "cell_type": "markdown",
      "source": [
        "####(2) boolean indexing"
      ],
      "metadata": {
        "id": "j6CJ0vKqPLyx"
      }
    },
    {
      "cell_type": "code",
      "source": [
        "a = [[1,2,3], [4,5,6]]"
      ],
      "metadata": {
        "id": "xfoDZKT2PQ_e"
      },
      "execution_count": null,
      "outputs": []
    },
    {
      "cell_type": "code",
      "source": [
        "print(type(a))\n",
        "print(a*3)\n",
        "a>3 #다른 타입의 함수는 비교 불가능"
      ],
      "metadata": {
        "colab": {
          "base_uri": "https://localhost:8080/",
          "height": 258
        },
        "id": "sZ2BvqJfPVRm",
        "outputId": "8a5f3185-5c1d-4e3f-99eb-8bc788115bc7"
      },
      "execution_count": null,
      "outputs": [
        {
          "output_type": "stream",
          "name": "stdout",
          "text": [
            "<class 'list'>\n",
            "[[1, 2, 3], [4, 5, 6], [1, 2, 3], [4, 5, 6], [1, 2, 3], [4, 5, 6]]\n"
          ]
        },
        {
          "output_type": "error",
          "ename": "TypeError",
          "evalue": "ignored",
          "traceback": [
            "\u001b[0;31m---------------------------------------------------------------------------\u001b[0m",
            "\u001b[0;31mTypeError\u001b[0m                                 Traceback (most recent call last)",
            "\u001b[0;32m<ipython-input-57-998b3064ada4>\u001b[0m in \u001b[0;36m<cell line: 3>\u001b[0;34m()\u001b[0m\n\u001b[1;32m      1\u001b[0m \u001b[0mprint\u001b[0m\u001b[0;34m(\u001b[0m\u001b[0mtype\u001b[0m\u001b[0;34m(\u001b[0m\u001b[0ma\u001b[0m\u001b[0;34m)\u001b[0m\u001b[0;34m)\u001b[0m\u001b[0;34m\u001b[0m\u001b[0;34m\u001b[0m\u001b[0m\n\u001b[1;32m      2\u001b[0m \u001b[0mprint\u001b[0m\u001b[0;34m(\u001b[0m\u001b[0ma\u001b[0m\u001b[0;34m*\u001b[0m\u001b[0;36m3\u001b[0m\u001b[0;34m)\u001b[0m\u001b[0;34m\u001b[0m\u001b[0;34m\u001b[0m\u001b[0m\n\u001b[0;32m----> 3\u001b[0;31m \u001b[0ma\u001b[0m\u001b[0;34m>\u001b[0m\u001b[0;36m3\u001b[0m\u001b[0;34m\u001b[0m\u001b[0;34m\u001b[0m\u001b[0m\n\u001b[0m",
            "\u001b[0;31mTypeError\u001b[0m: '>' not supported between instances of 'list' and 'int'"
          ]
        }
      ]
    },
    {
      "cell_type": "code",
      "source": [
        "b = np.array([[1,2,3,4]]) #numpy array\n",
        "c = np.array([[2,2,2,2]]) #numpy array"
      ],
      "metadata": {
        "id": "IGRA3JDCPw23"
      },
      "execution_count": null,
      "outputs": []
    },
    {
      "cell_type": "code",
      "source": [
        "b > c"
      ],
      "metadata": {
        "colab": {
          "base_uri": "https://localhost:8080/"
        },
        "id": "9v00vghcP_J_",
        "outputId": "10613f4e-4ff4-42cc-e064-1bd129ceb306"
      },
      "execution_count": null,
      "outputs": [
        {
          "output_type": "execute_result",
          "data": {
            "text/plain": [
              "array([[False, False,  True,  True]])"
            ]
          },
          "metadata": {},
          "execution_count": 64
        }
      ]
    },
    {
      "cell_type": "markdown",
      "source": [
        "array는 scarlar와 연산하면 elementwise로 계산한다.\n",
        "\n",
        "(elementwise: 원소별로 각각 계산이 된다.)"
      ],
      "metadata": {
        "id": "gZbQtiSjQXE6"
      }
    },
    {
      "cell_type": "code",
      "source": [
        "b > 2"
      ],
      "metadata": {
        "colab": {
          "base_uri": "https://localhost:8080/"
        },
        "id": "tIi2X9_5QNVa",
        "outputId": "359137b4-2912-4f3d-9edc-4deb6914d6d2"
      },
      "execution_count": null,
      "outputs": [
        {
          "output_type": "execute_result",
          "data": {
            "text/plain": [
              "array([[False, False,  True,  True]])"
            ]
          },
          "metadata": {},
          "execution_count": 66
        }
      ]
    },
    {
      "cell_type": "code",
      "source": [
        "b[np.array([[False, False, True, True]])]"
      ],
      "metadata": {
        "colab": {
          "base_uri": "https://localhost:8080/"
        },
        "id": "u8LmerSlQutW",
        "outputId": "df8e446f-f475-4ce9-ec89-06fb6a6c1ffc"
      },
      "execution_count": null,
      "outputs": [
        {
          "output_type": "execute_result",
          "data": {
            "text/plain": [
              "array([3, 4])"
            ]
          },
          "metadata": {},
          "execution_count": 68
        }
      ]
    },
    {
      "cell_type": "code",
      "source": [
        "b[b>2] # = np.array([False, False, True, True])"
      ],
      "metadata": {
        "colab": {
          "base_uri": "https://localhost:8080/"
        },
        "id": "ANRZBAn8RYWt",
        "outputId": "d64ac088-69ba-4b25-b8e3-b45aa8da3d76"
      },
      "execution_count": null,
      "outputs": [
        {
          "output_type": "execute_result",
          "data": {
            "text/plain": [
              "array([3, 4])"
            ]
          },
          "metadata": {},
          "execution_count": 72
        }
      ]
    },
    {
      "cell_type": "markdown",
      "source": [
        "num에서 boolean indexing 조건\n",
        " - array만 가능하다.\n",
        " - numpy True, False로만 가능하다.\n",
        " - shape가 맞아야 한다.(개수가 맞을 때만 사용할 수 있다)"
      ],
      "metadata": {
        "id": "45k4nZe8SQ07"
      }
    },
    {
      "cell_type": "code",
      "source": [
        "#python에서는 boolean indexing을 지원 안한다.\n",
        "a = [[1,2,3,4]]\n",
        "a[[False,False,True,True]]"
      ],
      "metadata": {
        "colab": {
          "base_uri": "https://localhost:8080/",
          "height": 221
        },
        "id": "ToFZXkA8SxFG",
        "outputId": "1fd4e3e2-fb44-4278-f715-9aa14779c5b5"
      },
      "execution_count": null,
      "outputs": [
        {
          "output_type": "error",
          "ename": "TypeError",
          "evalue": "ignored",
          "traceback": [
            "\u001b[0;31m---------------------------------------------------------------------------\u001b[0m",
            "\u001b[0;31mTypeError\u001b[0m                                 Traceback (most recent call last)",
            "\u001b[0;32m<ipython-input-126-ce8ab55020ff>\u001b[0m in \u001b[0;36m<cell line: 3>\u001b[0;34m()\u001b[0m\n\u001b[1;32m      1\u001b[0m \u001b[0;31m#python에서는 boolean indexing을 지원 안한다.\u001b[0m\u001b[0;34m\u001b[0m\u001b[0;34m\u001b[0m\u001b[0m\n\u001b[1;32m      2\u001b[0m \u001b[0ma\u001b[0m \u001b[0;34m=\u001b[0m \u001b[0;34m[\u001b[0m\u001b[0;34m[\u001b[0m\u001b[0;36m1\u001b[0m\u001b[0;34m,\u001b[0m\u001b[0;36m2\u001b[0m\u001b[0;34m,\u001b[0m\u001b[0;36m3\u001b[0m\u001b[0;34m,\u001b[0m\u001b[0;36m4\u001b[0m\u001b[0;34m]\u001b[0m\u001b[0;34m]\u001b[0m\u001b[0;34m\u001b[0m\u001b[0;34m\u001b[0m\u001b[0m\n\u001b[0;32m----> 3\u001b[0;31m \u001b[0ma\u001b[0m\u001b[0;34m[\u001b[0m\u001b[0;34m[\u001b[0m\u001b[0;32mFalse\u001b[0m\u001b[0;34m,\u001b[0m\u001b[0;32mFalse\u001b[0m\u001b[0;34m,\u001b[0m\u001b[0;32mTrue\u001b[0m\u001b[0;34m,\u001b[0m\u001b[0;32mTrue\u001b[0m\u001b[0;34m]\u001b[0m\u001b[0;34m]\u001b[0m\u001b[0;34m\u001b[0m\u001b[0;34m\u001b[0m\u001b[0m\n\u001b[0m",
            "\u001b[0;31mTypeError\u001b[0m: list indices must be integers or slices, not list"
          ]
        }
      ]
    },
    {
      "cell_type": "markdown",
      "source": [
        "(3) fancy indexing\n"
      ],
      "metadata": {
        "id": "tEOqWSiTTLbi"
      }
    },
    {
      "cell_type": "code",
      "source": [
        "#np.arange([start,] end [, step])\n",
        "#reshape(행 갯수, 열 갯수): 배열의 구조 변경\n",
        "#a = np.arange(100)\n",
        "#b = a.reshape(20, 5)\n",
        "#print(a.shape)\n",
        "#print(b.shape)\n",
        "\n",
        "b = np.arange(100).reshape(20, 5)\n",
        "b"
      ],
      "metadata": {
        "colab": {
          "base_uri": "https://localhost:8080/"
        },
        "id": "DkU1eeyITObO",
        "outputId": "69803960-090a-4a6d-c19d-22db468e5388"
      },
      "execution_count": null,
      "outputs": [
        {
          "output_type": "execute_result",
          "data": {
            "text/plain": [
              "array([[ 0,  1,  2,  3,  4],\n",
              "       [ 5,  6,  7,  8,  9],\n",
              "       [10, 11, 12, 13, 14],\n",
              "       [15, 16, 17, 18, 19],\n",
              "       [20, 21, 22, 23, 24],\n",
              "       [25, 26, 27, 28, 29],\n",
              "       [30, 31, 32, 33, 34],\n",
              "       [35, 36, 37, 38, 39],\n",
              "       [40, 41, 42, 43, 44],\n",
              "       [45, 46, 47, 48, 49],\n",
              "       [50, 51, 52, 53, 54],\n",
              "       [55, 56, 57, 58, 59],\n",
              "       [60, 61, 62, 63, 64],\n",
              "       [65, 66, 67, 68, 69],\n",
              "       [70, 71, 72, 73, 74],\n",
              "       [75, 76, 77, 78, 79],\n",
              "       [80, 81, 82, 83, 84],\n",
              "       [85, 86, 87, 88, 89],\n",
              "       [90, 91, 92, 93, 94],\n",
              "       [95, 96, 97, 98, 99]])"
            ]
          },
          "metadata": {},
          "execution_count": 84
        }
      ]
    },
    {
      "cell_type": "code",
      "source": [
        "print(b[:]) #전체를 가져온다. b[:,:]와 같다\n",
        "print([1,3]) # b[행, 열]\n",
        "print(b[1:3, 2:4])  # 1행부터 3행미만, 2열부터 4열미만의 데이터를 가져온다.\n",
        "print(b[[1,3,5],[0,2,4]]) #1행 0열, 3행 2열, 5행 4열의 데이터를 가져온다.\n",
        "print(b[[1,3,5]]) #1행, 3행, 5행의 데이터를 가져온다.\n"
      ],
      "metadata": {
        "colab": {
          "base_uri": "https://localhost:8080/"
        },
        "id": "E8VqrU3vTHfx",
        "outputId": "6abc5b28-cbad-488d-d29d-7dd4e3bda240"
      },
      "execution_count": null,
      "outputs": [
        {
          "output_type": "stream",
          "name": "stdout",
          "text": [
            "[[ 0  1  2  3  4]\n",
            " [ 5  6  7  8  9]\n",
            " [10 11 12 13 14]\n",
            " [15 16 17 18 19]\n",
            " [20 21 22 23 24]\n",
            " [25 26 27 28 29]\n",
            " [30 31 32 33 34]\n",
            " [35 36 37 38 39]\n",
            " [40 41 42 43 44]\n",
            " [45 46 47 48 49]\n",
            " [50 51 52 53 54]\n",
            " [55 56 57 58 59]\n",
            " [60 61 62 63 64]\n",
            " [65 66 67 68 69]\n",
            " [70 71 72 73 74]\n",
            " [75 76 77 78 79]\n",
            " [80 81 82 83 84]\n",
            " [85 86 87 88 89]\n",
            " [90 91 92 93 94]\n",
            " [95 96 97 98 99]]\n",
            "[1, 3]\n",
            "[[ 7  8]\n",
            " [12 13]]\n",
            "[ 5 17 29]\n",
            "[[ 5  6  7  8  9]\n",
            " [15 16 17 18 19]\n",
            " [25 26 27 28 29]]\n",
            "[[ 0  2  4]\n",
            " [ 5  7  9]\n",
            " [10 12 14]\n",
            " [15 17 19]\n",
            " [20 22 24]\n",
            " [25 27 29]\n",
            " [30 32 34]\n",
            " [35 37 39]\n",
            " [40 42 44]\n",
            " [45 47 49]\n",
            " [50 52 54]\n",
            " [55 57 59]\n",
            " [60 62 64]\n",
            " [65 67 69]\n",
            " [70 72 74]\n",
            " [75 77 79]\n",
            " [80 82 84]\n",
            " [85 87 89]\n",
            " [90 92 94]\n",
            " [95 97 99]]\n"
          ]
        }
      ]
    },
    {
      "cell_type": "code",
      "source": [
        "print(b[[1,3,4], [0,2]]) #행과 열의 갯수를 같게 지정해야 한다.\n",
        "print(b[[:],[1,2,3]]) # fancy indexing에서는 슬라이싱 못 쓴다(2)\n",
        "\n"
      ],
      "metadata": {
        "colab": {
          "base_uri": "https://localhost:8080/",
          "height": 184
        },
        "id": "rvGXl_FqVNr1",
        "outputId": "0cfff9fa-0cff-4823-8a88-13099d006008"
      },
      "execution_count": null,
      "outputs": [
        {
          "output_type": "error",
          "ename": "IndexError",
          "evalue": "ignored",
          "traceback": [
            "\u001b[0;31m---------------------------------------------------------------------------\u001b[0m",
            "\u001b[0;31mIndexError\u001b[0m                                Traceback (most recent call last)",
            "\u001b[0;32m<ipython-input-88-56ee1538f381>\u001b[0m in \u001b[0;36m<cell line: 1>\u001b[0;34m()\u001b[0m\n\u001b[0;32m----> 1\u001b[0;31m \u001b[0mprint\u001b[0m\u001b[0;34m(\u001b[0m\u001b[0mb\u001b[0m\u001b[0;34m[\u001b[0m\u001b[0;34m[\u001b[0m\u001b[0;36m1\u001b[0m\u001b[0;34m,\u001b[0m\u001b[0;36m3\u001b[0m\u001b[0;34m,\u001b[0m\u001b[0;36m4\u001b[0m\u001b[0;34m]\u001b[0m\u001b[0;34m,\u001b[0m \u001b[0;34m[\u001b[0m\u001b[0;36m0\u001b[0m\u001b[0;34m,\u001b[0m\u001b[0;36m2\u001b[0m\u001b[0;34m]\u001b[0m\u001b[0;34m]\u001b[0m\u001b[0;34m)\u001b[0m \u001b[0;31m#행과 열의 갯수를 같게 지정해야 한다.\u001b[0m\u001b[0;34m\u001b[0m\u001b[0;34m\u001b[0m\u001b[0m\n\u001b[0m",
            "\u001b[0;31mIndexError\u001b[0m: shape mismatch: indexing arrays could not be broadcast together with shapes (3,) (2,) "
          ]
        }
      ]
    },
    {
      "cell_type": "code",
      "source": [
        "print(b[[1,3,4],[0]])"
      ],
      "metadata": {
        "colab": {
          "base_uri": "https://localhost:8080/"
        },
        "id": "lS_bPbWlU5EJ",
        "outputId": "d0e1d313-2313-436c-c68b-9ccbbbc1de96"
      },
      "execution_count": null,
      "outputs": [
        {
          "output_type": "stream",
          "name": "stdout",
          "text": [
            "[ 5 15 20]\n"
          ]
        }
      ]
    },
    {
      "cell_type": "code",
      "source": [
        "m = np.arange(1,9).reshape(2,4) #일단 보류\n",
        "#n = np.array([2])        #(1,)\n",
        "n = np.array([[2]])       #1,1\n",
        "n = np.array([[1,2,3,4]]) #(1,4)\n",
        "#n = np.array([1,2,3,4])  #(4,)\n",
        "#n = np.array[[1][1]]     #(2,1)\n",
        "print(m)\n",
        "print(m.shape)\n",
        "print(n)\n",
        "print(n.shape)"
      ],
      "metadata": {
        "colab": {
          "base_uri": "https://localhost:8080/"
        },
        "id": "1TQwyrx-chT7",
        "outputId": "e7d032cc-48d7-4fd4-f671-8827a7677494"
      },
      "execution_count": null,
      "outputs": [
        {
          "output_type": "stream",
          "name": "stdout",
          "text": [
            "[[1 2 3 4]\n",
            " [5 6 7 8]]\n",
            "(2, 4)\n",
            "[[1 2 3 4]]\n",
            "(1, 4)\n"
          ]
        }
      ]
    },
    {
      "cell_type": "code",
      "source": [
        "m + n"
      ],
      "metadata": {
        "colab": {
          "base_uri": "https://localhost:8080/"
        },
        "id": "GIjvfibqeQoL",
        "outputId": "3473c946-8534-4ad9-b811-847840ae219c"
      },
      "execution_count": null,
      "outputs": [
        {
          "output_type": "execute_result",
          "data": {
            "text/plain": [
              "array([[ 3,  4,  5,  6,  7,  8],\n",
              "       [ 9, 10, 11, 12, 13, 14]])"
            ]
          },
          "metadata": {},
          "execution_count": 111
        }
      ]
    },
    {
      "cell_type": "markdown",
      "source": [
        "##3차원 이상에서 차원 구별하는 법"
      ],
      "metadata": {
        "id": "HgnsrAabhfsu"
      }
    },
    {
      "cell_type": "code",
      "source": [
        "#0에서 24미만까지 생성\n",
        "b = np.arange(24).reshape(2,3,4) #3차원 (2층(면), 3행, 4열)\n",
        "b"
      ],
      "metadata": {
        "colab": {
          "base_uri": "https://localhost:8080/"
        },
        "id": "rPH90FybhSWB",
        "outputId": "69767b23-cc57-41b3-8d59-1e5e90b75da1"
      },
      "execution_count": null,
      "outputs": [
        {
          "output_type": "execute_result",
          "data": {
            "text/plain": [
              "array([[[ 0,  1,  2,  3],\n",
              "        [ 4,  5,  6,  7],\n",
              "        [ 8,  9, 10, 11]],\n",
              "\n",
              "       [[12, 13, 14, 15],\n",
              "        [16, 17, 18, 19],\n",
              "        [20, 21, 22, 23]]])"
            ]
          },
          "metadata": {},
          "execution_count": 113
        }
      ]
    },
    {
      "cell_type": "code",
      "source": [
        "b[0] #2차원으로 반환"
      ],
      "metadata": {
        "colab": {
          "base_uri": "https://localhost:8080/"
        },
        "id": "y894e-AghpSd",
        "outputId": "2dbbd909-bb66-4a00-ceb5-2b928af66c5a"
      },
      "execution_count": null,
      "outputs": [
        {
          "output_type": "execute_result",
          "data": {
            "text/plain": [
              "array([[ 0,  1,  2,  3],\n",
              "       [ 4,  5,  6,  7],\n",
              "       [ 8,  9, 10, 11]])"
            ]
          },
          "metadata": {},
          "execution_count": 115
        }
      ]
    },
    {
      "cell_type": "code",
      "source": [
        "b[0][0] #1차원으로 반환"
      ],
      "metadata": {
        "colab": {
          "base_uri": "https://localhost:8080/"
        },
        "id": "a5IBsn2Mh_pi",
        "outputId": "49def1eb-a6df-4017-d768-193e46bee996"
      },
      "execution_count": null,
      "outputs": [
        {
          "output_type": "execute_result",
          "data": {
            "text/plain": [
              "array([0, 1, 2, 3])"
            ]
          },
          "metadata": {},
          "execution_count": 116
        }
      ]
    },
    {
      "cell_type": "code",
      "source": [
        "b[1,1] #1공간(층, 면) 1행\n"
      ],
      "metadata": {
        "colab": {
          "base_uri": "https://localhost:8080/"
        },
        "id": "o8kpxUWFiggt",
        "outputId": "0b8a4fbd-fc4a-4b87-acac-226c8e333193"
      },
      "execution_count": null,
      "outputs": [
        {
          "output_type": "execute_result",
          "data": {
            "text/plain": [
              "array([16, 17, 18, 19])"
            ]
          },
          "metadata": {},
          "execution_count": 120
        }
      ]
    },
    {
      "cell_type": "code",
      "source": [
        "b[:, 1, 3] #0공간 1행 3열"
      ],
      "metadata": {
        "colab": {
          "base_uri": "https://localhost:8080/"
        },
        "id": "RtZLvi6Kiwd8",
        "outputId": "8ee3dbfb-cc60-46ec-9dc7-415b6977be18"
      },
      "execution_count": null,
      "outputs": [
        {
          "output_type": "execute_result",
          "data": {
            "text/plain": [
              "array([ 7, 19])"
            ]
          },
          "metadata": {},
          "execution_count": 118
        }
      ]
    },
    {
      "cell_type": "code",
      "source": [
        "b[:,:,1] #모든 공간(층), 모든 행의 1번째 열 뽑아라"
      ],
      "metadata": {
        "colab": {
          "base_uri": "https://localhost:8080/"
        },
        "id": "jFv9ULVrjXCt",
        "outputId": "9c4a37fc-72ab-4801-bfd4-a17cf7278daf"
      },
      "execution_count": null,
      "outputs": [
        {
          "output_type": "execute_result",
          "data": {
            "text/plain": [
              "array([[ 1,  5,  9],\n",
              "       [13, 17, 21]])"
            ]
          },
          "metadata": {},
          "execution_count": 125
        }
      ]
    },
    {
      "cell_type": "markdown",
      "source": [
        "###fancy indexing와 indexing 차이\n",
        " - indexing은 원래 차원에서 하나 감소해서 가져오고 fancy indexing은 원래 차원 그대로 가져온다,"
      ],
      "metadata": {
        "id": "J_3PTqOw4tir"
      }
    },
    {
      "cell_type": "code",
      "source": [
        "#indexing은 차원이 하나 감소해서 가져온다.(3차원을 2차원으로 가져온다)\n",
        "b[0]"
      ],
      "metadata": {
        "colab": {
          "base_uri": "https://localhost:8080/"
        },
        "id": "hKnQLQSA5CwC",
        "outputId": "fcb3aee9-b289-4edb-b94c-e9d5aa87e29e"
      },
      "execution_count": null,
      "outputs": [
        {
          "output_type": "execute_result",
          "data": {
            "text/plain": [
              "array([[ 0,  1,  2,  3],\n",
              "       [ 4,  5,  6,  7],\n",
              "       [ 8,  9, 10, 11]])"
            ]
          },
          "metadata": {},
          "execution_count": 131
        }
      ]
    },
    {
      "cell_type": "code",
      "source": [
        "#fancy indexing은 원래 3차원 그대로 가져온다,\n",
        "b[0]"
      ],
      "metadata": {
        "colab": {
          "base_uri": "https://localhost:8080/"
        },
        "id": "IqiQhrWb5SWy",
        "outputId": "cc35fac0-3fd1-48e0-96db-8e05be9f2ce5"
      },
      "execution_count": null,
      "outputs": [
        {
          "output_type": "execute_result",
          "data": {
            "text/plain": [
              "array([[ 0,  1,  2,  3],\n",
              "       [ 4,  5,  6,  7],\n",
              "       [ 8,  9, 10, 11]])"
            ]
          },
          "metadata": {},
          "execution_count": 132
        }
      ]
    },
    {
      "cell_type": "code",
      "source": [
        "#b[0]은 b[0,:,:]의 단축표현이다.\n",
        "\n",
        "### Ellipsis\n",
        "\n",
        "...(Ellipsis)는 이후로 모든 것을"
      ],
      "metadata": {
        "colab": {
          "base_uri": "https://localhost:8080/",
          "height": 147
        },
        "id": "3n9_phwCjZrM",
        "outputId": "eec17878-554c-4749-81a7-933657585ebc"
      },
      "execution_count": null,
      "outputs": [
        {
          "output_type": "error",
          "ename": "SyntaxError",
          "evalue": "ignored",
          "traceback": [
            "\u001b[0;36m  File \u001b[0;32m\"<ipython-input-133-2632f96ae78e>\"\u001b[0;36m, line \u001b[0;32m5\u001b[0m\n\u001b[0;31m    ...(Ellipsis)는 이후로 모든 것을 의미한다.\u001b[0m\n\u001b[0m                 ^\u001b[0m\n\u001b[0;31mSyntaxError\u001b[0m\u001b[0;31m:\u001b[0m invalid syntax\n"
          ]
        }
      ]
    },
    {
      "cell_type": "code",
      "source": [
        "[[0]"
      ],
      "metadata": {
        "id": "_b37UTxN6eXK"
      },
      "execution_count": null,
      "outputs": []
    },
    {
      "cell_type": "markdown",
      "source": [
        "### Ellipsis\n",
        "\n",
        "...(Ellipsis)는 이후로 모든 것을 의미한다."
      ],
      "metadata": {
        "id": "r0VbJeY06qzG"
      }
    },
    {
      "cell_type": "code",
      "source": [
        "#b[0] = b[0,:,:] = b[0...]\n",
        "b[0]#생략기법\n",
        "b[0,:,:] # slicing 기법\n",
        "b[0,...]# ellipsis 기법"
      ],
      "metadata": {
        "colab": {
          "base_uri": "https://localhost:8080/"
        },
        "id": "9HqnC1Kn6u23",
        "outputId": "0c30afa6-5dd9-4b18-e389-22ef4ee4644a"
      },
      "execution_count": null,
      "outputs": [
        {
          "output_type": "execute_result",
          "data": {
            "text/plain": [
              "array([[ 0,  1,  2,  3],\n",
              "       [ 4,  5,  6,  7],\n",
              "       [ 8,  9, 10, 11]])"
            ]
          },
          "metadata": {},
          "execution_count": 135
        }
      ]
    },
    {
      "cell_type": "code",
      "source": [
        "type(...)"
      ],
      "metadata": {
        "colab": {
          "base_uri": "https://localhost:8080/"
        },
        "id": "7_it_olz7EPD",
        "outputId": "149840c0-4ff2-4b45-8128-a8d6975096ad"
      },
      "execution_count": null,
      "outputs": [
        {
          "output_type": "execute_result",
          "data": {
            "text/plain": [
              "ellipsis"
            ]
          },
          "metadata": {},
          "execution_count": 138
        }
      ]
    },
    {
      "cell_type": "code",
      "source": [
        "# 숫자 1,5,9만 가져온다.\n",
        "b[0, :, [1]]"
      ],
      "metadata": {
        "colab": {
          "base_uri": "https://localhost:8080/"
        },
        "id": "vXkCSANF7M28",
        "outputId": "4f409005-2f9a-4a7a-d064-959ed7b9f44f"
      },
      "execution_count": null,
      "outputs": [
        {
          "output_type": "execute_result",
          "data": {
            "text/plain": [
              "array([[1, 5, 9]])"
            ]
          },
          "metadata": {},
          "execution_count": 141
        }
      ]
    },
    {
      "cell_type": "code",
      "source": [
        "# 숫자 1,5,9,3,7,11 가져오기\n",
        "b"
      ],
      "metadata": {
        "colab": {
          "base_uri": "https://localhost:8080/"
        },
        "id": "UIv4iwoh7cTK",
        "outputId": "6e148ce0-e507-418a-8dc1-436379649bca"
      },
      "execution_count": null,
      "outputs": [
        {
          "output_type": "execute_result",
          "data": {
            "text/plain": [
              "array([[[ 0,  1,  2,  3],\n",
              "        [ 4,  5,  6,  7],\n",
              "        [ 8,  9, 10, 11]],\n",
              "\n",
              "       [[12, 13, 14, 15],\n",
              "        [16, 17, 18, 19],\n",
              "        [20, 21, 22, 23]]])"
            ]
          },
          "metadata": {},
          "execution_count": 143
        }
      ]
    },
    {
      "cell_type": "code",
      "source": [
        "b[0, :, [1,3]]"
      ],
      "metadata": {
        "colab": {
          "base_uri": "https://localhost:8080/"
        },
        "id": "8o1KpefJ7xza",
        "outputId": "743035dc-74b5-4ed3-9850-a05dd1d5a3f7"
      },
      "execution_count": null,
      "outputs": [
        {
          "output_type": "execute_result",
          "data": {
            "text/plain": [
              "array([[ 1,  5,  9],\n",
              "       [ 3,  7, 11]])"
            ]
          },
          "metadata": {},
          "execution_count": 145
        }
      ]
    },
    {
      "cell_type": "code",
      "source": [
        "#숫자 4,5,6,7,16,17,18,19 가져오기\n",
        "b[:,1 ,:]"
      ],
      "metadata": {
        "colab": {
          "base_uri": "https://localhost:8080/"
        },
        "id": "3XshlRmH76Ai",
        "outputId": "f00b7951-56e1-4b74-f7b1-07358776f4e3"
      },
      "execution_count": null,
      "outputs": [
        {
          "output_type": "execute_result",
          "data": {
            "text/plain": [
              "array([[ 4,  5,  6,  7],\n",
              "       [16, 17, 18, 19]])"
            ]
          },
          "metadata": {},
          "execution_count": 154
        }
      ]
    },
    {
      "cell_type": "code",
      "source": [
        "#숫자 3,7,11,15,19,23 가져오기\n",
        "b[:,:, 3]"
      ],
      "metadata": {
        "colab": {
          "base_uri": "https://localhost:8080/"
        },
        "id": "HQ0ilQo98wlK",
        "outputId": "ef30d6f0-dd39-4562-fc84-c1fa58626cd2"
      },
      "execution_count": null,
      "outputs": [
        {
          "output_type": "execute_result",
          "data": {
            "text/plain": [
              "array([[ 3,  7, 11],\n",
              "       [15, 19, 23]])"
            ]
          },
          "metadata": {},
          "execution_count": 156
        }
      ]
    },
    {
      "cell_type": "code",
      "source": [
        "b[:, :, 3:4] #3차원으로 가져옴"
      ],
      "metadata": {
        "colab": {
          "base_uri": "https://localhost:8080/"
        },
        "id": "ljiiz2s19Lom",
        "outputId": "44532516-f6bd-4544-b7c5-3f51fb75d54a"
      },
      "execution_count": null,
      "outputs": [
        {
          "output_type": "execute_result",
          "data": {
            "text/plain": [
              "array([[[ 3],\n",
              "        [ 7],\n",
              "        [11]],\n",
              "\n",
              "       [[15],\n",
              "        [19],\n",
              "        [23]]])"
            ]
          },
          "metadata": {},
          "execution_count": 158
        }
      ]
    },
    {
      "cell_type": "code",
      "source": [
        "b[:, :, [3]] #3차원으로 가져옴"
      ],
      "metadata": {
        "colab": {
          "base_uri": "https://localhost:8080/"
        },
        "id": "51cjlGdc9a8L",
        "outputId": "2a5f5e33-8847-4bc0-a2f9-ee34feab02c5"
      },
      "execution_count": null,
      "outputs": [
        {
          "output_type": "execute_result",
          "data": {
            "text/plain": [
              "array([[[ 3],\n",
              "        [ 7],\n",
              "        [11]],\n",
              "\n",
              "       [[15],\n",
              "        [19],\n",
              "        [23]]])"
            ]
          },
          "metadata": {},
          "execution_count": 160
        }
      ]
    },
    {
      "cell_type": "code",
      "source": [],
      "metadata": {
        "id": "tT3wMFGH9zZ7"
      },
      "execution_count": null,
      "outputs": []
    },
    {
      "cell_type": "markdown",
      "source": [],
      "metadata": {
        "id": "ZwMwPjPM90bo"
      }
    },
    {
      "cell_type": "markdown",
      "source": [
        "##줄임표현(...)\n",
        "\n",
        "출력해야 할 데이터 수가 엄청 클 때 보이는 ...은 ellipsis와 다르다,"
      ],
      "metadata": {
        "id": "rp-lpxSV90d8"
      }
    },
    {
      "cell_type": "code",
      "source": [
        "#out에 나오는 ...은 단순히 줄임표현이다,\n",
        "np.arange(10000)"
      ],
      "metadata": {
        "colab": {
          "base_uri": "https://localhost:8080/"
        },
        "id": "aYMtiMih999T",
        "outputId": "fdda59f4-2432-4b02-ad37-3c599fe7a3b2"
      },
      "execution_count": null,
      "outputs": [
        {
          "output_type": "execute_result",
          "data": {
            "text/plain": [
              "array([   0,    1,    2, ..., 9997, 9998, 9999])"
            ]
          },
          "metadata": {},
          "execution_count": 162
        }
      ]
    },
    {
      "cell_type": "code",
      "source": [
        "#...양쪽으로 출력 갯수 지정\n",
        "np.set_printoptions(edgeitems=6)"
      ],
      "metadata": {
        "id": "DSjNV-h8-Voq"
      },
      "execution_count": null,
      "outputs": []
    },
    {
      "cell_type": "code",
      "source": [
        "np.arange(10000)"
      ],
      "metadata": {
        "colab": {
          "base_uri": "https://localhost:8080/"
        },
        "id": "sOe8Or5J-cWa",
        "outputId": "d70599f4-167b-4e50-f3f0-184989b35f6b"
      },
      "execution_count": null,
      "outputs": [
        {
          "output_type": "execute_result",
          "data": {
            "text/plain": [
              "array([   0,    1,    2,    3,    4,    5, ..., 9994, 9995, 9996, 9997,\n",
              "       9998, 9999])"
            ]
          },
          "metadata": {},
          "execution_count": 165
        }
      ]
    },
    {
      "cell_type": "markdown",
      "source": [
        "## 연산\n",
        "numpy 연슨의 기본은 두 개의 shape가 같아야 한다,"
      ],
      "metadata": {
        "id": "hcoeromo-wGB"
      }
    },
    {
      "cell_type": "code",
      "source": [
        "a = np.arange(12).reshape(3,4)\n",
        "a"
      ],
      "metadata": {
        "colab": {
          "base_uri": "https://localhost:8080/"
        },
        "id": "7tWCmI7T-uva",
        "outputId": "bd5bbf27-912d-420a-e78d-5600066778f0"
      },
      "execution_count": null,
      "outputs": [
        {
          "output_type": "execute_result",
          "data": {
            "text/plain": [
              "array([[ 0,  1,  2,  3],\n",
              "       [ 4,  5,  6,  7],\n",
              "       [ 8,  9, 10, 11]])"
            ]
          },
          "metadata": {},
          "execution_count": 167
        }
      ]
    },
    {
      "cell_type": "code",
      "source": [
        "a.shape"
      ],
      "metadata": {
        "colab": {
          "base_uri": "https://localhost:8080/"
        },
        "id": "D_eytK4n-9hv",
        "outputId": "18cf9fda-d9ce-4763-fe68-f24b94f0a4f1"
      },
      "execution_count": null,
      "outputs": [
        {
          "output_type": "execute_result",
          "data": {
            "text/plain": [
              "(3, 4)"
            ]
          },
          "metadata": {},
          "execution_count": 168
        }
      ]
    },
    {
      "cell_type": "code",
      "source": [
        "b = np.arange(1, 13).reshape(3,4)\n",
        "b"
      ],
      "metadata": {
        "colab": {
          "base_uri": "https://localhost:8080/"
        },
        "id": "nqYLprDK_NaZ",
        "outputId": "847ce695-6355-4319-f36c-695d2ca68055"
      },
      "execution_count": null,
      "outputs": [
        {
          "output_type": "execute_result",
          "data": {
            "text/plain": [
              "array([[ 1,  2,  3,  4],\n",
              "       [ 5,  6,  7,  8],\n",
              "       [ 9, 10, 11, 12]])"
            ]
          },
          "metadata": {},
          "execution_count": 170
        }
      ]
    },
    {
      "cell_type": "code",
      "source": [
        "b.shape"
      ],
      "metadata": {
        "colab": {
          "base_uri": "https://localhost:8080/"
        },
        "id": "D2Jkuwy5_UDB",
        "outputId": "a44247b5-5b51-43a5-ec1e-a45f14d576e9"
      },
      "execution_count": null,
      "outputs": [
        {
          "output_type": "execute_result",
          "data": {
            "text/plain": [
              "(3, 4)"
            ]
          },
          "metadata": {},
          "execution_count": 171
        }
      ]
    },
    {
      "cell_type": "markdown",
      "source": [
        "numpy는 elementwise로 vectorize 연산을 한다.\n",
        "\n",
        "vectorize는 데이터의 연산을 이로갈적으로 처리하는 기능이다.\n",
        "\n"
      ],
      "metadata": {
        "id": "iBgMnAfB_WYf"
      }
    },
    {
      "cell_type": "code",
      "source": [
        "#같은 위치의 원소끼리 더해 준다.(elementwise)\n",
        "a + b"
      ],
      "metadata": {
        "colab": {
          "base_uri": "https://localhost:8080/"
        },
        "id": "m1JHrrTw_XsS",
        "outputId": "7c6a25b1-2ec7-4ced-9134-2b50c3fc7da7"
      },
      "execution_count": null,
      "outputs": [
        {
          "output_type": "execute_result",
          "data": {
            "text/plain": [
              "array([[ 1,  3,  5,  7],\n",
              "       [ 9, 11, 13, 15],\n",
              "       [17, 19, 21, 23]])"
            ]
          },
          "metadata": {},
          "execution_count": 173
        }
      ]
    },
    {
      "cell_type": "code",
      "source": [
        "#python의 list에서 +연산자는 elementwise가 아니라 list를 확장시킨다.(연결)\n",
        "[1,2,3] + [4,5,6]"
      ],
      "metadata": {
        "colab": {
          "base_uri": "https://localhost:8080/"
        },
        "id": "8IrZXZhTDqEo",
        "outputId": "e2d9d283-bea4-494d-d6aa-d7834af67232"
      },
      "execution_count": null,
      "outputs": [
        {
          "output_type": "execute_result",
          "data": {
            "text/plain": [
              "[1, 2, 3, 4, 5, 6]"
            ]
          },
          "metadata": {},
          "execution_count": 175
        }
      ]
    },
    {
      "cell_type": "code",
      "source": [
        "@np.vectorize\n",
        "def plus(a,b):\n",
        "  return a+b\n",
        "\n",
        "plus([1,2,3], [4,5,6])"
      ],
      "metadata": {
        "colab": {
          "base_uri": "https://localhost:8080/"
        },
        "id": "4lsx8UQYD7q1",
        "outputId": "2f065ba6-f7ed-4ef6-be95-eae9a7373df0"
      },
      "execution_count": null,
      "outputs": [
        {
          "output_type": "execute_result",
          "data": {
            "text/plain": [
              "[1, 2, 3, 4, 5, 6]"
            ]
          },
          "metadata": {},
          "execution_count": 180
        }
      ]
    },
    {
      "cell_type": "code",
      "source": [
        "b = np.arange(6,12).reshape(2,3)\n",
        "b"
      ],
      "metadata": {
        "colab": {
          "base_uri": "https://localhost:8080/"
        },
        "id": "o0JbpZseEUm5",
        "outputId": "9111c3dc-744b-4715-db97-7b2d5353cd59"
      },
      "execution_count": null,
      "outputs": [
        {
          "output_type": "execute_result",
          "data": {
            "text/plain": [
              "array([[ 6,  7,  8],\n",
              "       [ 9, 10, 11]])"
            ]
          },
          "metadata": {},
          "execution_count": 184
        }
      ]
    },
    {
      "cell_type": "code",
      "source": [
        "a * b #elementwise"
      ],
      "metadata": {
        "colab": {
          "base_uri": "https://localhost:8080/"
        },
        "id": "VbEpcUFFEsog",
        "outputId": "62e05bd3-7783-4f91-859f-cfe9c35a8515"
      },
      "execution_count": null,
      "outputs": [
        {
          "output_type": "execute_result",
          "data": {
            "text/plain": [
              "array([[ 36,  49,  64],\n",
              "       [ 81, 100, 121]])"
            ]
          },
          "metadata": {},
          "execution_count": 185
        }
      ]
    },
    {
      "cell_type": "code",
      "source": [
        "#python에서 list끼리 *(곱하기)를 할 수 없다.\n",
        "[1,2,3] * [4,5,6]"
      ],
      "metadata": {
        "colab": {
          "base_uri": "https://localhost:8080/",
          "height": 203
        },
        "id": "1AkN0AQVEvJQ",
        "outputId": "e8b27203-e67d-4614-eb7d-40de2d8dce11"
      },
      "execution_count": null,
      "outputs": [
        {
          "output_type": "error",
          "ename": "TypeError",
          "evalue": "ignored",
          "traceback": [
            "\u001b[0;31m---------------------------------------------------------------------------\u001b[0m",
            "\u001b[0;31mTypeError\u001b[0m                                 Traceback (most recent call last)",
            "\u001b[0;32m<ipython-input-186-0c1c81a3a1db>\u001b[0m in \u001b[0;36m<cell line: 2>\u001b[0;34m()\u001b[0m\n\u001b[1;32m      1\u001b[0m \u001b[0;31m#python에서 list끼리 *(곱하기)를 할 수 없다.\u001b[0m\u001b[0;34m\u001b[0m\u001b[0;34m\u001b[0m\u001b[0m\n\u001b[0;32m----> 2\u001b[0;31m \u001b[0;34m[\u001b[0m\u001b[0;36m1\u001b[0m\u001b[0;34m,\u001b[0m\u001b[0;36m2\u001b[0m\u001b[0;34m,\u001b[0m\u001b[0;36m3\u001b[0m\u001b[0;34m]\u001b[0m \u001b[0;34m*\u001b[0m \u001b[0;34m[\u001b[0m\u001b[0;36m4\u001b[0m\u001b[0;34m,\u001b[0m\u001b[0;36m5\u001b[0m\u001b[0;34m,\u001b[0m\u001b[0;36m6\u001b[0m\u001b[0;34m]\u001b[0m\u001b[0;34m\u001b[0m\u001b[0;34m\u001b[0m\u001b[0m\n\u001b[0m",
            "\u001b[0;31mTypeError\u001b[0m: can't multiply sequence by non-int of type 'list'"
          ]
        }
      ]
    },
    {
      "cell_type": "code",
      "source": [
        "c = np.matrix([[1,2],[3,4]])  #행렬 생성\n",
        "c"
      ],
      "metadata": {
        "colab": {
          "base_uri": "https://localhost:8080/"
        },
        "id": "7i9wGX65FGxI",
        "outputId": "320f6949-99c4-4e5f-8f45-062d6772b277"
      },
      "execution_count": null,
      "outputs": [
        {
          "output_type": "execute_result",
          "data": {
            "text/plain": [
              "matrix([[1, 2],\n",
              "        [3, 4]])"
            ]
          },
          "metadata": {},
          "execution_count": 190
        }
      ]
    },
    {
      "cell_type": "code",
      "source": [
        "type(c)"
      ],
      "metadata": {
        "colab": {
          "base_uri": "https://localhost:8080/"
        },
        "id": "4P9hOH3BFO0Q",
        "outputId": "b1905021-b0b2-4d3d-89f6-563a2e703c7d"
      },
      "execution_count": null,
      "outputs": [
        {
          "output_type": "execute_result",
          "data": {
            "text/plain": [
              "numpy.matrix"
            ]
          },
          "metadata": {},
          "execution_count": 188
        }
      ]
    },
    {
      "cell_type": "code",
      "source": [
        "print(c)\n",
        "c * c\n",
        "#1*1 + 2*3=7      1*2 + 2*4=10\n",
        "#3*1 + 4*3=15      3*2 + 4*4=22\n",
        "\n",
        "# 행렬 곱하기할 때 앞의 행과 뒤의 열의 갯수가 같아야 한다."
      ],
      "metadata": {
        "colab": {
          "base_uri": "https://localhost:8080/"
        },
        "id": "JM_OYVfRFkJQ",
        "outputId": "ebdd8566-2606-4dad-a589-0c0412695d2a"
      },
      "execution_count": null,
      "outputs": [
        {
          "output_type": "stream",
          "name": "stdout",
          "text": [
            "[[1 2]\n",
            " [3 4]]\n"
          ]
        },
        {
          "output_type": "execute_result",
          "data": {
            "text/plain": [
              "matrix([[ 7, 10],\n",
              "        [15, 22]])"
            ]
          },
          "metadata": {},
          "execution_count": 191
        }
      ]
    },
    {
      "cell_type": "markdown",
      "source": [
        "ndarray에서 행렬 곱 연산자 @이다?\n",
        "\n",
        "python에서 제공한다.-> python재단에서 numpy를 위해 만들어준 장치이다\n",
        "\n",
        "T는 transpose(전치)의 약자이다."
      ],
      "metadata": {
        "id": "l5TXXprkHgIT"
      }
    },
    {
      "cell_type": "code",
      "source": [
        "aT"
      ],
      "metadata": {
        "colab": {
          "base_uri": "https://localhost:8080/",
          "height": 184
        },
        "id": "DFJHRisuKRXW",
        "outputId": "c25326fe-e799-448d-e9b4-18b5e12ad9dd"
      },
      "execution_count": null,
      "outputs": [
        {
          "output_type": "error",
          "ename": "NameError",
          "evalue": "ignored",
          "traceback": [
            "\u001b[0;31m---------------------------------------------------------------------------\u001b[0m",
            "\u001b[0;31mNameError\u001b[0m                                 Traceback (most recent call last)",
            "\u001b[0;32m<ipython-input-263-bebb53c69176>\u001b[0m in \u001b[0;36m<cell line: 1>\u001b[0;34m()\u001b[0m\n\u001b[0;32m----> 1\u001b[0;31m \u001b[0maT\u001b[0m\u001b[0;34m\u001b[0m\u001b[0;34m\u001b[0m\u001b[0m\n\u001b[0m",
            "\u001b[0;31mNameError\u001b[0m: name 'aT' is not defined"
          ]
        }
      ]
    },
    {
      "cell_type": "code",
      "source": [
        "print(a)\n",
        "print(a.shape)"
      ],
      "metadata": {
        "colab": {
          "base_uri": "https://localhost:8080/",
          "height": 221
        },
        "id": "2jJR8WgcId6W",
        "outputId": "7f122e8e-2710-49df-af82-195093b55a1d"
      },
      "execution_count": null,
      "outputs": [
        {
          "output_type": "stream",
          "name": "stdout",
          "text": [
            "[[1, 2, 3], [4, 5, 6]]\n"
          ]
        },
        {
          "output_type": "error",
          "ename": "AttributeError",
          "evalue": "ignored",
          "traceback": [
            "\u001b[0;31m---------------------------------------------------------------------------\u001b[0m",
            "\u001b[0;31mAttributeError\u001b[0m                            Traceback (most recent call last)",
            "\u001b[0;32m<ipython-input-215-e0b035dd9fe5>\u001b[0m in \u001b[0;36m<cell line: 2>\u001b[0;34m()\u001b[0m\n\u001b[1;32m      1\u001b[0m \u001b[0mprint\u001b[0m\u001b[0;34m(\u001b[0m\u001b[0ma\u001b[0m\u001b[0;34m)\u001b[0m\u001b[0;34m\u001b[0m\u001b[0;34m\u001b[0m\u001b[0m\n\u001b[0;32m----> 2\u001b[0;31m \u001b[0mprint\u001b[0m\u001b[0;34m(\u001b[0m\u001b[0ma\u001b[0m\u001b[0;34m.\u001b[0m\u001b[0mshape\u001b[0m\u001b[0;34m)\u001b[0m\u001b[0;34m\u001b[0m\u001b[0;34m\u001b[0m\u001b[0m\n\u001b[0m",
            "\u001b[0;31mAttributeError\u001b[0m: 'list' object has no attribute 'shape'"
          ]
        }
      ]
    },
    {
      "cell_type": "code",
      "source": [
        "print(a.T)\n",
        "print(a.T.shape) # 계산(3,3) 결과(2,2)\n",
        "#(3,4)(4,2) => 결과(3,2)\n",
        "#(2,3)(3,5) => 결과(2,5)"
      ],
      "metadata": {
        "colab": {
          "base_uri": "https://localhost:8080/"
        },
        "id": "XzTpT6hwIeau",
        "outputId": "7d018519-e2f6-47e1-aed2-6ece418b4347"
      },
      "execution_count": null,
      "outputs": [
        {
          "output_type": "stream",
          "name": "stdout",
          "text": [
            "[[ 6  9]\n",
            " [ 7 10]\n",
            " [ 8 11]]\n",
            "(3, 2)\n"
          ]
        }
      ]
    },
    {
      "cell_type": "code",
      "source": [
        "c @ c. T"
      ],
      "metadata": {
        "colab": {
          "base_uri": "https://localhost:8080/"
        },
        "id": "W4DvTX73JA3G",
        "outputId": "91ca24a1-589a-4f29-b8c1-15466bfde9d3"
      },
      "execution_count": null,
      "outputs": [
        {
          "output_type": "execute_result",
          "data": {
            "text/plain": [
              "matrix([[ 5, 11],\n",
              "        [11, 25]])"
            ]
          },
          "metadata": {},
          "execution_count": 231
        }
      ]
    },
    {
      "cell_type": "code",
      "source": [
        "a = arange(1, 17).reshape(1,16)"
      ],
      "metadata": {
        "colab": {
          "base_uri": "https://localhost:8080/",
          "height": 184
        },
        "id": "c7CAASl2Kpfu",
        "outputId": "976993af-407e-4a9a-dacf-1116bb077ca0"
      },
      "execution_count": null,
      "outputs": [
        {
          "output_type": "error",
          "ename": "NameError",
          "evalue": "ignored",
          "traceback": [
            "\u001b[0;31m---------------------------------------------------------------------------\u001b[0m",
            "\u001b[0;31mNameError\u001b[0m                                 Traceback (most recent call last)",
            "\u001b[0;32m<ipython-input-233-89f704a54a4b>\u001b[0m in \u001b[0;36m<cell line: 1>\u001b[0;34m()\u001b[0m\n\u001b[0;32m----> 1\u001b[0;31m \u001b[0ma\u001b[0m \u001b[0;34m=\u001b[0m \u001b[0marange\u001b[0m\u001b[0;34m(\u001b[0m\u001b[0;36m1\u001b[0m\u001b[0;34m,\u001b[0m \u001b[0;36m17\u001b[0m\u001b[0;34m)\u001b[0m\u001b[0;34m.\u001b[0m\u001b[0mreshape\u001b[0m\u001b[0;34m(\u001b[0m\u001b[0;36m1\u001b[0m\u001b[0;34m,\u001b[0m\u001b[0;36m16\u001b[0m\u001b[0;34m)\u001b[0m\u001b[0;34m\u001b[0m\u001b[0;34m\u001b[0m\u001b[0m\n\u001b[0m",
            "\u001b[0;31mNameError\u001b[0m: name 'arange' is not defined"
          ]
        }
      ]
    },
    {
      "cell_type": "code",
      "source": [],
      "metadata": {
        "id": "2OKqa515MkKe"
      },
      "execution_count": null,
      "outputs": []
    },
    {
      "cell_type": "code",
      "source": [
        "print(a.shape)    #(1, 16)\n",
        "print(a.T.shape)  #(16, 1)\n",
        "a @ a.T           #결과(1,1)"
      ],
      "metadata": {
        "colab": {
          "base_uri": "https://localhost:8080/",
          "height": 221
        },
        "id": "xQocEWf2K7wO",
        "outputId": "99f7d531-a30c-4a9e-8e30-0dd93f3b893b"
      },
      "execution_count": null,
      "outputs": [
        {
          "output_type": "error",
          "ename": "AttributeError",
          "evalue": "ignored",
          "traceback": [
            "\u001b[0;31m---------------------------------------------------------------------------\u001b[0m",
            "\u001b[0;31mAttributeError\u001b[0m                            Traceback (most recent call last)",
            "\u001b[0;32m<ipython-input-223-550aa27712f4>\u001b[0m in \u001b[0;36m<cell line: 1>\u001b[0;34m()\u001b[0m\n\u001b[0;32m----> 1\u001b[0;31m \u001b[0mprint\u001b[0m\u001b[0;34m(\u001b[0m\u001b[0ma\u001b[0m\u001b[0;34m.\u001b[0m\u001b[0mshape\u001b[0m\u001b[0;34m)\u001b[0m    \u001b[0;31m#(1, 16)\u001b[0m\u001b[0;34m\u001b[0m\u001b[0;34m\u001b[0m\u001b[0m\n\u001b[0m\u001b[1;32m      2\u001b[0m \u001b[0mprint\u001b[0m\u001b[0;34m(\u001b[0m\u001b[0ma\u001b[0m\u001b[0;34m.\u001b[0m\u001b[0mT\u001b[0m\u001b[0;34m.\u001b[0m\u001b[0mshape\u001b[0m\u001b[0;34m)\u001b[0m  \u001b[0;31m#(16, 1)\u001b[0m\u001b[0;34m\u001b[0m\u001b[0;34m\u001b[0m\u001b[0m\n\u001b[1;32m      3\u001b[0m \u001b[0ma\u001b[0m \u001b[0;34m@\u001b[0m \u001b[0ma\u001b[0m\u001b[0;34m.\u001b[0m\u001b[0mT\u001b[0m           \u001b[0;31m#결과(1,1)\u001b[0m\u001b[0;34m\u001b[0m\u001b[0;34m\u001b[0m\u001b[0m\n",
            "\u001b[0;31mAttributeError\u001b[0m: 'list' object has no attribute 'shape'"
          ]
        }
      ]
    },
    {
      "cell_type": "markdown",
      "source": [
        "matrix는 *와 @ 모두가 가능하다."
      ],
      "metadata": {
        "id": "m1PRQBNZLfjv"
      }
    },
    {
      "cell_type": "code",
      "source": [
        "c * c.T"
      ],
      "metadata": {
        "colab": {
          "base_uri": "https://localhost:8080/"
        },
        "id": "0q0njniILyOO",
        "outputId": "b788d910-b134-4d79-f8ca-e286db68a9d1"
      },
      "execution_count": null,
      "outputs": [
        {
          "output_type": "execute_result",
          "data": {
            "text/plain": [
              "matrix([[ 5, 11],\n",
              "        [11, 25]])"
            ]
          },
          "metadata": {},
          "execution_count": 224
        }
      ]
    },
    {
      "cell_type": "code",
      "source": [
        "c @ c.T"
      ],
      "metadata": {
        "colab": {
          "base_uri": "https://localhost:8080/"
        },
        "id": "ghZTSnWWL4AW",
        "outputId": "62f1b332-7138-4b9d-b86d-f3fef8db7d46"
      },
      "execution_count": null,
      "outputs": [
        {
          "output_type": "execute_result",
          "data": {
            "text/plain": [
              "matrix([[ 5, 11],\n",
              "        [11, 25]])"
            ]
          },
          "metadata": {},
          "execution_count": 225
        }
      ]
    },
    {
      "cell_type": "markdown",
      "source": [
        "함수방법으로 np.dot() 함수를 사용할 수 있다."
      ],
      "metadata": {
        "id": "oFApIhlFL8R9"
      }
    },
    {
      "cell_type": "code",
      "source": [
        "np.dot(a, a.T)"
      ],
      "metadata": {
        "colab": {
          "base_uri": "https://localhost:8080/",
          "height": 184
        },
        "id": "SipDLaJtK8-A",
        "outputId": "72b802ce-b2c8-44ad-fcaf-4668039f2201"
      },
      "execution_count": null,
      "outputs": [
        {
          "output_type": "error",
          "ename": "AttributeError",
          "evalue": "ignored",
          "traceback": [
            "\u001b[0;31m---------------------------------------------------------------------------\u001b[0m",
            "\u001b[0;31mAttributeError\u001b[0m                            Traceback (most recent call last)",
            "\u001b[0;32m<ipython-input-229-f3cb309909cc>\u001b[0m in \u001b[0;36m<cell line: 1>\u001b[0;34m()\u001b[0m\n\u001b[0;32m----> 1\u001b[0;31m \u001b[0mnp\u001b[0m\u001b[0;34m.\u001b[0m\u001b[0mdot\u001b[0m\u001b[0;34m(\u001b[0m\u001b[0ma\u001b[0m\u001b[0;34m,\u001b[0m \u001b[0ma\u001b[0m\u001b[0;34m.\u001b[0m\u001b[0mT\u001b[0m\u001b[0;34m)\u001b[0m\u001b[0;34m\u001b[0m\u001b[0;34m\u001b[0m\u001b[0m\n\u001b[0m",
            "\u001b[0;31mAttributeError\u001b[0m: 'list' object has no attribute 'T'"
          ]
        }
      ]
    },
    {
      "cell_type": "code",
      "source": [
        "print(type(c))"
      ],
      "metadata": {
        "colab": {
          "base_uri": "https://localhost:8080/"
        },
        "id": "LXNqO62cMGV9",
        "outputId": "d860fd20-0c9e-4cbe-9be5-4e1da6354293"
      },
      "execution_count": null,
      "outputs": [
        {
          "output_type": "stream",
          "name": "stdout",
          "text": [
            "<class 'numpy.matrix'>\n"
          ]
        }
      ]
    },
    {
      "cell_type": "markdown",
      "source": [
        "* : matrix\n",
        "\n",
        "@: matrix, ndarray\n",
        "\n",
        "dot(): matrix, ndarray"
      ],
      "metadata": {
        "id": "IMdWVbWLMmop"
      }
    },
    {
      "cell_type": "markdown",
      "source": [
        "method 방식으로 행렬곱 할 수 있다.\n",
        "function방법과 사용하는 방법이 다르므로 주의한다."
      ],
      "metadata": {
        "id": "ROO9pU5_NAaF"
      }
    },
    {
      "cell_type": "code",
      "source": [
        "np.dot(c, c.T) #numpy에서 제공된 function 함수로 쓴 것"
      ],
      "metadata": {
        "colab": {
          "base_uri": "https://localhost:8080/"
        },
        "id": "jyQGcX5HM2pF",
        "outputId": "675cf5bd-4c99-43c2-b73f-d7c110caf001"
      },
      "execution_count": null,
      "outputs": [
        {
          "output_type": "execute_result",
          "data": {
            "text/plain": [
              "matrix([[ 5, 11],\n",
              "        [11, 25]])"
            ]
          },
          "metadata": {},
          "execution_count": 234
        }
      ]
    },
    {
      "cell_type": "code",
      "source": [
        "c.dot(c.T)  #method 방식으로 쓴 것"
      ],
      "metadata": {
        "colab": {
          "base_uri": "https://localhost:8080/"
        },
        "id": "2XvHNvq3M56W",
        "outputId": "c0814266-bc9d-4545-8deb-d23aae08e9ca"
      },
      "execution_count": null,
      "outputs": [
        {
          "output_type": "execute_result",
          "data": {
            "text/plain": [
              "matrix([[ 5, 11],\n",
              "        [11, 25]])"
            ]
          },
          "metadata": {},
          "execution_count": 235
        }
      ]
    },
    {
      "cell_type": "markdown",
      "source": [
        "## strides\n",
        "strides는 다음 원소끼리의 메모리 크기를 차원별로 알려준다,\n",
        "\n",
        "c의 포인터 개념을 알고 있으면 이해하기가 쉽다. 포인터?"
      ],
      "metadata": {
        "id": "jVfXDIkLQ5Bi"
      }
    },
    {
      "cell_type": "code",
      "source": [
        "a = np.arange(12).reshape(3,4)\n",
        "a"
      ],
      "metadata": {
        "colab": {
          "base_uri": "https://localhost:8080/"
        },
        "id": "5TFZivMrRQA0",
        "outputId": "dd95cf8d-7e55-4b2b-be1b-9aa7682d5b2e"
      },
      "execution_count": null,
      "outputs": [
        {
          "output_type": "execute_result",
          "data": {
            "text/plain": [
              "array([[ 0,  1,  2,  3],\n",
              "       [ 4,  5,  6,  7],\n",
              "       [ 8,  9, 10, 11]])"
            ]
          },
          "metadata": {},
          "execution_count": 238
        }
      ]
    },
    {
      "cell_type": "code",
      "source": [
        "#행의 메모리 간격은 32bytes\n",
        "#열의 메모리 간격은 8bytes\n",
        "a.strides\n"
      ],
      "metadata": {
        "colab": {
          "base_uri": "https://localhost:8080/"
        },
        "id": "vdcPkDGdRXNF",
        "outputId": "254f4ea6-9207-4571-bec8-da0ea2d03a18"
      },
      "execution_count": null,
      "outputs": [
        {
          "output_type": "execute_result",
          "data": {
            "text/plain": [
              "(32, 8)"
            ]
          },
          "metadata": {},
          "execution_count": 239
        }
      ]
    },
    {
      "cell_type": "code",
      "source": [
        "a.dtype"
      ],
      "metadata": {
        "colab": {
          "base_uri": "https://localhost:8080/"
        },
        "id": "zNAm621fRUrF",
        "outputId": "32c3145b-43c6-461c-f89a-8f1ef4f37fb5"
      },
      "execution_count": null,
      "outputs": [
        {
          "output_type": "execute_result",
          "data": {
            "text/plain": [
              "dtype('int64')"
            ]
          },
          "metadata": {},
          "execution_count": 241
        }
      ]
    },
    {
      "cell_type": "code",
      "source": [
        "a.itemsize"
      ],
      "metadata": {
        "colab": {
          "base_uri": "https://localhost:8080/"
        },
        "id": "ieXEbt4lSCq0",
        "outputId": "88999b6d-39aa-40e2-aca8-19c5cc22ea06"
      },
      "execution_count": null,
      "outputs": [
        {
          "output_type": "execute_result",
          "data": {
            "text/plain": [
              "8"
            ]
          },
          "metadata": {},
          "execution_count": 243
        }
      ]
    },
    {
      "cell_type": "code",
      "source": [
        "#열의 원소 갯수 * itemsize = 행의 메모리간격\n",
        "#itemsize = 열의 메모리간격"
      ],
      "metadata": {
        "id": "jhF_nyjgSHpg"
      },
      "execution_count": null,
      "outputs": []
    },
    {
      "cell_type": "code",
      "source": [],
      "metadata": {
        "id": "bYINvbixSk0d"
      },
      "execution_count": null,
      "outputs": []
    },
    {
      "cell_type": "markdown",
      "source": [
        "axis\n",
        "\n",
        "axis는 다차원 배열을 연산할 때 기준이 되는 축이다."
      ],
      "metadata": {
        "id": "SWjk5_r3Sm8d"
      }
    },
    {
      "cell_type": "code",
      "source": [
        "a"
      ],
      "metadata": {
        "colab": {
          "base_uri": "https://localhost:8080/"
        },
        "id": "jTgCTAgbSs6e",
        "outputId": "4c15c5a3-7dd1-4e9d-febc-ee71c3604dd7"
      },
      "execution_count": null,
      "outputs": [
        {
          "output_type": "execute_result",
          "data": {
            "text/plain": [
              "array([[ 0,  1,  2,  3],\n",
              "       [ 4,  5,  6,  7],\n",
              "       [ 8,  9, 10, 11]])"
            ]
          },
          "metadata": {},
          "execution_count": 246
        }
      ]
    },
    {
      "cell_type": "code",
      "source": [
        "np.sum(a)"
      ],
      "metadata": {
        "colab": {
          "base_uri": "https://localhost:8080/"
        },
        "id": "epmEvmpASuIl",
        "outputId": "d0194369-ef96-4952-f799-2efe3ee88927"
      },
      "execution_count": null,
      "outputs": [
        {
          "output_type": "execute_result",
          "data": {
            "text/plain": [
              "66"
            ]
          },
          "metadata": {},
          "execution_count": 247
        }
      ]
    },
    {
      "cell_type": "code",
      "source": [
        "np.sum(a, axis=0) #행을 기준으로 더하라. a배열은 2차원이므로 axis=0은 행기준(행마다)"
      ],
      "metadata": {
        "colab": {
          "base_uri": "https://localhost:8080/"
        },
        "id": "jgOpzLNSS08l",
        "outputId": "d2a1ce48-04e6-4aca-a5e9-20f4286db17a"
      },
      "execution_count": null,
      "outputs": [
        {
          "output_type": "execute_result",
          "data": {
            "text/plain": [
              "array([12, 15, 18, 21])"
            ]
          },
          "metadata": {},
          "execution_count": 249
        }
      ]
    },
    {
      "cell_type": "markdown",
      "source": [
        "(0,0)(0,1)(0,2)(0,3)\n",
        "\n",
        "(1,0)(1,1)(1,2)(1,3)\n",
        "\n",
        "(2,0)(2,1)(2,2)(2,3)\n",
        "\n",
        "열 행"
      ],
      "metadata": {
        "id": "dBsq-BYBTJ9U"
      }
    },
    {
      "cell_type": "code",
      "source": [
        "np.sum(a, axis=1)  #a배열은 2차원이므로 axis=0은 열기준(열마다)"
      ],
      "metadata": {
        "colab": {
          "base_uri": "https://localhost:8080/"
        },
        "id": "98PlKcjdT_l0",
        "outputId": "339ee40b-7da3-4583-843f-c404398d42b8"
      },
      "execution_count": null,
      "outputs": [
        {
          "output_type": "execute_result",
          "data": {
            "text/plain": [
              "array([[12, 15, 18, 21],\n",
              "       [48, 51, 54, 57]])"
            ]
          },
          "metadata": {},
          "execution_count": 270
        }
      ]
    },
    {
      "cell_type": "code",
      "source": [
        "a = np.arange(24).reshape(2,3,4) #2공간(층, 면) 3행 4행\n",
        "a"
      ],
      "metadata": {
        "colab": {
          "base_uri": "https://localhost:8080/"
        },
        "id": "T1Nq1NjUU06t",
        "outputId": "abecaa43-39c6-4bbf-acaa-394ca25ed169"
      },
      "execution_count": null,
      "outputs": [
        {
          "output_type": "execute_result",
          "data": {
            "text/plain": [
              "array([[[ 0,  1,  2,  3],\n",
              "        [ 4,  5,  6,  7],\n",
              "        [ 8,  9, 10, 11]],\n",
              "\n",
              "       [[12, 13, 14, 15],\n",
              "        [16, 17, 18, 19],\n",
              "        [20, 21, 22, 23]]])"
            ]
          },
          "metadata": {},
          "execution_count": 252
        }
      ]
    },
    {
      "cell_type": "markdown",
      "source": [
        "(0,0,0) (0,0,1) (0,0,2) (0,0,3)\n",
        "\n",
        "(0,1,0) (0,1,1) (0,1,2) (0,1,3)\n",
        "\n",
        "(0,2,0) (0,2,1) (0,2,2) (0,2,3)\n",
        "\n",
        "\n",
        "(1,0,0) (1,0,1) (1,0,2) (1,0,3)\n",
        "\n",
        "(1,1,0) (1,1,1) (1,1,2) (1,1,3)\n",
        "\n",
        "(1,2,0) (1,2,1) (1,2,2) (1,2,3)\n",
        "\n",
        "열 행"
      ],
      "metadata": {
        "id": "X2CMGy7JVFvS"
      }
    },
    {
      "cell_type": "code",
      "source": [
        "np.sum(a) #(2,3,4) =>(1,)"
      ],
      "metadata": {
        "colab": {
          "base_uri": "https://localhost:8080/"
        },
        "id": "1lmHk9qZV5x3",
        "outputId": "d807cf12-5486-4678-cfde-9582a6a7b5d1"
      },
      "execution_count": null,
      "outputs": [
        {
          "output_type": "execute_result",
          "data": {
            "text/plain": [
              "276"
            ]
          },
          "metadata": {},
          "execution_count": 253
        }
      ]
    },
    {
      "cell_type": "code",
      "source": [
        "np.sum(a, axis=0)  #(2,3,4) =>(3,4) #공간기준(공간마다)"
      ],
      "metadata": {
        "colab": {
          "base_uri": "https://localhost:8080/"
        },
        "id": "7FB9IJzyV7XY",
        "outputId": "e1975544-4f4a-4e0f-8686-dcdc04c7ff42"
      },
      "execution_count": null,
      "outputs": [
        {
          "output_type": "execute_result",
          "data": {
            "text/plain": [
              "array([[12, 14, 16, 18],\n",
              "       [20, 22, 24, 26],\n",
              "       [28, 30, 32, 34]])"
            ]
          },
          "metadata": {},
          "execution_count": 254
        }
      ]
    },
    {
      "cell_type": "code",
      "source": [
        "np.sum(a, axis=1) #(2,3,4)=>(2,4) #행기중(행마다)"
      ],
      "metadata": {
        "colab": {
          "base_uri": "https://localhost:8080/"
        },
        "id": "7pH4Y5vKV_Lw",
        "outputId": "99e69bc0-3f31-4058-ed33-dd51fb518bd3"
      },
      "execution_count": null,
      "outputs": [
        {
          "output_type": "execute_result",
          "data": {
            "text/plain": [
              "array([[12, 15, 18, 21],\n",
              "       [48, 51, 54, 57]])"
            ]
          },
          "metadata": {},
          "execution_count": 255
        }
      ]
    },
    {
      "cell_type": "code",
      "source": [
        "np.sum(a, axis=2) #(2,3,4) =>(2,3)#열기준(줄임말())"
      ],
      "metadata": {
        "colab": {
          "base_uri": "https://localhost:8080/"
        },
        "id": "vX6YThMkXKpa",
        "outputId": "18332ef1-542e-4853-99e4-f714b1384500"
      },
      "execution_count": null,
      "outputs": [
        {
          "output_type": "execute_result",
          "data": {
            "text/plain": [
              "array([[ 6, 22, 38],\n",
              "       [54, 70, 86]])"
            ]
          },
          "metadata": {},
          "execution_count": 256
        }
      ]
    },
    {
      "cell_type": "markdown",
      "source": [
        "##array 모양 바꾸기\n"
      ],
      "metadata": {
        "id": "zbstB1t-Z6J8"
      }
    },
    {
      "cell_type": "markdown",
      "source": [
        "(1) reshape\n",
        "reshape는 차원을 바꿔주는 기능을 한다."
      ],
      "metadata": {
        "id": "3pjyiCCcZ-di"
      }
    },
    {
      "cell_type": "code",
      "source": [
        "a= a.reshape(3,8)\n",
        "a"
      ],
      "metadata": {
        "colab": {
          "base_uri": "https://localhost:8080/"
        },
        "id": "F-9E7mBmZ9Kq",
        "outputId": "e38e8835-47f2-4a6f-89bd-459f97ee7515"
      },
      "execution_count": null,
      "outputs": [
        {
          "output_type": "execute_result",
          "data": {
            "text/plain": [
              "array([[[ 0,  1,  2,  3],\n",
              "        [ 4,  5,  6,  7],\n",
              "        [ 8,  9, 10, 11]],\n",
              "\n",
              "       [[12, 13, 14, 15],\n",
              "        [16, 17, 18, 19],\n",
              "        [20, 21, 22, 23]]])"
            ]
          },
          "metadata": {},
          "execution_count": 257
        }
      ]
    },
    {
      "cell_type": "code",
      "source": [
        "#ValueError =. 크기가 맞지 않음\n",
        "b = a.reshape(2,3,5)\n",
        "b"
      ],
      "metadata": {
        "colab": {
          "base_uri": "https://localhost:8080/",
          "height": 221
        },
        "id": "tD_s2UxmaQ9y",
        "outputId": "6a523139-8af9-4c24-9926-2e7c2b6a3220"
      },
      "execution_count": null,
      "outputs": [
        {
          "output_type": "error",
          "ename": "ValueError",
          "evalue": "ignored",
          "traceback": [
            "\u001b[0;31m---------------------------------------------------------------------------\u001b[0m",
            "\u001b[0;31mValueError\u001b[0m                                Traceback (most recent call last)",
            "\u001b[0;32m<ipython-input-259-32a3bd9cec88>\u001b[0m in \u001b[0;36m<cell line: 2>\u001b[0;34m()\u001b[0m\n\u001b[1;32m      1\u001b[0m \u001b[0;31m#ValueError =. 크기가 맞지 않음\u001b[0m\u001b[0;34m\u001b[0m\u001b[0;34m\u001b[0m\u001b[0m\n\u001b[0;32m----> 2\u001b[0;31m \u001b[0mb\u001b[0m \u001b[0;34m=\u001b[0m \u001b[0ma\u001b[0m\u001b[0;34m.\u001b[0m\u001b[0mreshape\u001b[0m\u001b[0;34m(\u001b[0m\u001b[0;36m2\u001b[0m\u001b[0;34m,\u001b[0m\u001b[0;36m3\u001b[0m\u001b[0;34m,\u001b[0m\u001b[0;36m5\u001b[0m\u001b[0;34m)\u001b[0m\u001b[0;34m\u001b[0m\u001b[0;34m\u001b[0m\u001b[0m\n\u001b[0m\u001b[1;32m      3\u001b[0m \u001b[0mb\u001b[0m\u001b[0;34m\u001b[0m\u001b[0;34m\u001b[0m\u001b[0m\n",
            "\u001b[0;31mValueError\u001b[0m: cannot reshape array of size 24 into shape (2,3,5)"
          ]
        }
      ]
    },
    {
      "cell_type": "code",
      "source": [
        "#음수를 쓰면, 알아서 shape를 맞춘다.\n",
        "#음수값은 아무거나 상관없다\n",
        "b = a.reshape(2, 3, -1)\n",
        "b"
      ],
      "metadata": {
        "colab": {
          "base_uri": "https://localhost:8080/"
        },
        "id": "V2BTrZ6baicz",
        "outputId": "aa7d103c-94e2-4c8a-8f2a-fc13c4301e24"
      },
      "execution_count": null,
      "outputs": [
        {
          "output_type": "execute_result",
          "data": {
            "text/plain": [
              "array([[[ 0,  1,  2,  3],\n",
              "        [ 4,  5,  6,  7],\n",
              "        [ 8,  9, 10, 11]],\n",
              "\n",
              "       [[12, 13, 14, 15],\n",
              "        [16, 17, 18, 19],\n",
              "        [20, 21, 22, 23]]])"
            ]
          },
          "metadata": {},
          "execution_count": 261
        }
      ]
    },
    {
      "cell_type": "code",
      "source": [
        "b = a.reshape(3,5,-1)\n",
        "b"
      ],
      "metadata": {
        "colab": {
          "base_uri": "https://localhost:8080/",
          "height": 203
        },
        "id": "3mp5wOeabLHT",
        "outputId": "731b8d98-5462-471b-dca7-752801c71919"
      },
      "execution_count": null,
      "outputs": [
        {
          "output_type": "error",
          "ename": "NameError",
          "evalue": "ignored",
          "traceback": [
            "\u001b[0;31m---------------------------------------------------------------------------\u001b[0m",
            "\u001b[0;31mNameError\u001b[0m                                 Traceback (most recent call last)",
            "\u001b[0;32m<ipython-input-7-30b9667fce18>\u001b[0m in \u001b[0;36m<cell line: 1>\u001b[0;34m()\u001b[0m\n\u001b[0;32m----> 1\u001b[0;31m \u001b[0mb\u001b[0m \u001b[0;34m=\u001b[0m \u001b[0ma\u001b[0m\u001b[0;34m.\u001b[0m\u001b[0mreshape\u001b[0m\u001b[0;34m(\u001b[0m\u001b[0;36m3\u001b[0m\u001b[0;34m,\u001b[0m\u001b[0;36m5\u001b[0m\u001b[0;34m,\u001b[0m\u001b[0;34m-\u001b[0m\u001b[0;36m1\u001b[0m\u001b[0;34m)\u001b[0m\u001b[0;34m\u001b[0m\u001b[0;34m\u001b[0m\u001b[0m\n\u001b[0m\u001b[1;32m      2\u001b[0m \u001b[0mb\u001b[0m\u001b[0;34m\u001b[0m\u001b[0;34m\u001b[0m\u001b[0m\n",
            "\u001b[0;31mNameError\u001b[0m: name 'a' is not defined"
          ]
        }
      ]
    },
    {
      "cell_type": "code",
      "source": [
        "b = a.reshape(3,-1,2)\n",
        "b"
      ],
      "metadata": {
        "colab": {
          "base_uri": "https://localhost:8080/",
          "height": 203
        },
        "id": "7VrAWsgSfRN5",
        "outputId": "4204c39f-bd90-4182-af95-46e8c6fd55d1"
      },
      "execution_count": null,
      "outputs": [
        {
          "output_type": "error",
          "ename": "NameError",
          "evalue": "ignored",
          "traceback": [
            "\u001b[0;31m---------------------------------------------------------------------------\u001b[0m",
            "\u001b[0;31mNameError\u001b[0m                                 Traceback (most recent call last)",
            "\u001b[0;32m<ipython-input-6-494903ba9f08>\u001b[0m in \u001b[0;36m<cell line: 1>\u001b[0;34m()\u001b[0m\n\u001b[0;32m----> 1\u001b[0;31m \u001b[0mb\u001b[0m \u001b[0;34m=\u001b[0m \u001b[0ma\u001b[0m\u001b[0;34m.\u001b[0m\u001b[0mreshape\u001b[0m\u001b[0;34m(\u001b[0m\u001b[0;36m3\u001b[0m\u001b[0;34m,\u001b[0m\u001b[0;34m-\u001b[0m\u001b[0;36m1\u001b[0m\u001b[0;34m,\u001b[0m\u001b[0;36m2\u001b[0m\u001b[0;34m)\u001b[0m\u001b[0;34m\u001b[0m\u001b[0;34m\u001b[0m\u001b[0m\n\u001b[0m\u001b[1;32m      2\u001b[0m \u001b[0mb\u001b[0m\u001b[0;34m\u001b[0m\u001b[0;34m\u001b[0m\u001b[0m\n",
            "\u001b[0;31mNameError\u001b[0m: name 'a' is not defined"
          ]
        }
      ]
    },
    {
      "cell_type": "code",
      "source": [
        "b = a.reshape(-1,3,4)\n",
        "b"
      ],
      "metadata": {
        "colab": {
          "base_uri": "https://localhost:8080/"
        },
        "id": "Z3SekLVSfm4a",
        "outputId": "31dc4e86-6e50-42c6-f359-2bb8c510dbf5"
      },
      "execution_count": null,
      "outputs": [
        {
          "output_type": "execute_result",
          "data": {
            "text/plain": [
              "array([[[ 0,  1,  2,  3],\n",
              "        [ 4,  5,  6,  7],\n",
              "        [ 8,  9, 10, 11]],\n",
              "\n",
              "       [[12, 13, 14, 15],\n",
              "        [16, 17, 18, 19],\n",
              "        [20, 21, 22, 23]]])"
            ]
          },
          "metadata": {},
          "execution_count": 268
        }
      ]
    },
    {
      "cell_type": "markdown",
      "source": [
        "(2)reshape로 차원 늘리기"
      ],
      "metadata": {
        "id": "awtPSYwsN-G6"
      }
    },
    {
      "cell_type": "code",
      "source": [
        "#2차원\n",
        "a = np.arange(6).reshape(2,3)\n",
        "a"
      ],
      "metadata": {
        "colab": {
          "base_uri": "https://localhost:8080/"
        },
        "id": "1OQ-CsgPOCT5",
        "outputId": "2108146e-adc0-400f-e613-c895ec456e02"
      },
      "execution_count": null,
      "outputs": [
        {
          "output_type": "execute_result",
          "data": {
            "text/plain": [
              "array([[0, 1, 2],\n",
              "       [3, 4, 5]])"
            ]
          },
          "metadata": {},
          "execution_count": 15
        }
      ]
    },
    {
      "cell_type": "markdown",
      "source": [
        "resize\n",
        "\n",
        "size의 원소 개수를 알려준다."
      ],
      "metadata": {
        "id": "d0dQaWMGOWAM"
      }
    },
    {
      "cell_type": "code",
      "source": [
        "a = np.arange(24)\n",
        "print(a.size)\n",
        "print(len(a))"
      ],
      "metadata": {
        "colab": {
          "base_uri": "https://localhost:8080/"
        },
        "id": "crGsLQVvOXv9",
        "outputId": "500b7766-3ab1-46aa-e767-0d1151963be3"
      },
      "execution_count": null,
      "outputs": [
        {
          "output_type": "stream",
          "name": "stdout",
          "text": [
            "24\n",
            "24\n"
          ]
        }
      ]
    },
    {
      "cell_type": "code",
      "source": [
        "# mutable이다. return이 없고 자기 자신을 바꾼다. ->reshape와 차이점1\n",
        "#원래의 원소 개수와 변경하는 원소 개수가 안맞아도 된다.(0으로 채워준다.)=>reshape와 차이점 2\n",
        "b = np.arange(24)\n",
        "b.resize(2,3,8)\n",
        "b"
      ],
      "metadata": {
        "colab": {
          "base_uri": "https://localhost:8080/"
        },
        "id": "ljQyYCg9OU1-",
        "outputId": "901caa20-67c7-4b02-a881-94623c4db074"
      },
      "execution_count": null,
      "outputs": [
        {
          "output_type": "execute_result",
          "data": {
            "text/plain": [
              "array([[[ 0,  1,  2,  3,  4,  5,  6,  7],\n",
              "        [ 8,  9, 10, 11, 12, 13, 14, 15],\n",
              "        [16, 17, 18, 19, 20, 21, 22, 23]],\n",
              "\n",
              "       [[ 0,  0,  0,  0,  0,  0,  0,  0],\n",
              "        [ 0,  0,  0,  0,  0,  0,  0,  0],\n",
              "        [ 0,  0,  0,  0,  0,  0,  0,  0]]])"
            ]
          },
          "metadata": {},
          "execution_count": 16
        }
      ]
    },
    {
      "cell_type": "code",
      "source": [
        "#원래의 원소 개수보다 작으면 버린다.\n",
        "b = np.arange(24)\n",
        "b.resize(2,3,2)\n",
        "b"
      ],
      "metadata": {
        "colab": {
          "base_uri": "https://localhost:8080/"
        },
        "id": "JEEHO2rLPen0",
        "outputId": "44519333-e16b-4fff-bea8-5a4d919bc936"
      },
      "execution_count": null,
      "outputs": [
        {
          "output_type": "execute_result",
          "data": {
            "text/plain": [
              "array([[[ 0,  1],\n",
              "        [ 2,  3],\n",
              "        [ 4,  5]],\n",
              "\n",
              "       [[ 6,  7],\n",
              "        [ 8,  9],\n",
              "        [10, 11]]])"
            ]
          },
          "metadata": {},
          "execution_count": 17
        }
      ]
    },
    {
      "cell_type": "markdown",
      "source": [
        "array 쪼개기\n",
        "\n",
        "split"
      ],
      "metadata": {
        "id": "iifNvGZgP-ci"
      }
    },
    {
      "cell_type": "code",
      "source": [
        "a = np.arange(24)\n",
        "a"
      ],
      "metadata": {
        "colab": {
          "base_uri": "https://localhost:8080/"
        },
        "id": "grkRUOtQQFZN",
        "outputId": "51beade7-a7e1-4074-b0f8-98b9b7be71ae"
      },
      "execution_count": null,
      "outputs": [
        {
          "output_type": "execute_result",
          "data": {
            "text/plain": [
              "array([ 0,  1,  2,  3,  4,  5,  6,  7,  8,  9, 10, 11, 12, 13, 14, 15, 16,\n",
              "       17, 18, 19, 20, 21, 22, 23])"
            ]
          },
          "metadata": {},
          "execution_count": 37
        }
      ]
    },
    {
      "cell_type": "code",
      "source": [
        "a = np.split(a, 3, axis=0)\n",
        "print(a)\n",
        "print(type(a))"
      ],
      "metadata": {
        "colab": {
          "base_uri": "https://localhost:8080/"
        },
        "id": "PdiLMR0NQK-t",
        "outputId": "54094d76-e849-465d-f586-2b099f9b29b7"
      },
      "execution_count": null,
      "outputs": [
        {
          "output_type": "stream",
          "name": "stdout",
          "text": [
            "[array([0, 1, 2, 3, 4, 5, 6, 7]), array([ 8,  9, 10, 11, 12, 13, 14, 15]), array([16, 17, 18, 19, 20, 21, 22, 23])]\n",
            "<class 'list'>\n"
          ]
        }
      ]
    },
    {
      "cell_type": "code",
      "source": [
        "b = np.split(a, 3, axis=0)\n",
        "print(b)\n",
        "print(type(b)) #list"
      ],
      "metadata": {
        "colab": {
          "base_uri": "https://localhost:8080/"
        },
        "id": "BuV76VBLQk1N",
        "outputId": "cd70114a-b1bc-4288-d70d-bf6b26a8e157"
      },
      "execution_count": null,
      "outputs": [
        {
          "output_type": "stream",
          "name": "stdout",
          "text": [
            "[array([0, 1, 2, 3, 4, 5, 6, 7]), array([ 8,  9, 10, 11, 12, 13, 14, 15]), array([16, 17, 18, 19, 20, 21, 22, 23])]\n",
            "<class 'list'>\n"
          ]
        }
      ]
    },
    {
      "cell_type": "code",
      "source": [
        "#1차원일 때는 axis=1을 사용할 수 없다. (차원이 다르니까?)"
      ],
      "metadata": {
        "id": "q3PFh447RF2h"
      },
      "execution_count": null,
      "outputs": []
    },
    {
      "cell_type": "code",
      "source": [
        "#0부터 5미만 인덱스\n",
        "#5이상 8미만 인덱스\n",
        "#8이상 13미만 인덱스\n",
        "#13이상\n",
        "np.split(a, [5, 8, 13])#0~5미만, 5~8미만, 13이상"
      ],
      "metadata": {
        "colab": {
          "base_uri": "https://localhost:8080/"
        },
        "id": "8ZKqThyHROq1",
        "outputId": "0c611a54-4ad3-4430-9b58-0b41cdf899fe"
      },
      "execution_count": null,
      "outputs": [
        {
          "output_type": "execute_result",
          "data": {
            "text/plain": [
              "[array([0, 1, 2, 3, 4]),\n",
              " array([5, 6, 7]),\n",
              " array([ 8,  9, 10, 11, 12]),\n",
              " array([13, 14, 15, 16, 17, 18, 19, 20, 21, 22, 23])]"
            ]
          },
          "metadata": {},
          "execution_count": 45
        }
      ]
    },
    {
      "cell_type": "markdown",
      "source": [
        "hsplit & vsplit"
      ],
      "metadata": {
        "id": "IoQVrlAnSWO_"
      }
    },
    {
      "cell_type": "code",
      "source": [
        "a = np.arange(24)\n",
        "b = a.reshape(4,6)\n",
        "b"
      ],
      "metadata": {
        "colab": {
          "base_uri": "https://localhost:8080/"
        },
        "id": "8ZATGilBSVJU",
        "outputId": "12e7693a-8a95-4fe0-baea-51b859ec57bf"
      },
      "execution_count": null,
      "outputs": [
        {
          "output_type": "execute_result",
          "data": {
            "text/plain": [
              "array([[ 0,  1,  2,  3,  4,  5],\n",
              "       [ 6,  7,  8,  9, 10, 11],\n",
              "       [12, 13, 14, 15, 16, 17],\n",
              "       [18, 19, 20, 21, 22, 23]])"
            ]
          },
          "metadata": {},
          "execution_count": 47
        }
      ]
    },
    {
      "cell_type": "code",
      "source": [
        "np.split(b, 2, axis=0) #b는 2차원이므로 axis=0의 의미는 행이다."
      ],
      "metadata": {
        "colab": {
          "base_uri": "https://localhost:8080/"
        },
        "id": "-_2-GrNZSkEc",
        "outputId": "508dfa52-a1e3-425c-f3d2-e68ad948128e"
      },
      "execution_count": null,
      "outputs": [
        {
          "output_type": "execute_result",
          "data": {
            "text/plain": [
              "[array([[ 0,  1,  2,  3,  4,  5],\n",
              "        [ 6,  7,  8,  9, 10, 11]]),\n",
              " array([[12, 13, 14, 15, 16, 17],\n",
              "        [18, 19, 20, 21, 22, 23]])]"
            ]
          },
          "metadata": {},
          "execution_count": 49
        }
      ]
    },
    {
      "cell_type": "code",
      "source": [
        "#2차원이므로 axis=1을 사용할 수 없다?\n",
        "np.split(b, 2, axis=1)# b는 2차원이므로 axis=1의 의미는 열이다."
      ],
      "metadata": {
        "colab": {
          "base_uri": "https://localhost:8080/"
        },
        "id": "t_wCpBJoSve0",
        "outputId": "87cac85b-dffd-4445-83bc-9d0a0e1358f7"
      },
      "execution_count": null,
      "outputs": [
        {
          "output_type": "execute_result",
          "data": {
            "text/plain": [
              "[array([[ 0,  1,  2],\n",
              "        [ 6,  7,  8],\n",
              "        [12, 13, 14],\n",
              "        [18, 19, 20]]),\n",
              " array([[ 3,  4,  5],\n",
              "        [ 9, 10, 11],\n",
              "        [15, 16, 17],\n",
              "        [21, 22, 23]])]"
            ]
          },
          "metadata": {},
          "execution_count": 65
        }
      ]
    },
    {
      "cell_type": "code",
      "source": [
        "#vertical\n",
        "np.vsplit(b, 2) #np.split(b, 2, axis=0)와 같다."
      ],
      "metadata": {
        "colab": {
          "base_uri": "https://localhost:8080/"
        },
        "id": "smatfSTcTNOs",
        "outputId": "ef25cfd8-c5b6-40e3-977a-c012dba5773a"
      },
      "execution_count": null,
      "outputs": [
        {
          "output_type": "execute_result",
          "data": {
            "text/plain": [
              "[array([[ 0,  1,  2,  3,  4,  5],\n",
              "        [ 6,  7,  8,  9, 10, 11]]),\n",
              " array([[12, 13, 14, 15, 16, 17],\n",
              "        [18, 19, 20, 21, 22, 23]])]"
            ]
          },
          "metadata": {},
          "execution_count": 52
        }
      ]
    },
    {
      "cell_type": "code",
      "source": [
        "#horizental(수평)\n",
        "np.hsplit(b,2) #np.split(b, 2, axis=1)와 같은 결과이다."
      ],
      "metadata": {
        "colab": {
          "base_uri": "https://localhost:8080/"
        },
        "id": "mEXKsnqtT0cU",
        "outputId": "308599e7-8c97-4304-88dc-8b8af40a773b"
      },
      "execution_count": null,
      "outputs": [
        {
          "output_type": "execute_result",
          "data": {
            "text/plain": [
              "[array([[ 0,  1,  2],\n",
              "        [ 6,  7,  8],\n",
              "        [12, 13, 14],\n",
              "        [18, 19, 20]]),\n",
              " array([[ 3,  4,  5],\n",
              "        [ 9, 10, 11],\n",
              "        [15, 16, 17],\n",
              "        [21, 22, 23]])]"
            ]
          },
          "metadata": {},
          "execution_count": 53
        }
      ]
    },
    {
      "cell_type": "code",
      "source": [
        "c = np.arange(6)\n",
        "c"
      ],
      "metadata": {
        "colab": {
          "base_uri": "https://localhost:8080/"
        },
        "id": "ze0VnWM3UDkM",
        "outputId": "e5bb31cb-87ab-4e0f-c102-1b64c5ff88e6"
      },
      "execution_count": null,
      "outputs": [
        {
          "output_type": "execute_result",
          "data": {
            "text/plain": [
              "array([0, 1, 2, 3, 4, 5])"
            ]
          },
          "metadata": {},
          "execution_count": 55
        }
      ]
    },
    {
      "cell_type": "code",
      "source": [
        "#2차원 이상일때만 사용할 수 있다\n",
        "np.vsplit(c, 2) #vsplit only works on arrays of 2 or more dimensions"
      ],
      "metadata": {
        "colab": {
          "base_uri": "https://localhost:8080/",
          "height": 355
        },
        "id": "8yZdDoQCUML9",
        "outputId": "5a674f80-868d-4a65-a25d-ac46cf7393c1"
      },
      "execution_count": null,
      "outputs": [
        {
          "output_type": "error",
          "ename": "ValueError",
          "evalue": "ignored",
          "traceback": [
            "\u001b[0;31m---------------------------------------------------------------------------\u001b[0m",
            "\u001b[0;31mValueError\u001b[0m                                Traceback (most recent call last)",
            "\u001b[0;32m<ipython-input-57-e3f3a72cf09d>\u001b[0m in \u001b[0;36m<cell line: 2>\u001b[0;34m()\u001b[0m\n\u001b[1;32m      1\u001b[0m \u001b[0;31m#2차원 이상일때만 사용할 수 있다\u001b[0m\u001b[0;34m\u001b[0m\u001b[0;34m\u001b[0m\u001b[0m\n\u001b[0;32m----> 2\u001b[0;31m \u001b[0mnp\u001b[0m\u001b[0;34m.\u001b[0m\u001b[0mvsplit\u001b[0m\u001b[0;34m(\u001b[0m\u001b[0mc\u001b[0m\u001b[0;34m,\u001b[0m \u001b[0;36m2\u001b[0m\u001b[0;34m)\u001b[0m \u001b[0;31m#vsplit only works on arrays of 2 or more dimensions\u001b[0m\u001b[0;34m\u001b[0m\u001b[0;34m\u001b[0m\u001b[0m\n\u001b[0m",
            "\u001b[0;32m/usr/local/lib/python3.10/dist-packages/numpy/core/overrides.py\u001b[0m in \u001b[0;36mvsplit\u001b[0;34m(*args, **kwargs)\u001b[0m\n",
            "\u001b[0;32m/usr/local/lib/python3.10/dist-packages/numpy/lib/shape_base.py\u001b[0m in \u001b[0;36mvsplit\u001b[0;34m(ary, indices_or_sections)\u001b[0m\n\u001b[1;32m    994\u001b[0m     \"\"\"\n\u001b[1;32m    995\u001b[0m     \u001b[0;32mif\u001b[0m \u001b[0m_nx\u001b[0m\u001b[0;34m.\u001b[0m\u001b[0mndim\u001b[0m\u001b[0;34m(\u001b[0m\u001b[0mary\u001b[0m\u001b[0;34m)\u001b[0m \u001b[0;34m<\u001b[0m \u001b[0;36m2\u001b[0m\u001b[0;34m:\u001b[0m\u001b[0;34m\u001b[0m\u001b[0;34m\u001b[0m\u001b[0m\n\u001b[0;32m--> 996\u001b[0;31m         \u001b[0;32mraise\u001b[0m \u001b[0mValueError\u001b[0m\u001b[0;34m(\u001b[0m\u001b[0;34m'vsplit only works on arrays of 2 or more dimensions'\u001b[0m\u001b[0;34m)\u001b[0m\u001b[0;34m\u001b[0m\u001b[0;34m\u001b[0m\u001b[0m\n\u001b[0m\u001b[1;32m    997\u001b[0m     \u001b[0;32mreturn\u001b[0m \u001b[0msplit\u001b[0m\u001b[0;34m(\u001b[0m\u001b[0mary\u001b[0m\u001b[0;34m,\u001b[0m \u001b[0mindices_or_sections\u001b[0m\u001b[0;34m,\u001b[0m \u001b[0;36m0\u001b[0m\u001b[0;34m)\u001b[0m\u001b[0;34m\u001b[0m\u001b[0;34m\u001b[0m\u001b[0m\n\u001b[1;32m    998\u001b[0m \u001b[0;34m\u001b[0m\u001b[0m\n",
            "\u001b[0;31mValueError\u001b[0m: vsplit only works on arrays of 2 or more dimensions"
          ]
        }
      ]
    },
    {
      "cell_type": "code",
      "source": [
        "#hsplit()은 1차원일때도 가능하다.\n",
        "np.hsplit(c, 2)\n",
        "c"
      ],
      "metadata": {
        "colab": {
          "base_uri": "https://localhost:8080/"
        },
        "id": "1GdTopqyUlqE",
        "outputId": "fea990ea-077b-44ec-8a7a-fcf37e3c9fd2"
      },
      "execution_count": null,
      "outputs": [
        {
          "output_type": "execute_result",
          "data": {
            "text/plain": [
              "array([0, 1, 2, 3, 4, 5])"
            ]
          },
          "metadata": {},
          "execution_count": 58
        }
      ]
    },
    {
      "cell_type": "markdown",
      "source": [
        "array 합치기"
      ],
      "metadata": {
        "id": "S0d61fRzU5jD"
      }
    },
    {
      "cell_type": "code",
      "source": [
        "a = np.arange(24)\n",
        "x, y, z = np.split(a,3)\n"
      ],
      "metadata": {
        "id": "y6nOdCceU7Kb"
      },
      "execution_count": null,
      "outputs": []
    },
    {
      "cell_type": "code",
      "source": [
        "print(x)\n",
        "print(y)\n",
        "print(z)"
      ],
      "metadata": {
        "colab": {
          "base_uri": "https://localhost:8080/"
        },
        "id": "SjxcPDOKVCFL",
        "outputId": "bb002296-d9f4-4fd0-f383-f6a374d9bd17"
      },
      "execution_count": null,
      "outputs": [
        {
          "output_type": "stream",
          "name": "stdout",
          "text": [
            "[0 1 2 3 4 5 6 7]\n",
            "[ 8  9 10 11 12 13 14 15]\n",
            "[16 17 18 19 20 21 22 23]\n"
          ]
        }
      ]
    },
    {
      "cell_type": "markdown",
      "source": [
        "hstack & vstack"
      ],
      "metadata": {
        "id": "_MmKGU5RVIBg"
      }
    },
    {
      "cell_type": "code",
      "source": [
        "#hstack은 horizenal(가로)로 합쳐준다\n",
        "np.hstack((x,y))"
      ],
      "metadata": {
        "colab": {
          "base_uri": "https://localhost:8080/"
        },
        "id": "cmscseY_VMcs",
        "outputId": "9cbd0b92-6714-4283-ca4d-68c4b1b68f03"
      },
      "execution_count": null,
      "outputs": [
        {
          "output_type": "execute_result",
          "data": {
            "text/plain": [
              "array([ 0,  1,  2,  3,  4,  5,  6,  7,  8,  9, 10, 11, 12, 13, 14, 15])"
            ]
          },
          "metadata": {},
          "execution_count": 61
        }
      ]
    },
    {
      "cell_type": "code",
      "source": [
        "#vstack은 vertical(세로)로 합쳐준다.\n",
        "np.vstack((x,y))#튜플로 합친다?"
      ],
      "metadata": {
        "colab": {
          "base_uri": "https://localhost:8080/"
        },
        "id": "8hv3p1O_VcB8",
        "outputId": "c02ef0bd-3b43-4749-9f86-680af4c0421b"
      },
      "execution_count": null,
      "outputs": [
        {
          "output_type": "execute_result",
          "data": {
            "text/plain": [
              "array([[ 0,  1,  2,  3,  4,  5,  6,  7],\n",
              "       [ 8,  9, 10, 11, 12, 13, 14, 15]])"
            ]
          },
          "metadata": {},
          "execution_count": 62
        }
      ]
    },
    {
      "cell_type": "markdown",
      "source": [
        "dstack\n",
        " - destack은 합쳐서 3차원으로 만들어준다.\n",
        " - 합칠 array들이 1차원, 2차원일 경우 차원을 늘린 후 합친다.\n",
        " - 합쳐지는 차원은 axis=2이다."
      ],
      "metadata": {
        "id": "q7WOuTlaV6VI"
      }
    },
    {
      "cell_type": "code",
      "source": [
        "#x는 shape 1차원이므로 (1, m, 1)인 3차원 변환한다.\n",
        "#y는 shape 1차원이므로 (1, n, 1)인 3차원 변환한다.\n",
        "c = np.dstack((x,y))\n",
        "c"
      ],
      "metadata": {
        "colab": {
          "base_uri": "https://localhost:8080/"
        },
        "id": "A6ux84SgWI63",
        "outputId": "3097b068-3de0-4ce3-f5c7-cec3e30fb9dd"
      },
      "execution_count": null,
      "outputs": [
        {
          "output_type": "execute_result",
          "data": {
            "text/plain": [
              "array([[[ 0, 10],\n",
              "        [ 1, 11]],\n",
              "\n",
              "       [[ 2, 12],\n",
              "        [ 3, 13]],\n",
              "\n",
              "       [[ 4, 14],\n",
              "        [ 5, 15]],\n",
              "\n",
              "       [[ 6, 16],\n",
              "        [ 7, 17]],\n",
              "\n",
              "       [[ 8, 18],\n",
              "        [ 9, 19]]])"
            ]
          },
          "metadata": {},
          "execution_count": 75
        }
      ]
    },
    {
      "cell_type": "code",
      "source": [
        "c.shape  #2열"
      ],
      "metadata": {
        "colab": {
          "base_uri": "https://localhost:8080/"
        },
        "id": "WHgKPyByVv7k",
        "outputId": "4cc83958-c503-4d83-c462-e95c69f92ff1"
      },
      "execution_count": null,
      "outputs": [
        {
          "output_type": "execute_result",
          "data": {
            "text/plain": [
              "(5, 2, 2)"
            ]
          },
          "metadata": {},
          "execution_count": 83
        }
      ]
    },
    {
      "cell_type": "code",
      "source": [
        "x = np.arange(10).reshape(5,2)  #1~9까지의 범위, 5행 2열로 나눠라.\n",
        "y = np.arange(10, 20).reshape(5,2) #10~19까지의 범위, 5행 2열로 나눠라.\n",
        "print(x)\n",
        "print(y)"
      ],
      "metadata": {
        "colab": {
          "base_uri": "https://localhost:8080/"
        },
        "id": "hTgDnVfyW5kM",
        "outputId": "34945feb-6381-45c3-ea94-256af0e9d888"
      },
      "execution_count": null,
      "outputs": [
        {
          "output_type": "stream",
          "name": "stdout",
          "text": [
            "[[0 1]\n",
            " [2 3]\n",
            " [4 5]\n",
            " [6 7]\n",
            " [8 9]]\n",
            "[[10 11]\n",
            " [12 13]\n",
            " [14 15]\n",
            " [16 17]\n",
            " [18 19]]\n"
          ]
        }
      ]
    },
    {
      "cell_type": "code",
      "source": [
        "c = np.dstack((x,y)) # x, y 합치기\n",
        "print(c)\n",
        "c"
      ],
      "metadata": {
        "colab": {
          "base_uri": "https://localhost:8080/"
        },
        "id": "-CeATJKKXIqJ",
        "outputId": "d9c36045-e620-4567-84d0-f2e62c630e02"
      },
      "execution_count": null,
      "outputs": [
        {
          "output_type": "stream",
          "name": "stdout",
          "text": [
            "[[[ 0 10]\n",
            "  [ 1 11]]\n",
            "\n",
            " [[ 2 12]\n",
            "  [ 3 13]]\n",
            "\n",
            " [[ 4 14]\n",
            "  [ 5 15]]\n",
            "\n",
            " [[ 6 16]\n",
            "  [ 7 17]]\n",
            "\n",
            " [[ 8 18]\n",
            "  [ 9 19]]]\n"
          ]
        },
        {
          "output_type": "execute_result",
          "data": {
            "text/plain": [
              "array([[[ 0, 10],\n",
              "        [ 1, 11]],\n",
              "\n",
              "       [[ 2, 12],\n",
              "        [ 3, 13]],\n",
              "\n",
              "       [[ 4, 14],\n",
              "        [ 5, 15]],\n",
              "\n",
              "       [[ 6, 16],\n",
              "        [ 7, 17]],\n",
              "\n",
              "       [[ 8, 18],\n",
              "        [ 9, 19]]])"
            ]
          },
          "metadata": {},
          "execution_count": 82
        }
      ]
    },
    {
      "cell_type": "code",
      "source": [
        "c.shape #5행 2열 2개씩"
      ],
      "metadata": {
        "colab": {
          "base_uri": "https://localhost:8080/"
        },
        "id": "Lgj5rWZCXTle",
        "outputId": "8952c5c5-ad33-4867-bb50-3dd1042d8f46"
      },
      "execution_count": null,
      "outputs": [
        {
          "output_type": "execute_result",
          "data": {
            "text/plain": [
              "(5, 2, 2)"
            ]
          },
          "metadata": {},
          "execution_count": 85
        }
      ]
    },
    {
      "cell_type": "markdown",
      "source": [
        "#### concatenate\n",
        " - concate는 axis 방향에 그대로 합쳐준다.\n",
        " - stack은 axis방향에 새로운 차원을 만들어 합쳐준다."
      ],
      "metadata": {
        "id": "abzPObERbktW"
      }
    },
    {
      "cell_type": "code",
      "source": [
        "a = np.arange(12).reshape(3,4) #0~11까지 범위, 3행 4열\n",
        "x, y = np.split(a, 2, axis = 1) #a를 가지고 2열 1축\n",
        "\n",
        "print(a)\n",
        "print(x)\n",
        "print(y)"
      ],
      "metadata": {
        "colab": {
          "base_uri": "https://localhost:8080/"
        },
        "id": "8RtfIKaAa6ba",
        "outputId": "1bb049f1-1f8e-4f0b-fe31-1d7990f8bf05"
      },
      "execution_count": null,
      "outputs": [
        {
          "output_type": "stream",
          "name": "stdout",
          "text": [
            "[[ 0  1  2  3]\n",
            " [ 4  5  6  7]\n",
            " [ 8  9 10 11]]\n",
            "[[0 1]\n",
            " [4 5]\n",
            " [8 9]]\n",
            "[[ 2  3]\n",
            " [ 6  7]\n",
            " [10 11]]\n"
          ]
        }
      ]
    },
    {
      "cell_type": "code",
      "source": [
        "#np.split(a, 2, axis = 1)\n",
        "np.stack((x,y)) #2차원인데 차원이 증가해서 3차원을 생성한다."
      ],
      "metadata": {
        "colab": {
          "base_uri": "https://localhost:8080/"
        },
        "id": "uycTQUgYcUgC",
        "outputId": "f3e94c82-dbfb-4597-f14d-93d9cb6a7aca"
      },
      "execution_count": null,
      "outputs": [
        {
          "output_type": "execute_result",
          "data": {
            "text/plain": [
              "array([[[ 0,  1],\n",
              "        [ 4,  5],\n",
              "        [ 8,  9]],\n",
              "\n",
              "       [[ 2,  3],\n",
              "        [ 6,  7],\n",
              "        [10, 11]]])"
            ]
          },
          "metadata": {},
          "execution_count": 98
        }
      ]
    },
    {
      "cell_type": "code",
      "source": [
        "#원래 shape 크기 그대로 유지를 한다. 즉 2차원이 그대로 유지된다.\n",
        "np.concatenate((x,y)) #axis=0 default"
      ],
      "metadata": {
        "colab": {
          "base_uri": "https://localhost:8080/"
        },
        "id": "aoQV3lCpckCi",
        "outputId": "30a0689c-71b3-4eaa-f24c-a144706baa75"
      },
      "execution_count": null,
      "outputs": [
        {
          "output_type": "execute_result",
          "data": {
            "text/plain": [
              "array([[ 0,  1],\n",
              "       [ 4,  5],\n",
              "       [ 8,  9],\n",
              "       [ 2,  3],\n",
              "       [ 6,  7],\n",
              "       [10, 11]])"
            ]
          },
          "metadata": {},
          "execution_count": 95
        }
      ]
    },
    {
      "cell_type": "markdown",
      "source": [
        "##차원확장"
      ],
      "metadata": {
        "id": "_5Ghd4ZseEKR"
      }
    },
    {
      "cell_type": "markdown",
      "source": [
        "stack"
      ],
      "metadata": {
        "id": "mvYjZoRveKyH"
      }
    },
    {
      "cell_type": "code",
      "source": [
        "a = np.arange(12).reshape(3,4)\n",
        "a"
      ],
      "metadata": {
        "colab": {
          "base_uri": "https://localhost:8080/"
        },
        "id": "g-o9LuW2eMCx",
        "outputId": "82835288-e270-401e-b38d-a1a56641dc38"
      },
      "execution_count": null,
      "outputs": [
        {
          "output_type": "execute_result",
          "data": {
            "text/plain": [
              "array([[ 0,  1,  2,  3],\n",
              "       [ 4,  5,  6,  7],\n",
              "       [ 8,  9, 10, 11]])"
            ]
          },
          "metadata": {},
          "execution_count": 99
        }
      ]
    },
    {
      "cell_type": "code",
      "source": [
        "#tuple에 원소가 1개 있으면 차원만 확장시켜준다.\n",
        "np.stack((a,)) # 차원 증가"
      ],
      "metadata": {
        "colab": {
          "base_uri": "https://localhost:8080/"
        },
        "id": "jiYlxBsSeF6p",
        "outputId": "2874da43-e680-486f-e4fa-07a9e4038306"
      },
      "execution_count": null,
      "outputs": [
        {
          "output_type": "execute_result",
          "data": {
            "text/plain": [
              "array([[[ 0,  1,  2,  3],\n",
              "        [ 4,  5,  6,  7],\n",
              "        [ 8,  9, 10, 11]]])"
            ]
          },
          "metadata": {},
          "execution_count": 100
        }
      ]
    },
    {
      "cell_type": "markdown",
      "source": [
        "newaxis"
      ],
      "metadata": {
        "id": "I_aKMv4meqRO"
      }
    },
    {
      "cell_type": "code",
      "source": [
        "a"
      ],
      "metadata": {
        "colab": {
          "base_uri": "https://localhost:8080/"
        },
        "id": "R2-oCM-fesuR",
        "outputId": "bbf45d9e-9bab-4673-e82a-777faf86e183"
      },
      "execution_count": null,
      "outputs": [
        {
          "output_type": "execute_result",
          "data": {
            "text/plain": [
              "array([[ 0,  1,  2,  3],\n",
              "       [ 4,  5,  6,  7],\n",
              "       [ 8,  9, 10, 11]])"
            ]
          },
          "metadata": {},
          "execution_count": 101
        }
      ]
    },
    {
      "cell_type": "code",
      "source": [
        "a[np.newaxis,:,:]\n"
      ],
      "metadata": {
        "colab": {
          "base_uri": "https://localhost:8080/"
        },
        "id": "yuM5kECmetqZ",
        "outputId": "50f2fd45-0ed1-4189-d591-e0e7ad0ee6b6"
      },
      "execution_count": null,
      "outputs": [
        {
          "output_type": "execute_result",
          "data": {
            "text/plain": [
              "array([[[ 0,  1,  2,  3],\n",
              "        [ 4,  5,  6,  7],\n",
              "        [ 8,  9, 10, 11]]])"
            ]
          },
          "metadata": {},
          "execution_count": 103
        }
      ]
    },
    {
      "cell_type": "code",
      "source": [
        "a[np.newaxis,:,:].shape"
      ],
      "metadata": {
        "colab": {
          "base_uri": "https://localhost:8080/"
        },
        "id": "ZpW82Io4e2W5",
        "outputId": "f653bf74-6049-4ba5-a612-ea1d0f516617"
      },
      "execution_count": null,
      "outputs": [
        {
          "output_type": "execute_result",
          "data": {
            "text/plain": [
              "(1, 3, 4)"
            ]
          },
          "metadata": {},
          "execution_count": 105
        }
      ]
    },
    {
      "cell_type": "code",
      "source": [
        "#행 추가\n",
        "a[:, np.newaxis, :]"
      ],
      "metadata": {
        "colab": {
          "base_uri": "https://localhost:8080/"
        },
        "id": "vNn-zco7fHQZ",
        "outputId": "a8789d04-7ac6-4791-e816-bf6960a65bb0"
      },
      "execution_count": null,
      "outputs": [
        {
          "output_type": "execute_result",
          "data": {
            "text/plain": [
              "array([[[ 0,  1,  2,  3]],\n",
              "\n",
              "       [[ 4,  5,  6,  7]],\n",
              "\n",
              "       [[ 8,  9, 10, 11]]])"
            ]
          },
          "metadata": {},
          "execution_count": 107
        }
      ]
    },
    {
      "cell_type": "code",
      "source": [
        "a[:, np.newaxis, :].shape"
      ],
      "metadata": {
        "colab": {
          "base_uri": "https://localhost:8080/"
        },
        "id": "5IrQng77fdvh",
        "outputId": "edfd7b6f-92cc-43e1-d6a9-3126538bddf9"
      },
      "execution_count": null,
      "outputs": [
        {
          "output_type": "execute_result",
          "data": {
            "text/plain": [
              "(3, 1, 4)"
            ]
          },
          "metadata": {},
          "execution_count": 109
        }
      ]
    },
    {
      "cell_type": "code",
      "source": [
        "#열 추가\n",
        "a[:, :, np.newaxis]"
      ],
      "metadata": {
        "colab": {
          "base_uri": "https://localhost:8080/"
        },
        "id": "1ysW3D_TfjCh",
        "outputId": "0f587867-83d2-4706-c15f-ec3facc9cfc7"
      },
      "execution_count": null,
      "outputs": [
        {
          "output_type": "execute_result",
          "data": {
            "text/plain": [
              "array([[[ 0],\n",
              "        [ 1],\n",
              "        [ 2],\n",
              "        [ 3]],\n",
              "\n",
              "       [[ 4],\n",
              "        [ 5],\n",
              "        [ 6],\n",
              "        [ 7]],\n",
              "\n",
              "       [[ 8],\n",
              "        [ 9],\n",
              "        [10],\n",
              "        [11]]])"
            ]
          },
          "metadata": {},
          "execution_count": 111
        }
      ]
    },
    {
      "cell_type": "code",
      "source": [
        "a[:, :, np.newaxis].shape"
      ],
      "metadata": {
        "colab": {
          "base_uri": "https://localhost:8080/"
        },
        "id": "n2qlHX9GfrPZ",
        "outputId": "89329542-ae81-4e1e-bfe7-f83e00dff50d"
      },
      "execution_count": null,
      "outputs": [
        {
          "output_type": "execute_result",
          "data": {
            "text/plain": [
              "(3, 4, 1)"
            ]
          },
          "metadata": {},
          "execution_count": 112
        }
      ]
    },
    {
      "cell_type": "markdown",
      "source": [
        "np.newaxis 대신에 None을 써도 된다.\n",
        "\n",
        "None은 직관적이지 않고 헷갈려서 np.newaxis를 만들었다."
      ],
      "metadata": {
        "id": "D5Rww7wBgI24"
      }
    },
    {
      "cell_type": "code",
      "source": [
        "np.newaxis is None"
      ],
      "metadata": {
        "colab": {
          "base_uri": "https://localhost:8080/"
        },
        "id": "28IbErilgaMB",
        "outputId": "49e501e6-b02c-45c5-b4da-aa4df8664fef"
      },
      "execution_count": null,
      "outputs": [
        {
          "output_type": "execute_result",
          "data": {
            "text/plain": [
              "True"
            ]
          },
          "metadata": {},
          "execution_count": 114
        }
      ]
    },
    {
      "cell_type": "code",
      "source": [
        "a[:, :, None]"
      ],
      "metadata": {
        "colab": {
          "base_uri": "https://localhost:8080/"
        },
        "id": "1ls9pFw8gcXx",
        "outputId": "0b5c2528-86d7-4784-9b38-230aafda45a4"
      },
      "execution_count": null,
      "outputs": [
        {
          "output_type": "execute_result",
          "data": {
            "text/plain": [
              "array([[[ 0],\n",
              "        [ 1],\n",
              "        [ 2],\n",
              "        [ 3]],\n",
              "\n",
              "       [[ 4],\n",
              "        [ 5],\n",
              "        [ 6],\n",
              "        [ 7]],\n",
              "\n",
              "       [[ 8],\n",
              "        [ 9],\n",
              "        [10],\n",
              "        [11]]])"
            ]
          },
          "metadata": {},
          "execution_count": 115
        }
      ]
    },
    {
      "cell_type": "markdown",
      "source": [
        "expand_dims"
      ],
      "metadata": {
        "id": "PRCHM036gpmN"
      }
    },
    {
      "cell_type": "code",
      "source": [
        "a"
      ],
      "metadata": {
        "colab": {
          "base_uri": "https://localhost:8080/"
        },
        "id": "U3HZD1ORgsAg",
        "outputId": "fa6d658e-e585-4060-e255-2be857c6563d"
      },
      "execution_count": null,
      "outputs": [
        {
          "output_type": "execute_result",
          "data": {
            "text/plain": [
              "array([[ 0,  1,  2,  3],\n",
              "       [ 4,  5,  6,  7],\n",
              "       [ 8,  9, 10, 11]])"
            ]
          },
          "metadata": {},
          "execution_count": 116
        }
      ]
    },
    {
      "cell_type": "code",
      "source": [
        "np.expand_dims(a, axis=0) #a[np.newaxis, :, :]와 같다"
      ],
      "metadata": {
        "colab": {
          "base_uri": "https://localhost:8080/"
        },
        "id": "ucyDvnTpgtQJ",
        "outputId": "9feffd99-b909-4866-9120-84fd3fb2d2d3"
      },
      "execution_count": null,
      "outputs": [
        {
          "output_type": "execute_result",
          "data": {
            "text/plain": [
              "array([[[ 0,  1,  2,  3],\n",
              "        [ 4,  5,  6,  7],\n",
              "        [ 8,  9, 10, 11]]])"
            ]
          },
          "metadata": {},
          "execution_count": 119
        }
      ]
    },
    {
      "cell_type": "code",
      "source": [
        "np.expand_dims(a, axis=1) #a[:, np.newaxis, :]와 같다"
      ],
      "metadata": {
        "colab": {
          "base_uri": "https://localhost:8080/"
        },
        "id": "ljkUemG9hBVZ",
        "outputId": "4dda7b4c-4e5b-4833-c651-6571014a65a5"
      },
      "execution_count": null,
      "outputs": [
        {
          "output_type": "execute_result",
          "data": {
            "text/plain": [
              "array([[[ 0,  1,  2,  3]],\n",
              "\n",
              "       [[ 4,  5,  6,  7]],\n",
              "\n",
              "       [[ 8,  9, 10, 11]]])"
            ]
          },
          "metadata": {},
          "execution_count": 120
        }
      ]
    },
    {
      "cell_type": "code",
      "source": [
        "np.expand_dims(a, axis=2) #a[:, :, np.newaxis]와 같다"
      ],
      "metadata": {
        "colab": {
          "base_uri": "https://localhost:8080/"
        },
        "id": "Wy6zwI6thMjJ",
        "outputId": "2c038e66-862f-4996-bb26-720cc2cc5aae"
      },
      "execution_count": null,
      "outputs": [
        {
          "output_type": "execute_result",
          "data": {
            "text/plain": [
              "array([[[ 0],\n",
              "        [ 1],\n",
              "        [ 2],\n",
              "        [ 3]],\n",
              "\n",
              "       [[ 4],\n",
              "        [ 5],\n",
              "        [ 6],\n",
              "        [ 7]],\n",
              "\n",
              "       [[ 8],\n",
              "        [ 9],\n",
              "        [10],\n",
              "        [11]]])"
            ]
          },
          "metadata": {},
          "execution_count": 121
        }
      ]
    },
    {
      "cell_type": "markdown",
      "source": [
        "### array한 줄로 펴기"
      ],
      "metadata": {
        "id": "6cxuTpqphlYG"
      }
    },
    {
      "cell_type": "markdown",
      "source": [
        "flatten"
      ],
      "metadata": {
        "id": "eUWF9_hVhuwl"
      }
    },
    {
      "cell_type": "code",
      "source": [
        "a = np.arange(12).reshape(3,4)\n",
        "a"
      ],
      "metadata": {
        "colab": {
          "base_uri": "https://localhost:8080/"
        },
        "id": "oKBXGicihrlB",
        "outputId": "189faca3-023e-4f5c-95dd-ceec0b668667"
      },
      "execution_count": null,
      "outputs": [
        {
          "output_type": "execute_result",
          "data": {
            "text/plain": [
              "array([[ 0,  1,  2,  3],\n",
              "       [ 4,  5,  6,  7],\n",
              "       [ 8,  9, 10, 11]])"
            ]
          },
          "metadata": {},
          "execution_count": 123
        }
      ]
    },
    {
      "cell_type": "code",
      "source": [
        "b = a.flatten()\n",
        "b"
      ],
      "metadata": {
        "colab": {
          "base_uri": "https://localhost:8080/"
        },
        "id": "04jeTvM4h3oY",
        "outputId": "e3353da5-c753-46fb-957b-d1bd374d2953"
      },
      "execution_count": null,
      "outputs": [
        {
          "output_type": "execute_result",
          "data": {
            "text/plain": [
              "array([ 0,  1,  2,  3,  4,  5,  6,  7,  8,  9, 10, 11])"
            ]
          },
          "metadata": {},
          "execution_count": 126
        }
      ]
    },
    {
      "cell_type": "code",
      "source": [
        "b.shape"
      ],
      "metadata": {
        "colab": {
          "base_uri": "https://localhost:8080/"
        },
        "id": "bSlm6Jnih_oY",
        "outputId": "72042730-3ad1-4b7e-d2cb-8aaadbfbad57"
      },
      "execution_count": null,
      "outputs": [
        {
          "output_type": "execute_result",
          "data": {
            "text/plain": [
              "(12,)"
            ]
          },
          "metadata": {},
          "execution_count": 127
        }
      ]
    },
    {
      "cell_type": "markdown",
      "source": [
        "#### 서로 차원 교환"
      ],
      "metadata": {
        "id": "SJYg7apSiSwV"
      }
    },
    {
      "cell_type": "markdown",
      "source": [
        "swapaxes"
      ],
      "metadata": {
        "id": "2phxVHhFiXIE"
      }
    },
    {
      "cell_type": "code",
      "source": [
        "a = np.array([[1],[2]]) #2행 1열\n",
        "a"
      ],
      "metadata": {
        "colab": {
          "base_uri": "https://localhost:8080/"
        },
        "id": "tsxl8AUqiY44",
        "outputId": "b8b648da-1504-425d-ccb6-ce5bcec1a70e"
      },
      "execution_count": null,
      "outputs": [
        {
          "output_type": "execute_result",
          "data": {
            "text/plain": [
              "array([[1],\n",
              "       [2]])"
            ]
          },
          "metadata": {},
          "execution_count": 128
        }
      ]
    },
    {
      "cell_type": "code",
      "source": [
        "b = np.swapaxes(a, 1, 0) #1축과 0축을 바꾸겠다. 1: 열, 0: 행을 의미하므로 행 열의 자리를 바꾼다.\n",
        "b"
      ],
      "metadata": {
        "colab": {
          "base_uri": "https://localhost:8080/"
        },
        "id": "9VkNMX8Piffg",
        "outputId": "e7702c4c-e392-4c87-acde-e1476938ddaf"
      },
      "execution_count": null,
      "outputs": [
        {
          "output_type": "execute_result",
          "data": {
            "text/plain": [
              "array([[1, 2]])"
            ]
          },
          "metadata": {},
          "execution_count": 129
        }
      ]
    },
    {
      "cell_type": "code",
      "source": [
        "b.shape #1행 2열"
      ],
      "metadata": {
        "colab": {
          "base_uri": "https://localhost:8080/"
        },
        "id": "xxmuo5ANjBsI",
        "outputId": "64f17645-1ea2-424e-e8f7-2ea97467cc6f"
      },
      "execution_count": null,
      "outputs": [
        {
          "output_type": "execute_result",
          "data": {
            "text/plain": [
              "(1, 2)"
            ]
          },
          "metadata": {},
          "execution_count": 130
        }
      ]
    },
    {
      "cell_type": "code",
      "source": [],
      "metadata": {
        "id": "k7FE_Lr6jI6I"
      },
      "execution_count": null,
      "outputs": []
    }
  ]
}