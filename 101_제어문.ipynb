{
  "nbformat": 4,
  "nbformat_minor": 0,
  "metadata": {
    "colab": {
      "provenance": [],
      "authorship_tag": "ABX9TyPuyHy3tbEK0iHrZg2Bp4oB",
      "include_colab_link": true
    },
    "kernelspec": {
      "name": "python3",
      "display_name": "Python 3"
    },
    "language_info": {
      "name": "python"
    }
  },
  "cells": [
    {
      "cell_type": "markdown",
      "metadata": {
        "id": "view-in-github",
        "colab_type": "text"
      },
      "source": [
        "<a href=\"https://colab.research.google.com/github/onsoon829/dataproject/blob/master/101_%EC%A0%9C%EC%96%B4%EB%AC%B8.ipynb\" target=\"_parent\"><img src=\"https://colab.research.google.com/assets/colab-badge.svg\" alt=\"Open In Colab\"/></a>"
      ]
    },
    {
      "cell_type": "markdown",
      "source": [
        "# 비교연산자\n",
        " - <       >       <=      >=      ==      !=(기본적으로 사용되는 연산자)\n",
        " - 결과는 논리값 : True or False"
      ],
      "metadata": {
        "id": "C9GpI6-CdZns"
      }
    },
    {
      "cell_type": "code",
      "source": [
        "print(3 < 2)\n",
        "print(3 > 2)\n",
        "print(3 == 2)\n",
        "print(3 != 2)"
      ],
      "metadata": {
        "colab": {
          "base_uri": "https://localhost:8080/"
        },
        "id": "3u5nGBS1dnbs",
        "outputId": "aff4e223-9b2e-4422-cbea-18b4542d56a6"
      },
      "execution_count": null,
      "outputs": [
        {
          "output_type": "stream",
          "name": "stdout",
          "text": [
            "False\n",
            "True\n",
            "False\n",
            "True\n"
          ]
        }
      ]
    },
    {
      "cell_type": "markdown",
      "source": [
        "##논리연산자\n",
        " - &       |       ^"
      ],
      "metadata": {
        "id": "KAX87hTmeHj0"
      }
    },
    {
      "cell_type": "code",
      "source": [
        "# print(True and True)\n",
        "# print(True or True)\n",
        "# print(not True)\n"
      ],
      "metadata": {
        "id": "GXn1OC2ReZN1"
      },
      "execution_count": null,
      "outputs": []
    },
    {
      "cell_type": "markdown",
      "source": [
        "# existance\n",
        " - python에서 조건은 존재론(existance)적이다.=>truthy,falsey"
      ],
      "metadata": {
        "id": "QdixFVlMfu_j"
      }
    },
    {
      "cell_type": "code",
      "source": [
        "#0은 숫자가 없는 것과 같음 -> falsey\n",
        "a = 0.0\n",
        "if a:\n",
        "  print('Yes')\n",
        "else :\n",
        "  print('No')"
      ],
      "metadata": {
        "colab": {
          "base_uri": "https://localhost:8080/"
        },
        "id": "aYa3m8Bxf8yG",
        "outputId": "a21a9153-f846-4747-d14c-3a44e03fffbe"
      },
      "execution_count": null,
      "outputs": [
        {
          "output_type": "stream",
          "name": "stdout",
          "text": [
            "No\n"
          ]
        }
      ]
    },
    {
      "cell_type": "code",
      "source": [
        "#None은 숫자가 없는 것과 같음-> falsey\n",
        "a = None\n",
        "if a:\n",
        "  print('Yes')\n",
        "else:\n",
        "  print('No')"
      ],
      "metadata": {
        "colab": {
          "base_uri": "https://localhost:8080/"
        },
        "id": "vVL1L9dMid6E",
        "outputId": "2c61f557-e3b3-4dfa-9936-214e0ac4a5d4"
      },
      "execution_count": null,
      "outputs": [
        {
          "output_type": "stream",
          "name": "stdout",
          "text": [
            "No\n"
          ]
        }
      ]
    },
    {
      "cell_type": "code",
      "source": [
        "#비어 있는 dict은 없는 것과 같음 ->falsey\n",
        "a = {}\n",
        "if a:\n",
        "  print('Yes')\n",
        "else:\n",
        "   print('No')"
      ],
      "metadata": {
        "colab": {
          "base_uri": "https://localhost:8080/"
        },
        "id": "Tti8B0CyiyqM",
        "outputId": "dcb6b458-ef38-41af-e22b-ac70bd87b9aa"
      },
      "execution_count": null,
      "outputs": [
        {
          "output_type": "stream",
          "name": "stdout",
          "text": [
            "No\n"
          ]
        }
      ]
    },
    {
      "cell_type": "code",
      "source": [
        "a = int()\n",
        "b = float()\n",
        "c =list()\n",
        "d = tuple()\n",
        "e = str()\n",
        "f = set()\n",
        "g = frozenset()\n",
        "\n",
        "if a:\n",
        "  print('Yes')\n",
        "else:\n",
        "  print('No')"
      ],
      "metadata": {
        "colab": {
          "base_uri": "https://localhost:8080/"
        },
        "id": "a2zYf7ikjEqL",
        "outputId": "75f418f1-0c40-449d-afe8-d1bee99f5a25"
      },
      "execution_count": null,
      "outputs": [
        {
          "output_type": "stream",
          "name": "stdout",
          "text": [
            "No\n"
          ]
        }
      ]
    },
    {
      "cell_type": "code",
      "source": [
        "3<2 or 4<5"
      ],
      "metadata": {
        "colab": {
          "base_uri": "https://localhost:8080/"
        },
        "id": "_c_HsWgfjfN9",
        "outputId": "f2ca7382-f7e7-49f7-c6f2-992bea194557"
      },
      "execution_count": null,
      "outputs": [
        {
          "output_type": "execute_result",
          "data": {
            "text/plain": [
              "True"
            ]
          },
          "metadata": {},
          "execution_count": 23
        }
      ]
    },
    {
      "cell_type": "code",
      "source": [
        "#and 연산자 쓸 때 c나 java는 양쪽이 꼭 같아야 한다.\n",
        "#and는 앞이 True이면 뒤에 값을 반환한다.\n",
        "3 and 4"
      ],
      "metadata": {
        "colab": {
          "base_uri": "https://localhost:8080/"
        },
        "id": "ZJLB2X39jne8",
        "outputId": "12608cd5-032a-468f-fcc7-5a7053719d24"
      },
      "execution_count": null,
      "outputs": [
        {
          "output_type": "execute_result",
          "data": {
            "text/plain": [
              "4"
            ]
          },
          "metadata": {},
          "execution_count": 30
        }
      ]
    },
    {
      "cell_type": "code",
      "source": [
        "#뒤에 놈이 값을 결정한다.but 앞놈이 false값일 경우 값은 false값이 출력된다.\n",
        "3 and 0"
      ],
      "metadata": {
        "colab": {
          "base_uri": "https://localhost:8080/"
        },
        "id": "43m5Xzd1kIEE",
        "outputId": "b679b5bc-ff9a-4f38-8eac-fc36da68ddae"
      },
      "execution_count": null,
      "outputs": [
        {
          "output_type": "execute_result",
          "data": {
            "text/plain": [
              "0"
            ]
          },
          "metadata": {},
          "execution_count": 31
        }
      ]
    },
    {
      "cell_type": "code",
      "source": [
        "#and는 앞이 false이면 앞의 값을 반환한다.\n",
        "#비어있는 문자열은 없는 것과 같음 -> flasey ex) '' and 3-> ''\n",
        "'' and 3"
      ],
      "metadata": {
        "colab": {
          "base_uri": "https://localhost:8080/",
          "height": 35
        },
        "id": "Lcpk5lUbomrL",
        "outputId": "9ada4dbf-6890-4279-82c1-f928fa426c38"
      },
      "execution_count": null,
      "outputs": [
        {
          "output_type": "execute_result",
          "data": {
            "text/plain": [
              "''"
            ],
            "application/vnd.google.colaboratory.intrinsic+json": {
              "type": "string"
            }
          },
          "metadata": {},
          "execution_count": 34
        }
      ]
    },
    {
      "cell_type": "code",
      "source": [
        "#앞이 True이면 앞의 값이 리턴된다.\n",
        "1 or 4"
      ],
      "metadata": {
        "colab": {
          "base_uri": "https://localhost:8080/"
        },
        "id": "0LqhKOc4pBNT",
        "outputId": "f6d9d56a-441a-43d9-f1ee-e5ae43536868"
      },
      "execution_count": null,
      "outputs": [
        {
          "output_type": "execute_result",
          "data": {
            "text/plain": [
              "1"
            ]
          },
          "metadata": {},
          "execution_count": 35
        }
      ]
    },
    {
      "cell_type": "code",
      "source": [
        "#앞이 false이면 뒤의 값을 리턴한다\n",
        "'' or 4"
      ],
      "metadata": {
        "colab": {
          "base_uri": "https://localhost:8080/"
        },
        "id": "r_784qqIpSB8",
        "outputId": "70fcb449-1d5b-458e-9744-ba2eea3770ac"
      },
      "execution_count": null,
      "outputs": [
        {
          "output_type": "execute_result",
          "data": {
            "text/plain": [
              "4"
            ]
          },
          "metadata": {},
          "execution_count": 36
        }
      ]
    },
    {
      "cell_type": "markdown",
      "source": [
        "#제어문(statement controller)\n",
        " - 문장의 흐름을 제어해 준다.\n",
        " - 조건문, 반복문\n",
        " - 조건문: if~else\n",
        " - 반복문: for~in, while\n",
        " - break, continue"
      ],
      "metadata": {
        "id": "VM8zUUJypnp1"
      }
    },
    {
      "cell_type": "markdown",
      "source": [
        "```\n",
        "if 조건식:\n",
        "  수행할 문장\n",
        "else:\n",
        "수행할 문장\n",
        "```"
      ],
      "metadata": {
        "id": "-uRK4DSoryl0"
      }
    },
    {
      "cell_type": "code",
      "source": [
        "a = 8\n",
        "if a>5 :\n",
        "  print('OK')\n",
        "else:\n",
        "    print('Fail')"
      ],
      "metadata": {
        "colab": {
          "base_uri": "https://localhost:8080/"
        },
        "id": "BXyPnVqNqtwD",
        "outputId": "dadf393f-37c7-4c9c-8337-2dccdc621b15"
      },
      "execution_count": null,
      "outputs": [
        {
          "output_type": "stream",
          "name": "stdout",
          "text": [
            "OK\n"
          ]
        }
      ]
    },
    {
      "cell_type": "code",
      "source": [
        "a= 5\n",
        "if a%2==0 :\n",
        "  print('even')\n",
        "else:\n",
        "  print('odd')\n"
      ],
      "metadata": {
        "colab": {
          "base_uri": "https://localhost:8080/"
        },
        "id": "mDNSRNkurvWr",
        "outputId": "114010bf-d0be-4a70-dca4-29ce7acfe447"
      },
      "execution_count": null,
      "outputs": [
        {
          "output_type": "stream",
          "name": "stdout",
          "text": [
            "odd\n"
          ]
        }
      ]
    },
    {
      "cell_type": "code",
      "source": [
        "name = '홍길동'\n",
        "if name :\n",
        "  print(name)"
      ],
      "metadata": {
        "colab": {
          "base_uri": "https://localhost:8080/"
        },
        "id": "J7bxbf9LsX2P",
        "outputId": "6773ebf1-3ab8-43c9-a5b0-0feebb446164"
      },
      "execution_count": null,
      "outputs": [
        {
          "output_type": "stream",
          "name": "stdout",
          "text": [
            "홍길동\n"
          ]
        }
      ]
    },
    {
      "cell_type": "code",
      "source": [
        "#if조건에 문장을 사용할 수 없다.\n",
        "if a=4:\n",
        "  print(a)"
      ],
      "metadata": {
        "colab": {
          "base_uri": "https://localhost:8080/",
          "height": 147
        },
        "id": "GbUOrhEQs7A0",
        "outputId": "02cdb8e5-2e95-4041-cd4b-0948e98efe6e"
      },
      "execution_count": null,
      "outputs": [
        {
          "output_type": "error",
          "ename": "SyntaxError",
          "evalue": "ignored",
          "traceback": [
            "\u001b[0;36m  File \u001b[0;32m\"<ipython-input-161-56bca946d06e>\"\u001b[0;36m, line \u001b[0;32m2\u001b[0m\n\u001b[0;31m    if a=4:\u001b[0m\n\u001b[0m       ^\u001b[0m\n\u001b[0;31mSyntaxError\u001b[0m\u001b[0;31m:\u001b[0m invalid syntax. Maybe you meant '==' or ':=' instead of '='?\n"
          ]
        }
      ]
    },
    {
      "cell_type": "code",
      "source": [
        "#80이상이면 '상', 60이상 80미만이면 '중', 60미만이면 '하'\n",
        "a = 85\n",
        "if a>=80:\n",
        "  print('상')\n",
        "#else+if->elif\n",
        "elif a>=60:\n",
        "  print('중')\n",
        "else:\n",
        "  print('하')"
      ],
      "metadata": {
        "colab": {
          "base_uri": "https://localhost:8080/"
        },
        "id": "qQNMUACetP8r",
        "outputId": "188ca2af-1df6-4d54-eff2-1acb57c633b1"
      },
      "execution_count": null,
      "outputs": [
        {
          "output_type": "stream",
          "name": "stdout",
          "text": [
            "상\n"
          ]
        }
      ]
    },
    {
      "cell_type": "code",
      "source": [
        "a = 65\n",
        "if a >= 80:\n",
        "  print('상')\n",
        "else:\n",
        "  if a>=60:\n",
        "    print('중')\n",
        "  else:\n",
        "    print('하')"
      ],
      "metadata": {
        "colab": {
          "base_uri": "https://localhost:8080/"
        },
        "id": "gYmg13fiujiP",
        "outputId": "f5324a25-bc44-43bd-a1aa-18d0e13adf14"
      },
      "execution_count": null,
      "outputs": [
        {
          "output_type": "stream",
          "name": "stdout",
          "text": [
            "중\n"
          ]
        }
      ]
    },
    {
      "cell_type": "code",
      "source": [
        "a = 85\n",
        "if  a>=60 :\n",
        "  if a >=80 :\n",
        "    print('상')\n",
        "  else:\n",
        "    if a>=60:\n",
        "      print('중')\n",
        "else:\n",
        "     print('하')"
      ],
      "metadata": {
        "colab": {
          "base_uri": "https://localhost:8080/"
        },
        "id": "FftNjPQivSnz",
        "outputId": "00377a28-435a-418e-c95c-01de947d715d"
      },
      "execution_count": null,
      "outputs": [
        {
          "output_type": "stream",
          "name": "stdout",
          "text": [
            "상\n"
          ]
        }
      ]
    },
    {
      "cell_type": "code",
      "source": [
        "member = True\n",
        "grade = 'A' # 'S' 50, 'A' 30\n",
        "point = 0\n",
        "\n",
        "if member:\n",
        "#pass\n",
        "  if grade == 'S':\n",
        "    point = 50\n",
        "  else:\n",
        "    point = 30\n",
        "else:\n",
        "  point = 0\n",
        "\n",
        "print(point)"
      ],
      "metadata": {
        "colab": {
          "base_uri": "https://localhost:8080/"
        },
        "id": "FrQGly6cwRZ2",
        "outputId": "247bc14b-4fa7-49a1-9af4-b8ed98040375"
      },
      "execution_count": null,
      "outputs": [
        {
          "output_type": "stream",
          "name": "stdout",
          "text": [
            "30\n"
          ]
        }
      ]
    },
    {
      "cell_type": "code",
      "source": [
        "age = int(input('나이:'))\n",
        "gender = input('성별[남,여]:')\n",
        "\n",
        "if gender=='남':\n",
        "  if age >= 20 :\n",
        "    print('성인 남성입니다.')\n",
        "  else:\n",
        "    print('청소년 남성입니다')\n",
        "else:\n",
        "  if age >=20 :\n",
        "    print('성인 여성입니다')\n",
        "  else:\n",
        "    print('청소년 여성입니다')"
      ],
      "metadata": {
        "colab": {
          "base_uri": "https://localhost:8080/"
        },
        "id": "hlQS06c90tPP",
        "outputId": "3ae1c9c7-a270-47e0-f20d-1b2174bb8df0"
      },
      "execution_count": null,
      "outputs": [
        {
          "output_type": "stream",
          "name": "stdout",
          "text": [
            "나이:10\n",
            "성별[남,여]:남\n",
            "청소년 남성입니다\n"
          ]
        }
      ]
    },
    {
      "cell_type": "markdown",
      "source": [
        "* 퀴즈\n",
        "1. 놀이기구에 키가 140cm이상이고,\n",
        "  나이가 8세 이상인 사람만 탑승한다고 가정합니다.\n",
        "2. 먼저 키(height)와 나이(age)를 입력받으세요.\n",
        "3. 조건문 if~else를 사용하여 2개의 조건이 모두 참일 경우\n",
        "  \"놀이기구에 탑승할 수 있습니다.\"를 출력하세요.\n",
        "4. 위 조건이 거짓일 경우 \"놀이기구에 탑승할 수 없습니다.\"\n",
        "    를 출력하세요.\n",
        "5. 조건식과는 별개로 \"오늘 하루 즐거운 시간되세요!\"\n",
        "   를 출력하세요.\n",
        "'''"
      ],
      "metadata": {
        "id": "F71ttOF_3LM9"
      }
    },
    {
      "cell_type": "code",
      "source": [
        "height = int(input('키:'))\n",
        "age = int(input('나이:'))\n",
        "\n",
        "if height >= 140 :\n",
        "   if age >= 8 :\n",
        "    print('놀이기구에 탑승할 수 있습니다')\n",
        "   else:\n",
        "    if height <=140 :\n",
        "       if age <= 8 :\n",
        "          print('놀이기구에 탑승할 수 없습니다.')\n",
        "\n"
      ],
      "metadata": {
        "colab": {
          "base_uri": "https://localhost:8080/"
        },
        "id": "4HgAh8Kp3Mhr",
        "outputId": "4486685d-02fb-4348-95a4-3961881f5858"
      },
      "execution_count": null,
      "outputs": [
        {
          "output_type": "stream",
          "name": "stdout",
          "text": [
            "키:140\n",
            "나이:5\n",
            "놀이기구에 탑승할 수 없습니다.\n"
          ]
        }
      ]
    },
    {
      "cell_type": "code",
      "source": [
        "#선생님 답안\n",
        "height = int(input('키:'))\n",
        "age = int(input('나이:'))\n",
        "\n",
        "if height>=140 and age >= 8 :\n",
        "  print('놀이기구에 탑승할 수 있습니다')\n",
        "else:\n",
        "  print('놀이기구에 탑승할 수 없습니다')\n",
        "\n",
        "print('오늘 하루 즐거운 시간 되세요')"
      ],
      "metadata": {
        "colab": {
          "base_uri": "https://localhost:8080/"
        },
        "id": "GDW9ohhQ5Q4G",
        "outputId": "293cad41-901e-4490-93fd-d5c46b217b3f"
      },
      "execution_count": null,
      "outputs": [
        {
          "output_type": "stream",
          "name": "stdout",
          "text": [
            "키:145\n",
            "나이:9\n",
            "놀이기구에 탑승할 수 있습니다\n",
            "오늘 하루 즐거운 시간 되세요\n"
          ]
        }
      ]
    },
    {
      "cell_type": "markdown",
      "source": [
        "\n",
        "\n",
        "'''"
      ],
      "metadata": {
        "id": "Dp66jfGw7NJb"
      }
    },
    {
      "cell_type": "code",
      "source": [
        "age = input('나이:')\n",
        "point_card = input('소지 여부:')\n",
        "count = input('본 횟수:')\n",
        "\n",
        "if age >= 18:\n",
        "  if point_card == True:\n",
        "     if count == 5:\n",
        "     print('티켓은 5000원입니다')\n"
      ],
      "metadata": {
        "colab": {
          "base_uri": "https://localhost:8080/",
          "height": 147
        },
        "id": "dt46T8iL7UYV",
        "outputId": "6b774f25-3f27-4d7f-9173-afd17915a5b5"
      },
      "execution_count": null,
      "outputs": [
        {
          "output_type": "error",
          "ename": "SyntaxError",
          "evalue": "ignored",
          "traceback": [
            "\u001b[0;36m  File \u001b[0;32m\"<ipython-input-156-f03778aceed4>\"\u001b[0;36m, line \u001b[0;32m6\u001b[0m\n\u001b[0;31m    if point_card == True\u001b[0m\n\u001b[0m                         ^\u001b[0m\n\u001b[0;31mSyntaxError\u001b[0m\u001b[0;31m:\u001b[0m expected ':'\n"
          ]
        }
      ]
    },
    {
      "cell_type": "code",
      "source": [
        "#선생님 답안\n",
        "age = int(input('나이:'))\n",
        "point_card = bool(input('포인트 소지여부:'))\n",
        "count = int(input('영화 관람 티켓 갯수:'))\n",
        "\n",
        "if age < 18:\n",
        "  print('티켓을 판매할 수 없습니다')\n",
        "elif age >=60 or (point_card==True and count==5):\n",
        "  print('티켓은 5000원입니다')\n",
        "else:\n",
        "  print('티켓은 8000원입니다')"
      ],
      "metadata": {
        "colab": {
          "base_uri": "https://localhost:8080/"
        },
        "id": "VSTgkBCb-AHm",
        "outputId": "80e63948-6b4d-4e90-c278-a274499a61e1"
      },
      "execution_count": null,
      "outputs": [
        {
          "output_type": "stream",
          "name": "stdout",
          "text": [
            "나이:15\n",
            "포인트 소지여부:o\n",
            "영화 관람 티켓 갯수:1\n",
            "티켓을 판매할 수 없습니다\n"
          ]
        }
      ]
    },
    {
      "cell_type": "code",
      "source": [
        "#윤년 : 연도를 4로 나누어 떨어지고 100으로 나누어 떨어지거나\n",
        "#              400으로 나누어 떨어지면 된다\n",
        "year = int(input('year:'))\n",
        "month = int(input('month:'))\n",
        "end_day_31 = [1,3,5,7,8,10,12]\n",
        "end_day_30 = [4,6,9,11]\n",
        "day = 28\n",
        "check = ''\n",
        "\n",
        "if not(month >= 1 and month <=12) :\n",
        "  print('월은 1부터 12까지만 입력해 주세요')\n",
        "  sys.exit()#현재 시스템을 빠져나올 때 사용. 시스템 종료\n",
        "\n",
        "#if month==4 or month==6 or month==9 or month==11 :\n",
        "if month in end_day_30:\n",
        "   day=30\n",
        "else:\n",
        "   day=31\n",
        "\n",
        "if (year%4==0 and year%100!=0) or year%400==0 :\n",
        "   check='윤년'\n",
        "   if month==2:\n",
        "     day = 29\n",
        "\n",
        "else:\n",
        "   check='평년'\n",
        "   if month==2:\n",
        "     day = 28\n",
        "\n",
        "\n",
        "print('{}년도 {}월은 평년, 마지막일 {}일입니다'.format(year, month, day))\n"
      ],
      "metadata": {
        "colab": {
          "base_uri": "https://localhost:8080/"
        },
        "id": "i2Ma-cziCoIV",
        "outputId": "4741031d-63ac-482c-b3bc-89d88e39a540"
      },
      "execution_count": null,
      "outputs": [
        {
          "output_type": "stream",
          "name": "stdout",
          "text": [
            "year:2013\n",
            "month:11\n",
            "2013년도 11월은 평년, 마지막일 30일입니다\n"
          ]
        }
      ]
    },
    {
      "cell_type": "markdown",
      "source": [
        "##반복문 : while\n",
        "반복문에서 else는 반복문이 완벽하게 끝났을 때 실행된다.\n",
        "대부분의 프로그래밍 언어는 while과 for을 지원한다.\n",
        "else\n",
        "  -if-else\n",
        "  -try-except-else-finally\n",
        "  -while-else\n",
        "```\n",
        "while 조건식:\n",
        "  수행할 문장\n",
        "else:\n",
        "  수행할 문장  \n",
        "```\n"
      ],
      "metadata": {
        "id": "uDMNIBxqNFAT"
      }
    },
    {
      "cell_type": "code",
      "source": [
        "#while문이 완벽하게 돌았으므로 end가 출력된다.\n",
        "a = 10\n",
        "while a > 5 :\n",
        "  a -= 1 #a = a - 1\n",
        "  print(a)\n",
        "else:\n",
        "  print('end')"
      ],
      "metadata": {
        "colab": {
          "base_uri": "https://localhost:8080/"
        },
        "id": "ObbP8u7XgQLO",
        "outputId": "470e0bc8-3e53-4bac-c263-e3cc35c081d1"
      },
      "execution_count": null,
      "outputs": [
        {
          "output_type": "stream",
          "name": "stdout",
          "text": [
            "9\n",
            "8\n",
            "7\n",
            "6\n",
            "5\n",
            "end\n"
          ]
        }
      ]
    },
    {
      "cell_type": "code",
      "source": [
        "#while문을 강제적으로 빠져나왔기 때문에 else영역을 실행하지 않는다.\n",
        "a = 10\n",
        "while a > 5 :\n",
        "  a -= 1 #a = a - 1\n",
        "  print(a)\n",
        "  if a==5:\n",
        "    break #반복문을 강제적으로 빠져나올 때 사용한다.->반복문을 중단시킨다.\n",
        "else:\n",
        "  print('end')#else 생략 가능?"
      ],
      "metadata": {
        "colab": {
          "base_uri": "https://localhost:8080/"
        },
        "id": "y8JGpye_hhWh",
        "outputId": "ec0e4085-62c2-4c7d-993f-d85b8da16b12"
      },
      "execution_count": null,
      "outputs": [
        {
          "output_type": "stream",
          "name": "stdout",
          "text": [
            "9\n",
            "8\n",
            "7\n",
            "6\n",
            "5\n"
          ]
        }
      ]
    },
    {
      "cell_type": "code",
      "source": [
        "# continue는 다음 루프(조건식)로 바로 넘어간다.\n",
        "#반복문을 중단하지는 않으므로 else문이 실행된다.\n",
        "a = 10\n",
        "while a > 5 :\n",
        "   a -= 1\n",
        "   if a % 2 == 0 :\n",
        "    continue\n",
        "   print(a)\n",
        "else:\n",
        "  print('end')"
      ],
      "metadata": {
        "colab": {
          "base_uri": "https://localhost:8080/"
        },
        "id": "JPre_eVfi5vc",
        "outputId": "377200b0-494d-4b6c-f324-175ea0f60edd"
      },
      "execution_count": null,
      "outputs": [
        {
          "output_type": "stream",
          "name": "stdout",
          "text": [
            "9\n",
            "7\n",
            "5\n",
            "end\n"
          ]
        }
      ]
    },
    {
      "cell_type": "code",
      "source": [
        "# 1부터 10까지 출력하는 프로그램\n",
        "a = 1\n",
        "while a <= 10 :\n",
        "  print(a)\n",
        "  a = a + 1 #a += 1\n",
        "  #a++ : 파이썬에선 이런 형식 지원 안한다."
      ],
      "metadata": {
        "colab": {
          "base_uri": "https://localhost:8080/"
        },
        "id": "60L4A4n_lDtc",
        "outputId": "27c8b45d-887a-4253-bb7a-fb6c5d5b291a"
      },
      "execution_count": null,
      "outputs": [
        {
          "output_type": "stream",
          "name": "stdout",
          "text": [
            "1\n",
            "2\n",
            "3\n",
            "4\n",
            "5\n",
            "6\n",
            "7\n",
            "8\n",
            "9\n",
            "10\n"
          ]
        }
      ]
    },
    {
      "cell_type": "code",
      "source": [
        "# 1부터 10까지 출력하고 합계 구하는 프로그램 구현\n",
        "\n",
        "a = 1\n",
        "even = 0    #짝수\n",
        "odd = 0     #홀수\n",
        "while a <= 10 :\n",
        "  if a % 2 == 1 :    #홀수인가?\n",
        "     odd = odd + a   #odd += a\n",
        "  else:\n",
        "     even = even + a #even += a\n",
        "  a = a + 1          #a += 1\n",
        "\n",
        "print('짝수={}'.format(even))\n",
        "print('홀수={}'.format(odd))"
      ],
      "metadata": {
        "colab": {
          "base_uri": "https://localhost:8080/"
        },
        "id": "tudDhWq6l7hR",
        "outputId": "086e4945-b330-4f0a-d6f3-e908d4a802ba"
      },
      "execution_count": null,
      "outputs": [
        {
          "output_type": "stream",
          "name": "stdout",
          "text": [
            "짝수=30\n",
            "홀수=25\n"
          ]
        }
      ]
    },
    {
      "cell_type": "markdown",
      "source": [
        "for문과 함께 사용되는 함수\n",
        " - for 변수 in range(시작번호, 마지막번호, 증감값):\n",
        "       실행구문\n",
        "\n",
        "   for 변수 in enumerate(sequence, start):\n",
        "       실행구문\n",
        "\n",
        "   for 변수 in zip(data1, data2,...):\n",
        "       실행구문        "
      ],
      "metadata": {
        "id": "tNr1P4YMs_WK"
      }
    },
    {
      "cell_type": "markdown",
      "source": [
        "###range\n"
      ],
      "metadata": {
        "id": "DnrI_xtEud5i"
      }
    },
    {
      "cell_type": "code",
      "source": [
        "#range(end)\n",
        "for i in range(5): # 0부터 5미만의 값이 1씩 증가해서 생성된다.\n",
        "  print(i)"
      ],
      "metadata": {
        "colab": {
          "base_uri": "https://localhost:8080/"
        },
        "id": "by-d-sGXuflR",
        "outputId": "19be8dad-dcd6-4ed0-b7fe-0f9fa6671074"
      },
      "execution_count": null,
      "outputs": [
        {
          "output_type": "stream",
          "name": "stdout",
          "text": [
            "0\n",
            "1\n",
            "2\n",
            "3\n",
            "4\n"
          ]
        }
      ]
    },
    {
      "cell_type": "code",
      "source": [
        "#range(start,end)\n",
        "for i in range(1, 5): #1부터 5미만의 값이 1씩 증가해서 생성된다.\n",
        "  print(i)"
      ],
      "metadata": {
        "colab": {
          "base_uri": "https://localhost:8080/"
        },
        "id": "jF5byk2zvKVJ",
        "outputId": "20a65834-9584-4dc0-bdd1-8c39a4a8f9d2"
      },
      "execution_count": null,
      "outputs": [
        {
          "output_type": "stream",
          "name": "stdout",
          "text": [
            "1\n",
            "2\n",
            "3\n",
            "4\n"
          ]
        }
      ]
    },
    {
      "cell_type": "code",
      "source": [
        "#range(start,end, step)\n",
        "for i in range(1, 5, 2): #1부터 5미만의 값이 2씩 증가해서 생성된다.\n",
        "  print(i)"
      ],
      "metadata": {
        "colab": {
          "base_uri": "https://localhost:8080/"
        },
        "id": "q_smAyFZvZ-Z",
        "outputId": "24108f5f-58fd-4953-b153-3452bb0b878d"
      },
      "execution_count": null,
      "outputs": [
        {
          "output_type": "stream",
          "name": "stdout",
          "text": [
            "1\n",
            "3\n"
          ]
        }
      ]
    },
    {
      "cell_type": "markdown",
      "source": [
        "#### enumerate 함수\n",
        " - enumerate()함수는 인덱스와 객체를 동시에 저장할 수 있는 특징을 가진 for문을 좀더 효율적으로 사용하기 위한 함수이다.\n",
        " - enumerate()함수는 순서자료형(list, tuple, str)을 입력으로 받아 인덱스를 포함하는 enumerate 객체를 리턴한다.\n",
        " - enumerate([순서자료형], [시작값=0])의 형식을 가지며 순서자료형은 반복자가 가능한 객체가 입력도고 시작값은 입력시 해당수 부터 증가하며, 생략했을 경우 기본값은 0 이다."
      ],
      "metadata": {
        "id": "FdttfLzWwPp7"
      }
    },
    {
      "cell_type": "code",
      "source": [
        "for k in enumerate(['apple','python','microsoft']):\n",
        "  print(k)"
      ],
      "metadata": {
        "colab": {
          "base_uri": "https://localhost:8080/"
        },
        "id": "DUadOojWwf0k",
        "outputId": "13b63e2e-4afd-484c-89cc-962967138159"
      },
      "execution_count": null,
      "outputs": [
        {
          "output_type": "stream",
          "name": "stdout",
          "text": [
            "(0, 'apple')\n",
            "(1, 'python')\n",
            "(2, 'microsoft')\n"
          ]
        }
      ]
    },
    {
      "cell_type": "code",
      "source": [
        "for k,v in enumerate(['apple','python','microsoft']):\n",
        "  print(k, v)"
      ],
      "metadata": {
        "colab": {
          "base_uri": "https://localhost:8080/"
        },
        "id": "J9ayPR2Ew11B",
        "outputId": "ec1b02f8-872d-4e2f-f502-976ff82a8eaa"
      },
      "execution_count": null,
      "outputs": [
        {
          "output_type": "stream",
          "name": "stdout",
          "text": [
            "0 apple\n",
            "1 python\n",
            "2 microsoft\n"
          ]
        }
      ]
    },
    {
      "cell_type": "code",
      "source": [
        "for k,v in enumerate(['apple','python','microsoft'], 1):\n",
        "  print(k, v)"
      ],
      "metadata": {
        "colab": {
          "base_uri": "https://localhost:8080/"
        },
        "id": "3CuiWpIMw_oI",
        "outputId": "dd909cff-e7d9-4165-f056-06c2e90b0622"
      },
      "execution_count": null,
      "outputs": [
        {
          "output_type": "stream",
          "name": "stdout",
          "text": [
            "1 apple\n",
            "2 python\n",
            "3 microsoft\n"
          ]
        }
      ]
    },
    {
      "cell_type": "code",
      "source": [
        "\n",
        "for k in enumerate(['one:10','two:20']):\n",
        "  print(k)"
      ],
      "metadata": {
        "colab": {
          "base_uri": "https://localhost:8080/"
        },
        "id": "AgeNoGGwxN7o",
        "outputId": "453ef49d-94be-4a28-fdd6-332c5fb35bf2"
      },
      "execution_count": null,
      "outputs": [
        {
          "output_type": "stream",
          "name": "stdout",
          "text": [
            "(0, 'one:10')\n",
            "(1, 'two:20')\n"
          ]
        }
      ]
    },
    {
      "cell_type": "code",
      "source": [
        "a = (['one:10','two:20'])\n",
        "for k,v in enumerate(a):\n",
        "  print(k, a)"
      ],
      "metadata": {
        "colab": {
          "base_uri": "https://localhost:8080/"
        },
        "id": "7tk_t9rrxo3y",
        "outputId": "e37ce6ee-6b15-424f-fdc9-9340b2c3a5ef"
      },
      "execution_count": null,
      "outputs": [
        {
          "output_type": "stream",
          "name": "stdout",
          "text": [
            "0 ['one:10', 'two:20']\n",
            "1 ['one:10', 'two:20']\n"
          ]
        }
      ]
    },
    {
      "cell_type": "markdown",
      "source": [
        "###zip\n",
        " - 매개인자로 여러 목록을 받아 각 목록의 요소를 튜플에 담아 목록에 저장한다."
      ],
      "metadata": {
        "id": "zLIQ0WHRycnD"
      }
    },
    {
      "cell_type": "code",
      "source": [
        "a = [1,2,3,4,5]\n",
        "b = ['a','b','c','d','e']\n",
        "\n",
        "for x in zip(a,b):\n",
        "  print(x)"
      ],
      "metadata": {
        "colab": {
          "base_uri": "https://localhost:8080/"
        },
        "id": "oDlhOabdylMp",
        "outputId": "3424c2ba-c01a-49c7-e30b-c86063ce3684"
      },
      "execution_count": null,
      "outputs": [
        {
          "output_type": "stream",
          "name": "stdout",
          "text": [
            "(1, 'a')\n",
            "(2, 'b')\n",
            "(3, 'c')\n",
            "(4, 'd')\n",
            "(5, 'e')\n"
          ]
        }
      ]
    },
    {
      "cell_type": "code",
      "source": [
        "a = []\n",
        "for x in range(2,10):\n",
        "  a.append(x)\n",
        "\n",
        "print(a)"
      ],
      "metadata": {
        "colab": {
          "base_uri": "https://localhost:8080/"
        },
        "id": "Av9Y7lx40AiR",
        "outputId": "3ec65f1b-f832-4645-d4af-8fcf0d29ca0f"
      },
      "execution_count": null,
      "outputs": [
        {
          "output_type": "stream",
          "name": "stdout",
          "text": [
            "[2, 3, 4, 5, 6, 7, 8, 9]\n"
          ]
        }
      ]
    },
    {
      "cell_type": "code",
      "source": [
        "a = []\n",
        "for x in range(1,10): # 2\n",
        "  for y in range(2,10): # 3\n",
        "    print('{} X {} = {}'.format(y, x, x*y), end= '\\t')\n",
        "  print()"
      ],
      "metadata": {
        "colab": {
          "base_uri": "https://localhost:8080/"
        },
        "id": "AhyYymgX0g8Y",
        "outputId": "c5aca329-21ac-4694-a8ec-08a024743b8e"
      },
      "execution_count": null,
      "outputs": [
        {
          "output_type": "stream",
          "name": "stdout",
          "text": [
            "2 X 1 = 2\t3 X 1 = 3\t4 X 1 = 4\t5 X 1 = 5\t6 X 1 = 6\t7 X 1 = 7\t8 X 1 = 8\t9 X 1 = 9\t\n",
            "2 X 2 = 4\t3 X 2 = 6\t4 X 2 = 8\t5 X 2 = 10\t6 X 2 = 12\t7 X 2 = 14\t8 X 2 = 16\t9 X 2 = 18\t\n",
            "2 X 3 = 6\t3 X 3 = 9\t4 X 3 = 12\t5 X 3 = 15\t6 X 3 = 18\t7 X 3 = 21\t8 X 3 = 24\t9 X 3 = 27\t\n",
            "2 X 4 = 8\t3 X 4 = 12\t4 X 4 = 16\t5 X 4 = 20\t6 X 4 = 24\t7 X 4 = 28\t8 X 4 = 32\t9 X 4 = 36\t\n",
            "2 X 5 = 10\t3 X 5 = 15\t4 X 5 = 20\t5 X 5 = 25\t6 X 5 = 30\t7 X 5 = 35\t8 X 5 = 40\t9 X 5 = 45\t\n",
            "2 X 6 = 12\t3 X 6 = 18\t4 X 6 = 24\t5 X 6 = 30\t6 X 6 = 36\t7 X 6 = 42\t8 X 6 = 48\t9 X 6 = 54\t\n",
            "2 X 7 = 14\t3 X 7 = 21\t4 X 7 = 28\t5 X 7 = 35\t6 X 7 = 42\t7 X 7 = 49\t8 X 7 = 56\t9 X 7 = 63\t\n",
            "2 X 8 = 16\t3 X 8 = 24\t4 X 8 = 32\t5 X 8 = 40\t6 X 8 = 48\t7 X 8 = 56\t8 X 8 = 64\t9 X 8 = 72\t\n",
            "2 X 9 = 18\t3 X 9 = 27\t4 X 9 = 36\t5 X 9 = 45\t6 X 9 = 54\t7 X 9 = 63\t8 X 9 = 72\t9 X 9 = 81\t\n"
          ]
        }
      ]
    },
    {
      "cell_type": "code",
      "source": [
        "a = []\n",
        "for x in range(1,10): # 2\n",
        "  for y in range(2,10): # 3\n",
        "    #print('{} X {} = {}'.format(y, x, x*y), end= '\\t')\n",
        "    a.append('{} X {} = {}'.format(x, y, x*y))\n",
        "    a.append('\\t')\n",
        "  a.append('\\n')\n",
        "\n",
        "print(a)"
      ],
      "metadata": {
        "colab": {
          "base_uri": "https://localhost:8080/"
        },
        "id": "rQCNzlmi5bEA",
        "outputId": "591907ad-c772-45d9-bec7-18bc2b26974c"
      },
      "execution_count": null,
      "outputs": [
        {
          "output_type": "stream",
          "name": "stdout",
          "text": [
            "['1 X 2 = 2', '\\t', '1 X 3 = 3', '\\t', '1 X 4 = 4', '\\t', '1 X 5 = 5', '\\t', '1 X 6 = 6', '\\t', '1 X 7 = 7', '\\t', '1 X 8 = 8', '\\t', '1 X 9 = 9', '\\t', '\\n', '2 X 2 = 4', '\\t', '2 X 3 = 6', '\\t', '2 X 4 = 8', '\\t', '2 X 5 = 10', '\\t', '2 X 6 = 12', '\\t', '2 X 7 = 14', '\\t', '2 X 8 = 16', '\\t', '2 X 9 = 18', '\\t', '\\n', '3 X 2 = 6', '\\t', '3 X 3 = 9', '\\t', '3 X 4 = 12', '\\t', '3 X 5 = 15', '\\t', '3 X 6 = 18', '\\t', '3 X 7 = 21', '\\t', '3 X 8 = 24', '\\t', '3 X 9 = 27', '\\t', '\\n', '4 X 2 = 8', '\\t', '4 X 3 = 12', '\\t', '4 X 4 = 16', '\\t', '4 X 5 = 20', '\\t', '4 X 6 = 24', '\\t', '4 X 7 = 28', '\\t', '4 X 8 = 32', '\\t', '4 X 9 = 36', '\\t', '\\n', '5 X 2 = 10', '\\t', '5 X 3 = 15', '\\t', '5 X 4 = 20', '\\t', '5 X 5 = 25', '\\t', '5 X 6 = 30', '\\t', '5 X 7 = 35', '\\t', '5 X 8 = 40', '\\t', '5 X 9 = 45', '\\t', '\\n', '6 X 2 = 12', '\\t', '6 X 3 = 18', '\\t', '6 X 4 = 24', '\\t', '6 X 5 = 30', '\\t', '6 X 6 = 36', '\\t', '6 X 7 = 42', '\\t', '6 X 8 = 48', '\\t', '6 X 9 = 54', '\\t', '\\n', '7 X 2 = 14', '\\t', '7 X 3 = 21', '\\t', '7 X 4 = 28', '\\t', '7 X 5 = 35', '\\t', '7 X 6 = 42', '\\t', '7 X 7 = 49', '\\t', '7 X 8 = 56', '\\t', '7 X 9 = 63', '\\t', '\\n', '8 X 2 = 16', '\\t', '8 X 3 = 24', '\\t', '8 X 4 = 32', '\\t', '8 X 5 = 40', '\\t', '8 X 6 = 48', '\\t', '8 X 7 = 56', '\\t', '8 X 8 = 64', '\\t', '8 X 9 = 72', '\\t', '\\n', '9 X 2 = 18', '\\t', '9 X 3 = 27', '\\t', '9 X 4 = 36', '\\t', '9 X 5 = 45', '\\t', '9 X 6 = 54', '\\t', '9 X 7 = 63', '\\t', '9 X 8 = 72', '\\t', '9 X 9 = 81', '\\t', '\\n']\n"
          ]
        }
      ]
    },
    {
      "cell_type": "markdown",
      "source": [
        "##compression\n",
        " - compression이란 iterable한 오브젝트를 생성하기 위한 방법 중 하나이다.\n",
        "   - List Compression(LC)\n",
        "   - Set compression(SC)\n",
        "   - Dict Compression(DC)"
      ],
      "metadata": {
        "id": "0QZWCP-D6rk6"
      }
    },
    {
      "cell_type": "markdown",
      "source": [
        "### List Compression\n",
        " - List 정의시 값을 정하지 않고 호출시 리스트 내의 값들이 처리되도록 구성\n",
        " - A =[표현식 for in 반복가능객체(interable)]\n",
        " - A =[표현식 for in 반복가능객체(interable) if 논리식]\n",
        " - A =[표현식 for in 반복가능객체(interable)1 for 항목2 in 반복가능객체(interable)2 if 논리식]"
      ],
      "metadata": {
        "id": "97OSkHhF6g-b"
      }
    },
    {
      "cell_type": "code",
      "source": [
        "s = []\n",
        "for x in range(10):\n",
        "  s.append(x**2)\n",
        "print(s)"
      ],
      "metadata": {
        "colab": {
          "base_uri": "https://localhost:8080/"
        },
        "id": "b_j1WvOy7MFq",
        "outputId": "97b0ac46-3988-402d-e16a-6d65107a99d8"
      },
      "execution_count": null,
      "outputs": [
        {
          "output_type": "stream",
          "name": "stdout",
          "text": [
            "[0, 1, 4, 9, 16, 25, 36, 49, 64, 81]\n"
          ]
        }
      ]
    },
    {
      "cell_type": "code",
      "source": [
        "s = [x**2 for x in range(10)]\n",
        "print(s)"
      ],
      "metadata": {
        "colab": {
          "base_uri": "https://localhost:8080/"
        },
        "id": "mRXObLEX8OsI",
        "outputId": "6c1c7643-662e-4bfb-82f1-7e02e11e021f"
      },
      "execution_count": null,
      "outputs": [
        {
          "output_type": "stream",
          "name": "stdout",
          "text": [
            "[0, 1, 4, 9, 16, 25, 36, 49, 64, 81]\n"
          ]
        }
      ]
    },
    {
      "cell_type": "code",
      "source": [
        "s = []\n",
        "for x in range(10):\n",
        " if x % 2 == 0:\n",
        "  s.append(x**2)\n",
        "print(s)"
      ],
      "metadata": {
        "colab": {
          "base_uri": "https://localhost:8080/"
        },
        "id": "XAAddkwB8_TQ",
        "outputId": "61ebfe69-a55b-459d-86e7-8fff06e0f537"
      },
      "execution_count": null,
      "outputs": [
        {
          "output_type": "stream",
          "name": "stdout",
          "text": [
            "[0, 4, 16, 36, 64]\n"
          ]
        }
      ]
    },
    {
      "cell_type": "code",
      "source": [
        "s = [x**2 for x in range(10) if x % 2 == 0]\n",
        "print(s)"
      ],
      "metadata": {
        "colab": {
          "base_uri": "https://localhost:8080/"
        },
        "id": "bwhL_cH69bCx",
        "outputId": "f99e04c9-f2e9-40dc-b484-609c38e4a7d6"
      },
      "execution_count": null,
      "outputs": [
        {
          "output_type": "stream",
          "name": "stdout",
          "text": [
            "[0, 4, 16, 36, 64]\n"
          ]
        }
      ]
    },
    {
      "cell_type": "code",
      "source": [
        "s = []\n",
        "for i in range(1,3):\n",
        "  for j in range(4,8):\n",
        "    print('{}{}'.format(i,j))\n",
        "    s.append((i,j))\n",
        "print(s)"
      ],
      "metadata": {
        "colab": {
          "base_uri": "https://localhost:8080/"
        },
        "id": "B_Pipfr29fcx",
        "outputId": "89ed4168-5851-46a8-ced5-605886914d3f"
      },
      "execution_count": null,
      "outputs": [
        {
          "output_type": "stream",
          "name": "stdout",
          "text": [
            "14\n",
            "15\n",
            "16\n",
            "17\n",
            "24\n",
            "25\n",
            "26\n",
            "27\n",
            "[(1, 4), (1, 5), (1, 6), (1, 7), (2, 4), (2, 5), (2, 6), (2, 7)]\n"
          ]
        }
      ]
    },
    {
      "cell_type": "code",
      "source": [
        "s = [ (i,j) for i in range(1,3) for j in range(4,8) ]\n",
        "print(s)"
      ],
      "metadata": {
        "colab": {
          "base_uri": "https://localhost:8080/"
        },
        "id": "4Feu74VP97bo",
        "outputId": "8b5d4c69-e9f6-4506-9b6b-aafe1a436de5"
      },
      "execution_count": null,
      "outputs": [
        {
          "output_type": "stream",
          "name": "stdout",
          "text": [
            "[(1, 4), (1, 5), (1, 6), (1, 7), (2, 4), (2, 5), (2, 6), (2, 7)]\n"
          ]
        }
      ]
    },
    {
      "cell_type": "markdown",
      "source": [
        "##총판금액을 구하는 프로그램(list comrehension 사용)\n",
        "cnt=[1,1,2,1]\n",
        "\n",
        "prod=[500,1000,400,600]"
      ],
      "metadata": {
        "id": "GnfU4vJe-0ir"
      }
    },
    {
      "cell_type": "code",
      "source": [
        "del sum\n",
        "del print"
      ],
      "metadata": {
        "colab": {
          "base_uri": "https://localhost:8080/",
          "height": 201
        },
        "id": "COlcc7ue_5Zx",
        "outputId": "9f74b9d1-579e-4b96-8b6b-d933e6494d2e"
      },
      "execution_count": null,
      "outputs": [
        {
          "output_type": "error",
          "ename": "NameError",
          "evalue": "ignored",
          "traceback": [
            "\u001b[0;31m---------------------------------------------------------------------------\u001b[0m",
            "\u001b[0;31mNameError\u001b[0m                                 Traceback (most recent call last)",
            "\u001b[0;32m<ipython-input-138-6b88e32ccd0c>\u001b[0m in \u001b[0;36m<cell line: 2>\u001b[0;34m()\u001b[0m\n\u001b[1;32m      1\u001b[0m \u001b[0;32mdel\u001b[0m \u001b[0msum\u001b[0m\u001b[0;34m\u001b[0m\u001b[0;34m\u001b[0m\u001b[0m\n\u001b[0;32m----> 2\u001b[0;31m \u001b[0;32mdel\u001b[0m \u001b[0mprint\u001b[0m\u001b[0;34m\u001b[0m\u001b[0;34m\u001b[0m\u001b[0m\n\u001b[0m",
            "\u001b[0;31mNameError\u001b[0m: name 'print' is not defined"
          ]
        }
      ]
    },
    {
      "cell_type": "code",
      "source": [
        "s = []\n",
        "cnt=[1,1,2,1]\n",
        "prod=[500,1000,400,600]\n",
        "for i,j in zip(cnt, prod):\n",
        "  s.append(i*j)\n",
        "\n",
        "print(sum(s))"
      ],
      "metadata": {
        "colab": {
          "base_uri": "https://localhost:8080/"
        },
        "id": "Jf1qaXzL-pfY",
        "outputId": "255af320-4718-4d72-f551-d816adfb8a74"
      },
      "execution_count": null,
      "outputs": [
        {
          "output_type": "stream",
          "name": "stdout",
          "text": [
            "2900\n"
          ]
        }
      ]
    },
    {
      "cell_type": "code",
      "source": [
        "cnt=[1,1,2,1]\n",
        "prod=[500,1000,400,600]\n",
        "s = sum([i*j  for i,j in zip(cnt, prod) ])\n",
        "print(s)"
      ],
      "metadata": {
        "colab": {
          "base_uri": "https://localhost:8080/"
        },
        "id": "VeGToqteAFGc",
        "outputId": "3a9c5bba-1c39-4c08-c60f-fc32b921e3a8"
      },
      "execution_count": null,
      "outputs": [
        {
          "output_type": "stream",
          "name": "stdout",
          "text": [
            "2900\n"
          ]
        }
      ]
    },
    {
      "cell_type": "markdown",
      "source": [
        "'e'가 포함되어 있는 과일들만 추출해서 대문자로 출력하는 프로그램을 구현하세요.\n",
        "\n",
        "fruits = ['apple', 'banana', 'cherry', 'grape', 'kiwi', 'tomato']\n",
        "\n",
        "[출력결과]\n",
        "['APPLE', 'CHERRY', 'GRAPE']"
      ],
      "metadata": {
        "id": "dIM5RDFNAuCU"
      }
    },
    {
      "cell_type": "code",
      "source": [
        "fruits = ['apple', 'banana', 'cherry', 'grape', 'kiwi', 'tomato']\n",
        "s = ([ item.upper() for item in fruits if 'e' in item ])\n",
        "print(s)\n"
      ],
      "metadata": {
        "colab": {
          "base_uri": "https://localhost:8080/"
        },
        "id": "myJrFvMDA4eC",
        "outputId": "45e82a6b-5cdb-44b2-e51e-2fc9a008ae73"
      },
      "execution_count": null,
      "outputs": [
        {
          "output_type": "stream",
          "name": "stdout",
          "text": [
            "['APPLE', 'CHERRY', 'GRAPE']\n"
          ]
        }
      ]
    },
    {
      "cell_type": "markdown",
      "source": [
        "제어문이나 comprehension을 이용한 문제풀이\n",
        "\n",
        "[문제1]  \n",
        "리스트에 저장된 문자열 중에서 길이가 5인 것들만 리스트 형태로 출력하도록 구현하세요.  \n",
        "\n",
        "a= ['alpha', 'bravo', 'charlie', 'delta', 'echo', 'foxtrot', 'golf', 'hotel', 'india']  \n",
        "\n",
        "[출력결과]     \n",
        "['alpha', 'bravo', 'delta', 'hotel', 'india']"
      ],
      "metadata": {
        "id": "SFA0mqWqG407"
      }
    },
    {
      "cell_type": "code",
      "source": [
        "a = ['alpha', 'bravo', 'charlie', 'delta', 'echo', 'foxtrot', 'golf', 'hotel', 'india']\n",
        "b = [g for g in a if len(g) ==5]\n",
        "\n",
        "b"
      ],
      "metadata": {
        "colab": {
          "base_uri": "https://localhost:8080/"
        },
        "id": "2QKudC9XHRXj",
        "outputId": "b5bfcebd-cb0b-4910-82a5-beb130a04272"
      },
      "execution_count": null,
      "outputs": [
        {
          "output_type": "execute_result",
          "data": {
            "text/plain": [
              "['alpha', 'bravo', 'delta', 'hotel', 'india']"
            ]
          },
          "metadata": {},
          "execution_count": 1
        }
      ]
    },
    {
      "cell_type": "markdown",
      "source": [
        "[문제2]    \n",
        "가로 크기를 저장한 리스트를 활용해서 가로 크기가 불규칙한  리스트를 생성하도록 프로그램을 구현하세요.\n",
        "\n",
        "a = [3, 1,3, 2, 5]  \n",
        "\n",
        "\n",
        "[출력결과]  \n",
        "[[0, 0, 0], [0], [0, 0, 0], [0, 0], [0, 0, 0, 0, 0]]\n"
      ],
      "metadata": {
        "id": "fDTCuWNUJjpR"
      }
    },
    {
      "cell_type": "code",
      "source": [
        "a = [3, 1,3, 2, 5]\n",
        "b = [[0]*g for g in a]\n",
        "b"
      ],
      "metadata": {
        "id": "LUf2R9uMJkrq",
        "colab": {
          "base_uri": "https://localhost:8080/"
        },
        "outputId": "54ad6a24-ba7b-4695-eecd-78d39c220ba6"
      },
      "execution_count": null,
      "outputs": [
        {
          "output_type": "execute_result",
          "data": {
            "text/plain": [
              "[[0, 0, 0], [0], [0, 0, 0], [0, 0], [0, 0, 0, 0, 0]]"
            ]
          },
          "metadata": {},
          "execution_count": 4
        }
      ]
    },
    {
      "cell_type": "markdown",
      "source": [
        "[문제3]    \n",
        "포트폴리오의 총 비용을 계산하는 프로그램을 구현하세요.   \n",
        "\n",
        "portfolio = [{'name':'AA', 'shares':100, 'price':32.20},{'name':'IBM', 'shares':50, 'price':91.10},{'name':'CAT', 'shares':150, 'price':83.44},{'name':'MSFT', 'shares':200, 'price':51.23},{'name':'GE', 'shares':95, 'price':40.37},{'name':'MSFT', 'shares':50, 'price':65.10},{'name':'IBM', 'shares':100, 'price':70.44} ]     \n",
        "\n",
        "[출력결과]  \n",
        "44671.15"
      ],
      "metadata": {
        "id": "PrlH-As5JlTK"
      }
    },
    {
      "cell_type": "code",
      "source": [
        "portfolio = [{'name':'AA', 'shares':100, 'price':32.20},{'name':'IBM', 'shares':50, 'price':91.10},{'name':'CAT', 'shares':150, 'price':83.44},{'name':'MSFT', 'shares':200, 'price':51.23},{'name':'GE', 'shares':95, 'price':40.37},{'name':'MSFT', 'shares':50, 'price':65.10},{'name':'IBM', 'shares':100, 'price':70.44} ]\n",
        "cost = sum([g['shares'] * g['price'] for g in portfolio])\n",
        "cost"
      ],
      "metadata": {
        "id": "nX2ObeW2JoOc",
        "colab": {
          "base_uri": "https://localhost:8080/"
        },
        "outputId": "8d3c8d60-613f-4a39-9f2a-555a42ad7604"
      },
      "execution_count": null,
      "outputs": [
        {
          "output_type": "execute_result",
          "data": {
            "text/plain": [
              "44671.15"
            ]
          },
          "metadata": {},
          "execution_count": 7
        }
      ]
    },
    {
      "cell_type": "markdown",
      "source": [
        "[문제4]  \n",
        "포트폴리오에서 100주 이상 보유한 종목의 리스트를 출력하는 프로그램을 구현하세요.    \n",
        "portfolio = [{'name':'AA', 'shares':100, 'price':32.20},{'name':'IBM', 'shares':50, 'price':91.10},{'name':'CAT', 'shares':150, 'price':83.44},{'name':'MSFT', 'shares':200, 'price':51.23},{'name':'GE', 'shares':95, 'price':40.37},{'name':'MSFT', 'shares':50, 'price':65.10},{'name':'IBM', 'shares':100, 'price':70.44} ]  \n",
        "\n",
        "\n",
        "[출력결과]    \n",
        "[{'name': 'AA', 'shares': 100, 'price': 32.2},\n",
        " {'name': 'CAT', 'shares': 150, 'price': 83.44},\n",
        " {'name': 'MSFT', 'shares': 200, 'price': 51.23},\n",
        " {'name': 'IBM', 'shares': 100, 'price': 70.44}]\n"
      ],
      "metadata": {
        "id": "DP_b4KqwJoiU"
      }
    },
    {
      "cell_type": "code",
      "source": [
        "portfolio = [{'name':'AA', 'shares':100, 'price':32.20},{'name':'IBM', 'shares':50, 'price':91.10},{'name':'CAT', 'shares':150, 'price':83.44},{'name':'MSFT', 'shares':200, 'price':51.23},{'name':'GE', 'shares':95, 'price':40.37},{'name':'MSFT', 'shares':50, 'price':65.10},{'name':'IBM', 'shares':100, 'price':70.44} ]\n",
        "list = [g for g in portfolio if g['shares'] >= 100]\n",
        "list\n"
      ],
      "metadata": {
        "id": "gewhDM2XJriC",
        "colab": {
          "base_uri": "https://localhost:8080/"
        },
        "outputId": "e06d4d7c-11bf-477f-b370-d10851892796"
      },
      "execution_count": null,
      "outputs": [
        {
          "output_type": "execute_result",
          "data": {
            "text/plain": [
              "[{'name': 'AA', 'shares': 100, 'price': 32.2},\n",
              " {'name': 'CAT', 'shares': 150, 'price': 83.44},\n",
              " {'name': 'MSFT', 'shares': 200, 'price': 51.23},\n",
              " {'name': 'IBM', 'shares': 100, 'price': 70.44}]"
            ]
          },
          "metadata": {},
          "execution_count": 10
        }
      ]
    },
    {
      "cell_type": "markdown",
      "source": [
        "[문제5]\n",
        "\n",
        "보유한 MSFT와 IBM주식 전체 리스트를 출력하는 프로그램을 구현하세요.  \n",
        "\n",
        "portfolio = [{'name':'AA', 'shares':100, 'price':32.20},{'name':'IBM', 'shares':50, 'price':91.10},{'name':'CAT', 'shares':150, 'price':83.44},{'name':'MSFT', 'shares':200, 'price':51.23},{'name':'GE', 'shares':95, 'price':40.37},{'name':'MSFT', 'shares':50, 'price':65.10},{'name':'IBM', 'shares':100, 'price':70.44} ]  \n",
        "\n",
        "[출력결과]   \n",
        "[{'name': 'IBM', 'price': 91.1, 'shares': 50},\n",
        " {'name': 'MSFT', 'price': 51.23, 'shares': 200},\n",
        " {'name': 'MSFT', 'price': 65.1, 'shares': 50},\n",
        " {'name': 'IBM', 'price': 70.44, 'shares': 100}]  \n",
        "\n"
      ],
      "metadata": {
        "id": "wmqqGDp1Jr8t"
      }
    },
    {
      "cell_type": "code",
      "source": [
        "portfolio = [{'name':'AA', 'shares':100, 'price':32.20},{'name':'IBM', 'shares':50, 'price':91.10},{'name':'CAT', 'shares':150, 'price':83.44},{'name':'MSFT', 'shares':200, 'price':51.23},{'name':'GE', 'shares':95, 'price':40.37},{'name':'MSFT', 'shares':50, 'price':65.10},{'name':'IBM', 'shares':100, 'price':70.44} ]\n",
        "list = [ s for s in portfolio if s['name'] in {'MSFT','IBM'} ]\n",
        "list"
      ],
      "metadata": {
        "id": "CPrj_TGjJuah"
      },
      "execution_count": null,
      "outputs": []
    },
    {
      "cell_type": "markdown",
      "source": [
        "[문제6]\n",
        "보유 종목 중 가격이 10,000달러가 넘는 것의 리스트를 구현하는 프로그램을 구현하세요.  \n",
        "portfolio = [{'name':'AA', 'shares':100, 'price':32.20},{'name':'IBM', 'shares':50, 'price':91.10},{'name':'CAT', 'shares':150, 'price':83.44},{'name':'MSFT', 'shares':200, 'price':51.23},{'name':'GE', 'shares':95, 'price':40.37},{'name':'MSFT', 'shares':50, 'price':65.10},{'name':'IBM', 'shares':100, 'price':70.44} ]\n",
        "\n",
        "[출력결과]    \n",
        "[{'name': 'CAT', 'price': 83.44, 'shares': 150},\n",
        " {'name': 'MSFT', 'price': 51.23, 'shares': 200}]"
      ],
      "metadata": {
        "id": "GH8NdAD3Ju3D"
      }
    },
    {
      "cell_type": "code",
      "source": [
        "portfolio = [{'name':'AA', 'shares':100, 'price':32.20},{'name':'IBM', 'shares':50, 'price':91.10},{'name':'CAT', 'shares':150, 'price':83.44},{'name':'MSFT', 'shares':200, 'price':51.23},{'name':'GE', 'shares':95, 'price':40.37},{'name':'MSFT', 'shares':50, 'price':65.10},{'name':'IBM', 'shares':100, 'price':70.44} ]\n",
        "list = [g for g in portfolio if g['shares'] * g['price'] > 10000]\n",
        "list"
      ],
      "metadata": {
        "id": "ItUI050-JxID",
        "colab": {
          "base_uri": "https://localhost:8080/"
        },
        "outputId": "09a8974a-7f2f-4915-dce9-adddcb1bdfd8"
      },
      "execution_count": null,
      "outputs": [
        {
          "output_type": "execute_result",
          "data": {
            "text/plain": [
              "[{'name': 'CAT', 'shares': 150, 'price': 83.44},\n",
              " {'name': 'MSFT', 'shares': 200, 'price': 51.23}]"
            ]
          },
          "metadata": {},
          "execution_count": 39
        }
      ]
    },
    {
      "cell_type": "markdown",
      "source": [
        "[문제7]   \n",
        "portfolio에서 얻은 name과 shares를 가지고 튜플의 리스트 (name, shares)를 만드는 프로그램을 구현하세요.  \n",
        "portfolio = [{'name':'AA', 'shares':100, 'price':32.20},{'name':'IBM', 'shares':50, 'price':91.10},{'name':'CAT', 'shares':150, 'price':83.44},{'name':'MSFT', 'shares':200, 'price':51.23},{'name':'GE', 'shares':95, 'price':40.37},{'name':'MSFT', 'shares':50, 'price':65.10},{'name':'IBM', 'shares':100, 'price':70.44} ]\n",
        "\n",
        "[출력결과]   \n",
        "[('AA', 100),\n",
        " ('IBM', 50),\n",
        " ('CAT', 150),\n",
        " ('MSFT', 200),\n",
        " ('GE', 95),\n",
        " ('MSFT', 50),\n",
        " ('IBM', 100)]\n"
      ],
      "metadata": {
        "id": "OdhsUGfeJxji"
      }
    },
    {
      "cell_type": "code",
      "source": [
        "portfolio = [{'name':'AA', 'shares':100, 'price':32.20},{'name':'IBM', 'shares':50, 'price':91.10},{'name':'CAT', 'shares':150, 'price':83.44},{'name':'MSFT', 'shares':200, 'price':51.23},{'name':'GE', 'shares':95, 'price':40.37},{'name':'MSFT', 'shares':50, 'price':65.10},{'name':'IBM', 'shares':100, 'price':70.44} ]\n",
        "haha = [(g['name'],g['shares']) for g in portfolio]\n",
        "haha"
      ],
      "metadata": {
        "id": "HJ90vAAfJ0A6",
        "colab": {
          "base_uri": "https://localhost:8080/"
        },
        "outputId": "f3d652a0-6d02-4213-d4c8-a244a767c6f6"
      },
      "execution_count": null,
      "outputs": [
        {
          "output_type": "execute_result",
          "data": {
            "text/plain": [
              "[('AA', 100),\n",
              " ('IBM', 50),\n",
              " ('CAT', 150),\n",
              " ('MSFT', 200),\n",
              " ('GE', 95),\n",
              " ('MSFT', 50),\n",
              " ('IBM', 100)]"
            ]
          },
          "metadata": {},
          "execution_count": 27
        }
      ]
    },
    {
      "cell_type": "markdown",
      "source": [
        "[문제8]  \n",
        "\n",
        "리스트에서 int만 추출하는 프로그램을 구현하세요.  \n",
        "oldlist = [1, 2, 'A', False, 3]\n",
        "\n",
        "[출력결과]   \n",
        "[1, 2, 3]  \n"
      ],
      "metadata": {
        "id": "7dEiXMzYJ0ba"
      }
    },
    {
      "cell_type": "code",
      "source": [
        "oldlist = [1, 2, 'A', False, 3]\n",
        "hu = [g for g in oldlist if type(g)==int]\n",
        "hu"
      ],
      "metadata": {
        "id": "Wq1SXDfGJ20R",
        "colab": {
          "base_uri": "https://localhost:8080/"
        },
        "outputId": "34e24dd4-2d6a-4f99-ff5d-600fedf4763f"
      },
      "execution_count": null,
      "outputs": [
        {
          "output_type": "execute_result",
          "data": {
            "text/plain": [
              "[1, 2, 3]"
            ]
          },
          "metadata": {},
          "execution_count": 21
        }
      ]
    },
    {
      "cell_type": "markdown",
      "source": [
        "[문제9]   \n",
        "1부터 10까지의 홀수, 짝수로 출력하는 프로그램을 구현하세요.\n",
        "\n",
        "[출력결과]   \n",
        "{1: '홀수',\n",
        " 2: '짝수',\n",
        " 3: '홀수',\n",
        " 4: '짝수',\n",
        " 5: '홀수',\n",
        " 6: '짝수',\n",
        " 7: '홀수',\n",
        " 8: '짝수',\n",
        " 9: '홀수',\n",
        " 10: '짝수'}"
      ],
      "metadata": {
        "id": "Xcoo9w_gJ3PK"
      }
    },
    {
      "cell_type": "code",
      "source": [
        "result = {g:'짝수' if g%2==0 else '홀수' for g in range(1, 11)}\n",
        "result"
      ],
      "metadata": {
        "colab": {
          "base_uri": "https://localhost:8080/"
        },
        "id": "zTlgeCPKJ5zE",
        "outputId": "727aa430-aba2-4f0e-f3c3-ad9ff347dc7d"
      },
      "execution_count": null,
      "outputs": [
        {
          "output_type": "execute_result",
          "data": {
            "text/plain": [
              "{1: '홀수',\n",
              " 2: '짝수',\n",
              " 3: '홀수',\n",
              " 4: '짝수',\n",
              " 5: '홀수',\n",
              " 6: '짝수',\n",
              " 7: '홀수',\n",
              " 8: '짝수',\n",
              " 9: '홀수',\n",
              " 10: '짝수'}"
            ]
          },
          "metadata": {},
          "execution_count": 34
        }
      ]
    },
    {
      "cell_type": "markdown",
      "source": [
        "###dict comprehension\n",
        " - 사전 정의시 값을 정하지 않고 호출시 사전 내의 값들이 처리되도록 구성\n",
        " - A ={표현식 for(k,v) in 반복가능객체 if 논리식)"
      ],
      "metadata": {
        "id": "bLIWGr0Pjz7h"
      }
    },
    {
      "cell_type": "code",
      "source": [
        "d = {}\n",
        "for k, v in zip(range(9), range(9)):\n",
        "  d[k]=v\n",
        "print(d)"
      ],
      "metadata": {
        "colab": {
          "base_uri": "https://localhost:8080/"
        },
        "id": "wlxAMJIwkHs_",
        "outputId": "86f99d16-bc30-49a6-9b7e-496f34923c85"
      },
      "execution_count": null,
      "outputs": [
        {
          "output_type": "stream",
          "name": "stdout",
          "text": [
            "{0: 0, 1: 1, 2: 2, 3: 3, 4: 4, 5: 5, 6: 6, 7: 7, 8: 8}\n"
          ]
        }
      ]
    },
    {
      "cell_type": "code",
      "source": [
        "d = {k:v for k, v in zip(range(9), range(9))}\n",
        "print(d)"
      ],
      "metadata": {
        "colab": {
          "base_uri": "https://localhost:8080/"
        },
        "id": "JgCAgLI5kggC",
        "outputId": "aa9d2f8d-ab3e-4ed9-dd1c-e926d8464c1d"
      },
      "execution_count": null,
      "outputs": [
        {
          "output_type": "stream",
          "name": "stdout",
          "text": [
            "{0: 0, 1: 1, 2: 2, 3: 3, 4: 4, 5: 5, 6: 6, 7: 7, 8: 8}\n"
          ]
        }
      ]
    },
    {
      "cell_type": "code",
      "source": [
        "a = {'x':1, 'y':2, 'z':3}\n",
        "b = {'w':10, 'x':11, 'y':2}\n",
        "print(a.keys())\n",
        "print(b.keys())\n",
        "c = a.keys() - b.keys()\n",
        "print(c)\n",
        "print(type(c))\n",
        "d = c.pop();\n",
        "print('{}:{}'.format(d, a[d]))#pop: 완전히 꺼내오는 것.?"
      ],
      "metadata": {
        "colab": {
          "base_uri": "https://localhost:8080/"
        },
        "id": "sGpe95PHlaKz",
        "outputId": "4308ab0f-8dd8-41d6-97fb-66308f2b0ca0"
      },
      "execution_count": null,
      "outputs": [
        {
          "output_type": "stream",
          "name": "stdout",
          "text": [
            "dict_keys(['x', 'y', 'z'])\n",
            "dict_keys(['w', 'x', 'y'])\n",
            "{'z'}\n",
            "<class 'set'>\n",
            "z:3\n"
          ]
        }
      ]
    },
    {
      "cell_type": "code",
      "source": [
        "a = {'x':1, 'y':2, 'z':3}\n",
        "b = {'w':10, 'x':11, 'y':2}\n",
        "k = {key:a[key] for key in a.keys() - b.keys()}\n",
        "print(k)"
      ],
      "metadata": {
        "colab": {
          "base_uri": "https://localhost:8080/"
        },
        "id": "eAW4lyXWngBQ",
        "outputId": "0dcfaa7f-9178-4ab5-8d14-3166ee4b7de8"
      },
      "execution_count": null,
      "outputs": [
        {
          "output_type": "stream",
          "name": "stdout",
          "text": [
            "{'z': 3}\n"
          ]
        }
      ]
    },
    {
      "cell_type": "markdown",
      "source": [
        "###set comprehension\n",
        " - Set 정의시 값을 정하지 않고 호출시 Set내의 값들이 처리되도록 구성\n",
        " - A = {표현식 for 항목 in 반복가능객체 if 논리식}"
      ],
      "metadata": {
        "id": "TrtBw1DnoYGg"
      }
    },
    {
      "cell_type": "code",
      "source": [
        "k = {(i,j) for i in range(1,3) for j in range(4,8)}\n",
        "print(k)"
      ],
      "metadata": {
        "colab": {
          "base_uri": "https://localhost:8080/"
        },
        "id": "xD-sWkWtosOi",
        "outputId": "651185ec-a57d-4585-9296-b9efb009e6cd"
      },
      "execution_count": null,
      "outputs": [
        {
          "output_type": "stream",
          "name": "stdout",
          "text": [
            "{(2, 4), (2, 7), (1, 5), (1, 4), (1, 7), (2, 6), (1, 6), (2, 5)}\n"
          ]
        }
      ]
    },
    {
      "cell_type": "markdown",
      "source": [
        "## callable\n",
        " - 이름 뒤에 ( )를 붙이는 것을 call(호출)이라고 한다.\n",
        " - 이름 뒤에 ( )를 붙일 수 있는 것을 callable이라고 한다.\n",
        " - python에서 callable인 것은 3가지 유형이 있다.\n",
        "   - (1)funtion\n",
        "   - (2)class(init가 정의되었을 경우)\n",
        "   - (3)object(call이 정의되었을 경우)"
      ],
      "metadata": {
        "id": "C04YQxMmwcVm"
      }
    },
    {
      "cell_type": "code",
      "source": [
        "k = 1\n",
        "k()"
      ],
      "metadata": {
        "colab": {
          "base_uri": "https://localhost:8080/",
          "height": 201
        },
        "id": "7c57isZyxTu2",
        "outputId": "96cec7f7-ac24-4463-f4e2-eb7936980610"
      },
      "execution_count": null,
      "outputs": [
        {
          "output_type": "error",
          "ename": "TypeError",
          "evalue": "ignored",
          "traceback": [
            "\u001b[0;31m---------------------------------------------------------------------------\u001b[0m",
            "\u001b[0;31mTypeError\u001b[0m                                 Traceback (most recent call last)",
            "\u001b[0;32m<ipython-input-24-dab3a27d3e29>\u001b[0m in \u001b[0;36m<cell line: 2>\u001b[0;34m()\u001b[0m\n\u001b[1;32m      1\u001b[0m \u001b[0mk\u001b[0m \u001b[0;34m=\u001b[0m \u001b[0;36m1\u001b[0m\u001b[0;34m\u001b[0m\u001b[0;34m\u001b[0m\u001b[0m\n\u001b[0;32m----> 2\u001b[0;31m \u001b[0mk\u001b[0m\u001b[0;34m(\u001b[0m\u001b[0;34m)\u001b[0m\u001b[0;34m\u001b[0m\u001b[0;34m\u001b[0m\u001b[0m\n\u001b[0m",
            "\u001b[0;31mTypeError\u001b[0m: 'int' object is not callable"
          ]
        }
      ]
    },
    {
      "cell_type": "code",
      "source": [
        "#callable은 built -in함수로 ( )을 붙여 사용할 수 있는지를 True/false로 알려준다.\n",
        "callable(k)"
      ],
      "metadata": {
        "colab": {
          "base_uri": "https://localhost:8080/"
        },
        "id": "83ibYcdyyItu",
        "outputId": "0b6bde4b-898b-4313-db61-1d41a7613264"
      },
      "execution_count": null,
      "outputs": [
        {
          "output_type": "execute_result",
          "data": {
            "text/plain": [
              "False"
            ]
          },
          "metadata": {},
          "execution_count": 26
        }
      ]
    },
    {
      "cell_type": "code",
      "source": [
        "def prn():\n",
        "  return 1"
      ],
      "metadata": {
        "id": "J4Zh91VjyAX2"
      },
      "execution_count": null,
      "outputs": []
    },
    {
      "cell_type": "code",
      "source": [
        "prn()"
      ],
      "metadata": {
        "colab": {
          "base_uri": "https://localhost:8080/"
        },
        "id": "5JT7PQ-TyiAG",
        "outputId": "b42297ac-fc9e-462c-8398-96bb8971fd87"
      },
      "execution_count": null,
      "outputs": [
        {
          "output_type": "execute_result",
          "data": {
            "text/plain": [
              "1"
            ]
          },
          "metadata": {},
          "execution_count": 29
        }
      ]
    },
    {
      "cell_type": "code",
      "source": [
        "callable(prn)"
      ],
      "metadata": {
        "colab": {
          "base_uri": "https://localhost:8080/"
        },
        "id": "dc55MCtXylVe",
        "outputId": "3fca133c-4ed3-41c3-fc03-5d6e64fd5778"
      },
      "execution_count": null,
      "outputs": [
        {
          "output_type": "execute_result",
          "data": {
            "text/plain": [
              "True"
            ]
          },
          "metadata": {},
          "execution_count": 31
        }
      ]
    },
    {
      "cell_type": "code",
      "source": [
        "#파라미터(인자)와 리턴값이 있는 함수 정의\n",
        "def max(x, y):\n",
        "   if x >= y:\n",
        "      res = x\n",
        "   else :\n",
        "      res = y\n",
        "   return res"
      ],
      "metadata": {
        "id": "hS5eCYvey0e2"
      },
      "execution_count": null,
      "outputs": []
    },
    {
      "cell_type": "code",
      "source": [
        "def max(x, y):\n",
        "   if x >= y:\n",
        "      return x\n",
        "   else :\n",
        "      return y\n"
      ],
      "metadata": {
        "id": "Mwd8pq1lzxTI"
      },
      "execution_count": null,
      "outputs": []
    },
    {
      "cell_type": "code",
      "source": [
        "max(10, 5)"
      ],
      "metadata": {
        "colab": {
          "base_uri": "https://localhost:8080/"
        },
        "id": "qEGLEpU9zYGZ",
        "outputId": "c168c253-fff9-4610-829f-eda1c4a15714"
      },
      "execution_count": null,
      "outputs": [
        {
          "output_type": "execute_result",
          "data": {
            "text/plain": [
              "10"
            ]
          },
          "metadata": {},
          "execution_count": 42
        }
      ]
    },
    {
      "cell_type": "code",
      "source": [
        "#파라미터(인자)와 리턴값이 없는 함수 정의\n",
        "def max(x, y):\n",
        "   if x >= y:\n",
        "      print(x)\n",
        "   else :\n",
        "      print(y)\n"
      ],
      "metadata": {
        "id": "DgeXVkbt0-cX"
      },
      "execution_count": null,
      "outputs": []
    },
    {
      "cell_type": "code",
      "source": [
        "print(max(10, 5))"
      ],
      "metadata": {
        "colab": {
          "base_uri": "https://localhost:8080/"
        },
        "id": "7CxWLU7G1Q04",
        "outputId": "82564f5c-04d2-4f37-9734-a3104b6a68b7"
      },
      "execution_count": null,
      "outputs": [
        {
          "output_type": "stream",
          "name": "stdout",
          "text": [
            "10\n",
            "None\n"
          ]
        }
      ]
    },
    {
      "cell_type": "code",
      "source": [
        "def max( ):\n",
        "  x = 10\n",
        "  y = 5\n",
        "  if x>= y\n",
        "     print(x)\n",
        "  else :\n",
        "     print(y)"
      ],
      "metadata": {
        "colab": {
          "base_uri": "https://localhost:8080/",
          "height": 147
        },
        "id": "EOEVlkO72GSu",
        "outputId": "219e93d5-e249-443c-929a-36c4060f6355"
      },
      "execution_count": null,
      "outputs": [
        {
          "output_type": "error",
          "ename": "SyntaxError",
          "evalue": "ignored",
          "traceback": [
            "\u001b[0;36m  File \u001b[0;32m\"<ipython-input-46-9aadaeffd969>\"\u001b[0;36m, line \u001b[0;32m4\u001b[0m\n\u001b[0;31m    if x>= y\u001b[0m\n\u001b[0m            ^\u001b[0m\n\u001b[0;31mSyntaxError\u001b[0m\u001b[0;31m:\u001b[0m expected ':'\n"
          ]
        }
      ]
    },
    {
      "cell_type": "code",
      "source": [
        "print(max())"
      ],
      "metadata": {
        "colab": {
          "base_uri": "https://localhost:8080/",
          "height": 183
        },
        "id": "tK79Y6wV2VjO",
        "outputId": "b56292cb-3097-48b3-b0f4-635455247488"
      },
      "execution_count": null,
      "outputs": [
        {
          "output_type": "error",
          "ename": "TypeError",
          "evalue": "ignored",
          "traceback": [
            "\u001b[0;31m---------------------------------------------------------------------------\u001b[0m",
            "\u001b[0;31mTypeError\u001b[0m                                 Traceback (most recent call last)",
            "\u001b[0;32m<ipython-input-47-3a6e25e0e1b7>\u001b[0m in \u001b[0;36m<cell line: 1>\u001b[0;34m()\u001b[0m\n\u001b[0;32m----> 1\u001b[0;31m \u001b[0mprint\u001b[0m\u001b[0;34m(\u001b[0m\u001b[0mmax\u001b[0m\u001b[0;34m(\u001b[0m\u001b[0;34m)\u001b[0m\u001b[0;34m)\u001b[0m\u001b[0;34m\u001b[0m\u001b[0;34m\u001b[0m\u001b[0m\n\u001b[0m",
            "\u001b[0;31mTypeError\u001b[0m: max() missing 2 required positional arguments: 'x' and 'y'"
          ]
        }
      ]
    },
    {
      "cell_type": "code",
      "source": [
        "#파라미터(인자)가 없고 리턴값이 없는 함수 정의\n",
        "def max( ):\n",
        "  x = 10\n",
        "  y = 5\n",
        "  if x >= y:\n",
        "     return x\n",
        "  else :\n",
        "     return y"
      ],
      "metadata": {
        "id": "8x_60P_02w8G"
      },
      "execution_count": null,
      "outputs": []
    },
    {
      "cell_type": "code",
      "source": [
        "print(max())"
      ],
      "metadata": {
        "colab": {
          "base_uri": "https://localhost:8080/"
        },
        "id": "pZ68BxL_25j4",
        "outputId": "9ce25a94-2ef5-4d74-f9e7-4206f58a400c"
      },
      "execution_count": null,
      "outputs": [
        {
          "output_type": "stream",
          "name": "stdout",
          "text": [
            "10\n"
          ]
        }
      ]
    },
    {
      "cell_type": "markdown",
      "source": [
        "##parameter와 argument\n",
        "1. positional\n",
        "2. keyword\n",
        "3. positional & keyword\n",
        "4. positional only\n",
        "5. keyword only\n",
        "6. 가변 positional\n",
        "7. 가변 keyword"
      ],
      "metadata": {
        "id": "Kv8we1Xe3IRR"
      }
    },
    {
      "cell_type": "markdown",
      "source": [
        "1. positional\n",
        " - 함수 호출 : 선언할 때 파라미터의 순서와 호출할 때 argument의 입력순서를 그대로 매칭한다."
      ],
      "metadata": {
        "id": "VqB65Ylx37sx"
      }
    },
    {
      "cell_type": "code",
      "source": [
        "def proc(a, b):\n",
        "  return (a,b)"
      ],
      "metadata": {
        "id": "juOiAm2y4M4n"
      },
      "execution_count": null,
      "outputs": []
    },
    {
      "cell_type": "code",
      "source": [
        "proc(2,4)"
      ],
      "metadata": {
        "colab": {
          "base_uri": "https://localhost:8080/"
        },
        "id": "4ZQINWiM4ji2",
        "outputId": "704db15f-4c02-4613-f9b1-46540ce0c238"
      },
      "execution_count": null,
      "outputs": [
        {
          "output_type": "execute_result",
          "data": {
            "text/plain": [
              "(2, 4)"
            ]
          },
          "metadata": {},
          "execution_count": 55
        }
      ]
    },
    {
      "cell_type": "markdown",
      "source": [
        "2. keyword\n",
        " - keyword 방식을 이용하면 순서와 상관없이 parameter 이름에 따라 값이 대입된다."
      ],
      "metadata": {
        "id": "2uovNk-n4ylP"
      }
    },
    {
      "cell_type": "code",
      "source": [
        "proc(b=4, a=2)"
      ],
      "metadata": {
        "colab": {
          "base_uri": "https://localhost:8080/"
        },
        "id": "Dol9Szvx5Ejm",
        "outputId": "dc7772be-fb58-46b6-a656-4e5898cf752b"
      },
      "execution_count": null,
      "outputs": [
        {
          "output_type": "execute_result",
          "data": {
            "text/plain": [
              "(2, 4)"
            ]
          },
          "metadata": {},
          "execution_count": 56
        }
      ]
    },
    {
      "cell_type": "markdown",
      "source": [
        "3. keyword & positional 혼합"
      ],
      "metadata": {
        "id": "zi1UnmsN5j7Y"
      }
    },
    {
      "cell_type": "code",
      "source": [
        "def porc(a, b, c):\n",
        "  return a, b, c"
      ],
      "metadata": {
        "id": "VmCElEAz5s4F"
      },
      "execution_count": null,
      "outputs": []
    },
    {
      "cell_type": "code",
      "source": [
        "#한번 keyword 방식을 사용하면 , 그 다음부터는 keyword 방법만 사용할 수 있다.\n",
        "proc(c=5, 2, b=3)"
      ],
      "metadata": {
        "colab": {
          "base_uri": "https://localhost:8080/",
          "height": 147
        },
        "id": "r8AAP8Jg5zIu",
        "outputId": "57685155-0eab-49f5-d53b-f1040d82ff6d"
      },
      "execution_count": null,
      "outputs": [
        {
          "output_type": "error",
          "ename": "SyntaxError",
          "evalue": "ignored",
          "traceback": [
            "\u001b[0;36m  File \u001b[0;32m\"<ipython-input-61-4b876f0db350>\"\u001b[0;36m, line \u001b[0;32m2\u001b[0m\n\u001b[0;31m    proc(c=5, 2, b=3)\u001b[0m\n\u001b[0m                    ^\u001b[0m\n\u001b[0;31mSyntaxError\u001b[0m\u001b[0;31m:\u001b[0m positional argument follows keyword argument\n"
          ]
        }
      ]
    },
    {
      "cell_type": "code",
      "source": [
        "#파이썬 버젼 확인\n",
        "!python --version\n"
      ],
      "metadata": {
        "colab": {
          "base_uri": "https://localhost:8080/"
        },
        "id": "fqNzkATJ6kHG",
        "outputId": "25348e0f-f173-48a3-82c6-e8aeb622146d"
      },
      "execution_count": null,
      "outputs": [
        {
          "output_type": "stream",
          "name": "stdout",
          "text": [
            "Python 3.10.12\n"
          ]
        }
      ]
    },
    {
      "cell_type": "markdown",
      "source": [
        "4. position only\n",
        " - positional only는 함수를 사용할 때 positional방식으로만 parameter를 쓸 수 있도록 강제하는 방법이다.\n",
        " - /의 앞에 오는 parameter들은 positional방식으로 입력할 수 있지만, keyword방식으로 입력할 수 없다.\n",
        " - positional only 함수를정의할 수 있는 것은 python 3.8부터 지원한다. 이전 버젼에서는 사전 정의된 positional only 함수는 있지만, 사용자가 만들 수는 없었다."
      ],
      "metadata": {
        "id": "2Yc1_zYL6sly"
      }
    },
    {
      "cell_type": "code",
      "source": [
        "def proc(a, b, c, /):\n",
        "  return a, b, c"
      ],
      "metadata": {
        "id": "5HeqKnkD67Tu"
      },
      "execution_count": null,
      "outputs": []
    },
    {
      "cell_type": "code",
      "source": [
        "proc(4, 5, 6)"
      ],
      "metadata": {
        "colab": {
          "base_uri": "https://localhost:8080/"
        },
        "id": "d6sSqBdS7D_2",
        "outputId": "c222f245-be82-41ba-ee75-a332826709d1"
      },
      "execution_count": null,
      "outputs": [
        {
          "output_type": "execute_result",
          "data": {
            "text/plain": [
              "(4, 5, 6)"
            ]
          },
          "metadata": {},
          "execution_count": 66
        }
      ]
    },
    {
      "cell_type": "code",
      "source": [
        "proc(4, c=6, b=5)"
      ],
      "metadata": {
        "colab": {
          "base_uri": "https://localhost:8080/",
          "height": 183
        },
        "id": "PzC-XkDl-oEh",
        "outputId": "ae19edff-493f-4f3e-e440-a730fcebfec9"
      },
      "execution_count": null,
      "outputs": [
        {
          "output_type": "error",
          "ename": "TypeError",
          "evalue": "ignored",
          "traceback": [
            "\u001b[0;31m---------------------------------------------------------------------------\u001b[0m",
            "\u001b[0;31mTypeError\u001b[0m                                 Traceback (most recent call last)",
            "\u001b[0;32m<ipython-input-68-38ec957656fc>\u001b[0m in \u001b[0;36m<cell line: 1>\u001b[0;34m()\u001b[0m\n\u001b[0;32m----> 1\u001b[0;31m \u001b[0mproc\u001b[0m\u001b[0;34m(\u001b[0m\u001b[0;36m4\u001b[0m\u001b[0;34m,\u001b[0m \u001b[0mc\u001b[0m\u001b[0;34m=\u001b[0m\u001b[0;36m6\u001b[0m\u001b[0;34m,\u001b[0m \u001b[0mb\u001b[0m\u001b[0;34m=\u001b[0m\u001b[0;36m5\u001b[0m\u001b[0;34m)\u001b[0m\u001b[0;34m\u001b[0m\u001b[0;34m\u001b[0m\u001b[0m\n\u001b[0m",
            "\u001b[0;31mTypeError\u001b[0m: proc() got some positional-only arguments passed as keyword arguments: 'b, c'"
          ]
        }
      ]
    },
    {
      "cell_type": "code",
      "source": [
        "def proc(a, b, /, c, d):\n",
        "  return a,b,c,d"
      ],
      "metadata": {
        "id": "FFBi3foE-2b3"
      },
      "execution_count": null,
      "outputs": []
    },
    {
      "cell_type": "code",
      "source": [
        "proc(4, 5, 6, 7)"
      ],
      "metadata": {
        "colab": {
          "base_uri": "https://localhost:8080/"
        },
        "id": "f9_dmF6t--Kv",
        "outputId": "fff4acc5-bf5e-4e5e-8cc9-35241adbeff1"
      },
      "execution_count": null,
      "outputs": [
        {
          "output_type": "execute_result",
          "data": {
            "text/plain": [
              "(4, 5, 6, 7)"
            ]
          },
          "metadata": {},
          "execution_count": 89
        }
      ]
    },
    {
      "cell_type": "code",
      "source": [
        "proc(4, 5, d=7, c=6)"
      ],
      "metadata": {
        "colab": {
          "base_uri": "https://localhost:8080/"
        },
        "id": "9cVaPfmM_VKT",
        "outputId": "aa4a0f13-c2bd-4386-893a-0e445511421b"
      },
      "execution_count": null,
      "outputs": [
        {
          "output_type": "execute_result",
          "data": {
            "text/plain": [
              "(4, 5, 6, 7)"
            ]
          },
          "metadata": {},
          "execution_count": 90
        }
      ]
    },
    {
      "cell_type": "markdown",
      "source": [
        "5. keyword only\n",
        " - keyword only방식은 keyword로만 입력하도록 강제하는 방법이다.\n",
        " - '*'이후로는 keyword방식만 가능하다."
      ],
      "metadata": {
        "id": "C6cNDE7W_aPu"
      }
    },
    {
      "cell_type": "code",
      "source": [
        "def proc(*, a, b, c, d):\n",
        "  return a,b,c,d"
      ],
      "metadata": {
        "id": "olSl4Hj9_mXG"
      },
      "execution_count": null,
      "outputs": []
    },
    {
      "cell_type": "code",
      "source": [
        "proc(a=3, c=5, b=4, d=6)"
      ],
      "metadata": {
        "colab": {
          "base_uri": "https://localhost:8080/"
        },
        "id": "00o3f0gW_yR2",
        "outputId": "ca67ee86-54ba-4dc0-ceef-7e70b07adf15"
      },
      "execution_count": null,
      "outputs": [
        {
          "output_type": "execute_result",
          "data": {
            "text/plain": [
              "(3, 4, 5, 6)"
            ]
          },
          "metadata": {},
          "execution_count": 83
        }
      ]
    },
    {
      "cell_type": "code",
      "source": [
        "proc(3, 4, d=6, c=5)"
      ],
      "metadata": {
        "colab": {
          "base_uri": "https://localhost:8080/",
          "height": 183
        },
        "id": "FjNLoOmrACqt",
        "outputId": "461374d5-3fa4-47f2-9af6-a47b777ee077"
      },
      "execution_count": null,
      "outputs": [
        {
          "output_type": "error",
          "ename": "TypeError",
          "evalue": "ignored",
          "traceback": [
            "\u001b[0;31m---------------------------------------------------------------------------\u001b[0m",
            "\u001b[0;31mTypeError\u001b[0m                                 Traceback (most recent call last)",
            "\u001b[0;32m<ipython-input-85-6a66e5e46392>\u001b[0m in \u001b[0;36m<cell line: 1>\u001b[0;34m()\u001b[0m\n\u001b[0;32m----> 1\u001b[0;31m \u001b[0mproc\u001b[0m\u001b[0;34m(\u001b[0m\u001b[0;36m3\u001b[0m\u001b[0;34m,\u001b[0m \u001b[0;36m4\u001b[0m\u001b[0;34m,\u001b[0m \u001b[0md\u001b[0m\u001b[0;34m=\u001b[0m\u001b[0;36m6\u001b[0m\u001b[0;34m,\u001b[0m \u001b[0mc\u001b[0m\u001b[0;34m=\u001b[0m\u001b[0;36m5\u001b[0m\u001b[0;34m)\u001b[0m\u001b[0;34m\u001b[0m\u001b[0;34m\u001b[0m\u001b[0m\n\u001b[0m",
            "\u001b[0;31mTypeError\u001b[0m: proc() takes 0 positional arguments but 2 positional arguments (and 2 keyword-only arguments) were given"
          ]
        }
      ]
    },
    {
      "cell_type": "code",
      "source": [
        "def proc(a, b, *, c, d):\n",
        "  return a,b,c,d"
      ],
      "metadata": {
        "id": "b-bQB8VpAQqv"
      },
      "execution_count": null,
      "outputs": []
    },
    {
      "cell_type": "code",
      "source": [
        "proc(3, 4, d=6, c=5)"
      ],
      "metadata": {
        "colab": {
          "base_uri": "https://localhost:8080/"
        },
        "id": "5NmXn-3DAUD1",
        "outputId": "8593bef6-ebce-490d-ed4f-9a8141370aea"
      },
      "execution_count": null,
      "outputs": [
        {
          "output_type": "execute_result",
          "data": {
            "text/plain": [
              "(3, 4, 5, 6)"
            ]
          },
          "metadata": {},
          "execution_count": 87
        }
      ]
    },
    {
      "cell_type": "markdown",
      "source": [
        "6. 가변 positonal\n",
        " - 가변 positional은 parameter 이름에 '*'를 붙인다.\n",
        " - positonal방식으로 입력되는 argument의 갯수에 상관없이 모두 받아온다."
      ],
      "metadata": {
        "id": "oxNVSxuDAtZx"
      }
    },
    {
      "cell_type": "code",
      "source": [
        "def proc(*a):\n",
        "  print(type(a))\n",
        "  return a"
      ],
      "metadata": {
        "id": "0srO5R39BLU2"
      },
      "execution_count": null,
      "outputs": []
    },
    {
      "cell_type": "code",
      "source": [
        "print(proc())"
      ],
      "metadata": {
        "colab": {
          "base_uri": "https://localhost:8080/"
        },
        "id": "tcQHZOypBV5D",
        "outputId": "e175139d-1fb0-4c95-a2d9-bf5fc709638d"
      },
      "execution_count": null,
      "outputs": [
        {
          "output_type": "stream",
          "name": "stdout",
          "text": [
            "<class 'tuple'>\n",
            "()\n"
          ]
        }
      ]
    },
    {
      "cell_type": "code",
      "source": [
        "print(proc(1))"
      ],
      "metadata": {
        "colab": {
          "base_uri": "https://localhost:8080/"
        },
        "id": "DCUaqfgeBYfK",
        "outputId": "99e10822-6c8e-440c-d23e-c83e63404f2e"
      },
      "execution_count": null,
      "outputs": [
        {
          "output_type": "stream",
          "name": "stdout",
          "text": [
            "<class 'tuple'>\n",
            "(1,)\n"
          ]
        }
      ]
    },
    {
      "cell_type": "code",
      "source": [
        "print(proc(1,2,3))"
      ],
      "metadata": {
        "colab": {
          "base_uri": "https://localhost:8080/"
        },
        "id": "xIBhMVWTBehq",
        "outputId": "97cf2477-6896-4140-8a56-4851358481b1"
      },
      "execution_count": null,
      "outputs": [
        {
          "output_type": "stream",
          "name": "stdout",
          "text": [
            "<class 'tuple'>\n",
            "(1, 2, 3)\n"
          ]
        }
      ]
    },
    {
      "cell_type": "markdown",
      "source": [
        "7. 가변 keyword\n",
        " - 가변 keyword는 parameter 이름에 '**'를 붙인다.\n",
        " - keyword방식으로 입력되는 argument의 개수에 상관없이 모두 받아온다."
      ],
      "metadata": {
        "id": "uarBAkxfCFMm"
      }
    },
    {
      "cell_type": "code",
      "source": [
        "def proc(**a):\n",
        "  print(type(a))\n",
        "  return a"
      ],
      "metadata": {
        "id": "m3S569DlCWtF"
      },
      "execution_count": null,
      "outputs": []
    },
    {
      "cell_type": "code",
      "source": [
        "proc(x=2, y=3)"
      ],
      "metadata": {
        "colab": {
          "base_uri": "https://localhost:8080/"
        },
        "id": "0EtYMMZzCjau",
        "outputId": "3824614a-ee85-48a4-8bba-87472767ce82"
      },
      "execution_count": null,
      "outputs": [
        {
          "output_type": "stream",
          "name": "stdout",
          "text": [
            "<class 'dict'>\n"
          ]
        },
        {
          "output_type": "execute_result",
          "data": {
            "text/plain": [
              "{'x': 2, 'y': 3}"
            ]
          },
          "metadata": {},
          "execution_count": 99
        }
      ]
    },
    {
      "cell_type": "code",
      "source": [
        "proc(x=3, y=1, z=[1,2,3])"
      ],
      "metadata": {
        "colab": {
          "base_uri": "https://localhost:8080/"
        },
        "id": "FXaV29Q5Cuz2",
        "outputId": "240b45b7-e3bd-48ea-8bd5-d1c8a252b9a3"
      },
      "execution_count": null,
      "outputs": [
        {
          "output_type": "stream",
          "name": "stdout",
          "text": [
            "<class 'dict'>\n"
          ]
        },
        {
          "output_type": "execute_result",
          "data": {
            "text/plain": [
              "{'x': 3, 'y': 1, 'z': [1, 2, 3]}"
            ]
          },
          "metadata": {},
          "execution_count": 100
        }
      ]
    },
    {
      "cell_type": "markdown",
      "source": [
        "가변 positional / 가변 positional은 한번만 사용할 수 있다."
      ],
      "metadata": {
        "id": "PZTrWKWRDSE5"
      }
    },
    {
      "cell_type": "code",
      "source": [
        "def proc(*a, *b):\n",
        "  return a, b"
      ],
      "metadata": {
        "colab": {
          "base_uri": "https://localhost:8080/",
          "height": 147
        },
        "id": "x89ceJcODbJG",
        "outputId": "f9467987-abbd-4203-84f8-bc1c8b8a7793"
      },
      "execution_count": null,
      "outputs": [
        {
          "output_type": "error",
          "ename": "SyntaxError",
          "evalue": "ignored",
          "traceback": [
            "\u001b[0;36m  File \u001b[0;32m\"<ipython-input-101-51ebdf9f1990>\"\u001b[0;36m, line \u001b[0;32m1\u001b[0m\n\u001b[0;31m    def proc(*a, *b):\u001b[0m\n\u001b[0m                 ^\u001b[0m\n\u001b[0;31mSyntaxError\u001b[0m\u001b[0;31m:\u001b[0m invalid syntax\n"
          ]
        }
      ]
    },
    {
      "cell_type": "code",
      "source": [
        "def proc(**a, **b):\n",
        "  return a, b"
      ],
      "metadata": {
        "colab": {
          "base_uri": "https://localhost:8080/",
          "height": 147
        },
        "id": "lEhJISjoDrCW",
        "outputId": "7ce0c2f5-d7b1-429b-c91b-2334f3aa6652"
      },
      "execution_count": null,
      "outputs": [
        {
          "output_type": "error",
          "ename": "SyntaxError",
          "evalue": "ignored",
          "traceback": [
            "\u001b[0;36m  File \u001b[0;32m\"<ipython-input-103-13f3d9d25bce>\"\u001b[0;36m, line \u001b[0;32m1\u001b[0m\n\u001b[0;31m    def proc(**a, **b):\u001b[0m\n\u001b[0m                  ^\u001b[0m\n\u001b[0;31mSyntaxError\u001b[0m\u001b[0;31m:\u001b[0m invalid syntax\n"
          ]
        }
      ]
    },
    {
      "cell_type": "code",
      "source": [
        "x=3; y=5\n",
        "result = x + y\n",
        "print(result)\n",
        "\n",
        "x=4; y=8\n",
        "result = x + y\n",
        "print(result)\n",
        "\n",
        "x=5; y=6\n",
        "result = x + y\n",
        "print(result)"
      ],
      "metadata": {
        "colab": {
          "base_uri": "https://localhost:8080/"
        },
        "id": "aw58pu58D9yH",
        "outputId": "2e31537d-b744-41b6-bda4-7a354726c8f2"
      },
      "execution_count": null,
      "outputs": [
        {
          "output_type": "stream",
          "name": "stdout",
          "text": [
            "8\n",
            "12\n",
            "11\n"
          ]
        }
      ]
    },
    {
      "cell_type": "code",
      "source": [
        "def plus(x, y):\n",
        "  result = x + y\n",
        "  return result"
      ],
      "metadata": {
        "id": "Z4dhdR1nEhj2"
      },
      "execution_count": null,
      "outputs": []
    },
    {
      "cell_type": "code",
      "source": [
        "plus(3,5)"
      ],
      "metadata": {
        "colab": {
          "base_uri": "https://localhost:8080/"
        },
        "id": "tTPnTQkmEq_m",
        "outputId": "b2919d4d-3ab4-491b-f5f3-fea0001055fe"
      },
      "execution_count": null,
      "outputs": [
        {
          "output_type": "execute_result",
          "data": {
            "text/plain": [
              "8"
            ]
          },
          "metadata": {},
          "execution_count": 111
        }
      ]
    },
    {
      "cell_type": "code",
      "source": [
        "plus(4,8)"
      ],
      "metadata": {
        "colab": {
          "base_uri": "https://localhost:8080/"
        },
        "id": "H5h2TUm8Es4X",
        "outputId": "aa87f637-cca1-4139-fecc-fbbb6d433f7d"
      },
      "execution_count": null,
      "outputs": [
        {
          "output_type": "execute_result",
          "data": {
            "text/plain": [
              "12"
            ]
          },
          "metadata": {},
          "execution_count": 112
        }
      ]
    },
    {
      "cell_type": "code",
      "source": [
        "plus(5,6)"
      ],
      "metadata": {
        "colab": {
          "base_uri": "https://localhost:8080/"
        },
        "id": "5682p3DNE6te",
        "outputId": "baa0bff0-2334-4e56-fee1-747f797a2505"
      },
      "execution_count": null,
      "outputs": [
        {
          "output_type": "execute_result",
          "data": {
            "text/plain": [
              "11"
            ]
          },
          "metadata": {},
          "execution_count": 113
        }
      ]
    },
    {
      "cell_type": "markdown",
      "source": [
        "## overloading\n",
        " - 함수의 이름은 같은데, parameter 갯수 또는 parameter타입이 달라야 한다.\n",
        " - python은 overloading을 지원하지 않는다."
      ],
      "metadata": {
        "id": "clcMxTcuFqe3"
      }
    },
    {
      "cell_type": "code",
      "source": [
        "def add(a):\n",
        "  return a+1"
      ],
      "metadata": {
        "id": "7YeEYMNFF-y-"
      },
      "execution_count": null,
      "outputs": []
    },
    {
      "cell_type": "code",
      "source": [
        "add(6)"
      ],
      "metadata": {
        "colab": {
          "base_uri": "https://localhost:8080/"
        },
        "id": "6urVkfItGHuu",
        "outputId": "9debf0e6-6f74-4643-b83e-ea6d721d8799"
      },
      "execution_count": null,
      "outputs": [
        {
          "output_type": "execute_result",
          "data": {
            "text/plain": [
              "7"
            ]
          },
          "metadata": {},
          "execution_count": 115
        }
      ]
    },
    {
      "cell_type": "code",
      "source": [
        "def add(a, b):\n",
        "  return a+b"
      ],
      "metadata": {
        "id": "A5-mdXSNGNgW"
      },
      "execution_count": null,
      "outputs": []
    },
    {
      "cell_type": "code",
      "source": [
        "add(1,2)"
      ],
      "metadata": {
        "colab": {
          "base_uri": "https://localhost:8080/"
        },
        "id": "IvpDU22eGhkO",
        "outputId": "38d31c6e-3d46-4db4-bb3f-32133879b144"
      },
      "execution_count": null,
      "outputs": [
        {
          "output_type": "execute_result",
          "data": {
            "text/plain": [
              "3"
            ]
          },
          "metadata": {},
          "execution_count": 117
        }
      ]
    },
    {
      "cell_type": "code",
      "source": [
        "add(3)"
      ],
      "metadata": {
        "colab": {
          "base_uri": "https://localhost:8080/",
          "height": 183
        },
        "id": "nCyb-ROqGjn-",
        "outputId": "61860023-71a3-41ee-ab59-c2b52f083229"
      },
      "execution_count": null,
      "outputs": [
        {
          "output_type": "error",
          "ename": "TypeError",
          "evalue": "ignored",
          "traceback": [
            "\u001b[0;31m---------------------------------------------------------------------------\u001b[0m",
            "\u001b[0;31mTypeError\u001b[0m                                 Traceback (most recent call last)",
            "\u001b[0;32m<ipython-input-119-4c015eca70a5>\u001b[0m in \u001b[0;36m<cell line: 1>\u001b[0;34m()\u001b[0m\n\u001b[0;32m----> 1\u001b[0;31m \u001b[0madd\u001b[0m\u001b[0;34m(\u001b[0m\u001b[0;36m3\u001b[0m\u001b[0;34m)\u001b[0m\u001b[0;34m\u001b[0m\u001b[0;34m\u001b[0m\u001b[0m\n\u001b[0m",
            "\u001b[0;31mTypeError\u001b[0m: add() missing 1 required positional argument: 'b'"
          ]
        }
      ]
    },
    {
      "cell_type": "code",
      "source": [
        "sum([1,2,3])"
      ],
      "metadata": {
        "colab": {
          "base_uri": "https://localhost:8080/"
        },
        "id": "KZH0Lb-SG3iY",
        "outputId": "a1137bbe-85dc-476f-aa9f-2dcbf1c70da3"
      },
      "execution_count": null,
      "outputs": [
        {
          "output_type": "execute_result",
          "data": {
            "text/plain": [
              "6"
            ]
          },
          "metadata": {},
          "execution_count": 121
        }
      ]
    },
    {
      "cell_type": "code",
      "source": [
        "def sum(a, b):\n",
        "  return a+b"
      ],
      "metadata": {
        "id": "Wt1hij6YG-Pg"
      },
      "execution_count": null,
      "outputs": []
    },
    {
      "cell_type": "code",
      "source": [
        "sum(1,2)"
      ],
      "metadata": {
        "colab": {
          "base_uri": "https://localhost:8080/"
        },
        "id": "qD-FBvLtHMC-",
        "outputId": "cd372844-eb36-40e4-cbbb-4785eb0a2693"
      },
      "execution_count": null,
      "outputs": [
        {
          "output_type": "execute_result",
          "data": {
            "text/plain": [
              "3"
            ]
          },
          "metadata": {},
          "execution_count": 123
        }
      ]
    },
    {
      "cell_type": "code",
      "source": [
        "sum([1,2,3])"
      ],
      "metadata": {
        "colab": {
          "base_uri": "https://localhost:8080/",
          "height": 183
        },
        "id": "lVBw6JqQHN4X",
        "outputId": "b7799ffd-0bc4-4854-e2ee-4b765f235a30"
      },
      "execution_count": null,
      "outputs": [
        {
          "output_type": "error",
          "ename": "TypeError",
          "evalue": "ignored",
          "traceback": [
            "\u001b[0;31m---------------------------------------------------------------------------\u001b[0m",
            "\u001b[0;31mTypeError\u001b[0m                                 Traceback (most recent call last)",
            "\u001b[0;32m<ipython-input-125-56b33b39430a>\u001b[0m in \u001b[0;36m<cell line: 1>\u001b[0;34m()\u001b[0m\n\u001b[0;32m----> 1\u001b[0;31m \u001b[0msum\u001b[0m\u001b[0;34m(\u001b[0m\u001b[0;34m[\u001b[0m\u001b[0;36m1\u001b[0m\u001b[0;34m,\u001b[0m\u001b[0;36m2\u001b[0m\u001b[0;34m,\u001b[0m\u001b[0;36m3\u001b[0m\u001b[0;34m]\u001b[0m\u001b[0;34m)\u001b[0m\u001b[0;34m\u001b[0m\u001b[0;34m\u001b[0m\u001b[0m\n\u001b[0m",
            "\u001b[0;31mTypeError\u001b[0m: sum() missing 1 required positional argument: 'b'"
          ]
        }
      ]
    },
    {
      "cell_type": "code",
      "source": [
        "del sum"
      ],
      "metadata": {
        "id": "BRpUbo6BHSlF"
      },
      "execution_count": null,
      "outputs": []
    },
    {
      "cell_type": "code",
      "source": [
        "type(add)"
      ],
      "metadata": {
        "colab": {
          "base_uri": "https://localhost:8080/"
        },
        "id": "0sfs_O3DHTtV",
        "outputId": "51616f4e-7b13-41db-bcd2-edec9b56efd8"
      },
      "execution_count": null,
      "outputs": [
        {
          "output_type": "execute_result",
          "data": {
            "text/plain": [
              "function"
            ]
          },
          "metadata": {},
          "execution_count": 128
        }
      ]
    },
    {
      "cell_type": "code",
      "source": [
        "print(dir(add))"
      ],
      "metadata": {
        "colab": {
          "base_uri": "https://localhost:8080/"
        },
        "id": "C6hdsqYaH1sW",
        "outputId": "444b8f0d-8d4f-4992-bc8a-6d4505b56b87"
      },
      "execution_count": null,
      "outputs": [
        {
          "output_type": "stream",
          "name": "stdout",
          "text": [
            "['__annotations__', '__builtins__', '__call__', '__class__', '__closure__', '__code__', '__defaults__', '__delattr__', '__dict__', '__dir__', '__doc__', '__eq__', '__format__', '__ge__', '__get__', '__getattribute__', '__globals__', '__gt__', '__hash__', '__init__', '__init_subclass__', '__kwdefaults__', '__le__', '__lt__', '__module__', '__name__', '__ne__', '__new__', '__qualname__', '__reduce__', '__reduce_ex__', '__repr__', '__setattr__', '__sizeof__', '__str__', '__subclasshook__']\n"
          ]
        }
      ]
    },
    {
      "cell_type": "code",
      "source": [
        "#__name__은 함수 이름을 알려준다.\n",
        "add.__name__"
      ],
      "metadata": {
        "colab": {
          "base_uri": "https://localhost:8080/",
          "height": 35
        },
        "id": "AssOYSnRH9aW",
        "outputId": "1a881382-a7c9-47a0-dc69-393475a737f3"
      },
      "execution_count": null,
      "outputs": [
        {
          "output_type": "execute_result",
          "data": {
            "text/plain": [
              "'add'"
            ],
            "application/vnd.google.colaboratory.intrinsic+json": {
              "type": "string"
            }
          },
          "metadata": {},
          "execution_count": 132
        }
      ]
    },
    {
      "cell_type": "code",
      "source": [
        "display = add"
      ],
      "metadata": {
        "id": "qrgnECVOIT6t"
      },
      "execution_count": null,
      "outputs": []
    },
    {
      "cell_type": "code",
      "source": [
        "display(2,3)"
      ],
      "metadata": {
        "id": "enKmT8m8IZK1"
      },
      "execution_count": null,
      "outputs": []
    },
    {
      "cell_type": "code",
      "source": [
        "type(display)"
      ],
      "metadata": {
        "colab": {
          "base_uri": "https://localhost:8080/",
          "height": 147
        },
        "id": "0Oupni7hIcbe",
        "outputId": "4b2019c9-3410-4826-c5b9-6c2e2c2783f6"
      },
      "execution_count": null,
      "outputs": [
        {
          "output_type": "error",
          "ename": "SyntaxError",
          "evalue": "ignored",
          "traceback": [
            "\u001b[0;36m  File \u001b[0;32m\"<ipython-input-135-246ebc7bc49b>\"\u001b[0;36m, line \u001b[0;32m1\u001b[0m\n\u001b[0;31m    display,__display)\u001b[0m\n\u001b[0m                     ^\u001b[0m\n\u001b[0;31mSyntaxError\u001b[0m\u001b[0;31m:\u001b[0m unmatched ')'\n"
          ]
        }
      ]
    },
    {
      "cell_type": "code",
      "source": [
        "#함수를 다른 함수에 재할당해도 __name__은 원래 함수명을 알려준다.\n",
        "display.__name__"
      ],
      "metadata": {
        "colab": {
          "base_uri": "https://localhost:8080/",
          "height": 35
        },
        "id": "n0OQHtSXIpWW",
        "outputId": "cdcfbbd8-0c65-4a3e-a40f-f1e0d10a9cad"
      },
      "execution_count": null,
      "outputs": [
        {
          "output_type": "execute_result",
          "data": {
            "text/plain": [
              "'add'"
            ],
            "application/vnd.google.colaboratory.intrinsic+json": {
              "type": "string"
            }
          },
          "metadata": {},
          "execution_count": 136
        }
      ]
    },
    {
      "cell_type": "markdown",
      "source": [
        "정수 5개의 argument을 받는 exam함수를 정의해서 합계와 평균을 계산하는 프로그램을 구현하세요"
      ],
      "metadata": {
        "id": "3hZ4rcdIMN_x"
      }
    },
    {
      "cell_type": "code",
      "source": [
        "def exam(a, b, c, d, e):\n",
        "  hap = a+b+c+d+e\n",
        "  avg = hap / 5\n",
        "  print('합계:{}'.format(hap))\n",
        "  print('평균:{}'.format(avg))"
      ],
      "metadata": {
        "id": "t9rTQK9-MaLr"
      },
      "execution_count": null,
      "outputs": []
    },
    {
      "cell_type": "code",
      "source": [
        "exam(2,3,4,5,6)"
      ],
      "metadata": {
        "colab": {
          "base_uri": "https://localhost:8080/"
        },
        "id": "Q0LsOIPhNCqo",
        "outputId": "d01aad7c-3ff6-4f42-85d3-59a67ebc15e4"
      },
      "execution_count": null,
      "outputs": [
        {
          "output_type": "stream",
          "name": "stdout",
          "text": [
            "합계:20\n",
            "평균:4.0\n"
          ]
        }
      ]
    },
    {
      "cell_type": "markdown",
      "source": [
        "str데이터 타입의 argument을 받는 display함수를 정의하고 문자열의 갯수를 리턴하는 프로그램을 구현하세요."
      ],
      "metadata": {
        "id": "BH7NokLtMaVT"
      }
    },
    {
      "cell_type": "code",
      "source": [
        "#찾는 문자가 없을 때: index() 오류발생, find() -1를 리턴\n",
        "def display(k, i):\n",
        "  return k.index(i)"
      ],
      "metadata": {
        "id": "n4tzSWvONLB5"
      },
      "execution_count": null,
      "outputs": []
    },
    {
      "cell_type": "code",
      "source": [
        "display('apple', 'a')"
      ],
      "metadata": {
        "colab": {
          "base_uri": "https://localhost:8080/"
        },
        "id": "M3Cc-RDiOXlm",
        "outputId": "6e70e91c-1d00-497a-fa25-50abe17451dc"
      },
      "execution_count": null,
      "outputs": [
        {
          "output_type": "execute_result",
          "data": {
            "text/plain": [
              "0"
            ]
          },
          "metadata": {},
          "execution_count": 142
        }
      ]
    },
    {
      "cell_type": "markdown",
      "source": [
        "특정년도의 윤년, 평년을 구해서 리턴하는 프로그램을 구현하세요.\n",
        "윤년이면 true, 평년이면 false로 리턴하는 프로그램을 구현하세요"
      ],
      "metadata": {
        "id": "FYnNCmEcPIYH"
      }
    },
    {
      "cell_type": "code",
      "source": [
        "def isLeapyear(year):\n",
        "   if (year % 4 ==0 and year % 100 != 0) or year % 400 == 0 :\n",
        "     return True\n",
        "   else:\n",
        "     return False"
      ],
      "metadata": {
        "id": "a17Z3BN0PVoe"
      },
      "execution_count": null,
      "outputs": []
    },
    {
      "cell_type": "code",
      "source": [
        "year = 2017\n",
        "if isLeapyear(year):\n",
        "  print('{}년도는 {}입니다.'.format(year, '윤년'))\n",
        "else:\n",
        "  print('{}년도는 {}입니다.'.format(year, '평년'))"
      ],
      "metadata": {
        "colab": {
          "base_uri": "https://localhost:8080/"
        },
        "id": "rQS6dQ2KPuAV",
        "outputId": "9e6f178d-719f-4453-8995-0c2e97bd6b50"
      },
      "execution_count": null,
      "outputs": [
        {
          "output_type": "stream",
          "name": "stdout",
          "text": [
            "2017년도는 평년입니다.\n"
          ]
        }
      ]
    },
    {
      "cell_type": "code",
      "source": [
        "def resultyear(b):\n",
        "  if b :\n",
        "    print('{}년도는 {}입니다.'.format(year, '윤년'))\n",
        "  else:\n",
        "    print('{}년도는 {}입니다.'.format(year, '평년'))"
      ],
      "metadata": {
        "id": "De9nNeMPQlyf"
      },
      "execution_count": null,
      "outputs": []
    },
    {
      "cell_type": "code",
      "source": [
        "year = 2016\n",
        "checkyear = isLeapyear(year)\n",
        "resultyear(checkyear)"
      ],
      "metadata": {
        "colab": {
          "base_uri": "https://localhost:8080/"
        },
        "id": "44anWneIQ4wq",
        "outputId": "e8ca6104-0401-4259-ac16-98ae671eec52"
      },
      "execution_count": null,
      "outputs": [
        {
          "output_type": "stream",
          "name": "stdout",
          "text": [
            "2016년도는 윤년입니다.\n"
          ]
        }
      ]
    },
    {
      "cell_type": "markdown",
      "source": [],
      "metadata": {
        "id": "Kf7vN5YcSKVo"
      }
    }
  ]
}