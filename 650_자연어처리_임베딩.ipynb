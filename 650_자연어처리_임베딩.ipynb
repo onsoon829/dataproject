{
  "nbformat": 4,
  "nbformat_minor": 0,
  "metadata": {
    "colab": {
      "provenance": [],
      "authorship_tag": "ABX9TyPnKQxqMCkn58nOF2gLC3PL",
      "include_colab_link": true
    },
    "kernelspec": {
      "name": "python3",
      "display_name": "Python 3"
    },
    "language_info": {
      "name": "python"
    }
  },
  "cells": [
    {
      "cell_type": "markdown",
      "metadata": {
        "id": "view-in-github",
        "colab_type": "text"
      },
      "source": [
        "<a href=\"https://colab.research.google.com/github/onsoon829/dataproject/blob/master/650_%EC%9E%90%EC%97%B0%EC%96%B4%EC%B2%98%EB%A6%AC_%EC%9E%84%EB%B2%A0%EB%94%A9.ipynb\" target=\"_parent\"><img src=\"https://colab.research.google.com/assets/colab-badge.svg\" alt=\"Open In Colab\"/></a>"
      ]
    },
    {
      "cell_type": "code",
      "execution_count": null,
      "metadata": {
        "colab": {
          "base_uri": "https://localhost:8080/"
        },
        "id": "r_9HPJ8ZN2H5",
        "outputId": "46e74f1e-7f90-4683-d973-6e800141f1f7"
      },
      "outputs": [
        {
          "output_type": "stream",
          "name": "stdout",
          "text": [
            "Mounted at /content/drive\n",
            "/content/drive/MyDrive/ai_chat_python\n"
          ]
        }
      ],
      "source": [
        "from google.colab import drive\n",
        "drive.mount('/content/drive')\n",
        "\n",
        "%cd  '/content/drive/MyDrive/ai_chat_python'"
      ]
    },
    {
      "cell_type": "code",
      "source": [
        "!pip install konlpy"
      ],
      "metadata": {
        "colab": {
          "base_uri": "https://localhost:8080/"
        },
        "id": "PduO--O9N51D",
        "outputId": "2845fb55-eaca-421c-8ae0-e0d69530dbab"
      },
      "execution_count": null,
      "outputs": [
        {
          "output_type": "stream",
          "name": "stdout",
          "text": [
            "Collecting konlpy\n",
            "  Downloading konlpy-0.6.0-py2.py3-none-any.whl (19.4 MB)\n",
            "\u001b[2K     \u001b[90m━━━━━━━━━━━━━━━━━━━━━━━━━━━━━━━━━━━━━━━━\u001b[0m \u001b[32m19.4/19.4 MB\u001b[0m \u001b[31m57.7 MB/s\u001b[0m eta \u001b[36m0:00:00\u001b[0m\n",
            "\u001b[?25hCollecting JPype1>=0.7.0 (from konlpy)\n",
            "  Downloading JPype1-1.4.1-cp310-cp310-manylinux_2_12_x86_64.manylinux2010_x86_64.whl (465 kB)\n",
            "\u001b[2K     \u001b[90m━━━━━━━━━━━━━━━━━━━━━━━━━━━━━━━━━━━━━━━━\u001b[0m \u001b[32m465.3/465.3 kB\u001b[0m \u001b[31m38.8 MB/s\u001b[0m eta \u001b[36m0:00:00\u001b[0m\n",
            "\u001b[?25hRequirement already satisfied: lxml>=4.1.0 in /usr/local/lib/python3.10/dist-packages (from konlpy) (4.9.3)\n",
            "Requirement already satisfied: numpy>=1.6 in /usr/local/lib/python3.10/dist-packages (from konlpy) (1.23.5)\n",
            "Requirement already satisfied: packaging in /usr/local/lib/python3.10/dist-packages (from JPype1>=0.7.0->konlpy) (23.2)\n",
            "Installing collected packages: JPype1, konlpy\n",
            "Successfully installed JPype1-1.4.1 konlpy-0.6.0\n"
          ]
        }
      ]
    },
    {
      "cell_type": "markdown",
      "source": [
        "## 단어 임베딩\n",
        " - 단어 임베딩은 말뭉치에서 각각의 단어를 벡터로 변환하는 기법이다.\n",
        "\n",
        " https://velog.io/@hotsun1508/NLP-Word-Embedding"
      ],
      "metadata": {
        "id": "O0ajp1iBOKju"
      }
    },
    {
      "cell_type": "markdown",
      "source": [
        "1.1 원 핫 인코딩"
      ],
      "metadata": {
        "id": "U1hVoR5aOmNU"
      }
    },
    {
      "cell_type": "code",
      "source": [
        "from konlpy.tag import Komoran\n",
        "import numpy as np\n",
        "\n",
        "komoran = Komoran()\n",
        "text = \"오늘 날씨는 구름이 많아요.\"\n",
        "\n",
        "# 명사만 추출\n",
        "nouns = komoran.nouns(text)\n",
        "print(nouns)\n",
        "\n",
        "# 단어 사전 구축 및 단어별 인덱스 부여\n",
        "dics = {}\n",
        "for word in nouns: # ['오늘', '날씨', '구름']\n",
        "    if word not in dics.keys():\n",
        "        dics[word] = len(dics)\n",
        "print(dics)\n",
        "\n",
        "# 원-핫 인코딩\n",
        "nb_classes = len(dics)\n",
        "targets = list(dics.values())\n",
        "one_hot_targets = np.eye(nb_classes)[targets]\n",
        "print(one_hot_targets)"
      ],
      "metadata": {
        "colab": {
          "base_uri": "https://localhost:8080/"
        },
        "id": "05inMMWXOJvW",
        "outputId": "e7e0e71c-6f0e-4daa-c659-880e0275c035"
      },
      "execution_count": null,
      "outputs": [
        {
          "output_type": "stream",
          "name": "stdout",
          "text": [
            "['오늘', '날씨', '구름']\n",
            "{'오늘': 0, '날씨': 1, '구름': 2}\n",
            "[[1. 0. 0.]\n",
            " [0. 1. 0.]\n",
            " [0. 0. 1.]]\n"
          ]
        }
      ]
    },
    {
      "cell_type": "markdown",
      "source": [
        "1_2 희소표현과 분산표현\n",
        " - 원-핫 인코딩은 표현하고자 하는 단어의 인덱스 요소만 1이고 나머지 요소는 모두 0으로 표현되는 희소 벡터(또는 희소행렬)이다.이처럼 단어가 희소 벡터로 표현되는 방식을 희소표현(sparse representation)이라 부른다.\n",
        "  - 희소표현은 각각의 차원이 독립적인 정보를 지니고 있어 사람이 이해하기에 직관적인 장점이 있지만, 단어 사전의 크기가 커질수록 메모리낭비와 계산 복잡도가 커지는 단점이 있다.\n",
        " - 또한 단어 간의 연관성이 전혀 없어 의미를 담을 수 없다.\n",
        " - 자연어 처리를 잘하기 위해서는 기본 토큰이 되는 단어의 의미와 주변단어간의 관계가 단어 임베딩에 표현되어야 한다. 하지만 희소표현의 경우 그러지 못하다. 이를 해결하기 위해서 각 단어 간의 유사성을 잘 표현하면서도 벡터 공간을 절약할 수 있는 방법을 고안했는데, 이를 분산표현(distributed representation)이라 한다.\n",
        " - 분산표현은 한 단어의 정보가 특정 차원에 표현되지 않고 여러 차원에 분산되어 표현된다하여 붙여진 이름이다. 즉, 하나의 차원에 다양한 정보를 가지고 있다. 예로 색상을 표현하는 RGB 모델은 3차원 형태의 벡터로 생각할 수 있으며 분산표현 방식이다. 연두색은 RGB(204,255,204)형태로 분산 표현을 하는 것이다.\n",
        " - 분산 표현은 우리가 원하는 차원에 데이터를 최대한 밀집시킬 수 있어 밀집표현(dense representation)이라고 부르며, 밀집표현으로 만들어진 벡터를 밀집벡터(dense vector)라 한다."
      ],
      "metadata": {
        "id": "vWChzaKcQnxU"
      }
    }
  ]
}