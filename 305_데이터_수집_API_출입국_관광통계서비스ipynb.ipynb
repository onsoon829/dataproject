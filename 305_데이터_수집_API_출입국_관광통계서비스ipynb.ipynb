{
  "nbformat": 4,
  "nbformat_minor": 0,
  "metadata": {
    "colab": {
      "provenance": [],
      "authorship_tag": "ABX9TyNBnwujJDcCfs0OhDpm5vHh",
      "include_colab_link": true
    },
    "kernelspec": {
      "name": "python3",
      "display_name": "Python 3"
    },
    "language_info": {
      "name": "python"
    }
  },
  "cells": [
    {
      "cell_type": "markdown",
      "metadata": {
        "id": "view-in-github",
        "colab_type": "text"
      },
      "source": [
        "<a href=\"https://colab.research.google.com/github/onsoon829/dataproject/blob/master/305_%EB%8D%B0%EC%9D%B4%ED%84%B0_%EC%88%98%EC%A7%91_API_%EC%B6%9C%EC%9E%85%EA%B5%AD_%EA%B4%80%EA%B4%91%ED%86%B5%EA%B3%84%EC%84%9C%EB%B9%84%EC%8A%A4ipynb.ipynb\" target=\"_parent\"><img src=\"https://colab.research.google.com/assets/colab-badge.svg\" alt=\"Open In Colab\"/></a>"
      ]
    },
    {
      "cell_type": "markdown",
      "source": [
        "## 한국문화 출입국 관광통계서비스\n",
        "\n",
        "https://www.data.go.kr/iim/api/selectAPIAcountView.do"
      ],
      "metadata": {
        "id": "UlZEc8ESJpiC"
      }
    },
    {
      "cell_type": "code",
      "execution_count": null,
      "metadata": {
        "colab": {
          "base_uri": "https://localhost:8080/"
        },
        "id": "sPF0s4spJn2R",
        "outputId": "074cfae2-0c12-4734-a278-4d893d512332"
      },
      "outputs": [
        {
          "output_type": "stream",
          "name": "stdout",
          "text": [
            "Mounted at /content/drive\n",
            "/content/drive/MyDrive/ai_chat_python\n"
          ]
        }
      ],
      "source": [
        "from google.colab import drive\n",
        "drive.mount('/content/drive')\n",
        "\n",
        "%cd  '/content/drive/MyDrive/ai_chat_python'"
      ]
    },
    {
      "cell_type": "code",
      "source": [
        "!pip install xmltodict"
      ],
      "metadata": {
        "colab": {
          "base_uri": "https://localhost:8080/"
        },
        "id": "2ojPDqnoKWlJ",
        "outputId": "a33df4db-4110-45f7-9f30-e9803b22dd45"
      },
      "execution_count": null,
      "outputs": [
        {
          "output_type": "stream",
          "name": "stdout",
          "text": [
            "Collecting xmltodict\n",
            "  Downloading xmltodict-0.13.0-py2.py3-none-any.whl (10.0 kB)\n",
            "Installing collected packages: xmltodict\n",
            "Successfully installed xmltodict-0.13.0\n"
          ]
        }
      ]
    },
    {
      "cell_type": "code",
      "source": [
        "import requests\n",
        "import json\n",
        "import xmltodict\n"
      ],
      "metadata": {
        "id": "_X1ibl50KfTI"
      },
      "execution_count": null,
      "outputs": []
    },
    {
      "cell_type": "code",
      "source": [
        "#ServiceKey=\"B4QVX9oRn6HfmIKPAZyWMkU2EIAIzUbTEcQBY2awLLopq4s8oBjKIhAG8GdkYaLUbTk0H6vrlnHkoM6IAPn5aQ%3D%3D\"\n",
        "serviceKey = '24%2F6qaFfshEAr5FKMvNk%2F%2FEU8wMRdNaoekuBEFKptFDxFgPxgaCIHlQJleQn9pHT%2F3AOwSplYwkxLTB0oWJVog%3D%3D' #내 인증키\n",
        "\n",
        "def getTourismStatesItem(yyyymm, national_code, ed_cd):\n",
        "    url = 'http://openapi.tour.go.kr/openapi/service/EdrcntTourismStatsService/getEdrcntTourismStatsList'\n",
        "    params ={'serviceKey' : ServiceKey, 'YM' : yyyymm, 'NAT_CD' : national_code, 'ED_CD' : ed_cd }\n",
        "\n",
        "    response = requests.get(url, params=params)\n",
        "    #print(response.content)\n",
        "    #print(response.text)\n",
        "    return response.text\n",
        "\n",
        "jsonResult = []\n",
        "result = []\n",
        "natName = ''\n",
        "\n",
        "print('<<국내 입국한 외국인의 통계를 수집합니다.>>')\n",
        "nat_cd = input('국가 코드를 입력하세요(중국 : 112 / 일본 : 130 / 미국 : 275) :')\n",
        "nStartYear = int(input('데이터를 몇 년부터 수집할까요?:'))\n",
        "nEndYear = int(input('데이터를 몇 년까지 수집할까요?:'))\n",
        "ed_cd = 'E' #E:방한외래관광객, D:해외 출국\n",
        "\n",
        "dataEND = '{0}{1:0>2}'.format(str(nEndYear), str(12))\n",
        "print(dataEND)\n",
        "isDataEnd = 0 # 데이터 끝 확인용 flat 초기화\n",
        "\n",
        "for year in range(nStartYear, nEndYear+1):\n",
        "  for month in range(1, 13):\n",
        "    if isDataEnd == 1 :\n",
        "      break #데이터 끝 flag 설정되어 있으면 작업 중지\n",
        "    yyyymm = '{0}{1:0>2}'.format(str(year), str(month))\n",
        "\n",
        "    jsonData = getTourismStatesItem(yyyymm, nat_cd, ed_cd)\n",
        "    jsonData = xmltodict.parse(jsonData)\n",
        "    print(jsonData)\n"
      ],
      "metadata": {
        "colab": {
          "base_uri": "https://localhost:8080/"
        },
        "id": "CrVLE0sULVZA",
        "outputId": "51a850e2-dfee-4a80-f3e4-e3741db74c96"
      },
      "execution_count": null,
      "outputs": [
        {
          "output_type": "stream",
          "name": "stdout",
          "text": [
            "<<국내 입국한 외국인의 통계를 수집합니다.>>\n",
            "국가 코드를 입력하세요(중국 : 112 / 일본 : 130 / 미국 : 275) :112\n",
            "데이터를 몇 년부터 수집할까요?:2016\n",
            "데이터를 몇 년까지 수집할까요?:2018\n",
            "201812\n",
            "{'response': {'header': {'resultCode': '0000', 'resultMsg': 'OK'}, 'body': {'items': {'item': {'ed': '방한외래관광객', 'edCd': 'E', 'natCd': '112', 'natKorNm': '중  국', 'num': '521981', 'rnum': '1', 'ym': '201601'}}, 'numOfRows': '10', 'pageNo': '1', 'totalCount': '1'}}}\n",
            "{'response': {'header': {'resultCode': '0000', 'resultMsg': 'OK'}, 'body': {'items': {'item': {'ed': '방한외래관광객', 'edCd': 'E', 'natCd': '112', 'natKorNm': '중  국', 'num': '546408', 'rnum': '1', 'ym': '201602'}}, 'numOfRows': '10', 'pageNo': '1', 'totalCount': '1'}}}\n",
            "{'response': {'header': {'resultCode': '0000', 'resultMsg': 'OK'}, 'body': {'items': {'item': {'ed': '방한외래관광객', 'edCd': 'E', 'natCd': '112', 'natKorNm': '중  국', 'num': '601671', 'rnum': '1', 'ym': '201603'}}, 'numOfRows': '10', 'pageNo': '1', 'totalCount': '1'}}}\n",
            "{'response': {'header': {'resultCode': '0000', 'resultMsg': 'OK'}, 'body': {'items': {'item': {'ed': '방한외래관광객', 'edCd': 'E', 'natCd': '112', 'natKorNm': '중  국', 'num': '682318', 'rnum': '1', 'ym': '201604'}}, 'numOfRows': '10', 'pageNo': '1', 'totalCount': '1'}}}\n",
            "{'response': {'header': {'resultCode': '0000', 'resultMsg': 'OK'}, 'body': {'items': {'item': {'ed': '방한외래관광객', 'edCd': 'E', 'natCd': '112', 'natKorNm': '중  국', 'num': '705844', 'rnum': '1', 'ym': '201605'}}, 'numOfRows': '10', 'pageNo': '1', 'totalCount': '1'}}}\n",
            "{'response': {'header': {'resultCode': '0000', 'resultMsg': 'OK'}, 'body': {'items': {'item': {'ed': '방한외래관광객', 'edCd': 'E', 'natCd': '112', 'natKorNm': '중  국', 'num': '758534', 'rnum': '1', 'ym': '201606'}}, 'numOfRows': '10', 'pageNo': '1', 'totalCount': '1'}}}\n",
            "{'response': {'header': {'resultCode': '0000', 'resultMsg': 'OK'}, 'body': {'items': {'item': {'ed': '방한외래관광객', 'edCd': 'E', 'natCd': '112', 'natKorNm': '중  국', 'num': '917519', 'rnum': '1', 'ym': '201607'}}, 'numOfRows': '10', 'pageNo': '1', 'totalCount': '1'}}}\n",
            "{'response': {'header': {'resultCode': '0000', 'resultMsg': 'OK'}, 'body': {'items': {'item': {'ed': '방한외래관광객', 'edCd': 'E', 'natCd': '112', 'natKorNm': '중  국', 'num': '873771', 'rnum': '1', 'ym': '201608'}}, 'numOfRows': '10', 'pageNo': '1', 'totalCount': '1'}}}\n",
            "{'response': {'header': {'resultCode': '0000', 'resultMsg': 'OK'}, 'body': {'items': {'item': {'ed': '방한외래관광객', 'edCd': 'E', 'natCd': '112', 'natKorNm': '중  국', 'num': '726266', 'rnum': '1', 'ym': '201609'}}, 'numOfRows': '10', 'pageNo': '1', 'totalCount': '1'}}}\n",
            "{'response': {'header': {'resultCode': '0000', 'resultMsg': 'OK'}, 'body': {'items': {'item': {'ed': '방한외래관광객', 'edCd': 'E', 'natCd': '112', 'natKorNm': '중  국', 'num': '680918', 'rnum': '1', 'ym': '201610'}}, 'numOfRows': '10', 'pageNo': '1', 'totalCount': '1'}}}\n",
            "{'response': {'header': {'resultCode': '0000', 'resultMsg': 'OK'}, 'body': {'items': {'item': {'ed': '방한외래관광객', 'edCd': 'E', 'natCd': '112', 'natKorNm': '중  국', 'num': '516956', 'rnum': '1', 'ym': '201611'}}, 'numOfRows': '10', 'pageNo': '1', 'totalCount': '1'}}}\n",
            "{'response': {'header': {'resultCode': '0000', 'resultMsg': 'OK'}, 'body': {'items': {'item': {'ed': '방한외래관광객', 'edCd': 'E', 'natCd': '112', 'natKorNm': '중  국', 'num': '535536', 'rnum': '1', 'ym': '201612'}}, 'numOfRows': '10', 'pageNo': '1', 'totalCount': '1'}}}\n",
            "{'response': {'header': {'resultCode': '0000', 'resultMsg': 'OK'}, 'body': {'items': {'item': {'ed': '방한외래관광객', 'edCd': 'E', 'natCd': '112', 'natKorNm': '중  국', 'num': '565243', 'rnum': '1', 'ym': '201701'}}, 'numOfRows': '10', 'pageNo': '1', 'totalCount': '1'}}}\n",
            "{'response': {'header': {'resultCode': '0000', 'resultMsg': 'OK'}, 'body': {'items': {'item': {'ed': '방한외래관광객', 'edCd': 'E', 'natCd': '112', 'natKorNm': '중  국', 'num': '590790', 'rnum': '1', 'ym': '201702'}}, 'numOfRows': '10', 'pageNo': '1', 'totalCount': '1'}}}\n",
            "{'response': {'header': {'resultCode': '0000', 'resultMsg': 'OK'}, 'body': {'items': {'item': {'ed': '방한외래관광객', 'edCd': 'E', 'natCd': '112', 'natKorNm': '중  국', 'num': '360782', 'rnum': '1', 'ym': '201703'}}, 'numOfRows': '10', 'pageNo': '1', 'totalCount': '1'}}}\n",
            "{'response': {'header': {'resultCode': '0000', 'resultMsg': 'OK'}, 'body': {'items': {'item': {'ed': '방한외래관광객', 'edCd': 'E', 'natCd': '112', 'natKorNm': '중  국', 'num': '227811', 'rnum': '1', 'ym': '201704'}}, 'numOfRows': '10', 'pageNo': '1', 'totalCount': '1'}}}\n",
            "{'response': {'header': {'resultCode': '0000', 'resultMsg': 'OK'}, 'body': {'items': {'item': {'ed': '방한외래관광객', 'edCd': 'E', 'natCd': '112', 'natKorNm': '중  국', 'num': '253359', 'rnum': '1', 'ym': '201705'}}, 'numOfRows': '10', 'pageNo': '1', 'totalCount': '1'}}}\n",
            "{'response': {'header': {'resultCode': '0000', 'resultMsg': 'OK'}, 'body': {'items': {'item': {'ed': '방한외래관광객', 'edCd': 'E', 'natCd': '112', 'natKorNm': '중  국', 'num': '254930', 'rnum': '1', 'ym': '201706'}}, 'numOfRows': '10', 'pageNo': '1', 'totalCount': '1'}}}\n",
            "{'response': {'header': {'resultCode': '0000', 'resultMsg': 'OK'}, 'body': {'items': {'item': {'ed': '방한외래관광객', 'edCd': 'E', 'natCd': '112', 'natKorNm': '중  국', 'num': '281263', 'rnum': '1', 'ym': '201707'}}, 'numOfRows': '10', 'pageNo': '1', 'totalCount': '1'}}}\n",
            "{'response': {'header': {'resultCode': '0000', 'resultMsg': 'OK'}, 'body': {'items': {'item': {'ed': '방한외래관광객', 'edCd': 'E', 'natCd': '112', 'natKorNm': '중  국', 'num': '339388', 'rnum': '1', 'ym': '201708'}}, 'numOfRows': '10', 'pageNo': '1', 'totalCount': '1'}}}\n",
            "{'response': {'header': {'resultCode': '0000', 'resultMsg': 'OK'}, 'body': {'items': {'item': {'ed': '방한외래관광객', 'edCd': 'E', 'natCd': '112', 'natKorNm': '중  국', 'num': '318682', 'rnum': '1', 'ym': '201709'}}, 'numOfRows': '10', 'pageNo': '1', 'totalCount': '1'}}}\n",
            "{'response': {'header': {'resultCode': '0000', 'resultMsg': 'OK'}, 'body': {'items': {'item': {'ed': '방한외래관광객', 'edCd': 'E', 'natCd': '112', 'natKorNm': '중  국', 'num': '345384', 'rnum': '1', 'ym': '201710'}}, 'numOfRows': '10', 'pageNo': '1', 'totalCount': '1'}}}\n",
            "{'response': {'header': {'resultCode': '0000', 'resultMsg': 'OK'}, 'body': {'items': {'item': {'ed': '방한외래관광객', 'edCd': 'E', 'natCd': '112', 'natKorNm': '중  국', 'num': '299247', 'rnum': '1', 'ym': '201711'}}, 'numOfRows': '10', 'pageNo': '1', 'totalCount': '1'}}}\n",
            "{'response': {'header': {'resultCode': '0000', 'resultMsg': 'OK'}, 'body': {'items': {'item': {'ed': '방한외래관광객', 'edCd': 'E', 'natCd': '112', 'natKorNm': '중  국', 'num': '332474', 'rnum': '1', 'ym': '201712'}}, 'numOfRows': '10', 'pageNo': '1', 'totalCount': '1'}}}\n",
            "{'response': {'header': {'resultCode': '0000', 'resultMsg': 'OK'}, 'body': {'items': {'item': {'ed': '방한외래관광객', 'edCd': 'E', 'natCd': '112', 'natKorNm': '중  국', 'num': '305127', 'rnum': '1', 'ym': '201801'}}, 'numOfRows': '10', 'pageNo': '1', 'totalCount': '1'}}}\n",
            "{'response': {'header': {'resultCode': '0000', 'resultMsg': 'OK'}, 'body': {'items': {'item': {'ed': '방한외래관광객', 'edCd': 'E', 'natCd': '112', 'natKorNm': '중  국', 'num': '345341', 'rnum': '1', 'ym': '201802'}}, 'numOfRows': '10', 'pageNo': '1', 'totalCount': '1'}}}\n",
            "{'response': {'header': {'resultCode': '0000', 'resultMsg': 'OK'}, 'body': {'items': {'item': {'ed': '방한외래관광객', 'edCd': 'E', 'natCd': '112', 'natKorNm': '중  국', 'num': '403413', 'rnum': '1', 'ym': '201803'}}, 'numOfRows': '10', 'pageNo': '1', 'totalCount': '1'}}}\n",
            "{'response': {'header': {'resultCode': '0000', 'resultMsg': 'OK'}, 'body': {'items': {'item': {'ed': '방한외래관광객', 'edCd': 'E', 'natCd': '112', 'natKorNm': '중  국', 'num': '366604', 'rnum': '1', 'ym': '201804'}}, 'numOfRows': '10', 'pageNo': '1', 'totalCount': '1'}}}\n",
            "{'response': {'header': {'resultCode': '0000', 'resultMsg': 'OK'}, 'body': {'items': {'item': {'ed': '방한외래관광객', 'edCd': 'E', 'natCd': '112', 'natKorNm': '중  국', 'num': '370222', 'rnum': '1', 'ym': '201805'}}, 'numOfRows': '10', 'pageNo': '1', 'totalCount': '1'}}}\n",
            "{'response': {'header': {'resultCode': '0000', 'resultMsg': 'OK'}, 'body': {'items': {'item': {'ed': '방한외래관광객', 'edCd': 'E', 'natCd': '112', 'natKorNm': '중  국', 'num': '379891', 'rnum': '1', 'ym': '201806'}}, 'numOfRows': '10', 'pageNo': '1', 'totalCount': '1'}}}\n",
            "{'response': {'header': {'resultCode': '0000', 'resultMsg': 'OK'}, 'body': {'items': {'item': {'ed': '방한외래관광객', 'edCd': 'E', 'natCd': '112', 'natKorNm': '중  국', 'num': '410337', 'rnum': '1', 'ym': '201807'}}, 'numOfRows': '10', 'pageNo': '1', 'totalCount': '1'}}}\n",
            "{'response': {'header': {'resultCode': '0000', 'resultMsg': 'OK'}, 'body': {'items': {'item': {'ed': '방한외래관광객', 'edCd': 'E', 'natCd': '112', 'natKorNm': '중  국', 'num': '478140', 'rnum': '1', 'ym': '201808'}}, 'numOfRows': '10', 'pageNo': '1', 'totalCount': '1'}}}\n",
            "{'response': {'header': {'resultCode': '0000', 'resultMsg': 'OK'}, 'body': {'items': {'item': {'ed': '방한외래관광객', 'edCd': 'E', 'natCd': '112', 'natKorNm': '중  국', 'num': '434595', 'rnum': '1', 'ym': '201809'}}, 'numOfRows': '10', 'pageNo': '1', 'totalCount': '1'}}}\n",
            "{'response': {'header': {'resultCode': '0000', 'resultMsg': 'OK'}, 'body': {'items': {'item': {'ed': '방한외래관광객', 'edCd': 'E', 'natCd': '112', 'natKorNm': '중  국', 'num': '475307', 'rnum': '1', 'ym': '201810'}}, 'numOfRows': '10', 'pageNo': '1', 'totalCount': '1'}}}\n",
            "{'response': {'header': {'resultCode': '0000', 'resultMsg': 'OK'}, 'body': {'items': {'item': {'ed': '방한외래관광객', 'edCd': 'E', 'natCd': '112', 'natKorNm': '중  국', 'num': '404256', 'rnum': '1', 'ym': '201811'}}, 'numOfRows': '10', 'pageNo': '1', 'totalCount': '1'}}}\n",
            "{'response': {'header': {'resultCode': '0000', 'resultMsg': 'OK'}, 'body': {'items': {'item': {'ed': '방한외래관광객', 'edCd': 'E', 'natCd': '112', 'natKorNm': '중  국', 'num': '416279', 'rnum': '1', 'ym': '201812'}}, 'numOfRows': '10', 'pageNo': '1', 'totalCount': '1'}}}\n"
          ]
        }
      ]
    },
    {
      "cell_type": "code",
      "source": [
        "#ServiceKey=\"B4QVX9oRn6HfmIKPAZyWMkU2EIAIzUbTEcQBY2awLLopq4s8oBjKIhAG8GdkYaLUbTk0H6vrlnHkoM6IAPn5aQ%3D%3D\"\n",
        "ServiceKey=\"B4QVX9oRn6HfmIKPAZyWMkU2EIAIzUbTEcQBY2awLLopq4s8oBjKIhAG8GdkYaLUbTk0H6vrlnHkoM6IAPn5aQ==\" #내 인증키\n",
        "\n",
        "def getTourismStatesItem(yyyymm, national_code, ed_cd):\n",
        "    url = 'http://openapi.tour.go.kr/openapi/service/EdrcntTourismStatsService/getEdrcntTourismStatsList'\n",
        "    params ={'serviceKey' : ServiceKey, 'YM' : yyyymm, 'NAT_CD' : national_code, 'ED_CD' : ed_cd }\n",
        "\n",
        "    response = requests.get(url, params=params)\n",
        "    #print(response.content)\n",
        "    #print(response.text)\n",
        "    return response.text\n",
        "\n",
        "jsonResult = []\n",
        "result = []\n",
        "natName =''\n",
        "print('<<국내 입국한 외국인의 통계를 수집합니다.>>')\n",
        "nat_cd = input('국가 코드를 입력하세요(중국 : 112 / 일본 : 130 / 미국 : 275) :')\n",
        "nStartYear = int(input('데이터를 몇 년부터 수집할까요?:'))\n",
        "nEndYear = int(input('데이터를 몇 년까지 수집할까요?:'))\n",
        "ed_cd = 'E' #E:방한외래관광객, D:해외 출국\n",
        "\n",
        "dataEND = '{0}{1:0>2}'.format(str(nEndYear), str(12))\n",
        "print(dataEND)\n",
        "isDataEnd = 0 # 데이터 끝 확인용 flat 초기화\n",
        "\n",
        "for year in range(nStartYear,  nEndYear+1) :\n",
        "  for month in range(1, 13):\n",
        "    if isDataEnd == 1: break; # 데이터 끝 flag 설정되어 있으면 작업 중지\n",
        "    yyyymm = '{0}{1:0>2}'.format(str(year),str(month))\n",
        "\n",
        "    jsonData = getTourismStatesItem(yyyymm, nat_cd, ed_cd )\n",
        "    jsonData = xmltodict.parse(jsonData)\n",
        "    #print(jsonData)\n",
        "\n",
        "    if jsonData['response']['header']['resultMsg']=='OK':\n",
        "      if jsonData['response']['body']['items'] =='':\n",
        "         isDataEnd = 1 #데이터 끝 flag 설정\n",
        "         dataEND = '{0}{1:0>2}'.format(str(year), str(month-1))\n",
        "         print('데이터 없음...\\n 제공되는 통계 데이터는 %s년 %s월까지입니다.' % str(year), str(month-1))\n",
        "         break\n",
        "\n",
        "      #jsonData를 출력하여 확인...........................................\n",
        "      natName = jsonData['response']['body']['items']['item']['natKorNm']\n",
        "      natName = natName.replace(' ','')\n",
        "      num = jsonData['response']['body']['items']['item']['num']\n",
        "      ed = jsonData['response']['body']['items']['item']['ed']\n",
        "      print('[%s_%s : %s]' % (natName, num, ed))\n",
        "      #둘 다 똑같이 복사한 건데 뭐가 다른 걸까\n"
      ],
      "metadata": {
        "colab": {
          "base_uri": "https://localhost:8080/"
        },
        "id": "Z-xv8sFvVNdv",
        "outputId": "9c40a568-8fdd-4b64-8cb3-608d7d926f71"
      },
      "execution_count": null,
      "outputs": [
        {
          "output_type": "stream",
          "name": "stdout",
          "text": [
            "<<국내 입국한 외국인의 통계를 수집합니다.>>\n",
            "국가 코드를 입력하세요(중국 : 112 / 일본 : 130 / 미국 : 275) :112\n",
            "데이터를 몇 년부터 수집할까요?:2015\n",
            "데이터를 몇 년까지 수집할까요?:2018\n",
            "201812\n",
            "[중국_394345 : 방한외래관광객]\n",
            "[중국_516787 : 방한외래관광객]\n",
            "[중국_515130 : 방한외래관광객]\n",
            "[중국_641610 : 방한외래관광객]\n",
            "[중국_618083 : 방한외래관광객]\n",
            "[중국_315095 : 방한외래관광객]\n",
            "[중국_255632 : 방한외래관광객]\n",
            "[중국_513275 : 방한외래관광객]\n",
            "[중국_591242 : 방한외래관광객]\n",
            "[중국_650174 : 방한외래관광객]\n",
            "[중국_507579 : 방한외래관광객]\n",
            "[중국_465218 : 방한외래관광객]\n",
            "[중국_521981 : 방한외래관광객]\n",
            "[중국_546408 : 방한외래관광객]\n",
            "[중국_601671 : 방한외래관광객]\n",
            "[중국_682318 : 방한외래관광객]\n",
            "[중국_705844 : 방한외래관광객]\n",
            "[중국_758534 : 방한외래관광객]\n",
            "[중국_917519 : 방한외래관광객]\n",
            "[중국_873771 : 방한외래관광객]\n",
            "[중국_726266 : 방한외래관광객]\n",
            "[중국_680918 : 방한외래관광객]\n",
            "[중국_516956 : 방한외래관광객]\n",
            "[중국_535536 : 방한외래관광객]\n",
            "[중국_565243 : 방한외래관광객]\n",
            "[중국_590790 : 방한외래관광객]\n",
            "[중국_360782 : 방한외래관광객]\n",
            "[중국_227811 : 방한외래관광객]\n",
            "[중국_253359 : 방한외래관광객]\n",
            "[중국_254930 : 방한외래관광객]\n",
            "[중국_281263 : 방한외래관광객]\n",
            "[중국_339388 : 방한외래관광객]\n",
            "[중국_318682 : 방한외래관광객]\n",
            "[중국_345384 : 방한외래관광객]\n",
            "[중국_299247 : 방한외래관광객]\n",
            "[중국_332474 : 방한외래관광객]\n",
            "[중국_305127 : 방한외래관광객]\n",
            "[중국_345341 : 방한외래관광객]\n",
            "[중국_403413 : 방한외래관광객]\n",
            "[중국_366604 : 방한외래관광객]\n",
            "[중국_370222 : 방한외래관광객]\n",
            "[중국_379891 : 방한외래관광객]\n",
            "[중국_410337 : 방한외래관광객]\n",
            "[중국_478140 : 방한외래관광객]\n",
            "[중국_434595 : 방한외래관광객]\n",
            "[중국_475307 : 방한외래관광객]\n",
            "[중국_404256 : 방한외래관광객]\n",
            "[중국_416279 : 방한외래관광객]\n"
          ]
        }
      ]
    },
    {
      "cell_type": "code",
      "source": [],
      "metadata": {
        "id": "DLSuhKmzPqRU"
      },
      "execution_count": null,
      "outputs": []
    }
  ]
}