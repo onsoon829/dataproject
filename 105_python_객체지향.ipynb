{
  "nbformat": 4,
  "nbformat_minor": 0,
  "metadata": {
    "colab": {
      "provenance": [],
      "authorship_tag": "ABX9TyOTcPwKF5RX/FAyoimI4Lhu",
      "include_colab_link": true
    },
    "kernelspec": {
      "name": "python3",
      "display_name": "Python 3"
    },
    "language_info": {
      "name": "python"
    }
  },
  "cells": [
    {
      "cell_type": "markdown",
      "metadata": {
        "id": "view-in-github",
        "colab_type": "text"
      },
      "source": [
        "<a href=\"https://colab.research.google.com/github/onsoon829/dataproject/blob/master/105_python_%EA%B0%9D%EC%B2%B4%EC%A7%80%ED%96%A5.ipynb\" target=\"_parent\"><img src=\"https://colab.research.google.com/assets/colab-badge.svg\" alt=\"Open In Colab\"/></a>"
      ]
    },
    {
      "cell_type": "markdown",
      "source": [
        "객체: 실세계에 존재하는 모든 사물이나 개념\n",
        "```\n",
        "1. 객체모델링: 객체의 특징과 동작 분석\n",
        " 특징(예)\n",
        "   홍길동                 이영희\n",
        "   이름: 홍길동           이름: 홍길동\n",
        "   나이: 30               나이: 25\n",
        "   직업: 학생             직업: 개발자\n",
        "   동작: 공부를 한다      동작: 코딩을 한다    공통이 아닌 것들은\n",
        "         밥을 먹는다            걷는다\n",
        "         걷는다                 밥을 먹는다\n",
        "\n",
        "2. class 정의   \n",
        "class person(클래스 이름 정의한다):\n",
        "  def __init__(self.name, age, job): #자기 자신 값\n",
        "    self.name = name\n",
        "    self.age = age\n",
        "    self.job = job\n",
        "\n",
        "  def eat(self):\n",
        "      print('eat')\n",
        "\n",
        "  def walk(self):\n",
        "      print('walk')\n",
        "\n",
        "3. 객체생성\n",
        "   hong = Person('홍길동',30,'학생')\n",
        "   hong.eat()\n",
        "   hong.walk()\n",
        "   print(hong.name, hong.age, hong.job)\n",
        "\n",
        "   lee = Person('이영희','25','개발자')\n",
        "   lee.eat()\n",
        "   lee.walk()\n",
        "   print(lee.name, lee.age, lee.job)        \n",
        "\n",
        "class Hong(Person): (위의 클래스를 상속받아 구현한다?)\n",
        "     pass\n",
        "\n",
        "class Lee(Person):\n",
        "     pass     \n",
        "```    "
      ],
      "metadata": {
        "id": "K-uPrn2mKvDp"
      }
    },
    {
      "cell_type": "markdown",
      "source": [
        "is : 메모리 주소\n",
        "issublclass(child.parent): 상속여부\n",
        "isinstance(a, int(객체의 타입)): int 클래스의 a가 인스턴스 여부\n",
        "\n",
        "파이썬에서 이루어지는 모든 값은 객체로 이루어져있다."
      ],
      "metadata": {
        "id": "D0R-y31wPXKx"
      }
    },
    {
      "cell_type": "code",
      "source": [
        "a = 1"
      ],
      "metadata": {
        "id": "IIvynQKrP4RD"
      },
      "execution_count": null,
      "outputs": []
    },
    {
      "cell_type": "code",
      "source": [
        "type(a)"
      ],
      "metadata": {
        "colab": {
          "base_uri": "https://localhost:8080/"
        },
        "id": "J-Zup66WQELl",
        "outputId": "f929e915-f2b2-4073-cdc2-46ff76cec74a"
      },
      "execution_count": null,
      "outputs": [
        {
          "output_type": "execute_result",
          "data": {
            "text/plain": [
              "int"
            ]
          },
          "metadata": {},
          "execution_count": 3
        }
      ]
    },
    {
      "cell_type": "code",
      "source": [
        "#정수값 1을 int의 인스턴스 방식으로 만들 수 있다.\n",
        "a = int('1')"
      ],
      "metadata": {
        "id": "J_wELRhMQTtZ"
      },
      "execution_count": null,
      "outputs": []
    },
    {
      "cell_type": "code",
      "source": [
        "type(a)"
      ],
      "metadata": {
        "colab": {
          "base_uri": "https://localhost:8080/"
        },
        "id": "rFMxxvb3QrLw",
        "outputId": "988f0425-5e92-4d30-de48-25593036311e"
      },
      "execution_count": null,
      "outputs": [
        {
          "output_type": "execute_result",
          "data": {
            "text/plain": [
              "int"
            ]
          },
          "metadata": {},
          "execution_count": 7
        }
      ]
    },
    {
      "cell_type": "code",
      "source": [
        "isinstance(a, int)"
      ],
      "metadata": {
        "colab": {
          "base_uri": "https://localhost:8080/"
        },
        "id": "Zjo54YsRQyXB",
        "outputId": "1171c7b2-f852-4fb3-a363-42e74a593511"
      },
      "execution_count": null,
      "outputs": [
        {
          "output_type": "execute_result",
          "data": {
            "text/plain": [
              "True"
            ]
          },
          "metadata": {},
          "execution_count": 10
        }
      ]
    },
    {
      "cell_type": "code",
      "source": [
        "isinstance(a, str)"
      ],
      "metadata": {
        "colab": {
          "base_uri": "https://localhost:8080/"
        },
        "id": "op2qCNBJRCHo",
        "outputId": "7e1a6178-2c54-429d-d90d-81839e556ed4"
      },
      "execution_count": null,
      "outputs": [
        {
          "output_type": "execute_result",
          "data": {
            "text/plain": [
              "False"
            ]
          },
          "metadata": {},
          "execution_count": 12
        }
      ]
    },
    {
      "cell_type": "code",
      "source": [
        "class A:\n",
        "  x = 1\n",
        "  def prn(self): #메소드\n",
        "    a = 1"
      ],
      "metadata": {
        "id": "7jcz3EjUREiy"
      },
      "execution_count": null,
      "outputs": []
    },
    {
      "cell_type": "code",
      "source": [
        "callable(A)"
      ],
      "metadata": {
        "colab": {
          "base_uri": "https://localhost:8080/"
        },
        "id": "eQWBBu66Rdu4",
        "outputId": "54f97a32-3d53-4460-c021-2a0e399b345b"
      },
      "execution_count": null,
      "outputs": [
        {
          "output_type": "execute_result",
          "data": {
            "text/plain": [
              "True"
            ]
          },
          "metadata": {},
          "execution_count": 25
        }
      ]
    },
    {
      "cell_type": "code",
      "source": [
        "# 사용할 때 괄호를 붙일 수 있다. -> callable\n",
        "A()"
      ],
      "metadata": {
        "colab": {
          "base_uri": "https://localhost:8080/"
        },
        "id": "-ek29oNKRpQh",
        "outputId": "c5c74890-833f-4e65-a2a5-3d34ad7c4744"
      },
      "execution_count": null,
      "outputs": [
        {
          "output_type": "execute_result",
          "data": {
            "text/plain": [
              "<__main__.A at 0x7a7773f92c20>"
            ]
          },
          "metadata": {},
          "execution_count": 17
        }
      ]
    },
    {
      "cell_type": "code",
      "source": [
        "print(dir(A))"
      ],
      "metadata": {
        "colab": {
          "base_uri": "https://localhost:8080/"
        },
        "id": "UEQ4X6PnRw1Z",
        "outputId": "2e1063d3-786e-40aa-f9da-11220449bbbf"
      },
      "execution_count": null,
      "outputs": [
        {
          "output_type": "stream",
          "name": "stdout",
          "text": [
            "['__class__', '__delattr__', '__dict__', '__dir__', '__doc__', '__eq__', '__format__', '__ge__', '__getattribute__', '__gt__', '__hash__', '__init__', '__init_subclass__', '__le__', '__lt__', '__module__', '__ne__', '__new__', '__reduce__', '__reduce_ex__', '__repr__', '__setattr__', '__sizeof__', '__str__', '__subclasshook__', '__weakref__', 'prn', 'x']\n"
          ]
        }
      ]
    },
    {
      "cell_type": "code",
      "source": [
        "k = A() #객체생성 (자바에선 '생성자'라고 한다.)"
      ],
      "metadata": {
        "id": "oaBxaa5mR6qB"
      },
      "execution_count": null,
      "outputs": []
    },
    {
      "cell_type": "code",
      "source": [
        "isinstance(k, A)"
      ],
      "metadata": {
        "colab": {
          "base_uri": "https://localhost:8080/"
        },
        "id": "WBfRuU0USBUI",
        "outputId": "798b2c0f-0055-4a8a-8c82-409a59936d0e"
      },
      "execution_count": null,
      "outputs": [
        {
          "output_type": "execute_result",
          "data": {
            "text/plain": [
              "False"
            ]
          },
          "metadata": {},
          "execution_count": 26
        }
      ]
    },
    {
      "cell_type": "code",
      "source": [
        "k.prn()#객체.메소드()"
      ],
      "metadata": {
        "id": "KUCGVkqISlfz"
      },
      "execution_count": null,
      "outputs": []
    },
    {
      "cell_type": "code",
      "source": [
        "A.prn(k)#클래스.메소드(객체)"
      ],
      "metadata": {
        "id": "1EkfQscVSo3J"
      },
      "execution_count": null,
      "outputs": []
    },
    {
      "cell_type": "code",
      "source": [
        "A.prn(m)"
      ],
      "metadata": {
        "colab": {
          "base_uri": "https://localhost:8080/",
          "height": 183
        },
        "id": "HsM0kYyTS__E",
        "outputId": "915c35d6-5cc5-47d5-ce92-4c18895e768e"
      },
      "execution_count": null,
      "outputs": [
        {
          "output_type": "error",
          "ename": "NameError",
          "evalue": "ignored",
          "traceback": [
            "\u001b[0;31m---------------------------------------------------------------------------\u001b[0m",
            "\u001b[0;31mNameError\u001b[0m                                 Traceback (most recent call last)",
            "\u001b[0;32m<ipython-input-37-b93ee9a65c68>\u001b[0m in \u001b[0;36m<cell line: 1>\u001b[0;34m()\u001b[0m\n\u001b[0;32m----> 1\u001b[0;31m \u001b[0mA\u001b[0m\u001b[0;34m.\u001b[0m\u001b[0mprn\u001b[0m\u001b[0;34m(\u001b[0m\u001b[0mm\u001b[0m\u001b[0;34m)\u001b[0m\u001b[0;34m\u001b[0m\u001b[0;34m\u001b[0m\u001b[0m\n\u001b[0m",
            "\u001b[0;31mNameError\u001b[0m: name 'm' is not defined"
          ]
        }
      ]
    },
    {
      "cell_type": "markdown",
      "source": [
        "클래스는 내부에 있는 값을 접근할 수 있다. 2가지 방법으로 접근 가능하다.\n",
        " - 클래스에서 접근\n",
        " - 인스턴스에서 접"
      ],
      "metadata": {
        "id": "nMJ4bia8UByZ"
      }
    },
    {
      "cell_type": "code",
      "source": [
        "class A:\n",
        "  x = 1  #클래스 변수"
      ],
      "metadata": {
        "id": "bGTfn98QUKCw"
      },
      "execution_count": null,
      "outputs": []
    },
    {
      "cell_type": "code",
      "source": [
        "#클래스에서 접근 #클래스를 가지고 클래스에 접근 가능, 객체 가지고 클래스에 접근 가능\n",
        "A.x"
      ],
      "metadata": {
        "colab": {
          "base_uri": "https://localhost:8080/"
        },
        "id": "gom-WVdbUOOY",
        "outputId": "bac6af57-fb2e-431e-8246-ca1cbe679af3"
      },
      "execution_count": null,
      "outputs": [
        {
          "output_type": "execute_result",
          "data": {
            "text/plain": [
              "1"
            ]
          },
          "metadata": {},
          "execution_count": 41
        }
      ]
    },
    {
      "cell_type": "code",
      "source": [
        "#인스턴스에서 접근\n",
        "aa = A()#객체 = 인스턴스     #인스턴스(객체) 생성\n",
        "aa.x   #인스턴스(객체)에서 접근"
      ],
      "metadata": {
        "colab": {
          "base_uri": "https://localhost:8080/"
        },
        "id": "vi4d87WwXd_I",
        "outputId": "6b81ec0a-d133-4222-df5a-563e2fc0e2f7"
      },
      "execution_count": null,
      "outputs": [
        {
          "output_type": "execute_result",
          "data": {
            "text/plain": [
              "1"
            ]
          },
          "metadata": {},
          "execution_count": 43
        }
      ]
    },
    {
      "cell_type": "code",
      "source": [
        "#python에서 제공하는 내장클래스이다.\n",
        "type(int)"
      ],
      "metadata": {
        "colab": {
          "base_uri": "https://localhost:8080/"
        },
        "id": "3V1tfQ2tYwqq",
        "outputId": "44615c0b-b285-47c3-bbdd-2c64b478e9f7"
      },
      "execution_count": null,
      "outputs": [
        {
          "output_type": "execute_result",
          "data": {
            "text/plain": [
              "type"
            ]
          },
          "metadata": {},
          "execution_count": 47
        }
      ]
    },
    {
      "cell_type": "code",
      "source": [
        "m=5\n",
        "type(m)"
      ],
      "metadata": {
        "colab": {
          "base_uri": "https://localhost:8080/"
        },
        "id": "5dnvXYotZLhg",
        "outputId": "663778c1-2dcc-4ec5-82a5-e5536992e0bf"
      },
      "execution_count": null,
      "outputs": [
        {
          "output_type": "execute_result",
          "data": {
            "text/plain": [
              "int"
            ]
          },
          "metadata": {},
          "execution_count": 48
        }
      ]
    },
    {
      "cell_type": "code",
      "source": [
        "#사용자가 정의한  클래스 #클래스의 타입을 물으면  type이 출력된다.\n",
        "type(A)"
      ],
      "metadata": {
        "colab": {
          "base_uri": "https://localhost:8080/"
        },
        "id": "jiJ1fWGOZOzY",
        "outputId": "e257107c-0df2-4a65-ed2c-46986ca85ece"
      },
      "execution_count": null,
      "outputs": [
        {
          "output_type": "execute_result",
          "data": {
            "text/plain": [
              "type"
            ]
          },
          "metadata": {},
          "execution_count": 50
        }
      ]
    },
    {
      "cell_type": "code",
      "source": [
        "#사용자가 정의한 클래스같은 경우는 정의한 값이 나온다?\n",
        "type(aa)"
      ],
      "metadata": {
        "colab": {
          "base_uri": "https://localhost:8080/"
        },
        "id": "OoS0jHn0ZlFQ",
        "outputId": "822ab8fb-e1c3-4116-8e1c-ba6abf8d79f2"
      },
      "execution_count": null,
      "outputs": [
        {
          "output_type": "execute_result",
          "data": {
            "text/plain": [
              "__main__.A"
            ]
          },
          "metadata": {},
          "execution_count": 52
        }
      ]
    },
    {
      "cell_type": "code",
      "source": [
        "class Employee:\n",
        "  x = 1 #클래스 변수\n",
        "\n",
        "  def display(self, y): #메소드\n",
        "     self.y = y      #멤버변수\n",
        "     print(y)"
      ],
      "metadata": {
        "id": "0dgfutfsaCZ5"
      },
      "execution_count": null,
      "outputs": []
    },
    {
      "cell_type": "code",
      "source": [
        "Employee.x"
      ],
      "metadata": {
        "colab": {
          "base_uri": "https://localhost:8080/"
        },
        "id": "Yc39VmKeaWfB",
        "outputId": "70cd3330-fa3c-4cea-97c9-5e299d4bac2c"
      },
      "execution_count": null,
      "outputs": [
        {
          "output_type": "execute_result",
          "data": {
            "text/plain": [
              "1"
            ]
          },
          "metadata": {},
          "execution_count": 68
        }
      ]
    },
    {
      "cell_type": "code",
      "source": [
        "ps = Employee()\n",
        "ps.x"
      ],
      "metadata": {
        "colab": {
          "base_uri": "https://localhost:8080/"
        },
        "id": "7nDGQPuQaaIg",
        "outputId": "314395a5-9e76-464e-fa54-008399791278"
      },
      "execution_count": null,
      "outputs": [
        {
          "output_type": "execute_result",
          "data": {
            "text/plain": [
              "1"
            ]
          },
          "metadata": {},
          "execution_count": 67
        }
      ]
    },
    {
      "cell_type": "code",
      "source": [
        "ps.display(3)"
      ],
      "metadata": {
        "colab": {
          "base_uri": "https://localhost:8080/"
        },
        "id": "DZ5GPYMkakWS",
        "outputId": "1fa9002e-c9c6-4355-bd47-ecd3a4e75a57"
      },
      "execution_count": null,
      "outputs": [
        {
          "output_type": "stream",
          "name": "stdout",
          "text": [
            "3\n"
          ]
        }
      ]
    },
    {
      "cell_type": "code",
      "source": [
        "ps.y"
      ],
      "metadata": {
        "colab": {
          "base_uri": "https://localhost:8080/"
        },
        "id": "uga5ERgza_0B",
        "outputId": "d280781c-1344-4244-e91e-44ed93f59aec"
      },
      "execution_count": null,
      "outputs": [
        {
          "output_type": "execute_result",
          "data": {
            "text/plain": [
              "3"
            ]
          },
          "metadata": {},
          "execution_count": 71
        }
      ]
    },
    {
      "cell_type": "code",
      "source": [
        "pe = Employee()"
      ],
      "metadata": {
        "id": "mHPTrhjVbs_s"
      },
      "execution_count": null,
      "outputs": []
    },
    {
      "cell_type": "code",
      "source": [
        "pe.x"
      ],
      "metadata": {
        "colab": {
          "base_uri": "https://localhost:8080/"
        },
        "id": "tDANzB0Fbvug",
        "outputId": "4508379a-33d7-4ea1-b0d5-06d43323f4f8"
      },
      "execution_count": null,
      "outputs": [
        {
          "output_type": "execute_result",
          "data": {
            "text/plain": [
              "1"
            ]
          },
          "metadata": {},
          "execution_count": 74
        }
      ]
    },
    {
      "cell_type": "code",
      "source": [
        "pe.x = 10"
      ],
      "metadata": {
        "id": "29SW8lasbyGp"
      },
      "execution_count": null,
      "outputs": []
    },
    {
      "cell_type": "code",
      "source": [
        "pe.x"
      ],
      "metadata": {
        "colab": {
          "base_uri": "https://localhost:8080/"
        },
        "id": "4lP_YEX_bzzZ",
        "outputId": "a82878c9-2946-496f-dabb-0490136abbcd"
      },
      "execution_count": null,
      "outputs": [
        {
          "output_type": "execute_result",
          "data": {
            "text/plain": [
              "10"
            ]
          },
          "metadata": {},
          "execution_count": 76
        }
      ]
    },
    {
      "cell_type": "code",
      "source": [
        "ps.x"
      ],
      "metadata": {
        "colab": {
          "base_uri": "https://localhost:8080/"
        },
        "id": "8WOrhDBFb1FQ",
        "outputId": "4cd63a07-7c13-40b5-fed8-d79cb810252d"
      },
      "execution_count": null,
      "outputs": [
        {
          "output_type": "execute_result",
          "data": {
            "text/plain": [
              "1"
            ]
          },
          "metadata": {},
          "execution_count": 77
        }
      ]
    },
    {
      "cell_type": "code",
      "source": [
        "pe.y"
      ],
      "metadata": {
        "colab": {
          "base_uri": "https://localhost:8080/",
          "height": 183
        },
        "id": "qLBg8dwgb2IQ",
        "outputId": "6c787674-36e8-428a-9dcd-4372b679bd06"
      },
      "execution_count": null,
      "outputs": [
        {
          "output_type": "error",
          "ename": "AttributeError",
          "evalue": "ignored",
          "traceback": [
            "\u001b[0;31m---------------------------------------------------------------------------\u001b[0m",
            "\u001b[0;31mAttributeError\u001b[0m                            Traceback (most recent call last)",
            "\u001b[0;32m<ipython-input-80-a6e49528a6bf>\u001b[0m in \u001b[0;36m<cell line: 1>\u001b[0;34m()\u001b[0m\n\u001b[0;32m----> 1\u001b[0;31m \u001b[0mpe\u001b[0m\u001b[0;34m.\u001b[0m\u001b[0my\u001b[0m\u001b[0;34m\u001b[0m\u001b[0;34m\u001b[0m\u001b[0m\n\u001b[0m",
            "\u001b[0;31mAttributeError\u001b[0m: 'Employee' object has no attribute 'y'"
          ]
        }
      ]
    },
    {
      "cell_type": "code",
      "source": [
        "pe.display(5)\n",
        "pe.y"
      ],
      "metadata": {
        "colab": {
          "base_uri": "https://localhost:8080/"
        },
        "id": "CU6NoIDscCVZ",
        "outputId": "25c5a222-194a-48f5-9fee-eb1c65efa8d8"
      },
      "execution_count": null,
      "outputs": [
        {
          "output_type": "stream",
          "name": "stdout",
          "text": [
            "5\n"
          ]
        },
        {
          "output_type": "execute_result",
          "data": {
            "text/plain": [
              "5"
            ]
          },
          "metadata": {},
          "execution_count": 82
        }
      ]
    },
    {
      "cell_type": "code",
      "source": [
        "ps.x = 100\n",
        "ps.x"
      ],
      "metadata": {
        "colab": {
          "base_uri": "https://localhost:8080/"
        },
        "id": "JN7YWbf7caTB",
        "outputId": "ad975241-ec14-45df-deb9-e24a896456d2"
      },
      "execution_count": null,
      "outputs": [
        {
          "output_type": "execute_result",
          "data": {
            "text/plain": [
              "100"
            ]
          },
          "metadata": {},
          "execution_count": 84
        }
      ]
    },
    {
      "cell_type": "code",
      "source": [
        "pe.x"
      ],
      "metadata": {
        "colab": {
          "base_uri": "https://localhost:8080/"
        },
        "id": "_4KfLcylceTJ",
        "outputId": "b8a37dfb-125b-4795-b647-1c908a0a12f0"
      },
      "execution_count": null,
      "outputs": [
        {
          "output_type": "execute_result",
          "data": {
            "text/plain": [
              "10"
            ]
          },
          "metadata": {},
          "execution_count": 85
        }
      ]
    },
    {
      "cell_type": "code",
      "source": [
        "Employee.x"
      ],
      "metadata": {
        "colab": {
          "base_uri": "https://localhost:8080/"
        },
        "id": "XDwNQ5uvcfhZ",
        "outputId": "99f4e690-4e64-4269-be02-f33e9c2e3cd7"
      },
      "execution_count": null,
      "outputs": [
        {
          "output_type": "execute_result",
          "data": {
            "text/plain": [
              "1"
            ]
          },
          "metadata": {},
          "execution_count": 87
        }
      ]
    },
    {
      "cell_type": "code",
      "source": [
        "Employee.z = 7"
      ],
      "metadata": {
        "id": "RQ4lbKcrc48w"
      },
      "execution_count": null,
      "outputs": []
    },
    {
      "cell_type": "code",
      "source": [
        "ps.z"
      ],
      "metadata": {
        "colab": {
          "base_uri": "https://localhost:8080/"
        },
        "id": "jyKpLpPBc8vA",
        "outputId": "75e36fd7-aec3-4464-ea05-1f2ccafef3ed"
      },
      "execution_count": null,
      "outputs": [
        {
          "output_type": "execute_result",
          "data": {
            "text/plain": [
              "7"
            ]
          },
          "metadata": {},
          "execution_count": 91
        }
      ]
    },
    {
      "cell_type": "markdown",
      "source": [
        "## callable\n",
        " - 이름 뒤에 ( )를 붙이는 것을 call(호출)이라고 한다.\n",
        " - 이름 뒤에 ( )를 붙일 수 있는 것을 callable이라고 한다.\n",
        " - python에서 callable인 것은 3가지 유형이 있다.\n",
        "   - (1)funtion\n",
        "   - (2)class(init가 정의되었을 경우)\n",
        "   - (3)object(call이 정의되었을 경우)"
      ],
      "metadata": {
        "id": "7Pm-m_Zwe2hD"
      }
    },
    {
      "cell_type": "code",
      "source": [
        "class Employee:\n",
        "  x =1#클래스 변수\n",
        "  def __init__(self):\n",
        "    pass\n",
        "  def display(self, y): #메소드\n",
        "     self.y = y        #멤버변수\n",
        "     print(y)"
      ],
      "metadata": {
        "id": "hGbQak_te4lx"
      },
      "execution_count": null,
      "outputs": []
    },
    {
      "cell_type": "code",
      "source": [
        "Employee.x"
      ],
      "metadata": {
        "colab": {
          "base_uri": "https://localhost:8080/"
        },
        "id": "bXK-NaDifV4I",
        "outputId": "fb15cbd3-dc58-4a52-d1f9-631302e8b25d"
      },
      "execution_count": null,
      "outputs": [
        {
          "output_type": "execute_result",
          "data": {
            "text/plain": [
              "1"
            ]
          },
          "metadata": {},
          "execution_count": 93
        }
      ]
    },
    {
      "cell_type": "code",
      "source": [
        "ps = Employee() #__init__(self)메소드가 실행된다.\n",
        "ps.x"
      ],
      "metadata": {
        "colab": {
          "base_uri": "https://localhost:8080/"
        },
        "id": "SiYGhq1ZfXmh",
        "outputId": "89b48072-226f-4066-a039-d9838bf1efbe"
      },
      "execution_count": null,
      "outputs": [
        {
          "output_type": "execute_result",
          "data": {
            "text/plain": [
              "1"
            ]
          },
          "metadata": {},
          "execution_count": 95
        }
      ]
    },
    {
      "cell_type": "code",
      "source": [
        "class FourCal:\n",
        "\n",
        "  def __init__(self):\n",
        "    print('init')\n",
        "\n",
        "  def add(self,a,b):\n",
        "    return a+b\n",
        "\n",
        "  def sub(self,a,b):\n",
        "    return a-b\n",
        "\n",
        "  def mul(self,a,b):\n",
        "    return a*b\n",
        "\n",
        "  def div(self,a,b):\n",
        "    return a//b"
      ],
      "metadata": {
        "id": "Czc_4tcmfyQw"
      },
      "execution_count": null,
      "outputs": []
    },
    {
      "cell_type": "code",
      "source": [
        "x = FourCal()"
      ],
      "metadata": {
        "colab": {
          "base_uri": "https://localhost:8080/"
        },
        "id": "1wXhG502gjQV",
        "outputId": "726f0a0d-611e-4977-bf12-0aef998eb268"
      },
      "execution_count": null,
      "outputs": [
        {
          "output_type": "stream",
          "name": "stdout",
          "text": [
            "init\n"
          ]
        }
      ]
    },
    {
      "cell_type": "code",
      "source": [
        "print(x.add(4,2))\n",
        "print(x.sub(4,2))\n",
        "print(x.mul(4,2))\n",
        "print(x.div(4,2))"
      ],
      "metadata": {
        "colab": {
          "base_uri": "https://localhost:8080/"
        },
        "id": "AQKbg-TggmtI",
        "outputId": "5bd12f57-bcb1-4bc4-9df8-b806c7668325"
      },
      "execution_count": null,
      "outputs": [
        {
          "output_type": "stream",
          "name": "stdout",
          "text": [
            "6\n",
            "2\n",
            "8\n",
            "2\n"
          ]
        }
      ]
    },
    {
      "cell_type": "code",
      "source": [
        "class FourCal:\n",
        "\n",
        "  def __init__(self):\n",
        "     pass\n",
        "  def __init__(self, a, b):\n",
        "    self.a = a\n",
        "    self.b = b\n",
        "    print('init2')\n",
        "\n",
        "  def add(self):\n",
        "    return self.a+self.b\n",
        "\n",
        "  def sub(self):\n",
        "    return self.a-self.b\n",
        "\n",
        "  def mul(self):\n",
        "    return self.a*self.b\n",
        "\n",
        "  def div(self):\n",
        "    return self.a//self.b\n"
      ],
      "metadata": {
        "id": "MoWVD6HDgCjQ"
      },
      "execution_count": null,
      "outputs": []
    },
    {
      "cell_type": "code",
      "source": [
        "y = FourCal(4, 2)#생성자는 객체 초기값을 할당한다."
      ],
      "metadata": {
        "colab": {
          "base_uri": "https://localhost:8080/"
        },
        "id": "peS60mqBho6T",
        "outputId": "abfa9982-a095-4e54-b389-b93714c16435"
      },
      "execution_count": null,
      "outputs": [
        {
          "output_type": "stream",
          "name": "stdout",
          "text": [
            "init2\n"
          ]
        }
      ]
    },
    {
      "cell_type": "code",
      "source": [
        "print(y.add())\n",
        "print(y.sub())\n",
        "print(y.mul())\n",
        "print(y.div())"
      ],
      "metadata": {
        "colab": {
          "base_uri": "https://localhost:8080/"
        },
        "id": "6uyR-57yh88I",
        "outputId": "80d0f819-0d37-4c9e-968e-2118a63434e4"
      },
      "execution_count": null,
      "outputs": [
        {
          "output_type": "stream",
          "name": "stdout",
          "text": [
            "6\n",
            "2\n",
            "8\n",
            "2\n"
          ]
        }
      ]
    },
    {
      "cell_type": "code",
      "source": [
        "#@를 이면 decorator이다.\n",
        "def (a):\n",
        "  return a"
      ],
      "metadata": {
        "colab": {
          "base_uri": "https://localhost:8080/",
          "height": 147
        },
        "id": "A-CjNAJiW5cy",
        "outputId": "27c70454-9386-4b7a-d585-dafda2727518"
      },
      "execution_count": null,
      "outputs": [
        {
          "output_type": "error",
          "ename": "SyntaxError",
          "evalue": "ignored",
          "traceback": [
            "\u001b[0;36m  File \u001b[0;32m\"<ipython-input-2-c8cb557413e7>\"\u001b[0;36m, line \u001b[0;32m2\u001b[0m\n\u001b[0;31m    def (a):\u001b[0m\n\u001b[0m        ^\u001b[0m\n\u001b[0;31mSyntaxError\u001b[0m\u001b[0;31m:\u001b[0m invalid syntax\n"
          ]
        }
      ]
    },
    {
      "cell_type": "code",
      "source": [
        "#fun = t\n",
        "#fun(5)\n",
        "def x(fun):\n",
        "   def y(x):\n",
        "      return fun(x+1)\n",
        "   return y"
      ],
      "metadata": {
        "id": "ssNc0MERXEM9"
      },
      "execution_count": null,
      "outputs": []
    },
    {
      "cell_type": "markdown",
      "source": [
        "##상속(inheritance)\n",
        " - class에서 이름 뒤에 괄호는 상속이다.ㄷ?\n",
        " - python의 모든 객체는 object를 상속받는다.\n",
        " - python3부터는 (object)는 생략 가능하다. 즉 지금까지 class를 정의할 때 object를 내부적으로 상속하고 있었다."
      ],
      "metadata": {
        "id": "1NURUXlvlA7d"
      }
    },
    {
      "cell_type": "code",
      "source": [
        "#상속을 해주는 클래스 : 부모클래스 = 수퍼클래스 = 기본클래스\n",
        "#상속을 받는 클래스 : 자식클래스 = 서브클래스 = 유도클래스\n",
        "\n",
        "#부모클래스\n",
        "class parent:\n",
        "   x = 'parent x' #클래스 변수\n",
        "   y = 'pranet y'\n",
        "\n",
        "   @classmethod   #상속받는 클래스에서 자식의 부모 또는 자신의 자원을 호출해서 사용할 수 있도록 제공해주는 기능이다.\n",
        "   def output(cls):\n",
        "    return cls.x\n",
        "\n",
        "   def test(self):\n",
        "    return 10\n",
        "\n",
        "    #자식클래스\n",
        "class Child(parent): #Child는 Parent를 상속받는다. 상속관계 얘기할 때 is ~a = child는 Parent이다.\n",
        "   x = 'child x'#\n",
        "\n",
        "   def display(self):\n",
        "     print('display')\n",
        "     print(parent.test(self))\n",
        "     #print(parent.output())\n",
        "     print(parent.output())#\n",
        "     print(Child.output())"
      ],
      "metadata": {
        "id": "HPLdq1IIlgMA"
      },
      "execution_count": null,
      "outputs": []
    },
    {
      "cell_type": "code",
      "source": [
        "print(parent.x)\n",
        "print(parent.y)"
      ],
      "metadata": {
        "colab": {
          "base_uri": "https://localhost:8080/"
        },
        "id": "WraNYV71nDNw",
        "outputId": "94bdd2cf-0c35-4a12-fa39-c3325301f285"
      },
      "execution_count": null,
      "outputs": [
        {
          "output_type": "stream",
          "name": "stdout",
          "text": [
            "parent x\n",
            "pranet y\n"
          ]
        }
      ]
    },
    {
      "cell_type": "code",
      "source": [
        "print(Child.x)\n",
        "print(Child.y)"
      ],
      "metadata": {
        "colab": {
          "base_uri": "https://localhost:8080/"
        },
        "id": "9p4yByVnnVzD",
        "outputId": "2b03f6c0-e5fb-4619-a078-41400f4ad16a"
      },
      "execution_count": null,
      "outputs": [
        {
          "output_type": "stream",
          "name": "stdout",
          "text": [
            "child x\n",
            "pranet y\n"
          ]
        }
      ]
    },
    {
      "cell_type": "code",
      "source": [
        "c = Child()\n",
        "c.display()"
      ],
      "metadata": {
        "colab": {
          "base_uri": "https://localhost:8080/"
        },
        "id": "3_MxI8FOpKWp",
        "outputId": "0da3fc92-7081-42f6-8609-f2f4876605d7"
      },
      "execution_count": null,
      "outputs": [
        {
          "output_type": "stream",
          "name": "stdout",
          "text": [
            "display\n",
            "10\n",
            "parent x\n",
            "child x\n"
          ]
        }
      ]
    },
    {
      "cell_type": "code",
      "source": [
        "Child.display(c)"
      ],
      "metadata": {
        "colab": {
          "base_uri": "https://localhost:8080/"
        },
        "id": "Hy0xQQAgps-I",
        "outputId": "20b8d24c-e32c-4070-ed77-b15de1d49e62"
      },
      "execution_count": null,
      "outputs": [
        {
          "output_type": "stream",
          "name": "stdout",
          "text": [
            "display\n",
            "10\n",
            "parent x\n",
            "child x\n"
          ]
        }
      ]
    },
    {
      "cell_type": "markdown",
      "source": [
        "class 도형:\n",
        "pass\n",
        "\n",
        "class 삼각형(도형): #삼각형은 도형이다.\n",
        "pass\n",
        "\n",
        "class 사각형(도형): #사각형은 도형이다.\n",
        "pass"
      ],
      "metadata": {
        "id": "R7h8aK8amP2j"
      }
    },
    {
      "cell_type": "code",
      "source": [
        "c.output()"
      ],
      "metadata": {
        "colab": {
          "base_uri": "https://localhost:8080/",
          "height": 35
        },
        "id": "TBIbZtabs7Lp",
        "outputId": "2a6dc264-634f-48c3-ff50-dc28b52c256a"
      },
      "execution_count": null,
      "outputs": [
        {
          "output_type": "execute_result",
          "data": {
            "text/plain": [
              "'child x'"
            ],
            "application/vnd.google.colaboratory.intrinsic+json": {
              "type": "string"
            }
          },
          "metadata": {},
          "execution_count": 145
        }
      ]
    },
    {
      "cell_type": "code",
      "source": [
        "c.test()"
      ],
      "metadata": {
        "colab": {
          "base_uri": "https://localhost:8080/"
        },
        "id": "8in3SKBstmBo",
        "outputId": "f8da7998-08d6-45ac-9028-b74a9b828764"
      },
      "execution_count": null,
      "outputs": [
        {
          "output_type": "execute_result",
          "data": {
            "text/plain": [
              "10"
            ]
          },
          "metadata": {},
          "execution_count": 147
        }
      ]
    },
    {
      "cell_type": "code",
      "source": [
        "print(dir(Child))"
      ],
      "metadata": {
        "colab": {
          "base_uri": "https://localhost:8080/"
        },
        "id": "mpDq3d_yuPJg",
        "outputId": "d1cc99a3-ad31-4262-ef4c-b62a5ad2d20a"
      },
      "execution_count": null,
      "outputs": [
        {
          "output_type": "stream",
          "name": "stdout",
          "text": [
            "['__class__', '__delattr__', '__dict__', '__dir__', '__doc__', '__eq__', '__format__', '__ge__', '__getattribute__', '__gt__', '__hash__', '__init__', '__init_subclass__', '__le__', '__lt__', '__module__', '__ne__', '__new__', '__reduce__', '__reduce_ex__', '__repr__', '__setattr__', '__sizeof__', '__str__', '__subclasshook__', '__weakref__', 'display', 'output', 'test', 'x', 'y']\n"
          ]
        }
      ]
    },
    {
      "cell_type": "markdown",
      "source": [
        "##mangling\n",
        "프로그램에서 함수나 변수를 선언했을 때, 선언시 사용했던 이름을 컴파일러가 단계에서 일정한 규칙을 가지고 변형하는 것으로, 네임 데코레이션(name decoration)이라고 한다.\n",
        "\n",
        "private처럼 사용할 때 이름앞에 __를 붙인다.\n",
        "\n",
        "이름을'__클래스변수이름'의 형태로 바꿔준다."
      ],
      "metadata": {
        "id": "TS1ytqR3zUCr"
      }
    },
    {
      "cell_type": "code",
      "source": [
        "class A:\n",
        "  x = 1\n",
        "  __y = 2 #ㅔprivate처럼 사용할 때 __를 붙인다. 상속해주지 않고 class A에서만 사용.\n",
        "  #외부에서 접근하는 건 되도록 삼가자."
      ],
      "metadata": {
        "id": "xY__1eMrubzQ"
      },
      "execution_count": null,
      "outputs": []
    },
    {
      "cell_type": "code",
      "source": [
        "print(dir(A))"
      ],
      "metadata": {
        "colab": {
          "base_uri": "https://localhost:8080/"
        },
        "id": "JsJJVEYnuhIP",
        "outputId": "42f614ae-a720-4a21-e8d4-d65a98385ea7"
      },
      "execution_count": null,
      "outputs": [
        {
          "output_type": "stream",
          "name": "stdout",
          "text": [
            "['_A__y', '__class__', '__delattr__', '__dict__', '__dir__', '__doc__', '__eq__', '__format__', '__ge__', '__getattribute__', '__gt__', '__hash__', '__init__', '__init_subclass__', '__le__', '__lt__', '__module__', '__ne__', '__new__', '__reduce__', '__reduce_ex__', '__repr__', '__setattr__', '__sizeof__', '__str__', '__subclasshook__', '__weakref__', 'x']\n"
          ]
        }
      ]
    },
    {
      "cell_type": "code",
      "source": [
        "A.x"
      ],
      "metadata": {
        "colab": {
          "base_uri": "https://localhost:8080/"
        },
        "id": "PnM5EZZLvbjw",
        "outputId": "fab67fad-972f-453d-efde-834e1be2c36d"
      },
      "execution_count": null,
      "outputs": [
        {
          "output_type": "execute_result",
          "data": {
            "text/plain": [
              "1"
            ]
          },
          "metadata": {},
          "execution_count": 153
        }
      ]
    },
    {
      "cell_type": "code",
      "source": [
        "#AttributeError\n",
        "#dir(__y)로 생성된 변수가 없기 대문에 Error 발생\n",
        "A.__y"
      ],
      "metadata": {
        "colab": {
          "base_uri": "https://localhost:8080/",
          "height": 220
        },
        "id": "YxW9U3Ef0Z3C",
        "outputId": "21b74dbe-15bb-4a64-fc17-8888698fb7f5"
      },
      "execution_count": null,
      "outputs": [
        {
          "output_type": "error",
          "ename": "AttributeError",
          "evalue": "ignored",
          "traceback": [
            "\u001b[0;31m---------------------------------------------------------------------------\u001b[0m",
            "\u001b[0;31mAttributeError\u001b[0m                            Traceback (most recent call last)",
            "\u001b[0;32m<ipython-input-158-b66da657271e>\u001b[0m in \u001b[0;36m<cell line: 3>\u001b[0;34m()\u001b[0m\n\u001b[1;32m      1\u001b[0m \u001b[0;31m#AttributeError\u001b[0m\u001b[0;34m\u001b[0m\u001b[0;34m\u001b[0m\u001b[0m\n\u001b[1;32m      2\u001b[0m \u001b[0;31m#dir(__y)로 생성된 변수가 없기 대문에 Error 발생\u001b[0m\u001b[0;34m\u001b[0m\u001b[0;34m\u001b[0m\u001b[0m\n\u001b[0;32m----> 3\u001b[0;31m \u001b[0mA\u001b[0m\u001b[0;34m.\u001b[0m\u001b[0m__y\u001b[0m\u001b[0;34m\u001b[0m\u001b[0;34m\u001b[0m\u001b[0m\n\u001b[0m",
            "\u001b[0;31mAttributeError\u001b[0m: type object 'A' has no attribute '__y'"
          ]
        }
      ]
    },
    {
      "cell_type": "code",
      "source": [
        "A._A__y"
      ],
      "metadata": {
        "colab": {
          "base_uri": "https://localhost:8080/"
        },
        "id": "XhfquwJJveOX",
        "outputId": "90e7c178-ebcc-41c9-8c03-a2142e8adcc8"
      },
      "execution_count": null,
      "outputs": [
        {
          "output_type": "execute_result",
          "data": {
            "text/plain": [
              "2"
            ]
          },
          "metadata": {},
          "execution_count": 156
        }
      ]
    },
    {
      "cell_type": "code",
      "source": [
        "# __y을 private으로 사용하기 위해서 선언했지만\n",
        "#_A__y로 접근이 가능하다.\n",
        "A._A__y"
      ],
      "metadata": {
        "colab": {
          "base_uri": "https://localhost:8080/"
        },
        "id": "JSAeDMkly4MX",
        "outputId": "38711f12-e50d-4f73-decd-c9a59030306f"
      },
      "execution_count": null,
      "outputs": [
        {
          "output_type": "execute_result",
          "data": {
            "text/plain": [
              "2"
            ]
          },
          "metadata": {},
          "execution_count": 157
        }
      ]
    },
    {
      "cell_type": "markdown",
      "source": [
        "## vars\n",
        "vars는 인스턴스 안에 정의된 값들을 보여준다."
      ],
      "metadata": {
        "id": "ya-T9QN-01LK"
      }
    },
    {
      "cell_type": "code",
      "source": [
        "class A:\n",
        "  x = 1\n",
        "  __y = 2"
      ],
      "metadata": {
        "id": "RRxHo95_08UA"
      },
      "execution_count": null,
      "outputs": []
    },
    {
      "cell_type": "code",
      "source": [
        "a = A()"
      ],
      "metadata": {
        "id": "denp3StT1GDv"
      },
      "execution_count": null,
      "outputs": []
    },
    {
      "cell_type": "code",
      "source": [
        "#현재 a는 아무런 값이 들어 있지 않다.\n",
        "vars(a)"
      ],
      "metadata": {
        "colab": {
          "base_uri": "https://localhost:8080/"
        },
        "id": "x-0gwu4X1HmQ",
        "outputId": "9524d0f7-deb1-490c-b2be-edbdc84c8899"
      },
      "execution_count": null,
      "outputs": [
        {
          "output_type": "execute_result",
          "data": {
            "text/plain": [
              "{}"
            ]
          },
          "metadata": {},
          "execution_count": 162
        }
      ]
    },
    {
      "cell_type": "code",
      "source": [
        "# a의 인스턴스는 변수를 만들어주면 vars에서 보인다.\n",
        "a.t = 3"
      ],
      "metadata": {
        "id": "PlUGKCBc1icQ"
      },
      "execution_count": null,
      "outputs": []
    },
    {
      "cell_type": "code",
      "source": [
        "vars(a)"
      ],
      "metadata": {
        "colab": {
          "base_uri": "https://localhost:8080/"
        },
        "id": "qkxIuL5C1sNg",
        "outputId": "f3d4f726-2b76-4d39-d081-ffa3a71b93d5"
      },
      "execution_count": null,
      "outputs": [
        {
          "output_type": "execute_result",
          "data": {
            "text/plain": [
              "{'t': 3}"
            ]
          },
          "metadata": {},
          "execution_count": 164
        }
      ]
    },
    {
      "cell_type": "code",
      "source": [
        "del a.t"
      ],
      "metadata": {
        "id": "eRDuUOye1uKX"
      },
      "execution_count": null,
      "outputs": []
    },
    {
      "cell_type": "code",
      "source": [
        "vars(a)"
      ],
      "metadata": {
        "colab": {
          "base_uri": "https://localhost:8080/"
        },
        "id": "q13dgE4H1yRP",
        "outputId": "131ba26a-9700-41e9-dfcd-e94f52a09277"
      },
      "execution_count": null,
      "outputs": [
        {
          "output_type": "execute_result",
          "data": {
            "text/plain": [
              "{}"
            ]
          },
          "metadata": {},
          "execution_count": 167
        }
      ]
    },
    {
      "cell_type": "code",
      "source": [
        "#A클래스의 변수들을 확인한다.\n",
        "vars(A)"
      ],
      "metadata": {
        "colab": {
          "base_uri": "https://localhost:8080/"
        },
        "id": "uUHKJw3W18pY",
        "outputId": "08d0322f-ad29-4398-e8ca-7601311bfd56"
      },
      "execution_count": null,
      "outputs": [
        {
          "output_type": "execute_result",
          "data": {
            "text/plain": [
              "mappingproxy({'__module__': '__main__',\n",
              "              'x': 1,\n",
              "              '_A__y': 2,\n",
              "              '__dict__': <attribute '__dict__' of 'A' objects>,\n",
              "              '__weakref__': <attribute '__weakref__' of 'A' objects>,\n",
              "              '__doc__': None})"
            ]
          },
          "metadata": {},
          "execution_count": 168
        }
      ]
    },
    {
      "cell_type": "code",
      "source": [
        "#클래스의 변수도 삭제가 가능하다.\n",
        "#그래서 A클래스의 ㅌ클래스 변수를 삭제한다.\n",
        "del A.x"
      ],
      "metadata": {
        "id": "ElaPvYlE1_MQ"
      },
      "execution_count": null,
      "outputs": []
    },
    {
      "cell_type": "code",
      "source": [
        "vars(A)"
      ],
      "metadata": {
        "colab": {
          "base_uri": "https://localhost:8080/"
        },
        "id": "qvyuufH-2geB",
        "outputId": "b277ed90-f51c-4027-d4c2-75e4f67b94b0"
      },
      "execution_count": null,
      "outputs": [
        {
          "output_type": "execute_result",
          "data": {
            "text/plain": [
              "mappingproxy({'__module__': '__main__',\n",
              "              '_A__y': 2,\n",
              "              '__dict__': <attribute '__dict__' of 'A' objects>,\n",
              "              '__weakref__': <attribute '__weakref__' of 'A' objects>,\n",
              "              '__doc__': None})"
            ]
          },
          "metadata": {},
          "execution_count": 170
        }
      ]
    },
    {
      "cell_type": "code",
      "source": [
        "#앞 과정에서 A클래스의 x를 삭제했기 때문에 Error 발생\n",
        "A.x"
      ],
      "metadata": {
        "colab": {
          "base_uri": "https://localhost:8080/",
          "height": 201
        },
        "id": "Ekfnps162rJi",
        "outputId": "203db996-c7d2-4d0a-c0b8-391e8f24adfb"
      },
      "execution_count": null,
      "outputs": [
        {
          "output_type": "error",
          "ename": "AttributeError",
          "evalue": "ignored",
          "traceback": [
            "\u001b[0;31m---------------------------------------------------------------------------\u001b[0m",
            "\u001b[0;31mAttributeError\u001b[0m                            Traceback (most recent call last)",
            "\u001b[0;32m<ipython-input-172-c2fa9729b2b1>\u001b[0m in \u001b[0;36m<cell line: 2>\u001b[0;34m()\u001b[0m\n\u001b[1;32m      1\u001b[0m \u001b[0;31m#앞 과정에서 A클래스의 x를 삭제했기 때문에 Error 발생\u001b[0m\u001b[0;34m\u001b[0m\u001b[0;34m\u001b[0m\u001b[0m\n\u001b[0;32m----> 2\u001b[0;31m \u001b[0mA\u001b[0m\u001b[0;34m.\u001b[0m\u001b[0mx\u001b[0m\u001b[0;34m\u001b[0m\u001b[0;34m\u001b[0m\u001b[0m\n\u001b[0m",
            "\u001b[0;31mAttributeError\u001b[0m: type object 'A' has no attribute 'x'"
          ]
        }
      ]
    },
    {
      "cell_type": "code",
      "source": [
        "A.__dict__# var(A)"
      ],
      "metadata": {
        "colab": {
          "base_uri": "https://localhost:8080/"
        },
        "id": "hAPQPh4h3QUB",
        "outputId": "38e3ce9a-4432-4821-f069-6a7c142991a0"
      },
      "execution_count": null,
      "outputs": [
        {
          "output_type": "execute_result",
          "data": {
            "text/plain": [
              "mappingproxy({'__module__': '__main__',\n",
              "              '_A__y': 2,\n",
              "              '__dict__': <attribute '__dict__' of 'A' objects>,\n",
              "              '__weakref__': <attribute '__weakref__' of 'A' objects>,\n",
              "              '__doc__': None,\n",
              "              '__annotations__': {}})"
            ]
          },
          "metadata": {},
          "execution_count": 173
        }
      ]
    },
    {
      "cell_type": "code",
      "source": [
        "a.__dict__#vars(a)"
      ],
      "metadata": {
        "colab": {
          "base_uri": "https://localhost:8080/"
        },
        "id": "Sw3ZcdFX3VLw",
        "outputId": "fb25151e-d743-4279-d3fd-8eb8e008b10c"
      },
      "execution_count": null,
      "outputs": [
        {
          "output_type": "execute_result",
          "data": {
            "text/plain": [
              "{}"
            ]
          },
          "metadata": {},
          "execution_count": 176
        }
      ]
    },
    {
      "cell_type": "code",
      "source": [
        "print(dir(a)) #a.__dir__"
      ],
      "metadata": {
        "colab": {
          "base_uri": "https://localhost:8080/"
        },
        "id": "vh_Xkb0c3c7o",
        "outputId": "48f4b40f-0fc8-499a-8c66-b8d74955243f"
      },
      "execution_count": null,
      "outputs": [
        {
          "output_type": "stream",
          "name": "stdout",
          "text": [
            "['_A__y', '__annotations__', '__class__', '__delattr__', '__dict__', '__dir__', '__doc__', '__eq__', '__format__', '__ge__', '__getattribute__', '__gt__', '__hash__', '__init__', '__init_subclass__', '__le__', '__lt__', '__module__', '__ne__', '__new__', '__reduce__', '__reduce_ex__', '__repr__', '__setattr__', '__sizeof__', '__str__', '__subclasshook__', '__weakref__']\n"
          ]
        }
      ]
    },
    {
      "cell_type": "code",
      "source": [
        "set(A.__dict__)-set(vars(A))"
      ],
      "metadata": {
        "colab": {
          "base_uri": "https://localhost:8080/"
        },
        "id": "YvS_WooB4LB3",
        "outputId": "3908e466-2684-4b4b-bae3-f1cbf590f037"
      },
      "execution_count": null,
      "outputs": [
        {
          "output_type": "execute_result",
          "data": {
            "text/plain": [
              "set()"
            ]
          },
          "metadata": {},
          "execution_count": 186
        }
      ]
    },
    {
      "cell_type": "code",
      "source": [
        "set(vars(A)) - set(A.__dict__)"
      ],
      "metadata": {
        "colab": {
          "base_uri": "https://localhost:8080/"
        },
        "id": "6vmzrCJf4U3Q",
        "outputId": "19a09324-7421-438c-df20-c87afa6292d6"
      },
      "execution_count": null,
      "outputs": [
        {
          "output_type": "execute_result",
          "data": {
            "text/plain": [
              "set()"
            ]
          },
          "metadata": {},
          "execution_count": 187
        }
      ]
    },
    {
      "cell_type": "code",
      "source": [
        "set(vars(A)) | set(A.__dict__)"
      ],
      "metadata": {
        "colab": {
          "base_uri": "https://localhost:8080/"
        },
        "id": "xny-TY9t4k04",
        "outputId": "c2b3d227-36f8-4d6a-cd4e-5aaf25e623b5"
      },
      "execution_count": null,
      "outputs": [
        {
          "output_type": "execute_result",
          "data": {
            "text/plain": [
              "{'_A__y',\n",
              " '__annotations__',\n",
              " '__dict__',\n",
              " '__doc__',\n",
              " '__module__',\n",
              " '__weakref__'}"
            ]
          },
          "metadata": {},
          "execution_count": 188
        }
      ]
    },
    {
      "cell_type": "code",
      "source": [
        "set(vars(A)) & set(A.__dict__)"
      ],
      "metadata": {
        "colab": {
          "base_uri": "https://localhost:8080/"
        },
        "id": "MuZKR50o5RfD",
        "outputId": "542287d6-15b9-4406-edda-816995555b93"
      },
      "execution_count": null,
      "outputs": [
        {
          "output_type": "execute_result",
          "data": {
            "text/plain": [
              "{'_A__y',\n",
              " '__annotations__',\n",
              " '__dict__',\n",
              " '__doc__',\n",
              " '__module__',\n",
              " '__weakref__'}"
            ]
          },
          "metadata": {},
          "execution_count": 190
        }
      ]
    },
    {
      "cell_type": "code",
      "source": [
        "vars(a)"
      ],
      "metadata": {
        "colab": {
          "base_uri": "https://localhost:8080/"
        },
        "id": "pgnQTGqY4zO4",
        "outputId": "2e298214-54c3-4387-bff6-48724477db11"
      },
      "execution_count": null,
      "outputs": [
        {
          "output_type": "execute_result",
          "data": {
            "text/plain": [
              "{}"
            ]
          },
          "metadata": {},
          "execution_count": 189
        }
      ]
    },
    {
      "cell_type": "markdown",
      "source": [
        "함수를 메소드로 추가할 수 있다."
      ],
      "metadata": {
        "id": "ueWXi1Fm5nT-"
      }
    },
    {
      "cell_type": "code",
      "source": [
        "#함수를 정의: 메소드로 등록할 함수이면 self를 선언해 준다.\n",
        "def display(self, p):\n",
        "  print(p)"
      ],
      "metadata": {
        "id": "X36FxlKG5pi_"
      },
      "execution_count": null,
      "outputs": []
    },
    {
      "cell_type": "code",
      "source": [
        "display(10)"
      ],
      "metadata": {
        "colab": {
          "base_uri": "https://localhost:8080/",
          "height": 183
        },
        "id": "_f75_LpH53rI",
        "outputId": "f3f01bfb-e4e0-4d09-de02-d116b228f134"
      },
      "execution_count": null,
      "outputs": [
        {
          "output_type": "error",
          "ename": "TypeError",
          "evalue": "ignored",
          "traceback": [
            "\u001b[0;31m---------------------------------------------------------------------------\u001b[0m",
            "\u001b[0;31mTypeError\u001b[0m                                 Traceback (most recent call last)",
            "\u001b[0;32m<ipython-input-212-c767b24d99f8>\u001b[0m in \u001b[0;36m<cell line: 1>\u001b[0;34m()\u001b[0m\n\u001b[0;32m----> 1\u001b[0;31m \u001b[0mdisplay\u001b[0m\u001b[0;34m(\u001b[0m\u001b[0;36m10\u001b[0m\u001b[0;34m)\u001b[0m\u001b[0;34m\u001b[0m\u001b[0;34m\u001b[0m\u001b[0m\n\u001b[0m",
            "\u001b[0;31mTypeError\u001b[0m: display() missing 1 required positional argument: 'p'"
          ]
        }
      ]
    },
    {
      "cell_type": "code",
      "source": [
        "#함수를 메소드로 등록\n",
        "A.display = display"
      ],
      "metadata": {
        "id": "U6N8Bpd957u3"
      },
      "execution_count": null,
      "outputs": []
    },
    {
      "cell_type": "code",
      "source": [
        "print(dir(A))"
      ],
      "metadata": {
        "colab": {
          "base_uri": "https://localhost:8080/"
        },
        "id": "EbAmpEWe6GE4",
        "outputId": "c6750fc9-e744-4bb8-adad-b7c7a5196b3d"
      },
      "execution_count": null,
      "outputs": [
        {
          "output_type": "stream",
          "name": "stdout",
          "text": [
            "['_A__y', '__annotations__', '__class__', '__delattr__', '__dict__', '__dir__', '__doc__', '__eq__', '__format__', '__ge__', '__getattribute__', '__gt__', '__hash__', '__init__', '__init_subclass__', '__le__', '__lt__', '__module__', '__ne__', '__new__', '__reduce__', '__reduce_ex__', '__repr__', '__setattr__', '__sizeof__', '__str__', '__subclasshook__', '__weakref__', 'display']\n"
          ]
        }
      ]
    },
    {
      "cell_type": "code",
      "source": [
        "a = A()"
      ],
      "metadata": {
        "id": "X4rAMAQ56RO4"
      },
      "execution_count": null,
      "outputs": []
    },
    {
      "cell_type": "code",
      "source": [
        "a.display(20)"
      ],
      "metadata": {
        "colab": {
          "base_uri": "https://localhost:8080/",
          "height": 183
        },
        "id": "oSZo2VZz6SqA",
        "outputId": "44f467ad-2b44-40bf-eeb9-3daedb119ed7"
      },
      "execution_count": null,
      "outputs": [
        {
          "output_type": "error",
          "ename": "TypeError",
          "evalue": "ignored",
          "traceback": [
            "\u001b[0;31m---------------------------------------------------------------------------\u001b[0m",
            "\u001b[0;31mTypeError\u001b[0m                                 Traceback (most recent call last)",
            "\u001b[0;32m<ipython-input-218-85d081ddb643>\u001b[0m in \u001b[0;36m<cell line: 1>\u001b[0;34m()\u001b[0m\n\u001b[0;32m----> 1\u001b[0;31m \u001b[0ma\u001b[0m\u001b[0;34m.\u001b[0m\u001b[0mdisplay\u001b[0m\u001b[0;34m(\u001b[0m\u001b[0;36m20\u001b[0m\u001b[0;34m)\u001b[0m\u001b[0;34m\u001b[0m\u001b[0;34m\u001b[0m\u001b[0m\n\u001b[0m",
            "\u001b[0;31mTypeError\u001b[0m: display() takes 1 positional argument but 2 were given"
          ]
        }
      ]
    },
    {
      "cell_type": "code",
      "source": [
        "#졸려.."
      ],
      "metadata": {
        "id": "oHiPnxbt6U84"
      },
      "execution_count": null,
      "outputs": []
    },
    {
      "cell_type": "code",
      "source": [
        "a = A()"
      ],
      "metadata": {
        "id": "1NY1GFM28FzY"
      },
      "execution_count": null,
      "outputs": []
    },
    {
      "cell_type": "code",
      "source": [
        "#구글 드라이브 연동\n",
        "from google.colab import drive\n",
        "drive.mount('/content/drive')"
      ],
      "metadata": {
        "colab": {
          "base_uri": "https://localhost:8080/"
        },
        "id": "Vzx00SH-8y8q",
        "outputId": "f7e156b9-931c-43a2-86c6-19c37633b33a"
      },
      "execution_count": null,
      "outputs": [
        {
          "output_type": "stream",
          "name": "stdout",
          "text": [
            "Drive already mounted at /content/drive; to attempt to forcibly remount, call drive.mount(\"/content/drive\", force_remount=True).\n"
          ]
        }
      ]
    },
    {
      "cell_type": "code",
      "source": [
        "%cd /content/drive/MyDrive/ai_chat_python"
      ],
      "metadata": {
        "colab": {
          "base_uri": "https://localhost:8080/"
        },
        "id": "1f0Squ9b9Mhj",
        "outputId": "7e8e2b7d-ef1e-4473-fd01-cd7cef347e02"
      },
      "execution_count": null,
      "outputs": [
        {
          "output_type": "stream",
          "name": "stdout",
          "text": [
            "/content/drive/MyDrive/ai_chat_python\n"
          ]
        }
      ]
    },
    {
      "cell_type": "code",
      "source": [
        "%%writefile source/gosu.py\n",
        "\n",
        "a = 1\n",
        "_a = 2\n",
        "__a =3\n",
        "data =5\n",
        "\n",
        "def b():\n",
        "   return 1\n",
        "\n",
        "def _b():\n",
        "   return 2\n",
        "\n",
        "def __b():\n",
        "   return 3\n"
      ],
      "metadata": {
        "colab": {
          "base_uri": "https://localhost:8080/"
        },
        "id": "C5H2Btei8IRH",
        "outputId": "d826553a-7fd3-46e7-b542-a4ee2c74f172"
      },
      "execution_count": null,
      "outputs": [
        {
          "output_type": "stream",
          "name": "stdout",
          "text": [
            "Overwriting source/gosu.py\n"
          ]
        }
      ]
    },
    {
      "cell_type": "code",
      "source": [
        "#실행\n",
        "#!python source/gosu.py"
      ],
      "metadata": {
        "id": "RXy5_fZxOpD3"
      },
      "execution_count": null,
      "outputs": []
    },
    {
      "cell_type": "code",
      "source": [
        "#실행\n",
        "#%run source/gosu.py"
      ],
      "metadata": {
        "id": "SxpVTv2HO5dw"
      },
      "execution_count": null,
      "outputs": []
    },
    {
      "cell_type": "markdown",
      "source": [
        "import source.gosu #java\n",
        "import gosu from source  #react"
      ],
      "metadata": {
        "id": "7zAa30HuW1yj"
      }
    },
    {
      "cell_type": "code",
      "source": [
        "from source import gosu # import 모듈 or package"
      ],
      "metadata": {
        "id": "44X_v-ipPDvQ"
      },
      "execution_count": null,
      "outputs": []
    },
    {
      "cell_type": "markdown",
      "source": [
        "작업중인 파일과 불러올 파이썬 파일이 반드시 같은 위치가 아니더라도 path에 등록되어 있으면 import된다."
      ],
      "metadata": {
        "id": "h309Fg8jPzdD"
      }
    },
    {
      "cell_type": "code",
      "source": [
        "import sys\n",
        "sys.path"
      ],
      "metadata": {
        "colab": {
          "base_uri": "https://localhost:8080/"
        },
        "id": "IQbIQqEPPvgX",
        "outputId": "88ee3838-4764-4a3a-de70-a8012ea5dd2c"
      },
      "execution_count": null,
      "outputs": [
        {
          "output_type": "execute_result",
          "data": {
            "text/plain": [
              "['/content',\n",
              " '/env/python',\n",
              " '/usr/lib/python310.zip',\n",
              " '/usr/lib/python3.10',\n",
              " '/usr/lib/python3.10/lib-dynload',\n",
              " '',\n",
              " '/usr/local/lib/python3.10/dist-packages',\n",
              " '/usr/lib/python3/dist-packages',\n",
              " '/usr/local/lib/python3.10/dist-packages/IPython/extensions',\n",
              " '/root/.ipython']"
            ]
          },
          "metadata": {},
          "execution_count": 252
        }
      ]
    },
    {
      "cell_type": "code",
      "source": [
        "#__가 붙은 이름은 python에서 내부적으로 관리하는 기능이다.\n",
        "print(dir(gosu))"
      ],
      "metadata": {
        "colab": {
          "base_uri": "https://localhost:8080/"
        },
        "id": "kViPACODQQFy",
        "outputId": "02f6fa8d-5cb6-4b5d-8b30-39b6e152becb"
      },
      "execution_count": null,
      "outputs": [
        {
          "output_type": "stream",
          "name": "stdout",
          "text": [
            "['__a', '__b', '__builtins__', '__cached__', '__doc__', '__file__', '__loader__', '__name__', '__package__', '__spec__', '_a', '_b', 'a', 'b', 'data']\n"
          ]
        }
      ]
    },
    {
      "cell_type": "code",
      "source": [
        "gosu.a"
      ],
      "metadata": {
        "colab": {
          "base_uri": "https://localhost:8080/"
        },
        "id": "xsL8l83oSFvG",
        "outputId": "a697e482-a312-4c81-d5cb-032d8cdff0dc"
      },
      "execution_count": null,
      "outputs": [
        {
          "output_type": "execute_result",
          "data": {
            "text/plain": [
              "1"
            ]
          },
          "metadata": {},
          "execution_count": 19
        }
      ]
    },
    {
      "cell_type": "code",
      "source": [
        "gosu._a"
      ],
      "metadata": {
        "colab": {
          "base_uri": "https://localhost:8080/"
        },
        "id": "XDSNUOV_R1sA",
        "outputId": "411a4060-c43a-4a90-b1a7-60255ab26e75"
      },
      "execution_count": null,
      "outputs": [
        {
          "output_type": "execute_result",
          "data": {
            "text/plain": [
              "2"
            ]
          },
          "metadata": {},
          "execution_count": 20
        }
      ]
    },
    {
      "cell_type": "code",
      "source": [
        "gosu.__a"
      ],
      "metadata": {
        "colab": {
          "base_uri": "https://localhost:8080/"
        },
        "id": "kUT94yZJR5Kf",
        "outputId": "4b29f9c8-c24a-44d6-af20-b9288c6cc5cd"
      },
      "execution_count": null,
      "outputs": [
        {
          "output_type": "execute_result",
          "data": {
            "text/plain": [
              "3"
            ]
          },
          "metadata": {},
          "execution_count": 21
        }
      ]
    },
    {
      "cell_type": "code",
      "source": [
        "import source.gosu"
      ],
      "metadata": {
        "id": "CMI2UCVGR6h3"
      },
      "execution_count": null,
      "outputs": []
    },
    {
      "cell_type": "code",
      "source": [
        "print(gosu.a)\n",
        "print(gosu._a)\n",
        "print(gosu.__a)"
      ],
      "metadata": {
        "colab": {
          "base_uri": "https://localhost:8080/"
        },
        "id": "yzc8BdyIR8wH",
        "outputId": "05ad5119-aa9b-48b3-c93e-2da1d19f2850"
      },
      "execution_count": null,
      "outputs": [
        {
          "output_type": "stream",
          "name": "stdout",
          "text": [
            "1\n",
            "2\n",
            "3\n"
          ]
        }
      ]
    },
    {
      "cell_type": "markdown",
      "source": [
        " - as는 alias의 줄임말로 별칭이라는 뜻이다."
      ],
      "metadata": {
        "id": "nYmjzecASJl7"
      }
    },
    {
      "cell_type": "code",
      "source": [
        "from source import gosu as g #g라는 이름으로 gosu를 import한다."
      ],
      "metadata": {
        "id": "QZUM2fpHSQX_"
      },
      "execution_count": null,
      "outputs": []
    },
    {
      "cell_type": "code",
      "source": [
        "print(g.a)\n",
        "print(g._a)\n",
        "print(g.__a)"
      ],
      "metadata": {
        "colab": {
          "base_uri": "https://localhost:8080/"
        },
        "id": "sKTmG61qSbfI",
        "outputId": "027ef337-4445-48f5-d60b-d0b1516dfb9e"
      },
      "execution_count": null,
      "outputs": [
        {
          "output_type": "stream",
          "name": "stdout",
          "text": [
            "1\n",
            "2\n",
            "3\n"
          ]
        }
      ]
    },
    {
      "cell_type": "code",
      "source": [
        "#__name__은 원래 이름을 알려준다.\n",
        "g.__name__"
      ],
      "metadata": {
        "colab": {
          "base_uri": "https://localhost:8080/",
          "height": 35
        },
        "id": "dX8SAmyRSTw_",
        "outputId": "68d03a34-7430-420f-bb64-9aeb721a7a65"
      },
      "execution_count": null,
      "outputs": [
        {
          "output_type": "execute_result",
          "data": {
            "text/plain": [
              "'source.gosu'"
            ],
            "application/vnd.google.colaboratory.intrinsic+json": {
              "type": "string"
            }
          },
          "metadata": {},
          "execution_count": 29
        }
      ]
    },
    {
      "cell_type": "markdown",
      "source": [
        "from"
      ],
      "metadata": {
        "id": "lLieolYOSis8"
      }
    },
    {
      "cell_type": "code",
      "source": [
        "from source.gosu import a, _a #gosu안에 있는 자원(모듈)을 쓰겠다"
      ],
      "metadata": {
        "id": "F8qqdF1ESjc3"
      },
      "execution_count": null,
      "outputs": []
    },
    {
      "cell_type": "code",
      "source": [
        "print(a)\n",
        "print(_a)\n",
        "#__a는 import를 안했기 때문에 오류가 발생한다.\n",
        "print(__a)\n"
      ],
      "metadata": {
        "colab": {
          "base_uri": "https://localhost:8080/"
        },
        "id": "KH_bsSI7SmMn",
        "outputId": "d6175b48-9f8b-4cb0-816b-239204928a5c"
      },
      "execution_count": null,
      "outputs": [
        {
          "output_type": "stream",
          "name": "stdout",
          "text": [
            "1\n",
            "2\n",
            "3\n"
          ]
        }
      ]
    },
    {
      "cell_type": "code",
      "source": [
        "_a"
      ],
      "metadata": {
        "colab": {
          "base_uri": "https://localhost:8080/"
        },
        "id": "ZInF3V5-Vyb7",
        "outputId": "81668f23-1a78-4a73-fd9b-d8c6c27c00cf"
      },
      "execution_count": null,
      "outputs": [
        {
          "output_type": "execute_result",
          "data": {
            "text/plain": [
              "2"
            ]
          },
          "metadata": {},
          "execution_count": 40
        }
      ]
    },
    {
      "cell_type": "code",
      "source": [
        "from source.gosu import a as f"
      ],
      "metadata": {
        "id": "uD0zSv9jYJin"
      },
      "execution_count": null,
      "outputs": []
    },
    {
      "cell_type": "code",
      "source": [
        "f"
      ],
      "metadata": {
        "colab": {
          "base_uri": "https://localhost:8080/"
        },
        "id": "93cn6-1qYNbn",
        "outputId": "2bbd7f4d-1dba-4e3c-a2e8-12f287f0caa4"
      },
      "execution_count": null,
      "outputs": [
        {
          "output_type": "execute_result",
          "data": {
            "text/plain": [
              "1"
            ]
          },
          "metadata": {},
          "execution_count": 42
        }
      ]
    },
    {
      "cell_type": "code",
      "source": [
        "print(dir(f))"
      ],
      "metadata": {
        "colab": {
          "base_uri": "https://localhost:8080/"
        },
        "id": "1Hd5hZ-YYOVx",
        "outputId": "816390d4-262e-4398-88d8-f6708851c7b2"
      },
      "execution_count": null,
      "outputs": [
        {
          "output_type": "stream",
          "name": "stdout",
          "text": [
            "['__abs__', '__add__', '__and__', '__bool__', '__ceil__', '__class__', '__delattr__', '__dir__', '__divmod__', '__doc__', '__eq__', '__float__', '__floor__', '__floordiv__', '__format__', '__ge__', '__getattribute__', '__getnewargs__', '__gt__', '__hash__', '__index__', '__init__', '__init_subclass__', '__int__', '__invert__', '__le__', '__lshift__', '__lt__', '__mod__', '__mul__', '__ne__', '__neg__', '__new__', '__or__', '__pos__', '__pow__', '__radd__', '__rand__', '__rdivmod__', '__reduce__', '__reduce_ex__', '__repr__', '__rfloordiv__', '__rlshift__', '__rmod__', '__rmul__', '__ror__', '__round__', '__rpow__', '__rrshift__', '__rshift__', '__rsub__', '__rtruediv__', '__rxor__', '__setattr__', '__sizeof__', '__str__', '__sub__', '__subclasshook__', '__truediv__', '__trunc__', '__xor__', 'as_integer_ratio', 'bit_count', 'bit_length', 'conjugate', 'denominator', 'from_bytes', 'imag', 'numerator', 'real', 'to_bytes']\n"
          ]
        }
      ]
    },
    {
      "cell_type": "code",
      "source": [
        "#int는 __name__이 제공이 안돼서 사용할 수 없다.\n",
        "f.__name__"
      ],
      "metadata": {
        "colab": {
          "base_uri": "https://localhost:8080/",
          "height": 183
        },
        "id": "9H6jSgoiYS1b",
        "outputId": "11bac0bc-3fa2-4f6e-e3da-2c265ebf43a0"
      },
      "execution_count": null,
      "outputs": [
        {
          "output_type": "error",
          "ename": "AttributeError",
          "evalue": "ignored",
          "traceback": [
            "\u001b[0;31m---------------------------------------------------------------------------\u001b[0m",
            "\u001b[0;31mAttributeError\u001b[0m                            Traceback (most recent call last)",
            "\u001b[0;32m<ipython-input-45-c97c7504e772>\u001b[0m in \u001b[0;36m<cell line: 1>\u001b[0;34m()\u001b[0m\n\u001b[0;32m----> 1\u001b[0;31m \u001b[0mf\u001b[0m\u001b[0;34m.\u001b[0m\u001b[0m__name__\u001b[0m\u001b[0;34m\u001b[0m\u001b[0;34m\u001b[0m\u001b[0m\n\u001b[0m",
            "\u001b[0;31mAttributeError\u001b[0m: 'int' object has no attribute '__name__'"
          ]
        }
      ]
    },
    {
      "cell_type": "code",
      "source": [],
      "metadata": {
        "id": "_9LtG9fvYUju"
      },
      "execution_count": null,
      "outputs": []
    },
    {
      "cell_type": "markdown",
      "source": [
        "---*(asterisk)---\n",
        "*는 이름이 언더바로 시작하는 것 빼고 모두 가져온다.\n",
        "\n",
        "여기서 kernel을 재시작하거나, jupyter, notebook파일을 새로 만든 후 실습한다.\n",
        "kernel을 재시작했으므로 현재 네임스페이스에는 아무것도 없다."
      ],
      "metadata": {
        "id": "sOryL7RkcDtK"
      }
    },
    {
      "cell_type": "code",
      "source": [
        "%who #interactive namespace is empty"
      ],
      "metadata": {
        "colab": {
          "base_uri": "https://localhost:8080/"
        },
        "id": "aKIVv0UDcFWq",
        "outputId": "ae79ee10-efba-48ec-932a-655ffb8c7ad0"
      },
      "execution_count": null,
      "outputs": [
        {
          "output_type": "stream",
          "name": "stdout",
          "text": [
            "drive\t \n"
          ]
        }
      ]
    },
    {
      "cell_type": "markdown",
      "source": [
        "```\n",
        "import 하면 gosu에 있는 객체들이 현재 네임스페이스에 추가된다.\n",
        "\n",
        "이름이 언더바(_, __)로 시작하는 것을 빼고 a, b만 추가된 것을 알 수 있다.\n",
        "```"
      ],
      "metadata": {
        "id": "EV0NQ-jhcqjJ"
      }
    },
    {
      "cell_type": "code",
      "source": [
        "from source.gosu import *# *('모든'이라는 의미긴 함)로 해버리면 자원을 안가져 온다."
      ],
      "metadata": {
        "id": "807nG2wccFjE"
      },
      "execution_count": null,
      "outputs": []
    },
    {
      "cell_type": "code",
      "source": [
        "%who"
      ],
      "metadata": {
        "colab": {
          "base_uri": "https://localhost:8080/"
        },
        "id": "d-cZoLbqccSv",
        "outputId": "b46e8574-4745-44c5-99d7-feeafa106a8d"
      },
      "execution_count": null,
      "outputs": [
        {
          "output_type": "stream",
          "name": "stdout",
          "text": [
            "a\t b\t data\t drive\t \n"
          ]
        }
      ]
    },
    {
      "cell_type": "markdown",
      "source": [
        "```\n",
        "---double underbar---\n",
        "이름의 앞 뒤에 언더바가 2개씩 붙은 것들은 python에 미리 정해져 있는 기능이다.\n",
        "\n",
        "ex)__init__. __call__, __len__등\n",
        "\n",
        "다른 표현으로 dender,magic method, special method라고 한다\n",
        "```"
      ],
      "metadata": {
        "id": "xErbHFh9eVUt"
      }
    },
    {
      "cell_type": "markdown",
      "source": [
        "## overriding(오버라이딩)\n",
        "부모가 가진 기능을 변경하는 것을 overriding이라고 한다.\n",
        "\n",
        "더블 언더바(__)가 붙어있는 것들은 overriding해서 객체의 기능을 바꿀 수 없다."
      ],
      "metadata": {
        "id": "ogp0yKCBfZK7"
      }
    },
    {
      "cell_type": "markdown",
      "source": [
        "##overloading(오버로딩)\n",
        " - parameter에 따라서 다른 함수를 사용하는 기법\n",
        " - python은 overloading을 지원하지 않고, 뒤에 것이 앞의 것을 덮어쓴다.\n",
        "\n",
        " - python은 overloading을 지원하지 않으므로 default value를 많이 만들어 두는  - 기법을 자주 사용한다.\n",
        " - 위의 overloading을 지원하지 않으므로 default value를 많이 만드어 두는 기법을 자주 사용한다.\n",
        " - 위의 overloading예시를 default value를 이용해 python에서 구현하면 다음과 같이 만들 수 있다."
      ],
      "metadata": {
        "id": "5LmOp37gf79S"
      }
    },
    {
      "cell_type": "code",
      "source": [
        "def student(first, last='Mark', age=30):\n",
        "  print(first)\n",
        "  print(last)\n",
        "  print(age)\n",
        "\n",
        "student('Young')\n",
        "student('young', 'Lee')"
      ],
      "metadata": {
        "colab": {
          "base_uri": "https://localhost:8080/"
        },
        "id": "YwuINkqVhIri",
        "outputId": "0187a97f-b437-4f2c-b728-cb120e59bcd2"
      },
      "execution_count": null,
      "outputs": [
        {
          "output_type": "stream",
          "name": "stdout",
          "text": [
            "Young\n",
            "Mark\n",
            "30\n",
            "young\n",
            "Lee\n",
            "30\n"
          ]
        }
      ]
    },
    {
      "cell_type": "markdown",
      "source": [
        "###__init__(생성자)\n",
        " - __init__는 파이썬의 생성자(constructor)이다.\n",
        " - 인스턴스화할 대 자동으로 실행한다.\n",
        " - 초기화한다는 뜻의 initialize에서 이름을 가져왔다."
      ],
      "metadata": {
        "id": "f6MvO0GDhroS"
      }
    },
    {
      "cell_type": "code",
      "source": [
        "class A:\n",
        "  def __init__(self):\n",
        "    print('__init__')"
      ],
      "metadata": {
        "id": "3OCjnH1QiK3W"
      },
      "execution_count": null,
      "outputs": []
    },
    {
      "cell_type": "code",
      "source": [
        "#인스턴스화할때 자동으로 실행되어 print가 출려된다.\n",
        "a = A()"
      ],
      "metadata": {
        "colab": {
          "base_uri": "https://localhost:8080/"
        },
        "id": "B2QSzF8CiSRn",
        "outputId": "d813e735-d0ab-4fd1-bcce-77b80e50f526"
      },
      "execution_count": null,
      "outputs": [
        {
          "output_type": "stream",
          "name": "stdout",
          "text": [
            "__init__\n"
          ]
        }
      ]
    },
    {
      "cell_type": "code",
      "source": [
        "class A:\n",
        "  def __init__(self, param):\n",
        "    self.param = param\n",
        "    print('__init__')\n",
        "    print(param)"
      ],
      "metadata": {
        "id": "xoYhnX1BijmW"
      },
      "execution_count": null,
      "outputs": []
    },
    {
      "cell_type": "code",
      "source": [
        "a = A('param')"
      ],
      "metadata": {
        "colab": {
          "base_uri": "https://localhost:8080/"
        },
        "id": "cDwNZIeNiuL-",
        "outputId": "12e89a5b-7e9d-49a5-9d3d-e280408f18d3"
      },
      "execution_count": null,
      "outputs": [
        {
          "output_type": "stream",
          "name": "stdout",
          "text": [
            "__init__\n",
            "param\n"
          ]
        }
      ]
    },
    {
      "cell_type": "code",
      "source": [
        "vars(a)"
      ],
      "metadata": {
        "colab": {
          "base_uri": "https://localhost:8080/"
        },
        "id": "HAr2WosLi4iO",
        "outputId": "58fea8c3-88f0-4605-8ba4-0207c44d9419"
      },
      "execution_count": null,
      "outputs": [
        {
          "output_type": "execute_result",
          "data": {
            "text/plain": [
              "{'param': 'param'}"
            ]
          },
          "metadata": {},
          "execution_count": 23
        }
      ]
    },
    {
      "cell_type": "code",
      "source": [
        "class A:\n",
        "  def __new__(cls, *args, **kwargs):\n",
        "    print('__new__')\n",
        "    return object.__new__(cls)\n",
        "  def __init__(self, *args, **kwargs):\n",
        "    print('__init__')\n",
        "    print(args)\n",
        "    self.x = 1"
      ],
      "metadata": {
        "id": "RwJw8s0fi6CG"
      },
      "execution_count": null,
      "outputs": []
    },
    {
      "cell_type": "code",
      "source": [
        "a = A(3)"
      ],
      "metadata": {
        "colab": {
          "base_uri": "https://localhost:8080/"
        },
        "id": "4gQ1fWGXjk8P",
        "outputId": "178c3717-67f6-481e-b7e2-e07485bd0714"
      },
      "execution_count": null,
      "outputs": [
        {
          "output_type": "stream",
          "name": "stdout",
          "text": [
            "__new__\n",
            "__init__\n",
            "(3,)\n"
          ]
        }
      ]
    },
    {
      "cell_type": "markdown",
      "source": [
        "__del__은 소멸자이다.\n",
        "\n",
        "인스턴스를 삭제할때 실행된다."
      ],
      "metadata": {
        "id": "Mi5AVQogksW0"
      }
    },
    {
      "cell_type": "markdown",
      "source": [
        "__class__\n",
        "\n",
        "type와 같다. 객체의 class을 알려준다"
      ],
      "metadata": {
        "id": "THhCwZxQljjE"
      }
    },
    {
      "cell_type": "code",
      "source": [
        "class A:\n",
        "  def __init__(self):\n",
        "    self.a=4\n",
        "    print('__init__')\n",
        "\n",
        "  def __del__(self):\n",
        "    print('__del__')"
      ],
      "metadata": {
        "id": "aVsGxQ2Gkx-G"
      },
      "execution_count": null,
      "outputs": []
    },
    {
      "cell_type": "code",
      "source": [
        "a = A()"
      ],
      "metadata": {
        "colab": {
          "base_uri": "https://localhost:8080/"
        },
        "id": "p7m0tLvnlGIG",
        "outputId": "0514d382-7686-41a9-ea61-f5e653398fee"
      },
      "execution_count": null,
      "outputs": [
        {
          "output_type": "stream",
          "name": "stdout",
          "text": [
            "__init__\n"
          ]
        }
      ]
    },
    {
      "cell_type": "code",
      "source": [
        "type(a)"
      ],
      "metadata": {
        "colab": {
          "base_uri": "https://localhost:8080/"
        },
        "id": "iZcE0gVplMzv",
        "outputId": "3749bdb0-ac1d-4200-f8dd-3fbca131a6ad"
      },
      "execution_count": null,
      "outputs": [
        {
          "output_type": "execute_result",
          "data": {
            "text/plain": [
              "__main__.A"
            ]
          },
          "metadata": {},
          "execution_count": 46
        }
      ]
    },
    {
      "cell_type": "code",
      "source": [
        "print(dir(a))"
      ],
      "metadata": {
        "colab": {
          "base_uri": "https://localhost:8080/"
        },
        "id": "08Y3EUdDlmy1",
        "outputId": "912ed826-f6bd-4d56-cc86-f348b5f3c49f"
      },
      "execution_count": null,
      "outputs": [
        {
          "output_type": "stream",
          "name": "stdout",
          "text": [
            "['__class__', '__del__', '__delattr__', '__dict__', '__dir__', '__doc__', '__eq__', '__format__', '__ge__', '__getattribute__', '__gt__', '__hash__', '__init__', '__init_subclass__', '__le__', '__lt__', '__module__', '__ne__', '__new__', '__reduce__', '__reduce_ex__', '__repr__', '__setattr__', '__sizeof__', '__str__', '__subclasshook__', '__weakref__', 'a']\n"
          ]
        }
      ]
    },
    {
      "cell_type": "code",
      "source": [
        "a.__class__"
      ],
      "metadata": {
        "colab": {
          "base_uri": "https://localhost:8080/"
        },
        "id": "vLWC1Fhkl49c",
        "outputId": "cc8daf3e-da54-48b8-a781-a805d2da7a0f"
      },
      "execution_count": null,
      "outputs": [
        {
          "output_type": "execute_result",
          "data": {
            "text/plain": [
              "__main__.A"
            ]
          },
          "metadata": {},
          "execution_count": 48
        }
      ]
    },
    {
      "cell_type": "code",
      "source": [
        "type(A)"
      ],
      "metadata": {
        "colab": {
          "base_uri": "https://localhost:8080/"
        },
        "id": "_luXINxnl7uw",
        "outputId": "4e717251-d7ee-4248-e449-f552e4200523"
      },
      "execution_count": null,
      "outputs": [
        {
          "output_type": "execute_result",
          "data": {
            "text/plain": [
              "type"
            ]
          },
          "metadata": {},
          "execution_count": 44
        }
      ]
    },
    {
      "cell_type": "markdown",
      "source": [
        " - type에 인스턴스를 넣으면 클래스를 알려준다.\n",
        " - type에 클래스를 넣으면 메타 클래스를 알려준다.\n",
        " - 메타클래스는 class의 class이다."
      ],
      "metadata": {
        "id": "f50uakx0l9_h"
      }
    },
    {
      "cell_type": "markdown",
      "source": [
        "__dir__\n",
        "\n",
        "dir()과 비슷하다.\n",
        "\n",
        "차이점은 정렬 여부이다.(ordering)"
      ],
      "metadata": {
        "id": "fhp9C1aQmNpC"
      }
    },
    {
      "cell_type": "code",
      "source": [
        "print(a.__dir__())"
      ],
      "metadata": {
        "colab": {
          "base_uri": "https://localhost:8080/"
        },
        "id": "Jng-8aUAmrLz",
        "outputId": "41f25e43-8749-43dc-cc8a-3be2adbbe552"
      },
      "execution_count": null,
      "outputs": [
        {
          "output_type": "stream",
          "name": "stdout",
          "text": [
            "['a', '__module__', '__init__', '__del__', '__dict__', '__weakref__', '__doc__', '__new__', '__repr__', '__hash__', '__str__', '__getattribute__', '__setattr__', '__delattr__', '__lt__', '__le__', '__eq__', '__ne__', '__gt__', '__ge__', '__reduce_ex__', '__reduce__', '__subclasshook__', '__init_subclass__', '__format__', '__sizeof__', '__dir__', '__class__']\n"
          ]
        }
      ]
    },
    {
      "cell_type": "code",
      "source": [
        "print(dir(a))"
      ],
      "metadata": {
        "colab": {
          "base_uri": "https://localhost:8080/"
        },
        "id": "JGj-B5z1m0Mn",
        "outputId": "18dccd1d-a6bd-4cdb-f39d-b600f9dd6918"
      },
      "execution_count": null,
      "outputs": [
        {
          "output_type": "stream",
          "name": "stdout",
          "text": [
            "['__class__', '__del__', '__delattr__', '__dict__', '__dir__', '__doc__', '__eq__', '__format__', '__ge__', '__getattribute__', '__gt__', '__hash__', '__init__', '__init_subclass__', '__le__', '__lt__', '__module__', '__ne__', '__new__', '__reduce__', '__reduce_ex__', '__repr__', '__setattr__', '__sizeof__', '__str__', '__subclasshook__', '__weakref__', 'a']\n"
          ]
        }
      ]
    },
    {
      "cell_type": "code",
      "source": [
        "print(len(dir(a))- len(a.__dir__())) #둘이 똑같다는 얘기\n",
        "print(len(dir(a)))"
      ],
      "metadata": {
        "colab": {
          "base_uri": "https://localhost:8080/"
        },
        "id": "70cRdpNFpL6T",
        "outputId": "e722e2ae-da25-4824-802b-9d5868d9fa9d"
      },
      "execution_count": null,
      "outputs": [
        {
          "output_type": "stream",
          "name": "stdout",
          "text": [
            "0\n",
            "28\n"
          ]
        }
      ]
    },
    {
      "cell_type": "markdown",
      "source": [
        "__doc__\n",
        " - docsting을 의미한다.\n",
        " - 함수나 클래스를 선언할때, signiture바로 앞에 따옴표 세개를 이용해서 설명을 기재할 수 있다."
      ],
      "metadata": {
        "id": "I3JdxDyCqQXP"
      }
    },
    {
      "cell_type": "code",
      "source": [
        "int?"
      ],
      "metadata": {
        "id": "zPe4vWa6pepH"
      },
      "execution_count": null,
      "outputs": []
    },
    {
      "cell_type": "code",
      "source": [
        "int.__doc__"
      ],
      "metadata": {
        "colab": {
          "base_uri": "https://localhost:8080/",
          "height": 108
        },
        "id": "fI4fzDEMptDO",
        "outputId": "fbbba961-8041-4a89-adc0-b07fe3ab5e60"
      },
      "execution_count": null,
      "outputs": [
        {
          "output_type": "execute_result",
          "data": {
            "text/plain": [
              "\"int([x]) -> integer\\nint(x, base=10) -> integer\\n\\nConvert a number or string to an integer, or return 0 if no arguments\\nare given.  If x is a number, return x.__int__().  For floating point\\nnumbers, this truncates towards zero.\\n\\nIf x is not a number or if base is given, then x must be a string,\\nbytes, or bytearray instance representing an integer literal in the\\ngiven base.  The literal can be preceded by '+' or '-' and be surrounded\\nby whitespace.  The base defaults to 10.  Valid bases are 0 and 2-36.\\nBase 0 means to interpret the base from the string as an integer literal.\\n>>> int('0b100', base=0)\\n4\""
            ],
            "application/vnd.google.colaboratory.intrinsic+json": {
              "type": "string"
            }
          },
          "metadata": {},
          "execution_count": 55
        }
      ]
    },
    {
      "cell_type": "code",
      "source": [
        "class A:\n",
        "   '''클래스 설명서'''\n",
        "   def __init__(self):\n",
        "   '''INIT 설명서'''\n",
        "     self.a= 10\n",
        "     print('__init__')"
      ],
      "metadata": {
        "colab": {
          "base_uri": "https://localhost:8080/",
          "height": 147
        },
        "id": "Uu-9-j_dqTBi",
        "outputId": "03e8dc0a-9717-47b3-8f8a-511a369e71a3"
      },
      "execution_count": null,
      "outputs": [
        {
          "output_type": "error",
          "ename": "IndentationError",
          "evalue": "ignored",
          "traceback": [
            "\u001b[0;36m  File \u001b[0;32m\"<ipython-input-62-957299b26adf>\"\u001b[0;36m, line \u001b[0;32m4\u001b[0m\n\u001b[0;31m    '''INIT 설명서'''\u001b[0m\n\u001b[0m    ^\u001b[0m\n\u001b[0;31mIndentationError\u001b[0m\u001b[0;31m:\u001b[0m expected an indented block after function definition on line 3\n"
          ]
        }
      ]
    },
    {
      "cell_type": "code",
      "source": [
        "a = A()"
      ],
      "metadata": {
        "colab": {
          "base_uri": "https://localhost:8080/"
        },
        "id": "hGDinZQOqtCm",
        "outputId": "f4c938dc-a220-44e8-d7ad-99b9d1a5d0b4"
      },
      "execution_count": null,
      "outputs": [
        {
          "output_type": "stream",
          "name": "stdout",
          "text": [
            "__init__\n",
            "__del__\n"
          ]
        }
      ]
    },
    {
      "cell_type": "code",
      "source": [
        "a?"
      ],
      "metadata": {
        "id": "vCU6fs_9q36P"
      },
      "execution_count": null,
      "outputs": []
    },
    {
      "cell_type": "code",
      "source": [
        "a.__doc__"
      ],
      "metadata": {
        "id": "YLAhlMmFq6zA"
      },
      "execution_count": null,
      "outputs": []
    },
    {
      "cell_type": "code",
      "source": [
        "result = 0\n",
        "\n",
        "def add(num):\n",
        "   global result\n",
        "   result += num\n",
        "   return result\n",
        "\n",
        "print(add(3))\n",
        "print(add(4))"
      ],
      "metadata": {
        "colab": {
          "base_uri": "https://localhost:8080/"
        },
        "id": "xU0DzdNcVhOT",
        "outputId": "da1c54a4-d3c3-43f8-c1f7-68a1fa818a0e"
      },
      "execution_count": null,
      "outputs": [
        {
          "output_type": "stream",
          "name": "stdout",
          "text": [
            "3\n",
            "7\n"
          ]
        }
      ]
    },
    {
      "cell_type": "code",
      "source": [
        "print(add(3))\n",
        "print(add(4))"
      ],
      "metadata": {
        "colab": {
          "base_uri": "https://localhost:8080/"
        },
        "id": "zOPG1ponWLQU",
        "outputId": "a29a1e48-ecbc-4163-ea99-1c0b4e0525b4"
      },
      "execution_count": null,
      "outputs": [
        {
          "output_type": "stream",
          "name": "stdout",
          "text": [
            "6\n",
            "10\n"
          ]
        }
      ]
    },
    {
      "cell_type": "markdown",
      "source": [
        "```\n",
        "__repr__과 __str__\n",
        "```"
      ],
      "metadata": {
        "id": "ER3q0Y0eaurq"
      }
    },
    {
      "cell_type": "code",
      "source": [
        "class B:\n",
        "  def __init__(self):\n",
        "    '''doc'''\n",
        "    print(\"init\")\n",
        "\n",
        "  def __repr__(self):\n",
        "    print('repr')\n",
        "    return '1'\n",
        "\n",
        "  def __str__(self):\n",
        "    print('str')\n",
        "    return '2'"
      ],
      "metadata": {
        "id": "CQqA8vEya25x"
      },
      "execution_count": null,
      "outputs": []
    },
    {
      "cell_type": "code",
      "source": [
        "b = B()"
      ],
      "metadata": {
        "colab": {
          "base_uri": "https://localhost:8080/"
        },
        "id": "y2beAlKbbgJp",
        "outputId": "afd7448d-f53b-4974-80cf-91a04c83ec46"
      },
      "execution_count": null,
      "outputs": [
        {
          "output_type": "stream",
          "name": "stdout",
          "text": [
            "init\n"
          ]
        }
      ]
    },
    {
      "cell_type": "code",
      "source": [
        "b"
      ],
      "metadata": {
        "colab": {
          "base_uri": "https://localhost:8080/"
        },
        "id": "P4ToP_2objuo",
        "outputId": "8099dfe9-10e3-41fa-97f7-b3fcdf2da5e4"
      },
      "execution_count": null,
      "outputs": [
        {
          "output_type": "stream",
          "name": "stdout",
          "text": [
            "repr\n"
          ]
        },
        {
          "output_type": "execute_result",
          "data": {
            "text/plain": [
              "1"
            ]
          },
          "metadata": {},
          "execution_count": 7
        }
      ]
    },
    {
      "cell_type": "code",
      "source": [
        "print(b)"
      ],
      "metadata": {
        "colab": {
          "base_uri": "https://localhost:8080/"
        },
        "id": "fhCgn6dWbq_X",
        "outputId": "577f0c4a-c69a-4f3f-ea97-1182dd46c82c"
      },
      "execution_count": null,
      "outputs": [
        {
          "output_type": "stream",
          "name": "stdout",
          "text": [
            "str\n",
            "2\n"
          ]
        }
      ]
    },
    {
      "cell_type": "markdown",
      "source": [
        "```\n",
        "정리\n",
        "반드시 기억해야 함\n",
        " - type =__class__\n",
        " - dir=__dir__\n",
        " - vars=__dict__\n",
        "```"
      ],
      "metadata": {
        "id": "1qrzP0_Tb_Bp"
      }
    },
    {
      "cell_type": "markdown",
      "source": [
        "## 다이아몬드 상속구조\n",
        "다중 상속구조?"
      ],
      "metadata": {
        "id": "eWrVlodUccYK"
      }
    },
    {
      "cell_type": "code",
      "source": [
        "class base:\n",
        "  pass\n",
        "\n",
        "class A(base):\n",
        "  a = 1\n",
        "\n",
        "class B(Base):\n",
        "  b = 1\n",
        "\n",
        "class C(A, B):\n",
        "  pass"
      ],
      "metadata": {
        "id": "Jwz5cYY-cjik"
      },
      "execution_count": null,
      "outputs": []
    },
    {
      "cell_type": "code",
      "source": [
        "C.mro()"
      ],
      "metadata": {
        "colab": {
          "base_uri": "https://localhost:8080/"
        },
        "id": "0XSQQRq5dPQ3",
        "outputId": "e360850c-dc15-41b3-cf77-7f6a617d437d"
      },
      "execution_count": null,
      "outputs": [
        {
          "output_type": "execute_result",
          "data": {
            "text/plain": [
              "[__main__.C, __main__.A, __main__.B, __main__.Base, object]"
            ]
          },
          "metadata": {},
          "execution_count": 15
        }
      ]
    },
    {
      "cell_type": "code",
      "source": [
        "class Base:\n",
        "   def __init__(self):\n",
        "     print('Base')\n",
        "\n",
        "class A(Base):\n",
        "   a = 1\n",
        "\n",
        "   def __init__(self):\n",
        "      print('A')\n",
        "\n",
        "class B(Base):\n",
        "   b = 1\n",
        "\n",
        "   def __init__(self):\n",
        "     print('B')\n",
        "\n",
        "class C(A, B):\n",
        "   def __init__(self):\n",
        "     A.__init__(self)\n",
        "     B.__init__(self)\n",
        "     Base.__init__(self)\n",
        "     print('C')"
      ],
      "metadata": {
        "id": "M2Ge9aCrdhnD"
      },
      "execution_count": null,
      "outputs": []
    },
    {
      "cell_type": "code",
      "source": [
        "c = C()"
      ],
      "metadata": {
        "colab": {
          "base_uri": "https://localhost:8080/"
        },
        "id": "Em5ZQKoDhUe3",
        "outputId": "87d45893-231d-4cf2-d554-4d0b9171337e"
      },
      "execution_count": null,
      "outputs": [
        {
          "output_type": "stream",
          "name": "stdout",
          "text": [
            "A\n",
            "B\n",
            "Base\n",
            "C\n"
          ]
        }
      ]
    },
    {
      "cell_type": "markdown",
      "source": [
        "C의 __init__에서 실행된 순서대로 print 찍힌다.\n",
        "상속받을 때 부모의 __init가 실행되는 순서를 파악하기 위함이다."
      ],
      "metadata": {
        "id": "zK3ahww5hcq6"
      }
    },
    {
      "cell_type": "markdown",
      "source": [
        "A와 B에 부모의 생성자를 실행하도록 코드를 추가한다."
      ],
      "metadata": {
        "id": "Zf1IxJRUiB1p"
      }
    },
    {
      "cell_type": "code",
      "source": [
        "class Base:\n",
        "   def __init__(self):\n",
        "     print('Base')\n",
        "\n",
        "class A(Base):\n",
        "   a = 1\n",
        "\n",
        "   def __init__(self):\n",
        "      print('A')\n",
        "      Base.__init__(self) #추가\n",
        "\n",
        "class B(Base):\n",
        "   b = 1\n",
        "\n",
        "   def __init__(self):\n",
        "     print('B')\n",
        "     Base.__init__(self) #추가\n",
        "\n",
        "class C(A, B):\n",
        "   def __init__(self):\n",
        "     A.__init__(self)\n",
        "     B.__init__(self)\n",
        "     Base.__init__(self)\n",
        "     print('C')"
      ],
      "metadata": {
        "id": "aR-QLimEhWbf"
      },
      "execution_count": null,
      "outputs": []
    },
    {
      "cell_type": "markdown",
      "source": [
        "Base의 생성자가 너무 많이 실행되는 문제가 있다."
      ],
      "metadata": {
        "id": "lDIiXaDOi29y"
      }
    },
    {
      "cell_type": "code",
      "source": [
        "c = C()"
      ],
      "metadata": {
        "colab": {
          "base_uri": "https://localhost:8080/"
        },
        "id": "ZZp2T4DbicAr",
        "outputId": "7b5cc97d-8e3e-4b5b-9d2b-92e1030e125d"
      },
      "execution_count": null,
      "outputs": [
        {
          "output_type": "stream",
          "name": "stdout",
          "text": [
            "A\n",
            "Base\n",
            "B\n",
            "Base\n",
            "Base\n",
            "C\n"
          ]
        }
      ]
    },
    {
      "cell_type": "code",
      "source": [
        "class Base:\n",
        "   def __init__(self):\n",
        "     print('Base')\n",
        "\n",
        "class A(Base):\n",
        "   a = 1\n",
        "\n",
        "   def __init__(self):\n",
        "      Base.__init__(self) #순서변경\n",
        "      print('A') #순서변경\n",
        "class B(Base):\n",
        "   b = 1\n",
        "\n",
        "   def __init__(self):\n",
        "      Base.__init__(self) #순서변경\n",
        "      print('B') #순서변경\n",
        "\n",
        "class C(A, B):\n",
        "   def __init__(self):\n",
        "     A.__init__(self)\n",
        "     B.__init__(self)\n",
        "     Base.__init__(self)\n",
        "     print('C')"
      ],
      "metadata": {
        "id": "TWtM1C9MjEeQ"
      },
      "execution_count": null,
      "outputs": []
    },
    {
      "cell_type": "markdown",
      "source": [
        "생성자 내에서 print함수의 위치에 따라서 출력이 달라진다."
      ],
      "metadata": {
        "id": "vbj3u-qqjbEp"
      }
    },
    {
      "cell_type": "code",
      "source": [
        "c = C()"
      ],
      "metadata": {
        "colab": {
          "base_uri": "https://localhost:8080/"
        },
        "id": "ffYb27ztjXaL",
        "outputId": "88ea01d3-e9cf-4b9d-fe31-b0da14fe2a13"
      },
      "execution_count": null,
      "outputs": [
        {
          "output_type": "stream",
          "name": "stdout",
          "text": [
            "Base\n",
            "A\n",
            "Base\n",
            "B\n",
            "Base\n",
            "C\n"
          ]
        }
      ]
    },
    {
      "cell_type": "code",
      "source": [
        "class Base:\n",
        "   def __init__(self):\n",
        "     print('Base')\n",
        "\n",
        "class A(Base):\n",
        "   a = 1\n",
        "\n",
        "   def __init__(self):\n",
        "      Base.__init__(self) #순서변경\n",
        "      print('A') #순서변경\n",
        "class B(Base):\n",
        "   b = 1\n",
        "\n",
        "   def __init__(self):\n",
        "      Base.__init__(self) #순서변경\n",
        "      print('B') #순서변경\n",
        "\n",
        "class C(A, B):\n",
        "   def __init__(self):\n",
        "     A.__init__(self)\n",
        "     B.__init__(self)\n",
        "     #Base.__init__(self) 생략\n",
        "     print('C')"
      ],
      "metadata": {
        "id": "ABWsi3rHjxwT"
      },
      "execution_count": null,
      "outputs": []
    },
    {
      "cell_type": "code",
      "source": [
        "c = C() #여전히 base가 두번 실행됨"
      ],
      "metadata": {
        "colab": {
          "base_uri": "https://localhost:8080/"
        },
        "id": "8OCFtP-wj825",
        "outputId": "69802348-259d-4a87-e60d-8fbf63312751"
      },
      "execution_count": null,
      "outputs": [
        {
          "output_type": "stream",
          "name": "stdout",
          "text": [
            "Base\n",
            "A\n",
            "Base\n",
            "B\n",
            "C\n"
          ]
        }
      ]
    },
    {
      "cell_type": "markdown",
      "source": [
        "C 생성자에서 Base 생성자 호출을 생략한다."
      ],
      "metadata": {
        "id": "raguympGkB1g"
      }
    },
    {
      "cell_type": "code",
      "source": [
        "class Base:\n",
        "   def __init__(self):\n",
        "     self.x = 'Base' #추가된 부분\n",
        "     self.y = 'Base' #추가된 부분\n",
        "     print('Base')\n",
        "\n",
        "class A(Base):\n",
        "   a = 1\n",
        "\n",
        "   def __init__(self):\n",
        "      Base.__init__(self)\n",
        "      self.x = 'A' #추가된 부분\n",
        "      print('A')\n",
        "\n",
        "class B(Base):\n",
        "   b = 1\n",
        "\n",
        "   def __init__(self):\n",
        "      Base.__init__(self)\n",
        "      self.y = 'B' #추가된 부분\n",
        "      print('B')\n",
        "\n",
        "class C(A, B):\n",
        "   def __init__(self):\n",
        "     A.__init__(self)\n",
        "     B.__init__(self)\n",
        "     #Base.__init__(self) 생략\n",
        "     print('C')"
      ],
      "metadata": {
        "id": "UZ00N0kHkSX1"
      },
      "execution_count": null,
      "outputs": []
    },
    {
      "cell_type": "code",
      "source": [
        "c = C()"
      ],
      "metadata": {
        "colab": {
          "base_uri": "https://localhost:8080/"
        },
        "id": "TlmETyOqklN-",
        "outputId": "941d9d9c-2331-4ab1-8851-5aacbdde6013"
      },
      "execution_count": null,
      "outputs": [
        {
          "output_type": "stream",
          "name": "stdout",
          "text": [
            "Base\n",
            "A\n",
            "Base\n",
            "B\n",
            "C\n"
          ]
        }
      ]
    },
    {
      "cell_type": "markdown",
      "source": [
        "Base의 생성자가 한번 더 실행되었기 대문에 A를 상속받았음에도 x가 'A'가 아니다."
      ],
      "metadata": {
        "id": "BQMsYqFAlYb4"
      }
    },
    {
      "cell_type": "code",
      "source": [
        "c.x"
      ],
      "metadata": {
        "colab": {
          "base_uri": "https://localhost:8080/",
          "height": 35
        },
        "id": "16SA-QSqlDDh",
        "outputId": "1c561c6e-24ed-402b-e725-a33ee427a158"
      },
      "execution_count": null,
      "outputs": [
        {
          "output_type": "execute_result",
          "data": {
            "text/plain": [
              "'Base'"
            ],
            "application/vnd.google.colaboratory.intrinsic+json": {
              "type": "string"
            }
          },
          "metadata": {},
          "execution_count": 30
        }
      ]
    },
    {
      "cell_type": "code",
      "source": [
        "c.y"
      ],
      "metadata": {
        "colab": {
          "base_uri": "https://localhost:8080/",
          "height": 35
        },
        "id": "igGYLPBwlTOG",
        "outputId": "3803c6d1-61a8-4702-c200-864669000a0d"
      },
      "execution_count": null,
      "outputs": [
        {
          "output_type": "execute_result",
          "data": {
            "text/plain": [
              "'B'"
            ],
            "application/vnd.google.colaboratory.intrinsic+json": {
              "type": "string"
            }
          },
          "metadata": {},
          "execution_count": 31
        }
      ]
    },
    {
      "cell_type": "markdown",
      "source": [
        "super를 사용하면 다중상속문제를 해결할 수 있다."
      ],
      "metadata": {
        "id": "o5XFI9s6lo1J"
      }
    },
    {
      "cell_type": "code",
      "source": [
        "class Base:\n",
        "   def __init__(self):\n",
        "     self.x = 'Base' #추가된 부분\n",
        "     self.y = 'Base' #추가된 부분\n",
        "     print('Base')\n",
        "\n",
        "class A(Base):\n",
        "   a = 1\n",
        "\n",
        "   def __init__(self):\n",
        "      Base.__init__(self)\n",
        "      self.x = 'A' #추가된 부분\n",
        "      print('A')\n",
        "class B(Base):\n",
        "   b = 1\n",
        "\n",
        "   def __init__(self):\n",
        "      Base.__init__(self)\n",
        "      self.y = 'B' #추가된 부분\n",
        "      print('B')\n",
        "\n",
        "class C(A, B):\n",
        "   def __init__(self):\n",
        "     #A.__init__(self)\n",
        "     #B.__init__(self)\n",
        "     #Base.__init__(self) 생략\n",
        "     super(C, self).__init__() #super사용: super는 부모를 의미한다.\n",
        "     super(C, self).__init__() #super사용\n",
        "     print('C')"
      ],
      "metadata": {
        "id": "eK8gF99glnKR"
      },
      "execution_count": null,
      "outputs": []
    },
    {
      "cell_type": "markdown",
      "source": [
        "A만 2번 실행되었고,Base도 2번 중복 실행되었다"
      ],
      "metadata": {
        "id": "LuNI4lmhnVu3"
      }
    },
    {
      "cell_type": "code",
      "source": [
        "c = C()"
      ],
      "metadata": {
        "colab": {
          "base_uri": "https://localhost:8080/"
        },
        "id": "ngFCm1yvmBxB",
        "outputId": "12967132-7747-4e12-c0d6-edeecbf01ef7"
      },
      "execution_count": null,
      "outputs": [
        {
          "output_type": "stream",
          "name": "stdout",
          "text": [
            "Base\n",
            "A\n",
            "Base\n",
            "A\n",
            "C\n"
          ]
        }
      ]
    },
    {
      "cell_type": "markdown",
      "source": [
        "Base의 생성자는 한 번 만 실행되었다. 그러나 A생성자만 실행되고, B생성자는 실행되지 않는다."
      ],
      "metadata": {
        "id": "jufrdMLfmib4"
      }
    },
    {
      "cell_type": "code",
      "source": [
        "c.x"
      ],
      "metadata": {
        "colab": {
          "base_uri": "https://localhost:8080/",
          "height": 35
        },
        "id": "PNl3q_72mqUu",
        "outputId": "c556175b-ccc9-44de-f2c6-1a10c3d75dcb"
      },
      "execution_count": null,
      "outputs": [
        {
          "output_type": "execute_result",
          "data": {
            "text/plain": [
              "'A'"
            ],
            "application/vnd.google.colaboratory.intrinsic+json": {
              "type": "string"
            }
          },
          "metadata": {},
          "execution_count": 35
        }
      ]
    },
    {
      "cell_type": "code",
      "source": [
        "class Base:\n",
        "   def __init__(self):\n",
        "     self.x = 'Base' #추가된 부분\n",
        "     self.y = 'Base' #추가된 부분\n",
        "     print('Base')\n",
        "\n",
        "class A(Base):\n",
        "   a = 1\n",
        "\n",
        "   def __init__(self):\n",
        "      #Base.__init__(self)\n",
        "      super().__init__() #super()로 변경\n",
        "      self.x = 'A' #추가된 부분\n",
        "      print('A')\n",
        "class B(Base):\n",
        "   b = 1\n",
        "\n",
        "   def __init__(self):\n",
        "      #Base.__init__(self)\n",
        "      super().__init__() #super()로 변경\n",
        "      self.y = 'B' #추가된 부분\n",
        "      print('B')\n",
        "\n",
        "class C(A, B):\n",
        "   def __init__(self):\n",
        "     #A.__init__(self)\n",
        "     #B.__init__(self)\n",
        "     #Base.__init__(self) 생략\n",
        "     #super(C, self).__init__() #super사용: super는 부모를 의미한다.\n",
        "     #super(C, self).__init__() #super사용\n",
        "\n",
        "     #super(C, self) : python3에서 생략 가능하다.\n",
        "     super().__init__()\n",
        "     print('C')"
      ],
      "metadata": {
        "id": "CHz1R6AXnFk5"
      },
      "execution_count": null,
      "outputs": []
    },
    {
      "cell_type": "markdown",
      "source": [
        "A를 먼저 상속받았지만 B가 먼저 출력된다.\n",
        "stack 방식으로 되기 때문에 순서가 거꾸로 이다."
      ],
      "metadata": {
        "id": "DAeF4xQkp3dp"
      }
    },
    {
      "cell_type": "code",
      "source": [
        "c = C()"
      ],
      "metadata": {
        "colab": {
          "base_uri": "https://localhost:8080/"
        },
        "id": "0wjOuCxboTlx",
        "outputId": "b807d8e6-8b13-473a-c783-d2ee94a14c94"
      },
      "execution_count": null,
      "outputs": [
        {
          "output_type": "stream",
          "name": "stdout",
          "text": [
            "Base\n",
            "B\n",
            "A\n",
            "C\n"
          ]
        }
      ]
    },
    {
      "cell_type": "code",
      "source": [
        "c.x"
      ],
      "metadata": {
        "colab": {
          "base_uri": "https://localhost:8080/",
          "height": 35
        },
        "id": "V7kOqEngqIcm",
        "outputId": "eff9af70-ce02-424a-a5bb-178a3d86b500"
      },
      "execution_count": null,
      "outputs": [
        {
          "output_type": "execute_result",
          "data": {
            "text/plain": [
              "'A'"
            ],
            "application/vnd.google.colaboratory.intrinsic+json": {
              "type": "string"
            }
          },
          "metadata": {},
          "execution_count": 44
        }
      ]
    },
    {
      "cell_type": "code",
      "source": [
        "C.mro()"
      ],
      "metadata": {
        "colab": {
          "base_uri": "https://localhost:8080/"
        },
        "id": "v2LJ2XfiqIfn",
        "outputId": "2a24f18b-5202-4076-ec13-71927cd6faeb"
      },
      "execution_count": null,
      "outputs": [
        {
          "output_type": "execute_result",
          "data": {
            "text/plain": [
              "[__main__.C, __main__.A, __main__.B, __main__.Base, object]"
            ]
          },
          "metadata": {},
          "execution_count": 43
        }
      ]
    },
    {
      "cell_type": "code",
      "source": [
        "class Base:\n",
        "   def __init__(self):\n",
        "     self.x = 'Base' #추가된 부분\n",
        "     self.y = 'Base' #추가된 부분\n",
        "     print('Base')\n",
        "\n",
        "class A(Base):\n",
        "   a = 1\n",
        "\n",
        "   def __init__(self):\n",
        "      print('A')\n",
        "      super().__init__() #super()로 변경\n",
        "      self.x = 'A' #추가된 부분\n",
        "      print('A-1')\n",
        "\n",
        "\n",
        "\n",
        "class B(Base):\n",
        "   b = 1\n",
        "\n",
        "   def __init__(self):\n",
        "      print('B')\n",
        "      super().__init__() #super()로 변경\n",
        "      self.y = 'B' #추가된 부분\n",
        "      print('B-1')\n",
        "\n",
        "\n",
        "class C(A, B):\n",
        "   def __init__(self):\n",
        "     print('C')\n",
        "     #super(C, self) : python3에서 생략 가능하다.\n",
        "     super().__init__()\n",
        "     print('C-1')\n"
      ],
      "metadata": {
        "id": "jwBTUIbSqdVS"
      },
      "execution_count": null,
      "outputs": []
    },
    {
      "cell_type": "code",
      "source": [
        "c = C()"
      ],
      "metadata": {
        "colab": {
          "base_uri": "https://localhost:8080/"
        },
        "id": "nMOpNQXhq8O8",
        "outputId": "5a6096e9-662e-49c0-a490-d5650a72835a"
      },
      "execution_count": null,
      "outputs": [
        {
          "output_type": "stream",
          "name": "stdout",
          "text": [
            "C\n",
            "A\n",
            "B\n",
            "Base\n",
            "B-1\n",
            "A-1\n",
            "C-1\n"
          ]
        }
      ]
    },
    {
      "cell_type": "code",
      "source": [
        "C.mro() #상속관계 알 수 있다"
      ],
      "metadata": {
        "colab": {
          "base_uri": "https://localhost:8080/"
        },
        "id": "1kbPQ967rWPS",
        "outputId": "5d46c787-cfb3-4510-a2b9-f8c3f70beaca"
      },
      "execution_count": null,
      "outputs": [
        {
          "output_type": "execute_result",
          "data": {
            "text/plain": [
              "[__main__.C, __main__.A, __main__.B, __main__.Base, object]"
            ]
          },
          "metadata": {},
          "execution_count": 50
        }
      ]
    },
    {
      "cell_type": "markdown",
      "source": [
        "```\n",
        "파이썬의 정석,남군은,30000,도우출판,10.0%할인\n",
        "\n",
        "할인된 가격:27000\n",
        "\n",
        "열혈강의 파이썬,구정아,29000,프리렉,10.0%할인\n",
        "\n",
        "할인된 가격:26100\n",
        "\n",
        "데이터분석의 파이썬,금영욱,30000,북스홈,10.0%할인\n",
        "\n",
        "할인된 가격:27000\n",
        "```"
      ],
      "metadata": {
        "id": "G7FKxVV5vog2"
      }
    },
    {
      "cell_type": "code",
      "source": [
        "class Book:\n",
        "   def __"
      ],
      "metadata": {
        "id": "6YtoGnUgvj2Z"
      },
      "execution_count": null,
      "outputs": []
    },
    {
      "cell_type": "markdown",
      "source": [
        "### 정리\n",
        "반드시 기억해야 함  \n",
        "\n",
        "- type = __ class __\n",
        "- dir  = __ dir __\n",
        "- vars = __ dict __"
      ],
      "metadata": {
        "id": "j-gO05mI6HdZ"
      }
    }
  ]
}